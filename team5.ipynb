{
 "cells": [
  {
   "cell_type": "code",

   "execution_count": 22,

   "execution_count": 62,
   "metadata": {},
   "outputs": [],
   "source": [
    "import warnings\n",
    "warnings.filterwarnings('ignore')"
   ]
  },
  {
   "cell_type": "code",
   "execution_count": 71,

   "metadata": {},
   "outputs": [],
   "source": [
    "#Dependencies\n",
    "import pandas as pd\n",
    "import numpy as np\n",
    "import matplotlib.pyplot as plt\n",
    "import scipy.stats as stats\n",
    "from scipy.stats import linregress\n"
   ]
  },
  {
   "cell_type": "code",

   "execution_count": 3,

   "execution_count": 64,

   "metadata": {},
   "outputs": [],
   "source": [
    "# csv_file pathing\n",
    "fertility_rate_path = \"Resource/fred_fertility_rates.csv\"\n",
    "living_arrangements_path = \"Resource/census_living_arrangements.csv\"\n",
    "living_arrangements_decade_path = \"Resource/census_living_arrangements_by_decade.csv\"\n",
    "marital_status_path = \"Resource/marital status overtime.csv\"\n",
    "age_fertility_path = \"Resource/Age_Fertility.csv\"\n",
    "education_path = \"Resource/Female Education Attainment Level.csv\""
   ]
  },
  {
   "cell_type": "code",

   "execution_count": 4,

   "execution_count": 65,

   "metadata": {},
   "outputs": [
    {
     "name": "stdout",
     "output_type": "stream",
     "text": [
      "59 records\n"
     ]
    },
    {
     "data": {
      "text/html": [
       "<div>\n",
       "<style scoped>\n",
       "    .dataframe tbody tr th:only-of-type {\n",
       "        vertical-align: middle;\n",
       "    }\n",
       "\n",
       "    .dataframe tbody tr th {\n",
       "        vertical-align: top;\n",
       "    }\n",
       "\n",
       "    .dataframe thead th {\n",
       "        text-align: right;\n",
       "    }\n",
       "</style>\n",
       "<table border=\"1\" class=\"dataframe\">\n",
       "  <thead>\n",
       "    <tr style=\"text-align: right;\">\n",
       "      <th></th>\n",
       "      <th>Year</th>\n",
       "      <th>fertility_rate</th>\n",
       "    </tr>\n",
       "  </thead>\n",
       "  <tbody>\n",
       "    <tr>\n",
       "      <th>0</th>\n",
       "      <td>1960</td>\n",
       "      <td>3.654</td>\n",
       "    </tr>\n",
       "    <tr>\n",
       "      <th>1</th>\n",
       "      <td>1961</td>\n",
       "      <td>3.620</td>\n",
       "    </tr>\n",
       "    <tr>\n",
       "      <th>2</th>\n",
       "      <td>1962</td>\n",
       "      <td>3.461</td>\n",
       "    </tr>\n",
       "    <tr>\n",
       "      <th>3</th>\n",
       "      <td>1963</td>\n",
       "      <td>3.319</td>\n",
       "    </tr>\n",
       "    <tr>\n",
       "      <th>4</th>\n",
       "      <td>1964</td>\n",
       "      <td>3.190</td>\n",
       "    </tr>\n",
       "  </tbody>\n",
       "</table>\n",
       "</div>"
      ],
      "text/plain": [
       "   Year  fertility_rate\n",
       "0  1960           3.654\n",
       "1  1961           3.620\n",
       "2  1962           3.461\n",
       "3  1963           3.319\n",
       "4  1964           3.190"
      ]
     },

     "execution_count": 4,

     "execution_count": 65,

     "metadata": {},
     "output_type": "execute_result"
    }
   ],
   "source": [
    "# Raw DataFrame Prep: Fertility Rates\n",
    "\n",
    "# Read csv, drop na\n",
    "fertility_rate_df = pd.read_csv(fertility_rate_path).dropna()\n",
    "\n",
    "# Clean data\n",
    "fertility_rate_df['DATE'] = pd.to_datetime(fertility_rate_df['DATE'].str.strip(), format='%d/%m/%Y').dt.year\n",
    "fertility_rate_df.rename(columns = {'SPDYNTFRTINUSA':'fertility_rate','DATE':'Year'}, inplace = True) \n",
    "\n",
    "# Print and display\n",
    "print(f'{len(fertility_rate_df)} records')\n",
    "fertility_rate_df.head()\n",
    "\n",
    "# Print to csv - remove hashmark in front of below code to export to csv\n",
    "# fertility_rate_df.to_csv(\"Output/fertility_rate.csv\", index=False, header=True)\n"
   ]
  },
  {
   "cell_type": "code",
   "execution_count": 66,
   "metadata": {},
   "outputs": [
    {
     "data": {
      "image/png": "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\n",
      "text/plain": [
       "<Figure size 432x288 with 1 Axes>"
      ]
     },
     "metadata": {
      "needs_background": "light"
     },
     "output_type": "display_data"
    }
   ],
   "source": [
    "# Fertility Rate Trend over Time\n",
    "\n",
    "# Variables to Compare\n",
    "x_values = fertility_rate_df['Year']\n",
    "y_values = fertility_rate_df['fertility_rate']\n",
    "\n",
    "plt.plot(x_values, y_values, marker ='.', color = \"black\", label = 'Fertility Rate')\n",
    "plt.title(\"U.S. Fertility Rate Trend (1960 thru 2019)\")\n",
    "plt.savefig('Output\\FertilityRateTrendChart.png')\n"
   ]
  },
  {
   "cell_type": "markdown",
   "metadata": {},
   "source": [
    "## Fertility Rate vs Living Arrangements"
   ]
  },
  {
   "cell_type": "code",

   "execution_count": null,
   "metadata": {},
   "outputs": [],

   "execution_count": 67,
   "metadata": {},
   "outputs": [
    {
     "data": {
      "text/html": [
       "<div>\n",
       "<style scoped>\n",
       "    .dataframe tbody tr th:only-of-type {\n",
       "        vertical-align: middle;\n",
       "    }\n",
       "\n",
       "    .dataframe tbody tr th {\n",
       "        vertical-align: top;\n",
       "    }\n",
       "\n",
       "    .dataframe thead th {\n",
       "        text-align: right;\n",
       "    }\n",
       "</style>\n",
       "<table border=\"1\" class=\"dataframe\">\n",
       "  <thead>\n",
       "    <tr style=\"text-align: right;\">\n",
       "      <th></th>\n",
       "      <th>Year</th>\n",
       "      <th>fertility_rate</th>\n",
       "      <th>under_18</th>\n",
       "      <th>two_parents</th>\n",
       "      <th>mother_only</th>\n",
       "      <th>father_only</th>\n",
       "      <th>other_relatives</th>\n",
       "      <th>non_relatives</th>\n",
       "      <th>other</th>\n",
       "      <th>pct_mother_only</th>\n",
       "      <th>pct_two_parents</th>\n",
       "      <th>pct_other</th>\n",
       "    </tr>\n",
       "  </thead>\n",
       "  <tbody>\n",
       "    <tr>\n",
       "      <th>0</th>\n",
       "      <td>1960</td>\n",
       "      <td>3.654</td>\n",
       "      <td>63727.0</td>\n",
       "      <td>55877.0</td>\n",
       "      <td>5105.0</td>\n",
       "      <td>724.0</td>\n",
       "      <td>1601.0</td>\n",
       "      <td>420.0</td>\n",
       "      <td>2745.0</td>\n",
       "      <td>0.080107</td>\n",
       "      <td>0.876818</td>\n",
       "      <td>0.043074</td>\n",
       "    </tr>\n",
       "    <tr>\n",
       "      <th>8</th>\n",
       "      <td>1968</td>\n",
       "      <td>2.464</td>\n",
       "      <td>70326.0</td>\n",
       "      <td>60030.0</td>\n",
       "      <td>7556.0</td>\n",
       "      <td>776.0</td>\n",
       "      <td>1660.0</td>\n",
       "      <td>304.0</td>\n",
       "      <td>2740.0</td>\n",
       "      <td>0.107442</td>\n",
       "      <td>0.853596</td>\n",
       "      <td>0.038961</td>\n",
       "    </tr>\n",
       "    <tr>\n",
       "      <th>9</th>\n",
       "      <td>1969</td>\n",
       "      <td>2.456</td>\n",
       "      <td>70317.0</td>\n",
       "      <td>59857.0</td>\n",
       "      <td>7744.0</td>\n",
       "      <td>765.0</td>\n",
       "      <td>1602.0</td>\n",
       "      <td>349.0</td>\n",
       "      <td>2716.0</td>\n",
       "      <td>0.110130</td>\n",
       "      <td>0.851245</td>\n",
       "      <td>0.038625</td>\n",
       "    </tr>\n",
       "    <tr>\n",
       "      <th>10</th>\n",
       "      <td>1970</td>\n",
       "      <td>2.480</td>\n",
       "      <td>69162.0</td>\n",
       "      <td>58939.0</td>\n",
       "      <td>7452.0</td>\n",
       "      <td>748.0</td>\n",
       "      <td>1546.0</td>\n",
       "      <td>477.0</td>\n",
       "      <td>2771.0</td>\n",
       "      <td>0.107747</td>\n",
       "      <td>0.852188</td>\n",
       "      <td>0.040065</td>\n",
       "    </tr>\n",
       "    <tr>\n",
       "      <th>11</th>\n",
       "      <td>1971</td>\n",
       "      <td>2.266</td>\n",
       "      <td>70255.0</td>\n",
       "      <td>58606.0</td>\n",
       "      <td>8714.0</td>\n",
       "      <td>764.0</td>\n",
       "      <td>1707.0</td>\n",
       "      <td>464.0</td>\n",
       "      <td>2935.0</td>\n",
       "      <td>0.124034</td>\n",
       "      <td>0.834190</td>\n",
       "      <td>0.041776</td>\n",
       "    </tr>\n",
       "  </tbody>\n",
       "</table>\n",
       "</div>"
      ],
      "text/plain": [
       "    Year  fertility_rate  under_18  two_parents  mother_only  father_only  \\\n",
       "0   1960           3.654   63727.0      55877.0       5105.0        724.0   \n",
       "8   1968           2.464   70326.0      60030.0       7556.0        776.0   \n",
       "9   1969           2.456   70317.0      59857.0       7744.0        765.0   \n",
       "10  1970           2.480   69162.0      58939.0       7452.0        748.0   \n",
       "11  1971           2.266   70255.0      58606.0       8714.0        764.0   \n",
       "\n",
       "    other_relatives  non_relatives   other  pct_mother_only  pct_two_parents  \\\n",
       "0            1601.0          420.0  2745.0         0.080107         0.876818   \n",
       "8            1660.0          304.0  2740.0         0.107442         0.853596   \n",
       "9            1602.0          349.0  2716.0         0.110130         0.851245   \n",
       "10           1546.0          477.0  2771.0         0.107747         0.852188   \n",
       "11           1707.0          464.0  2935.0         0.124034         0.834190   \n",
       "\n",
       "    pct_other  \n",
       "0    0.043074  \n",
       "8    0.038961  \n",
       "9    0.038625  \n",
       "10   0.040065  \n",
       "11   0.041776  "
      ]
     },
     "execution_count": 67,
     "metadata": {},
     "output_type": "execute_result"
    }
   ],

   "source": [
    "# Raw DataFrame Prep: Living Arrangements\n",
    "\n",
    "# Read csv, drop na\n",
    "living_arrangements_df = pd.read_csv(living_arrangements_path).dropna()\n",
    "\n",
    "# Merge with fertility rates\n",
    "merge_living_df = pd.merge(fertility_rate_df, living_arrangements_df, on = \"Year\", how = \"outer\").dropna()\n",
    "\n",

    "# Print, display, export options\n",
    "print(f'{len(merge_living_df)} records')\n",
    "# merge_living_df.head()\n",
    "# merge_living_df.to_csv(\"Output/living_arrangements.csv\", index=False, header=True)"
   ]
  },
  {
   "cell_type": "code",
   "execution_count": null,
   "metadata": {},
   "outputs": [],
   "source": [
    "# Living Arrangements Bar Chart\n",
    "\n",
    "# Clean and organize\n",

    "# Add additional columns, format... \n",

    "other_ttl = merge_living_df['father_only'] + merge_living_df['other_relatives'] + merge_living_df['non_relatives']\n",
    "merge_living_df['other']= other_ttl\n",
    "\n",
    "pct_mother_only = (merge_living_df['mother_only'] / merge_living_df['under_18']).astype(float)\n",
    "pct_two_parents = (merge_living_df['two_parents'] / merge_living_df['under_18']).astype(float)\n",
    "pct_other = (merge_living_df['other'] / merge_living_df['under_18']).astype(float)\n",
    "\n",
    "merge_living_df['pct_mother_only']= pct_mother_only.astype(float)\n",
    "merge_living_df['pct_two_parents']= pct_two_parents.astype(float)\n",
    "merge_living_df['pct_other']= pct_other.astype(float)\n",
    "                                         \n",
    "merge_living_df.head()\n",
    "\n",
    "#.map(\"{:,.0%}\".format)"
   ]
  },
  {
   "cell_type": "code",

   "execution_count": null,
   "metadata": {
    "scrolled": true
   },
   "outputs": [],

   "execution_count": 90,
   "metadata": {
    "scrolled": true
   },
   "outputs": [
    {
     "data": {
      "image/png": "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\n",
      "text/plain": [
       "<Figure size 432x288 with 1 Axes>"
      ]
     },
     "metadata": {
      "needs_background": "light"
     },
     "output_type": "display_data"
    },
    {
     "name": "stdout",
     "output_type": "stream",
     "text": [
      "What is the correlation between fertility rate and % of Children under 18 living with their mother only?\n",
      "Their is a moderate correlation between fertility rate and children under 18 living with only their moms of -0.17.\n",
      "This data is collected from 1960 thru 2019 however we only have 1 data point in the 1960's decade.\n",
      "Data Source: US Census Bureau\n"
     ]
    },
    {
     "data": {
      "text/plain": [
       "<Figure size 432x288 with 0 Axes>"
      ]
     },
     "metadata": {},
     "output_type": "display_data"
    }
   ],

   "source": [
    "# Living Arrangements Scatter Chart (Population Set)\n",
    "\n",
    "# Variables to Compare\n",
    "x_values = merge_living_df['fertility_rate']\n",
    "y_values = merge_living_df['pct_mother_only']\n",
    "\n",
    "# Scatter Chart\n",
    "plt.scatter(x_values, y_values, marker=\"o\", facecolors=\"black\", edgecolors=\"gray\")\n",
    "\n",
    "# Linear Regression Line\n",
    "(slope, intercept, rvalue, pvalue, stderr) = linregress(x_values, y_values)\n",
    "regress_values = x_values * slope + intercept\n",
    "line_eq = \"y = \" + str(round(slope,2)) + \"x + \" + str(round(intercept,2))\n",
    "plt.plot(x_values,regress_values,\"r-\", color = \"gray\")\n",
    "plt.annotate(line_eq,(1.75,.09),fontsize=10,color=\"black\")\n",
    "\n",
    "# Sample Population\n",
    "sample_df = merge_living_df[-20:]\n",
    "\n",
    "# Variables to Compare\n",
    "x_values = sample_df['fertility_rate']\n",
    "y_values = sample_df['pct_mother_only']\n",
    "\n",
    "# Scatter Chart\n",
    "plt.scatter(x_values, y_values, marker=\"o\", facecolors=\"blue\", edgecolors=\"gray\")\n",
    "\n",
    "\n",
    "\n",
    "# Labels and Display\n",
    "plt.xlabel('Fertility Rate')\n",
    "plt.ylabel('% Children Living with Mother only')\n",
    "plt.show()\n",
    "\n",
    "plt.savefig('Output\\ScatterPlot_MotherOnlyLiving.png')\n",
    "\n",
    "# Correlation Coefficient\n",
    "correlation = st.pearsonr(x_values, y_values)\n",
    "print(f\"What is the correlation between fertility rate and % of Children under 18 living with their mother only?\")\n",
    "print(f\"Their is a moderate correlation between fertility rate and children under 18 living with only their moms of {round(correlation[0],2)}.\")\n",
    "print(f\"This data is collected from 1960 thru 2019 however we only have 1 data point in the 1960's decade.\")\n",
    "print(f\"Data Source: US Census Bureau\")"
   ]
  },
  {
   "cell_type": "code",

   "execution_count": null,
   "metadata": {},
   "outputs": [],

   "execution_count": 82,
   "metadata": {},
   "outputs": [
    {
     "data": {
      "text/plain": [
       "Ttest_1sampResult(statistic=24.26411898862151, pvalue=9.244269763354844e-16)"
      ]
     },
     "execution_count": 82,
     "metadata": {},
     "output_type": "execute_result"
    }
   ],
   "source": [
    "# Calculate the population mean for Living Arrangements = Mother Only (entire population)\n",
    "population = merge_living_df['pct_mother_only']\n",
    "population_mean = population.mean()\n",
    "\n",
    "# Calculate the population mean for Living Arrangements = Mother Only over last 20 years\n",
    "sample_df = merge_living_df[-20:]\n",
    "sample = sample_df['pct_mother_only']\n",
    "sample_mean = sample.mean()\n",
    "\n",
    "stats.ttest_1samp(sample, population_mean)"
   ]
  },
  {
   "cell_type": "code",
   "execution_count": 74,
   "metadata": {},
   "outputs": [
    {
     "data": {
      "image/png": "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\n",
      "text/plain": [
       "<Figure size 432x288 with 1 Axes>"
      ]
     },
     "metadata": {
      "needs_background": "light"
     },
     "output_type": "display_data"
    }
   ],

   "source": [
    "# Living Arrangements Bar Chart\n",
    "x_values = merge_living_df['Year']\n",
    "y_values = merge_living_df['pct_mother_only']\n",
    "\n",
    "plt.bar(x_values, y_values, color='gray', alpha=0.5, align=\"center\")\n",
    "plt.plot(x_values, y_values, color = 'black')\n",
    "\n",
    "plt.savefig('Output\\MotherOnlyLiving_barchart.png')\n"
   ]
  },
  {
   "cell_type": "markdown",
   "metadata": {},
   "source": [
    "## Fertility Rate vs Marital Status"
   ]
  },
  {
   "cell_type": "code",

   "execution_count": 5,
   "metadata": {},
   "outputs": [
    {
     "name": "stdout",
     "output_type": "stream",
     "text": [
      "61 records\n"
     ]
    },
    {
     "data": {
      "text/html": [
       "<div>\n",
       "<style scoped>\n",
       "    .dataframe tbody tr th:only-of-type {\n",
       "        vertical-align: middle;\n",
       "    }\n",
       "\n",
       "    .dataframe tbody tr th {\n",
       "        vertical-align: top;\n",
       "    }\n",
       "\n",
       "    .dataframe thead th {\n",
       "        text-align: right;\n",
       "    }\n",
       "</style>\n",
       "<table border=\"1\" class=\"dataframe\">\n",
       "  <thead>\n",
       "    <tr style=\"text-align: right;\">\n",
       "      <th></th>\n",
       "      <th>Year</th>\n",
       "      <th>fertility_rate</th>\n",
       "      <th>Men Total</th>\n",
       "      <th>Married Men</th>\n",
       "      <th>Unmarried Men Total</th>\n",
       "      <th>Never Married Men</th>\n",
       "      <th>Widowed Men</th>\n",
       "      <th>Divorced Men</th>\n",
       "      <th>Women Total</th>\n",
       "      <th>Married Women</th>\n",
       "      <th>Unmarried Women Total</th>\n",
       "      <th>Never Married Women</th>\n",
       "      <th>Widowed Women</th>\n",
       "      <th>Divorced Women</th>\n",
       "    </tr>\n",
       "  </thead>\n",
       "  <tbody>\n",
       "    <tr>\n",
       "      <th>0</th>\n",
       "      <td>1960</td>\n",
       "      <td>3.654</td>\n",
       "      <td>60,273</td>\n",
       "      <td>41,781</td>\n",
       "      <td>18,492</td>\n",
       "      <td>15,274</td>\n",
       "      <td>2,112</td>\n",
       "      <td>1,106</td>\n",
       "      <td>64,607</td>\n",
       "      <td>42,583</td>\n",
       "      <td>22,024</td>\n",
       "      <td>12,252</td>\n",
       "      <td>8,064</td>\n",
       "      <td>1,708</td>\n",
       "    </tr>\n",
       "    <tr>\n",
       "      <th>1</th>\n",
       "      <td>1961</td>\n",
       "      <td>3.620</td>\n",
       "      <td>NaN</td>\n",
       "      <td>NaN</td>\n",
       "      <td>NaN</td>\n",
       "      <td>NaN</td>\n",
       "      <td>NaN</td>\n",
       "      <td>NaN</td>\n",
       "      <td>NaN</td>\n",
       "      <td>NaN</td>\n",
       "      <td>NaN</td>\n",
       "      <td>NaN</td>\n",
       "      <td>NaN</td>\n",
       "      <td>NaN</td>\n",
       "    </tr>\n",
       "    <tr>\n",
       "      <th>2</th>\n",
       "      <td>1962</td>\n",
       "      <td>3.461</td>\n",
       "      <td>NaN</td>\n",
       "      <td>NaN</td>\n",
       "      <td>NaN</td>\n",
       "      <td>NaN</td>\n",
       "      <td>NaN</td>\n",
       "      <td>NaN</td>\n",
       "      <td>NaN</td>\n",
       "      <td>NaN</td>\n",
       "      <td>NaN</td>\n",
       "      <td>NaN</td>\n",
       "      <td>NaN</td>\n",
       "      <td>NaN</td>\n",
       "    </tr>\n",
       "    <tr>\n",
       "      <th>3</th>\n",
       "      <td>1963</td>\n",
       "      <td>3.319</td>\n",
       "      <td>NaN</td>\n",
       "      <td>NaN</td>\n",
       "      <td>NaN</td>\n",
       "      <td>NaN</td>\n",
       "      <td>NaN</td>\n",
       "      <td>NaN</td>\n",
       "      <td>NaN</td>\n",
       "      <td>NaN</td>\n",
       "      <td>NaN</td>\n",
       "      <td>NaN</td>\n",
       "      <td>NaN</td>\n",
       "      <td>NaN</td>\n",
       "    </tr>\n",
       "    <tr>\n",
       "      <th>4</th>\n",
       "      <td>1964</td>\n",
       "      <td>3.190</td>\n",
       "      <td>NaN</td>\n",
       "      <td>NaN</td>\n",
       "      <td>NaN</td>\n",
       "      <td>NaN</td>\n",
       "      <td>NaN</td>\n",
       "      <td>NaN</td>\n",
       "      <td>NaN</td>\n",
       "      <td>NaN</td>\n",
       "      <td>NaN</td>\n",
       "      <td>NaN</td>\n",
       "      <td>NaN</td>\n",
       "      <td>NaN</td>\n",
       "    </tr>\n",
       "  </tbody>\n",
       "</table>\n",
       "</div>"
      ],
      "text/plain": [
       "   Year  fertility_rate Men Total Married Men Unmarried Men Total  \\\n",
       "0  1960           3.654    60,273      41,781              18,492   \n",
       "1  1961           3.620       NaN         NaN                 NaN   \n",
       "2  1962           3.461       NaN         NaN                 NaN   \n",
       "3  1963           3.319       NaN         NaN                 NaN   \n",
       "4  1964           3.190       NaN         NaN                 NaN   \n",
       "\n",
       "  Never Married Men Widowed Men Divorced Men Women Total Married Women  \\\n",
       "0            15,274       2,112        1,106      64,607        42,583   \n",
       "1               NaN         NaN          NaN         NaN           NaN   \n",
       "2               NaN         NaN          NaN         NaN           NaN   \n",
       "3               NaN         NaN          NaN         NaN           NaN   \n",
       "4               NaN         NaN          NaN         NaN           NaN   \n",
       "\n",
       "  Unmarried Women Total  Never Married Women Widowed Women Divorced Women  \n",
       "0                 22,024              12,252         8,064          1,708  \n",
       "1                    NaN                 NaN           NaN            NaN  \n",
       "2                    NaN                 NaN           NaN            NaN  \n",
       "3                    NaN                 NaN           NaN            NaN  \n",
       "4                    NaN                 NaN           NaN            NaN  "
      ]
     },
     "execution_count": 5,
     "metadata": {},
     "output_type": "execute_result"
    }
   ],

   "execution_count": null,
   "metadata": {},
   "outputs": [],
   "source": [
    "# Raw DataFrame Prep: Marital Status\n",
    "\n",
    "# Read csv, drop na\n",
    "marital_status_df = pd.read_csv(marital_status_path).dropna()\n",
    "\n",
    "# Merge with fertility rates\n",
    "merge_marital_df = pd.merge(fertility_rate_df, marital_status_df, on=\"Year\", how=\"outer\")\n",
    "\n",
    "# Print and display\n",
    "print(f'{len(merge_marital_df)} records')\n",
    "merge_marital_df.head()\n",
    "\n",
    "# Print to csv - remove hashmark in front of below code to export to csv\n",
    "# merge_marital_df.to_csv(\"Output/marital_status.csv\", index=False, header=True)\n"
   ]
  },
  {
   "cell_type": "markdown",
   "metadata": {},
   "source": [
    "## Fertility Rate vs Age"
   ]
  },
  {
   "cell_type": "code",
   "execution_count": null,
   "metadata": {},
   "outputs": [],

   "source": [
    "# Raw DataFrame Prep: Marital Status\n",
    "import numpy as np\n",
    "# Read csv, drop na\n",
    "marital_status_df = pd.read_csv(marital_status_path).dropna()\n",
    "\n",
    "# Merge with fertility rates\n",
    "merge_marital_df = pd.merge(fertility_rate_df, marital_status_df, on=\"Year\", how=\"outer\")\n",
    "\n",
    "# Print and display\n",
    "print(f'{len(merge_marital_df)} records')\n",
    "merge_marital_df.head()\n",
    "\n",
    "# Print to csv - remove hashmark in front of below code to export to csv\n",

    "merge_marital_df.to_csv(\"Output/marital_status.csv\", index=False, header=True)\n",
    "merge_marital_df.head()"

    "# merge_age_df.to_csv(\"Output/fertility_age.csv\", index=False, header=True)\n"

   ]
  },
  {
   "cell_type": "code",
   "execution_count": 6,
   "metadata": {},
   "outputs": [
    {
     "data": {
      "text/plain": [
       "Index(['Year', 'fertility_rate', 'Men Total', 'Married Men',\n",
       "       'Unmarried Men Total', 'Never Married Men', 'Widowed Men',\n",
       "       'Divorced Men', 'Women Total', 'Married Women',\n",
       "       'Unmarried Women Total ', 'Never Married Women', 'Widowed Women',\n",
       "       'Divorced Women'],\n",
       "      dtype='object')"
      ]
     },
     "execution_count": 6,
     "metadata": {},
     "output_type": "execute_result"
    }
   ],
   "source": [
    "#drop Nan\n",
    "clean_marital_df=merge_marital_df.dropna(how=\"any\")\n",
    "clean_marital_df.columns"
   ]
  },
  {
   "cell_type": "code",

   "execution_count": 7,
   "metadata": {
    "scrolled": false
   },
   "outputs": [
    {
     "data": {
      "text/plain": [
       "Year                        int64\n",
       "fertility_rate            float64\n",
       "Men Total                 float64\n",
       "Married Men               float64\n",
       "Unmarried Men Total       float64\n",
       "Never Married Men         float64\n",
       "Widowed Men               float64\n",
       "Divorced Men              float64\n",
       "Women Total               float64\n",
       "Married Women             float64\n",
       "Unmarried Women Total     float64\n",
       "Never Married Women       float64\n",
       "Widowed Women             float64\n",
       "Divorced Women            float64\n",
       "dtype: object"
      ]
     },
     "execution_count": 7,
     "metadata": {},
     "output_type": "execute_result"
    }
   ],
   "source": [
    "#get rid of warning\n",
    "import warnings\n",
    "warnings.filterwarnings('ignore')\n",
    "\n",
    "#change column value\n",
    "clean_marital_df['Men Total'] = clean_marital_df['Men Total'].str.replace(',', '').astype(float)\n",
    "clean_marital_df['Married Men'] = clean_marital_df['Married Men'].str.replace(',', '').astype(float)\n",
    "clean_marital_df['Unmarried Men Total'] = clean_marital_df['Unmarried Men Total'].str.replace(',', '').astype(float)\n",
    "clean_marital_df['Never Married Men'] = clean_marital_df['Never Married Men'].str.replace(',', '').astype(float)\n",
    "clean_marital_df['Widowed Men'] = clean_marital_df['Widowed Men'].str.replace(',', '').astype(float)\n",
    "clean_marital_df['Divorced Men'] = clean_marital_df['Divorced Men'].str.replace(',', '').astype(float)\n",
    "clean_marital_df['Women Total'] = clean_marital_df['Women Total'].str.replace(',', '').astype(float)\n",
    "clean_marital_df['Married Women'] = clean_marital_df['Married Women'].str.replace(',', '').astype(float)\n",
    "clean_marital_df['Unmarried Women Total '] = clean_marital_df['Unmarried Women Total '].str.replace(',', '').astype(float)\n",
    "clean_marital_df['Never Married Women'] = clean_marital_df['Never Married Women'].str.replace(',', '').astype(float)\n",
    "clean_marital_df['Widowed Women'] = clean_marital_df['Widowed Women'].str.replace(',', '').astype(float)\n",
    "clean_marital_df['Divorced Women'] = clean_marital_df['Divorced Women'].str.replace(',', '').astype(float)\n",
    "clean_marital_df.dtypes"
   ]
  },
  {
   "cell_type": "code",
   "execution_count": 8,
   "metadata": {},
   "outputs": [
    {
     "data": {
      "text/html": [
       "<div>\n",
       "<style scoped>\n",
       "    .dataframe tbody tr th:only-of-type {\n",
       "        vertical-align: middle;\n",
       "    }\n",
       "\n",
       "    .dataframe tbody tr th {\n",
       "        vertical-align: top;\n",
       "    }\n",
       "\n",
       "    .dataframe thead th {\n",
       "        text-align: right;\n",
       "    }\n",
       "</style>\n",
       "<table border=\"1\" class=\"dataframe\">\n",
       "  <thead>\n",
       "    <tr style=\"text-align: right;\">\n",
       "      <th></th>\n",
       "      <th>Year</th>\n",
       "      <th>fertility_rate</th>\n",
       "      <th>Men Total</th>\n",
       "      <th>Married Men</th>\n",
       "      <th>Unmarried Men Total</th>\n",
       "      <th>Never Married Men</th>\n",
       "      <th>Widowed Men</th>\n",
       "      <th>Divorced Men</th>\n",
       "      <th>Women Total</th>\n",
       "      <th>Married Women</th>\n",
       "      <th>...</th>\n",
       "      <th>Divorced Women</th>\n",
       "      <th>Per of married men</th>\n",
       "      <th>Per of unmarried men</th>\n",
       "      <th>Per of Never married men</th>\n",
       "      <th>Per of married women</th>\n",
       "      <th>Per of unmarried women</th>\n",
       "      <th>Per of Never married women</th>\n",
       "      <th>Per of married peole</th>\n",
       "      <th>Per of unmarried peole</th>\n",
       "      <th>Per of Never married peole</th>\n",
       "    </tr>\n",
       "  </thead>\n",
       "  <tbody>\n",
       "    <tr>\n",
       "      <th>0</th>\n",
       "      <td>1960</td>\n",
       "      <td>3.6540</td>\n",
       "      <td>60273.0</td>\n",
       "      <td>41781.0</td>\n",
       "      <td>18492.0</td>\n",
       "      <td>15274.0</td>\n",
       "      <td>2112.0</td>\n",
       "      <td>1106.0</td>\n",
       "      <td>64607.0</td>\n",
       "      <td>42583.0</td>\n",
       "      <td>...</td>\n",
       "      <td>1708.0</td>\n",
       "      <td>0.693196</td>\n",
       "      <td>0.306804</td>\n",
       "      <td>0.253414</td>\n",
       "      <td>0.659108</td>\n",
       "      <td>0.340892</td>\n",
       "      <td>0.189639</td>\n",
       "      <td>0.675561</td>\n",
       "      <td>0.246188</td>\n",
       "      <td>0.220420</td>\n",
       "    </tr>\n",
       "    <tr>\n",
       "      <th>10</th>\n",
       "      <td>1970</td>\n",
       "      <td>2.4800</td>\n",
       "      <td>70559.0</td>\n",
       "      <td>47109.0</td>\n",
       "      <td>23450.0</td>\n",
       "      <td>19832.0</td>\n",
       "      <td>2051.0</td>\n",
       "      <td>1567.0</td>\n",
       "      <td>77766.0</td>\n",
       "      <td>48148.0</td>\n",
       "      <td>...</td>\n",
       "      <td>2717.0</td>\n",
       "      <td>0.667654</td>\n",
       "      <td>0.332346</td>\n",
       "      <td>0.281070</td>\n",
       "      <td>0.619139</td>\n",
       "      <td>0.380861</td>\n",
       "      <td>0.220752</td>\n",
       "      <td>0.642218</td>\n",
       "      <td>0.273838</td>\n",
       "      <td>0.249445</td>\n",
       "    </tr>\n",
       "    <tr>\n",
       "      <th>20</th>\n",
       "      <td>1980</td>\n",
       "      <td>1.8395</td>\n",
       "      <td>81947.0</td>\n",
       "      <td>51813.0</td>\n",
       "      <td>30134.0</td>\n",
       "      <td>24227.0</td>\n",
       "      <td>1977.0</td>\n",
       "      <td>3930.0</td>\n",
       "      <td>89914.0</td>\n",
       "      <td>52965.0</td>\n",
       "      <td>...</td>\n",
       "      <td>5966.0</td>\n",
       "      <td>0.632275</td>\n",
       "      <td>0.367725</td>\n",
       "      <td>0.295642</td>\n",
       "      <td>0.589063</td>\n",
       "      <td>0.410948</td>\n",
       "      <td>0.224948</td>\n",
       "      <td>0.609667</td>\n",
       "      <td>0.293028</td>\n",
       "      <td>0.258657</td>\n",
       "    </tr>\n",
       "    <tr>\n",
       "      <th>30</th>\n",
       "      <td>1990</td>\n",
       "      <td>2.0810</td>\n",
       "      <td>91955.0</td>\n",
       "      <td>55833.0</td>\n",
       "      <td>36121.0</td>\n",
       "      <td>27505.0</td>\n",
       "      <td>2333.0</td>\n",
       "      <td>6283.0</td>\n",
       "      <td>99838.0</td>\n",
       "      <td>56797.0</td>\n",
       "      <td>...</td>\n",
       "      <td>8845.0</td>\n",
       "      <td>0.607177</td>\n",
       "      <td>0.392812</td>\n",
       "      <td>0.299114</td>\n",
       "      <td>0.568892</td>\n",
       "      <td>0.431098</td>\n",
       "      <td>0.227549</td>\n",
       "      <td>0.587248</td>\n",
       "      <td>0.306784</td>\n",
       "      <td>0.261860</td>\n",
       "    </tr>\n",
       "    <tr>\n",
       "      <th>33</th>\n",
       "      <td>1993</td>\n",
       "      <td>2.0195</td>\n",
       "      <td>94854.0</td>\n",
       "      <td>56833.0</td>\n",
       "      <td>38021.0</td>\n",
       "      <td>28775.0</td>\n",
       "      <td>2468.0</td>\n",
       "      <td>6778.0</td>\n",
       "      <td>102400.0</td>\n",
       "      <td>57768.0</td>\n",
       "      <td>...</td>\n",
       "      <td>9883.0</td>\n",
       "      <td>0.599163</td>\n",
       "      <td>0.400837</td>\n",
       "      <td>0.303361</td>\n",
       "      <td>0.564141</td>\n",
       "      <td>0.435850</td>\n",
       "      <td>0.229824</td>\n",
       "      <td>0.580982</td>\n",
       "      <td>0.312060</td>\n",
       "      <td>0.265186</td>\n",
       "    </tr>\n",
       "  </tbody>\n",
       "</table>\n",
       "<p>5 rows × 23 columns</p>\n",
       "</div>"
      ],
      "text/plain": [
       "    Year  fertility_rate  Men Total  Married Men  Unmarried Men Total  \\\n",
       "0   1960          3.6540    60273.0      41781.0              18492.0   \n",
       "10  1970          2.4800    70559.0      47109.0              23450.0   \n",
       "20  1980          1.8395    81947.0      51813.0              30134.0   \n",
       "30  1990          2.0810    91955.0      55833.0              36121.0   \n",
       "33  1993          2.0195    94854.0      56833.0              38021.0   \n",
       "\n",
       "    Never Married Men  Widowed Men  Divorced Men  Women Total  Married Women  \\\n",
       "0             15274.0       2112.0        1106.0      64607.0        42583.0   \n",
       "10            19832.0       2051.0        1567.0      77766.0        48148.0   \n",
       "20            24227.0       1977.0        3930.0      89914.0        52965.0   \n",
       "30            27505.0       2333.0        6283.0      99838.0        56797.0   \n",
       "33            28775.0       2468.0        6778.0     102400.0        57768.0   \n",
       "\n",
       "    ...  Divorced Women  Per of married men  Per of unmarried men  \\\n",
       "0   ...          1708.0            0.693196              0.306804   \n",
       "10  ...          2717.0            0.667654              0.332346   \n",
       "20  ...          5966.0            0.632275              0.367725   \n",
       "30  ...          8845.0            0.607177              0.392812   \n",
       "33  ...          9883.0            0.599163              0.400837   \n",
       "\n",
       "    Per of Never married men  Per of married women  Per of unmarried women  \\\n",
       "0                   0.253414              0.659108                0.340892   \n",
       "10                  0.281070              0.619139                0.380861   \n",
       "20                  0.295642              0.589063                0.410948   \n",
       "30                  0.299114              0.568892                0.431098   \n",
       "33                  0.303361              0.564141                0.435850   \n",
       "\n",
       "    Per of Never married women  Per of married peole  Per of unmarried peole  \\\n",
       "0                     0.189639              0.675561                0.246188   \n",
       "10                    0.220752              0.642218                0.273838   \n",
       "20                    0.224948              0.609667                0.293028   \n",
       "30                    0.227549              0.587248                0.306784   \n",
       "33                    0.229824              0.580982                0.312060   \n",
       "\n",
       "    Per of Never married peole  \n",
       "0                     0.220420  \n",
       "10                    0.249445  \n",
       "20                    0.258657  \n",
       "30                    0.261860  \n",
       "33                    0.265186  \n",
       "\n",
       "[5 rows x 23 columns]"
      ]
     },
     "execution_count": 8,
     "metadata": {},
     "output_type": "execute_result"
    }
   ],

   "execution_count": null,
   "metadata": {},
   "outputs": [],

   "source": [
    "#caculate percentage\n",
    "#men\n",
    "married_men_per=clean_marital_df['Married Men']/clean_marital_df['Men Total']\n",
    "unm_men_per=clean_marital_df['Unmarried Men Total']/clean_marital_df['Men Total']\n",
    "never_mar_mp=clean_marital_df['Never Married Men']/clean_marital_df['Men Total']\n",
    "#women\n",
    "married_wm_per=clean_marital_df['Married Women']/clean_marital_df['Women Total']\n",
    "unm_wm_per=clean_marital_df['Unmarried Women Total ']/clean_marital_df['Women Total']\n",
    "never_mar_wp=clean_marital_df['Never Married Women']/clean_marital_df['Women Total']\n",
    "#total\n",
    "total_p=clean_marital_df['Men Total']+clean_marital_df['Women Total']\n",
    "total_married=clean_marital_df['Married Men']+clean_marital_df['Married Women']\n",
    "total_unm=clean_marital_df['Unmarried Men Total']+clean_marital_df['Never Married Women']\n",
    "total_never=clean_marital_df['Never Married Men']+clean_marital_df['Never Married Women']\n",
    "married_per=total_married/total_p\n",
    "unmarried_per=total_unm/total_p\n",
    "never_per=total_never/total_p\n",
    "#add column to df\n",
    "clean_marital_df[\"Per of married men\"]=married_men_per\n",
    "clean_marital_df[\"Per of unmarried men\"]=unm_men_per\n",
    "clean_marital_df[\"Per of Never married men\"]=never_mar_mp\n",
    "clean_marital_df[\"Per of married women\"]=married_wm_per\n",
    "clean_marital_df[\"Per of unmarried women\"]=unm_wm_per\n",
    "clean_marital_df[\"Per of Never married women\"]=never_mar_wp\n",
    "clean_marital_df[\"Per of married peole\"]=married_per\n",
    "clean_marital_df[\"Per of unmarried peole\"]=unmarried_per\n",
    "clean_marital_df[\"Per of Never married peole\"]=never_per\n",
    "clean_marital_df.head()"
   ]
  },
  {
   "cell_type": "code",
   "execution_count": 18,
   "metadata": {},
   "outputs": [
    {
     "name": "stdout",
     "output_type": "stream",
     "text": [
      "The correlation between both factors is -0.96\n"
     ]
    }
   ],
   "source": [
    "#correlation between married and never married\n",
    "correlation = st.pearsonr(married_per,never_per)\n",
    "print(f\"The correlation between both factors is {round(correlation[0],2)}\")"
   ]
  },
  {
   "cell_type": "code",
   "execution_count": 20,
   "metadata": {},
   "outputs": [
    {
     "name": "stdout",
     "output_type": "stream",
     "text": [
      "The correlation between both factors is -0.99\n"
     ]
    }
   ],
   "source": [
    "#correlation between married and unmarried\n",
    "correlation = st.pearsonr(married_per,unmarried_per)\n",
    "print(f\"The correlation between both factors is {round(correlation[0],2)}\")"
   ]
  },
  {
   "cell_type": "markdown",
   "metadata": {},
   "source": [
    "The variables “Married” and \"unmarried\" are not independent variables. They indicate the same thing."
   ]
  },
  {
   "cell_type": "code",
   "execution_count": 26,
   "metadata": {},
   "outputs": [
    {
     "data": {
      "text/plain": [
       "Ttest_indResult(statistic=24.06107693828698, pvalue=5.3124305780152914e-21)"
      ]
     },
     "execution_count": 26,
     "metadata": {},
     "output_type": "execute_result"
    }
   ],
   "source": [
    "#t test between fertility rate and married\n",
    "feritility_rate=clean_marital_df['fertility_rate']\n",
    "st.ttest_ind(feritility_rate,married_per,equal_var=False)"
   ]
  },
  {
   "cell_type": "code",
   "execution_count": 28,
   "metadata": {},
   "outputs": [
    {
     "data": {
      "text/plain": [
       "Ttest_indResult(statistic=25.80385764417617, pvalue=3.342697085528269e-33)"
      ]
     },
     "execution_count": 28,
     "metadata": {},
     "output_type": "execute_result"
    }
   ],
   "source": [
    "#t test between fertility rate and unmarried\n",
    "st.ttest_ind(feritility_rate,unmarried_per,equal_var=False)"
   ]
  },
  {
   "cell_type": "markdown",
   "metadata": {},
   "source": [
    "T test indicated that there is no signficate difference between fertility rate and marital stauts. "
   ]
  },
  {
   "cell_type": "code",
   "execution_count": 9,
   "metadata": {},
   "outputs": [
    {
     "data": {
      "image/png": "iVBORw0KGgoAAAANSUhEUgAAAYoAAAEWCAYAAAB42tAoAAAABHNCSVQICAgIfAhkiAAAAAlwSFlzAAALEgAACxIB0t1+/AAAADh0RVh0U29mdHdhcmUAbWF0cGxvdGxpYiB2ZXJzaW9uMy4yLjIsIGh0dHA6Ly9tYXRwbG90bGliLm9yZy+WH4yJAAAgAElEQVR4nOzdd3xV9f348df7juyww94oewSQrQKKuHBrHa2j1p/WWdQ6altFv7ZqW/eoHbbaioBFRa1aNwKCKCACgkzDUIQwEiDzjvfvj3MSLiG5uYTc3IS8n4/Hedx79vvm3tz3/YzzOaKqGGOMMVXxJDoAY4wx9ZslCmOMMVFZojDGGBOVJQpjjDFRWaIwxhgTlSUKY4wxUVmiaORE5FkR+a37fJyIbIlY97WIjEtYcI2YiPxYRN6r4b5XiMi82o7JNF6WKBoAEckRkSIR2Rcxta/BcQ76AlHVn6vq/1W2var2U9XZ7r5TROTFGr0AZ//ZIlLsxr5DRF4VkXYx7ntAAksU930oFZFWFZYvFREVka61dS5VnaqqE2vreGVEpKsba9nnKEdE7qzt8xwO97NyVaLjMPtZomg4zlDVjIjp+0PZWUR88QrsENygqhnAUUAG8KcEx1MT3wIXl82IyAAgtaYHq+x9qaP3qpn7XlwM3C0ipxzKzvXk82TqiCWKBkxEmorIcyKyVUS+E5H7RcTrrrtCRD4VkUdFZBcwA3gWGOX+ksxzt3teRO6v4vg5IjLB/RK5C7jQ3fcrEblARBZX2P5WEZlVXdyqmgfMArIj9v2piKwSkb0iskFErnGXpwPvAO0jS1Mi4hGRO0VkvYjsFJGXRaRFFa9jlYhMipj3uaWaISKSIiIvusfIE5EvRKRNlPD/DVwWMX858K8K5ztdRL4UkT0isllEpkSsK/tF/zMR2QR8VMl7NaVi6U9EeovI+yKyS0RWi8iPIta1FJE33PN9DvSIEv8BVHUB8DXQ3z3Wle7fa7eIvCsiXSLOoyJyvYisBda6y85yS1R73PfiFHd5dZ/NeSLyJ/c834rIqe663wHHAU+57/VT7vLH3b/lHhFZLCLHRcSVKiIvuMdaJSK3y4FVqO1F5BURyXXPdVOsfx/jUlWb6vkE5AATKlk+C/gLkA60Bj4HrnHXXQEEgRsBH86v3iuAeRWO8Txwv/t8HLClsvMCU4AXI9YlA7uAPhHLvgTOq+I1zAaucp+3BD4AXo9YfzrOF5wAY4FCYEhlcbnLJgOfAR3dWP4CTKvi3HcDUyuc6xv3+TXAm0Aa4AWGAk2ivQ/AaqCPu/1moAugQNeIeAfg/BAbCGwDznbXdXW3/Zf7vpW9L1W+V+52m4GfuuuHADuAfu766cDL7nb9ge8qvs8Rr6Hs/D73bz3G/VufCJwNrHNfmw/4DTA/Yl8F3gdauDEOB/KBk9zX2gHoHeNnMwD8P/dveC3wPSAVPysR5/4JzufGB9wK/ACkuOseBD4Bmrufh2W4nxc3rsXuZyAJ6A5sAE5O9P91Q5oSHoBNMbxJzhfUPiDPnWYBbYASIDViu4uBj93nVwCbKhyn/MsnYtnz1CBRuMv+DPzOfd4P2A0kV/EaZrtfSPnuF85SoHOU1zwL+EVlcbnLVgEnRsy3c798fJUc6yhgL5Dmzk8F7nafXwnMBwbG+D5MwPkCfQA4BeeL00dEoqhkv8eAR93nXd1tu1d4X6p8r4ALgbkV1v8FuAfnizaA+wXtrvt9xfc5Yl3Z+fPc92sVcJO77h3gZxHbetz3rIs7r8AJFWJ4tJJzxPLZXBexLs09dtuIz8pVlcUfsc9uYJD7/IAvfuAq9ieKEZX8bX8F/DPe/7dH0mT1jA3H2ar6QdmMiAwH/MBWESlb7MH55Vkm8nk8vABME5HfAJcCL6tqSZTtb1LVv7v1+v/F+fW3CcCtergH6InzOtKA5VGO1QV4TUTCEctCOF9S30VuqKrrRGQVcIaIvAmcCQx2V/8b6ARMF5FmwIvAr1U1EOXc/wbmAN2oUO3kvpYROL9y++P8ik0G/lNhs4rvTbT3qgswoqy60OVz48hyn0fuvzHKscq0UtVgJed5XEQejlgmOCWFsmNGnqcT8HYV8Vb32fyh7ImqFrrbZVQVrIjcipMA2uMklSZAWaeC9lT9ue+CU20Z+bfzAnOrOpc5mCWKhmszzq+2yv7hy1QcGvhwhgo+aF9V/UxESnHqlC9xp+oPpLrcbRd5WkSG4HyZvoJT9/+6qgbcto6yb5nK4t4MXKmqn8YY/zScX7UeYKWqrnNjCQD3AveK02vpbZyqpeeixL9RRL4FTgN+VskmLwFPAaeqarGIPMb+L7Xyw1QzH2kz8ImqnlRxhVvvH8T50v7GXdw5yrGi2YxTQpwaZZvIODdTeXtILJ/NaA74W7jtEXfgVI99raphEdnN/s/HVpwfHSvd+U4VYvlWVY+uQRzGZY3ZDZSqbgXeAx4WkSZu424PERkbZbdtQEcRSarBKbcBXUWk4mfmXzhfikFVPZS++y/g1F2fyf5f3blA0C1dRHYN3Qa0FJGmEcueBX5X1tgqIlkiclaU8013j3ktzhc57n7jRWSA+4W7B6caJxRD/D/DqYYpqGRdJrDLTRLDiTGBRvFfoKeIXCoifncaJiJ9VDUEvIrTAJ4mIn1xGthr4lngVyLSD8obpC+Isv1zwE9F5ET389dBRHrX8LMZaRtOW0KZTJxkmAv4RORunBJFmZfduJuLSAfghoh1nwN7ROQOt9HbKyL9RWRYjLEYLFE0dJfhfMmuxKmznYlTV1+Vj3B6uPwgIjsO8VxlVSc7RWRJxPJ/41Sx/PtQDqaqpcATwG9VdS9wE84//G6cL9Y3Irb9BqdEsEGcnkntgcfdbd4Tkb04DdsjopxvK7AAGI3TA6xMW5y/2x6c+vpPcKqfqot/vaouqmL1dcB9blx3u6+rxty/z0TgIpxG3x+Ah3CSKzhfjBnu8ueBf9bwPK+5x50uInuAFcCpUbb/HKeB/VGctqdPcKp64NA/m5EeB853ezE9AbyL036yBqcKrJgDq5fuA7bgdF3+wD1XiRtjCDgDp4fdtzidAP4ORP7oMNUo62VgTI2ISCqwHaeH0tpEx2OMiFwLXKSqsZZgTDWsRGEO17XAF5YkTKKISDsRGeNWcfXC6T77WqLjOpJYY7apMRHJwWlQPDvBoZjGLQmnq243nG6/04FnEhrREcaqnowxxkRlVU/GGGOianBVT61atdKuXbsmOgxjjGlQFi9evENVs2qyb4NLFF27dmXRoqp6JRpjjKmMiMRyxX6lrOrJGGNMVJYojDHGRGWJwhhjTFQNro3CGBMfgUCALVu2UFxcnOhQzGFISUmhY8eO+P3+WjumJQpjDABbtmwhMzOTrl27EjE8uGlAVJWdO3eyZcsWunXrVmvHtaonYwwAxcXFtGzZ0pJEAyYitGzZstZLhZYojDHlLEk0fPF4DxtNovghv5h73/yaQChc/cbGGGPKNZpEsXRzHv/8NIfHP7BBTo2pr7xeL9nZ2eVTTk5OzPvOmjWLlStXls/ffffdfPCBc/fgcePGlV+oe9ppp5GXl0deXh7PPHNoYwfm5OSQmppKdnY2ffv25bLLLiMQiHbXXJg9ezbz588/pPPUN40mUZzSvy0XHtOJp2evY+GGnYkOxxhTidTUVJYuXVo+xTpcTzAYPChR3HfffUyYMOGgbd9++22aNWtWo0QB0KNHD5YuXcry5cvZsmULL78c/b5UligamLvP6EuXFmncPGMp+UXRfwUYY+qHxYsXM3bsWIYOHcrJJ5/M1q1bAaeUcNdddzF27Fgeeugh3njjDW677Tays7NZv349V1xxBTNnzjzoeF27dmXHjh3ceeedrF+/nuzsbG677TYuvfRSXn/99fLtfvzjH/PGG28ctH8Zr9fL8OHD+e677wB48803GTFiBIMHD2bChAls27aNnJwcnn32WR599FGys7OZO3cuubm5nHfeeQwbNoxhw4bx6aex3vY9cRpV99j0ZB+PXzSY8/48n1+/tpwnLx5sjXfGVOLeN79m5fd7avWYfds34Z4z+kXdpqioiOzsbAC6devGyy+/zI033sjrr79OVlYWM2bM4Ne//jX/+Mc/AMjLy+OTTz4BYO3atUyaNInzzz8/pngefPBBVqxYwdKlSwH45JNPePTRRznrrLPIz89n/vz5vPDCC1XuX1xczMKFC3n88ccBOPbYY/nss88QEf7+97/zhz/8gYcffpif//znZGRk8Mtf/hKASy65hJtvvpljjz2WTZs2cfLJJ7Nq1aqYYk6URpUoAAZ1asbNJ/Xkj++u5oTerTl3SMdEh2SMcZVVPZVZsWIFK1as4KSTTgIgFArRrt3+W29feOGFtXbusWPHcv3117N9+3ZeffVVzjvvPHy+g78iy0oha9eu5fzzz2fgwIGAcx3KhRdeyNatWyktLa3yOoYPPvjggCqyPXv2sHfvXjIzM2vttdS2RpcoAH4+tgefrM7l7te/5pguLejcMi3RIRlTr1T3y7+uqCr9+vVjwYIFla5PT0+v1fNdeumlTJ06lenTp5eXWioqa6PYunUr48aN44033uDMM8/kxhtv5JZbbuHMM89k9uzZTJkypdL9w+EwCxYsIDU1tVZjj6dG1UZRxusRHrlwECIwecaXBK3LrDH1Uq9evcjNzS1PFIFAgK+//rrSbTMzM9m7d2/Mx65s+yuuuILHHnsMgH79oifLdu3a8eCDD/LAAw8AkJ+fT4cOHQAOqLKqeJ6JEyfy1FNPlc9HlqDqq7glChFJEZHPReQrEflaRO6tZJtxIpIvIkvd6e54xVNRx+Zp/O6cASzZlMdTH6+rq9MaYw5BUlISM2fO5I477mDQoEFkZ2dX2YPooosu4o9//CODBw9m/fr11R67ZcuWjBkzhv79+3PbbbcB0KZNG/r06cNPf/rTmOI7++yzKSwsZO7cuUyZMoULLriA4447jlatWpVvc8YZZ/Daa6+VN2Y/8cQTLFq0iIEDB9K3b1+effbZmM6VSHG7Z7Y4rcTpqrpPRPzAPOAXqvpZxDbjgF+q6qRYj3vMMcdobd646JYZS5m19Dv+8/NRDO3SotaOa0xDs2rVKvr06ZPoMBKqsLCQAQMGsGTJEpo2bZrocGqssvdSRBar6jE1OV7cShTq2OfO+t0pPlnpMNx7Vj86NE9l8oyl7C22LrPGNFYffPABvXv35sYbb2zQSSIe4tpGISJeEVkKbAfeV9WFlWw2yq2eekdEKq0UFJGrRWSRiCzKzc2t1RgzU/w8duFgvs8r5p7XK6/7NMYc+SZMmMCmTZuYPHlyokOpd+KaKFQ1pKrZQEdguIj0r7DJEqCLqg4CngRmVXGcv6rqMap6TFZWje4NHtXQLs258YSjePXL73h96Xe1fnxjjGnI6qTXk6rmAbOBUyos31NWPaWqbwN+EWl18BHi74bxRzGkczN+M2sFW3YXJiIEY4ypl+LZ6ylLRJq5z1OBCcA3FbZp6zZ6IyLD3XgSMhCTz+vhsQsHowq3zPiKULjeNacYY0xCxLNE0Q74WESWAV/gtFH8V0R+LiI/d7c5H1ghIl8BTwAXaby6YcWgc8s07jurH5/n7OLZT6rvXmeMMY1BPHs9LVPVwao6UFX7q+p97vJnVfVZ9/lTqtpPVQep6khVTfgQi+cM7sAZg9rz6PtrWLo5L9HhGNOoiAiXXnpp+XwwGCQrK4tJk2LuQV+p77//PuYxoMpUNahgY9Qor8yORkS4/+z+tGmSwuTpX1JQEkx0SMY0Gunp6axYsYKioiIA3n///fKrnWMVDAYPmm/fvr196R8GSxSVaJrq55EfDWLjrkLue3Nl9TsYY2rNqaeeyltvvQXAtGnTuPjii8vXff7554wePZrBgwczevRoVq9eDcDzzz/PBRdcwBlnnMHEiRMPms/JyaF/f6fTZSgU4rbbbmPYsGEMHDiQv/zlL4AzrtQNN9xA3759Of3009m+fXul8Y0bN46bb76Z448/nj59+vDFF19w7rnncvTRR/Ob3/ymfLsXX3yR4cOHk52dzTXXXEMoFAIgIyODX//61wwaNIiRI0eybdu22v8j1rJGOShgLEZ0b8l143rw9MfrGdcri1MHtKt+J2OOFO/cCT8sr91jth0Apz5Y7WYXXXQR9913H5MmTWLZsmVceeWVzJ07F4DevXszZ84cfD4fH3zwAXfddRevvPIKAAsWLGDZsmW0aNGC559//oD5yDvlPffcczRt2pQvvviCkpISxowZw8SJE/nyyy9ZvXo1y5cvZ9u2bfTt25crr7yy0hiTkpKYM2cOjz/+OGeddRaLFy+mRYsW9OjRg5tvvpnt27czY8YMPv30U/x+P9dddx1Tp07lsssuo6CggJEjR/K73/2O22+/nb/97W8HJJj6yBJFFJMn9GTe2h3c+epysjs3o13ThjPaozEN1cCBA8nJyWHatGmcdtppB6zLz8/n8ssvZ+3atYjIAbchPemkk2jRokWV82Xee+89li1bVl4VlZ+fz9q1a5kzZw4XX3wxXq+X9u3bc8IJJ1QZ45lnngnAgAED6NevX/nQ5927d2fz5s3MmzePxYsXM2zYMMC5z0br1q0BJ8mUtbkMHTqU999//5D/RnXNEkUUfq+Hxy4azOlPzOWWGV8x9aoReDx2oyPTCMTwyz+ezjzzTH75y18ye/Zsdu7c32P+t7/9LePHj+e1114jJyeHcePGla+rOOR4VUOQqypPPvkkJ5988gHL33777ZhvZJacnAyAx+Mpf142HwwGUVUuv/zy8pFlI/n9/vLzeL3eg9pU6iNro6hGt1bpTDmjHws27ORvczckOhxjGoUrr7ySu+++mwEDBhywPHIo7+eff75Gxz755JP585//XF4aWbNmDQUFBRx//PFMnz6dUCjE1q1b+fjjj2sc/4knnsjMmTPL2zl27drFxo0ba3y8RLNEEYMLjunIqf3b8qf3VrPiu/xEh2PMEa9jx4784he/OGj57bffzq9+9SvGjBlT3jh8qK666ir69u3LkCFD6N+/P9dccw3BYJBzzjmHo48+mgEDBnDttdcyduzYGsfft29f7r//fiZOnMjAgQM56aSTyu/13RDFbZjxeKntYcZjlVdYyimPzSUt2ctbNx5HapK3zmMwJp5smPEjR4MZZvxI0ywtiUd+NIhvdxRw/1vWZdYY03hYojgEo49qxdXHdWfqwk28v7L+9302xpjaYIniEN0ysSf92jfhjleWsX1PcaLDMcaYuLNEcYiSfV4ev2gwhaVBbv3PV4RtlFljzBHOEkUNHNU6g99O6svctTv45/ycRIdjjDFxZYmihi4Z3pkJfdrw0DvfsGrrnkSHY4wxcWOJooZEhIfOG0DTND+/mP4lxYGa9ek2xuxX34cZ/+qrr8jOzi6fnzZtGmlpaeUX7y1fvpyBAwceVqz1kSWKw9AyI5k/XTCINdv28eA731S/gzEmqvo+zPiAAQPYuHEje/fuBWD+/Pn07t2bL7/8snx+zJgxh32e+sYSxWEa2zOLK8d04/n5OXz8TeXDEhtjYlefhxn3eDwMGzaMhQsXArB48WKuv/565s937rk2f/58Ro8eza5duzj77LMZOHAgI0eOZNmyZQBMmTKFyy+/nIkTJ9K1a1deffVVbr/9dgYMGMApp5xSXjJZvHgxY8eOZejQoZx88snlV3WPGzeOO+64g+HDh9OzZ8/yUXXjzQYFrAW3n9KL+et3cNvMr/jf5ONplZFc/U7G1GMPff4Q3+yq3VJy7xa9uWP4HdVuV9+HGR89ejTz589n1KhReDwexo0bx69+9SsmT57M/Pnzueeee7jnnnsYPHgws2bN4qOPPuKyyy5j6dKlAKxfv56PP/6YlStXMmrUKF555RX+8Ic/cM455/DWW29x+umnc+ONN/L666+TlZXFjBkz+PWvf80//vEPwCkhff7557z99tvce++9fPDBB4f71lTLEkUtSPE7XWbPeGoet89cxnOXHxPzKJTGmAPV92HGx4wZw8MPP8xxxx3HsGHD6NGjB+vWrSM3N5d9+/bRvXt35s2bV57ATjjhBHbu3El+vjNO3Kmnnorf72fAgAGEQiFOOeUUwKnWysnJYfXq1axYsYKTTjoJcEpAZcOYA5x77rmAM0R5ZAKMJ0sUtaRX20zuOrU3U95cyYufbeTSUV0THZIxNRbLL/94qs/DjI8cOZIvvviCefPmMWrUKMAZxHD69OmMHj26/BwVlR07cojyyCHHI4co79evHwsWLKj0/GX71+UQ5dZGUYsuH92Vcb2yuP+tVazZtjfR4RjTYNXnYcYzMzPp1KkTzz//fHmiGDVqFI899lh5ojj++OOZOnUqALNnz6ZVq1Y0adIkpvh69epFbm5ueaIIBAJ8/fXXNXqttcUSRS0SEf54/iAykn3cNO1LSoLWZdaYmqjvw4yPGTOGkpISOnXqBDiJYsOGDeWJYsqUKSxatIiBAwdy55138sILL8QcX1JSEjNnzuSOO+5g0KBBZGdnlzeWJ0rUYcZFxAOMVNVDjlJEUoA5QDJOFddMVb2nwjYCPA6cBhQCV6jqkmjHTdQw44fio2+2ceXzi7jq2G78ZlLfRIdjTExsmPEjR50OM66qYeDhmhwYKAFOUNVBQDZwioiMrLDNqcDR7nQ18OcanqteOaF3Gy4b1YW/z/uWuWtzEx2OMcYclliqnt4TkfPkELvxqGOfO+t3p4rFl7OAf7nbfgY0E5F2HAHuOq0PR7XO4NaXv2JXQWmiwzHGmBqLJVHcAvwHKBWRPSKyV0RiGtxIRLwishTYDryvqgsrbNIB2Bwxv8VdVvE4V4vIIhFZlJvbMH6hO11ms8krDHDHK8sq7QVhjDENQbWJQlUzVdWjqn5VbeLOx9R8r6ohVc0GOgLDRaR/hU0qK6Uc9I2qqn9V1WNU9ZisrKxYTl0v9GvflNtP6cX7K7cx/YvN1e9gjDH1ULWJQhw/EZHfuvOdRGT4oZxEVfOA2cApFVZtATpFzHcEvj+UY9d3V47pxrFHteK+N1eyPndf9TsYY0w9E0vV0zPAKOASd34f8HR1O4lIlog0c5+nAhOAimMCvAFc5iajkUC+qm6NNfiGwOMRHv7RIJL9HiZPX0ppMJzokIwx5pDEkihGqOr1QDGAqu4GkmLYrx3wsYgsA77AaaP4r4j8XER+7m7zNrABWAf8DbjuUF9AQ9CmSQoPnTeQ5d/l88j7axIdjjH1Vn0fZrxsebdu3cjOzmbIkCFVXkFdU1WdN5FiGcIjICJe3LYDEckCqv1ZrKrLgMGVLH824rkC18ccbQN2cr+2XDy8M3+Zs57je7ZidI9WiQ7JmHoncpjx1NTUGg8z7vP5DpivrWHGy/zxj3/k/PPP57333uOaa64pHx32SBVLieIJ4DWgtYj8DpgH/D6uUR2hfjupD91apnPLjK/IK7Qus8ZUpj4PM17R8ccfz7p16wB48cUXGT58ONnZ2VxzzTXlV45PmzaNAQMG0L9/f+64Y/8YWhkZGdx6660MGTKEE088kcp6dFY13Hhdq7ZEoapTRWQxcCJOL6WzVXVV3CM7AqUl+Xj8osGc88yn3PXacp6+ZIiNMmvqpR9+/3tKVtXuMOPJfXrT9q67qt2uvg8zHunNN99kwIABrFq1ihkzZvDpp5/i9/u57rrrmDp1KhMmTOCOO+5g8eLFNG/enIkTJzJr1izOPvtsCgoKGDJkCA8//DD33Xcf9957L0899VT5sQOBQNThxutSlYlCREYAfwV6AMuBn6nqyroK7Eg1oGNTbp3Yi4f+9w0zF2/hgmM6Vb+TMY1IfR9mHOC2227j/vvvJysri+eee44PP/yQxYsXM2zYMACKiopo3bo1X3zxBePGjaOsW/+Pf/xj5syZw9lnn43H4+HCCy8E4Cc/+Un58OFlqhtuvC5FK1E8DfwSZ7ymM4FHgZOjbG9idPXx3flkzXamvPE1w7q2oGuryodDNiZRYvnlH0/1eZhx2N9GUebjjz/m8ssv54EHHjhgu1mzZsV0POCgc1c33HhditZG4VHV91W1RFX/AzScK93qOa9HeORH2Xg9wuQZSwmErMusMZHq8zDjlTnxxBOZOXNmebvGrl272LhxIyNGjOCTTz5hx44dhEIhpk2bVj4qbTgcLi/VvPTSSxx77LEHHLM+DTcerUTRTETOrWpeVV+NX1hHvvbNUnng3IFc/9ISnvxwLbdM7JXokIypN6INM3755ZfzyCOPRK0aiuaqq64iJyeHIUOGoKpkZWUxa9YszjnnHD766CMGDBhAz549ow4zXlHfvn25//77mThxIuFwGL/fz9NPP83IkSN54IEHGD9+PKrKaaedxllnnQU4JZ6vv/6aoUOH0rRpU2bMmHHAMcuGG7/pppvIz88nGAwyefJk+vXrV6PXfTiqHGZcRP4ZZT9V1eitPHHSEIYZPxS//M9XvLpkCzOuGcWwrgfXpxpTV2yY8bqVkZHBvn3xGa2htocZr7JEoao/rckBzaGZcmY/vsjZxeTpS3n7F8fRNNWf6JCMMeYAdoe7BMtI9vHYhdn8sKeYu19fkehwjDF1JF6liXiwRFEPDO7cnMknHs3rS79n1pffJToc04jZcPgNXzzeQ0sU9cR1449iWNfm/HbWCjbvKkx0OKYRSklJYefOnZYsGjBVZefOnaSkpNTqcaM1Zp9b6Yr9ASWk19OR1pgdafOuQk57fC692mYy/eqR+LyWx03dCQQCbNmyheLi4kSHYg5DSkoKHTt2xO8/sL0zLo3ZwBnuY2tgNPCROz8e594S1j22lnVqkcb95/TnF9OX8szs9dx04tGJDsk0In6/n27duiU6DFMPVfmTVVV/6vZ8UqCvqp6nqucBdd+JtxE5K7sDZ2e35/EP17Jk0+5Eh2OMMTG1UXStcDOhbUDPOMVjgPvO7k/bJilMnr6UfSXBRIdjjGnkYkkUs0XkXRG5QkQuB94CYr+23RyyJil+Hrsomy27C5nyRmIu2TfGmDLVJgpVvQF4FhgEZAN/VdUb4x1YYzesawtuGH8UMxdv4b/LjqjbiBtjGphY7nAHsATYq6ofiEiaiGSq6nFRjiMAACAASURBVN54BmbgphOPZu66Hdz16nIGd25Oh2apiQ7JGNMIVVuiEJH/B8wE/uIu6gDEPnauqTGf18NjF2YTCiu3zFhKKGz9240xdS+WNorrgTHAHgBVXYvTZdbUgS4t07n3rP4s/HYXf5mzPtHhGGMaoVgSRYmqlt/gWUR8OF1mTR05b0gHTh/YjkfeW8OyLXmJDscY08jEkig+EZG7gFQROQn4D/BmfMMykUSE3589gKzMZH4xfSmFpdZl1hhTd2JJFHcCuTj3zb4GeBv4TTyDMgdrmubnkR9lk7OzgP/7r9263BhTd2LpHhtW1b+p6gWqer77vNqqJxHpJCIfi8gqEflaRA66XZWIjBORfBFZ6k531/SFNAajerTk52N7MO3zzfxvxQ+JDscY00hU2T1WRF5W1R+JyHIqaZNQ1YHVHDsI3KqqS0QkE1gsIu+rasWfw3NVddIhR95I3TyhJ/PW7uDOV5cxuHMz2jSp3VEijTGmomglirISwCScAQIrTlGp6lZVXeI+3wuswulaaw5Dks/DYxdlUxIIc8vLSwlbl1ljTJxFGxRwq4h4gedUdWPF6VBOIiJdgcHAwkpWjxKRr0TkHRGpdMBBEblaRBaJyKLc3NxDOfURqUdWBvec0ZdP1+3kT++ttmRhjImrqG0UqhoCCkWkaU1PICIZwCvAZFXdU2H1EqCLqg4CnqSKC/lU9a+qeoyqHpOVlVXTUI4oFw7rxAVDO/LM7PVc/e9F5BcGEh2SMeYIFUuvp2JguYg8JyJPlE2xHFxE/DhJYmplNzpS1T2qus99/jbgF5FWhxB/oyUi/OH8gdxzRl9mr87l9CfnsnxLfqLDMsYcgWJJFG8BvwXmAIsjpqhERIDngFWq+kgV27R1t0NEhrvx7IwtdCMi/HRMN2ZcM4pQWDnvz/OZunCj3crSGFOrog4K6LZRXKqqE2pw7DHApTilkaXusruAzgCq+ixwPnCtiASBIuCiWLremgMN7dKct246jl9M/5Jfv7aCxTm7uf+c/qQlxTrmozHGVK3Ke2aXbyDyBk6yqBf1GkfyPbMPVyisPPnRWh7/cC09W2fyzE+G0CMrI9FhGWPqgcO5Z3Zc2yhM3fJ6hMkTevLCT4ezfW8xZz45z+5lYYw5bLHUTbzlTqaBOL5nFm/ddBzXv7SEG176kkU5u7nrtD4k+WL5XWCMMQeqNlGo6gt1EYipXe2bpTLj6lE88M4q/vlpDl9tyePpS4bQ3m5+ZIw5RLHcuOhoEZkpIitFZEPZVBfBmcOT5PNwzxn9eOqSwaz5YS+TnpzHnDV2waIx5tDEUhfxT+DPOGM3jQf+Bfw7nkGZ2jVpYHveuPFYWmUkcfk/P+exD9bY3fKMMTGLJVGkquqHOD2kNqrqFOCE+IZlaluPrAxmXT+Gc7I78NgHa7nin5+zq6C0+h2NMY1eTL2eRMQDrBWRG0TkHOxWqA1SWpKPh380iN+fM4CFG3Zx+hNzWbJpd6LDMsbUc7EkislAGnATMBTnIrrL4xmUiR8R4ZIRnXnl2tF4PcKPnl3APz/91q7mNsZUqdoL7uobu+Cu9uQXBrjl5aV8+M12Th/YjofOG0hGsl3NbcyR6HAuuIt246I3ou2oqmfW5ISm/mia5udvlx3DX+Zs4I/vfsOqrXv484+H0qttZqJDM8bUI9F+Po4CNgPTcO4jIXUSkalTHo9w7bgeZHdqxo3TvuSsp+fx+3MGcO6QjokOzRhTT0Rro2iLM4hff+Bx4CRgh6p+oqqf1EVwpu6M6tGSt286loEdm3HLy19x12vLKQ6EEh2WMaYeiHaHu5Cq/k9VLwdGAuuA2SJyY51FZ+pU6yYpvHTVCK4Z252XFm7igmcXsHlXYaLDMsYkWNReTyKSLCLnAi8C1wNPAAfdgMgcOXxeD786tQ9/vXQoOTsLOP2JuXywcluiwzLGJFCViUJEXgDmA0OAe1V1mKr+n6p+V2fRmYSZ2K8tb914HJ1apHHVvxbx0P++IRgKJzosY0wCVNk9VkTCQIE7G7mRAKqqTeIcW6Wse2zdKg6EuPfNr5n2+WZGdm/BExcPpnVmSqLDMsYcorjcj0JVPaqa6U5NIqbMRCUJU/dS/F4eOHcgf7pgEEs353H6E/NYuMHuVmvqj4KSICVB63gRT9Guo1gEfAq8A8xW1eI6i8rUO+cP7Ui/9k24buoSLvn7Qm4/uRdXH98d95bnxtSJzzbsZMmm3eTsKCBnRyHf7iwgd28JLdOTuHViLy4c1gmvxz6TtS1a1ZMPOBY4BWfU2J3Au8A7qrqmziKswKqeEmtvcYA7XlnG28t/4KS+bfjTBYNomupPdFjmCLdldyFT3ljJB6ucjhWtMpLp1iqNLi3T6doyjTlrdvB5zi76tGvC3ZP6MqpHywRHXP8cTtVTzEN4iEg74FScxHE0sEBVr6vJSQ+HJYrEU1X+8WkOD7y9ivbNUnnmx0Po36FposOqVwpKgsxfv5O5a3NJT/YxolsLjunawoZIOUSlwTB/n7eBJz5ciyD8YsLR/HhEZzJTDvxxoqq8vfwHfv/2Kr7LK+KUfm2567Q+dG6ZlqDI65+6ShTpqlrgPvcAo1T105qc9HBYoqg/Fm/cxfVTv2RXYSn3ndmPC4d1arRVUarKtzsK+Hh1LrNXb2fhhl2UhsKkJXkpDYYJhhWvR+jfvgnDu7VgRLeWDOvWokGWxkqD4bjeVrc0GCa/KMDKrXu4782vWZ9bwMn92nD3Gf3oUM0dGosDIf42ZwPPzF6Pojx8QTanD2wXt1gbkrgmChEZDfwdyFDVziIyCLgmEaUJsERR3+zYV8Lk6UuZt24H5w/tyP+d1Z/UJG+iw6oTxYEQn23YyezVuXy8ejsbdzoXJx7dOoPxvVszrlcWx3RpQTAcZsnGPBZ+u5OFG3axdHMepaEwItCnbRNGdHcSx/BuLWiRnpTgV1W1Ndv2ct+bK/l0/Q6GdG7OSX3bMKFPG45qnRHT/tv3FPPuym2s3baXfSVBCktCFJQGKSwNsa84SH5RgPyiAEURIwJ0apHKvWf244TebQ4p1q35Rdzw0pcs3ribW07qyY0nHNVof8SUiXeiWAicD7yhqoPdZStUtX81+3XCuRteWyAM/FVVH6+wjeAMD3IaUAhcoapLoh3XEkX9Eworj3+4lic/WkuvNpk88+MhdM+K7cujodm8q5DZq7fz8epc5q/fQXEgTIrfw5gerRjXuzXjembRqUX06o7iQIilm/NYuGEXC791GmeLA841Kr3aZDolDjd5ZGUm18XLiiqvsJTHPljLvz/bSEayj7Oz27N4025WfLcHgO6t0jmhd2t6tsmkfbNUOjRPpV3TFFL8XjbvKuTdr3/gnRU/sGTTblShaaqfjGQf6cle0pN9pCf5SEvy0jTVv39K89MiPYkTe7ep8Q+P4kCIX726nNe+/I6zstvz0HkDSfE3jh8xlYl7olDVESLyZUSi+EpVB1WzXzugnaouEZFMYDFwtqqujNjmNOBGnEQxAnhcVUdEO64livpr9urtTJ6xlGBI+cP5AzltQMMv8pcGwyzK2cXHbnJYt30fAJ1bpHGCW2oY2b3lYX0BlQbDLNuSx8Jvd7Hw210sztlFQanzq7p7VjpDOjcnu1Mzsjs1o3fbTHze+FX7RAqGwkz7YjOPvLea/KIAl4zozC0n9Sov9XyfV8SHq7bx/qrtLFi/g0DowO+S5ml+dhcGAOjTrgmn9m/Lqf3bcnSbuhudWFV5ZvZ6/vjuarI7NeOvlw1ttNcBxTtRzAQeAZ7CGfPpJuAYVb3oEIN8HXhKVd+PWPYXnK6309z51cA4Vd1a1XEsUdRv3+UVcd3UJXy1OY+fHduNO0/tjb+Ovthqyw/5xW6pYTvz1u6goDREktfDiO4tGNerNeN7ZdGtVXrcqjKCoTArvt/Dwg07+fxbp6pqp3vb2hS/hwEdmjKye0vG9swiu1Ozw04c3+cV8e7XP7Aht4Bte4rZtreEbfnF5O4rIRRWRnZvwT1n9KNPu6ovnwqEwvyQX8yW3UV8n1fEd3lFbM0vokvLdE7t35YuLdMPK8bD9b8VW7l5xlc0T/Pz3BXDor6WI1W8E0UrnOqhCThXZb8H3KSquw4hwK7AHKC/qu6JWP5f4EFVnefOfwjcoaqLKux/NXA1QOfOnYdu3Lgx1lObBCgNhvndWyt5YcFGhnZpzlOXDKZd0+iNkIkUDIX5cnMeH3/jlBpWbXU+ou2bpjCud2vG92rN6B4tSU9QjyVVZfOuIr7cvJulm/P4clMey7bkEVbITPFx3NGtGNszi/4dmpLs85Dk9eL3CX6vh2Sfh/QkH54K1xZszS/i7eU/8Nay71myKQ+AZml+2mSm0LpJMm2apNCmSTKDOzXnxD6tj4j6/RXf5XPVC4vYWxzgqUuGML5347qjc7wTxZiKvZsqWxZl/wzgE+B3qvpqhXVvAQ9USBS3q+riqo5nJYqG442vvufOV5aR6vfy+EWDOfboVokOqdyOfSXMWZPLx6tzmbMml/yiAF6PcEyX5ox3k0PPNhn19gsyvzDAvHU7+GTNdj5Zk8u2PSVVbisCGck+mqT4yUzxISLlybBPuyZMGtiO0wa0o1urxP7qrws/5Bfzsxe+YNXWPdw9qS9XjOmW6JDqTLwTxRJVHVLdsir29QP/Bd5V1UcqWW9VT0e4ddv3cu2LS1iXu4+bJ/TkhvFHHfTrti6Ew8ry7/LL2xqWbclD1blwa3yvLMb3bs2Yo1o1yO6qqsrqbXv5NreAQFgJBMOUhsIEQmGKA06Poj3FQfYUB9hbHKQ4EGJEtxacNqDdEdvpIJrC0iCTpy/lvZXbuGxUF+6e1LfO2n0SKS6JQkRGAaOBycCjEauaAOfE0JgtwAvALlWdXMU2pwM3sL8x+wlVHR7tuJYoGp7C0iB3vbqcWUu/Z2zPLB67MJvmddANNL8wwJy1TtfVT1bnsrOgFBEY3KkZ43u1Znzv1vRt1yQhicskVjisPPS/b/jLnA2M7ZnFExcNpmlaw/uRcCjilSjGAuOAnwPPRqzaC7ypqmurCepYYC6wHKd7LDh3zOsMoKrPusnkKZyrvQuBn1Zsn6jIEkXDpKpMXbiJ+95cSauMJJ75yVCyOzWr9XOs2rqXj1dvZ/bq7SzeuJuwOr1vxvZ0Sg3HHZ1Vr69VMHVr2ueb+O2sFaT4vVxwTEeuGN014Q3v8RLvqqcuqlpvWo8tUTRsy7bkce2LS9i+t5jfTurLpSO7HFY7wL6SIPPW7ijvpVRWV9+/QxPG92rNuF6tye7UzAaKM1X6+vt8/jZnA/9dtpWQKhP6tOHKMd0Y2b1FvW2jqol4J4os4HagH1DeAVlVT6jJCQ+XJYqGL6+wlFte/oqPvtnOGYPa8+C5A2LuUaSqrM/dx8ffOFVKX+TsIhBSMpN9HNezFeN6ORe9tW7SOPvKm5rbtqeYfy/YyEufb2JXQSntmqbQq20mPdtkcnTrDOexTQZpSQ1zvK54J4r3gBnAL3GqoS4HclX1jpqc8HBZojgyhMPKnz9Zz8PvraZbq3Se/cnQKi/EKioNsWDDjvLksGV3EeBcxTyudxbje7VmaJfmDe56DVM/FQdCvLH0ez5dv4M12/axPncfpUGn9tzrEYZ0bsbxR2dxvNsluaGUVuOdKBar6lARWaaqA91ln6jq2Jqc8HBZojiyzF+3g5umf0lBSYgHzxvAWdkdANi4s6D8uoYFG3ZSGgyT6vcy5qhWjO+dxbherasdIM6Y2hAMhdm0q5A12/bx1ZY85q3dwfLv8gHn2pMR3VogSHmvsj3FAfYVB+nYPJUhXZoz1J0SfS1RvBPFZ6o6UkTeBZ4AvgdmqmqPmpzwcFmiOPJs21PMDS8t4Yuc3ZzQuzU5OwrYsMO5C2/3VunO1dC9sxjerQXJvsY7Vo+pP3buK2Heuh3MXbuDJRt34/NK+XUqmSl+0pO9bMgt4KsteeXjeHVolsqwrs057ugsjuvZqs6HEol3opiE03upE/AkTvfYKar6Zk1OeLgsURyZAqEwf3p3NdO/2Ex2p2aM7+WUGro2govAzJErEAqzauseFuXsZvHG3Xy2YWf5cCy922YytmcWJ/VtwzFdW8Q9ljq5H0WFE8Z8ZXZts0RhjGmowmFl5dY9zFmby9w1O1i00emMcVZ2e6ac0S+u1xfF6zoKL/AjoAPwP1Vd4ZYu7gJSy0aSrWuWKIwxR4qCkiB/m7uBpz5aR7M0P/93Vn9OjdOoy4eTKKJ1E3kOuApoCTwhIv8E/gT8IVFJwhhjjiTpyT4mT+jJmzceS9umKVw7dQnXTV3Mjn1Vj92VCNFKFCuAgaoaFpEUYAdwlKr+UJcBVmQlCmPMkSgQCvPXORt4/IO1pCd7uXJMNy4e0ZlWGbVz86p4lShKVTUMoKrFwJpEJwljjDlS+b0erh9/FG/ddCwDOzbj4ffXMPqBj7j15a9Y4XbHTZRoJYpCYF3ZLNDDnRdAy66pqGtWojDGNAbrc/fxwvwcZi7eQmFpiGFdm3Pd+KMY36tm99E4nBJFtGvR+9QoGmOMMYetR1YG953Vn1sn9uI/izbzwoIc1vywt8aJ4nDUqHtsIlmJwhjTGIXCSiAUrvH92eNVojDGGFNPeD2C15OYkQlsFDVjjDFRVZsoRGSSiFhCMcaYRiqWBHARsFZE/iAi1sBtjDGNTLWJQlV/AgwG1gP/FJEFInK1iFR+8wBjjDFHlJiqlFR1D/AKMB1oB5wDLBGRG+MYmzHGmHogljaKM0XkNeAjwA8MV9VTgUE4d70zxhhzBIule+z5wKOqOidyoaoWisiV8QnLGGNMfRFL1dPWiklCRB4CUNUP4xKVMcaYeiOWRHFSJctOrW4nEfmHiGx3R6GtbP04EckXkaXudHcMsRhjjKljVVY9ici1wHVADxFZFrEqE4jl7nbPA08B/4qyzVxVnRTDsYwxxiRItDaKl4B3gAeAOyOW71XVXdUdWFXniEjXw4rOGGNMwkWrelJVzQGuB/ZGTIhIbd0JfJSIfCUi74hIv1o6pjHGmFpUXYliErAYUJz7UJRRoPthnnsJ0EVV94nIacAs4OjKNhSRq4GrATp37nyYpzXGGHMo4jrMuFv19F9V7R/DtjnAMaq6I9p2Nsy4McYcurgMMy4iQ6LtqKpLanLCiOO3BbapqorIcJxqsJ2Hc0xjjDG1L1rV08NR1ilwQrQDi8g0YBzQSkS2APfgXNmNqj6LcyHftSISBIqAi7Sh3UXJGGMagSoThaqOP5wDq+rF1ax/Cqf7rDHGmHosWtXTCar6kYicW9l6VX01fmEZY4ypL6JVPY3FGQjwjErWKWCJwhhjGoFoVU/3uE/vU9VvI9eJSLe4RmWMMabeiGWsp1cqWTaztgMxxhhTP0Vro+gN9AOaVminaAKkxDswY4wx9UO0NopeOFdmN+PAdoq9wP+LZ1DGGGPqj2htFK+LyH+BO1T193UYkzHGmHokahuFqoao/H4UxhhjGolYboU6X0SeAmYABWULD3cID2OMMQ1DLIlitPt4X8SyaofwMMYYc2SoNlEc7lAexhhjGrZqr6MQkTYi8pyIvOPO9xWRn8U/NGOMMfVBLBfcPQ+8C7R359cAk+MVkDHGmPollkTRSlVfBsIAqhoEQnGNyhhjTL0RS6IoEJGWOA3YiMhIID+uURljjKk3Yun1dAvwBtBDRD4FsnBuOmSMMaYRiDbWU2dV3aSqS0RkLM6QHgKsVtVAnUVojDEmoaJVPc2KeD5DVb9W1RWWJIwxpnGJligk4nn3eAdijDGmfoqWKLSK58YYYxqRaI3Zg0RkD07JItV9jjuvqtok7tEZY4xJuGjDjHvrMhBjjDH1UyzXURhjjGnE4pYoROQfIrJdRFZUsV5E5AkRWSciy0RkSLxiMcYYU3PxLFE8D5wSZf2pwNHudDXw5zjGYowxpobilihUdQ6wK8omZwH/UsdnQDMRaReveIwxxtRMItsoOgCbI+a3uMsOIiJXi8giEVmUm5tbJ8EZY4xxJDJRSCXLKr1eQ1X/qqrHqOoxWVlZcQ7LGGNMpEQmii1Ap4j5jsD3CYrFGGNMFRKZKN4ALnN7P40E8lV1awLjMcYYU4lYhhmvERGZBowDWonIFuAewA+gqs8CbwOnAeuAQuCn8YrFGGNMzcUtUajqxdWsV+D6eJ3fGGNM7bArs40xxkRlicIYY0xUliiMMcZEZYnCGGNMVJYojDHGRGWJwhhjTFSWKIwxxkRlicIYY0xUliiMMcZEZYnCGGNMVJYojDHGRGWJwhhjTFRxGxSw3tmxFla/A74U8CW5j8kHPnqTD17mc5d5k0Aqu9eSMcYc2RpNoggsn0Phv36Hx6d4vIq4jx6fIhGP4omSDyomEG9lSSVaIqq4PCIRVZagKh7f22jeLmNMPdJovnm25qVSsKBF9Rt6PHiS/UiSD0+SD0+SF/F78fg9iF/w+AWPTxAfeHxhJ+l4A3i8xXg8IcQTwiMBPJ4AIqV4JIBICR6KY0tG0Yi3kkSUCklp4E+DpHT30Z0/aFk6+FP3Pz/g0Z18STUIzBhzJGs0iWJVr3QeudpLcikkByE5oCQFICUASQFIDXnICPlJD/lJD3pJDXlIDXpICQpJQUguDeMvUvz5IXylIbwlQTwlATwlgShn9blT6oGLPR48KclISjKe5CQ8yUnliUmS/XiSvHj8XjcxefD43cTkBdEwnrDiCYWRoJuUCksRivCwC6EYT7gICRcggUIIR4uvEh7fgcnjkJJOxDaR+0Yu81izmDENTaNJFKOPOoHOl/+HwmAhBYECCoOFFAWK9s8HCikMFrIjUMimYGH5fGEgYvtgMUXBogMPrF78QUgOuJP7PCkAGUEfmZpEZiiJ9LCf9LDPSULB/UnI2VbxBxR/aRDfnhK8JQE8JUGkpBQpKYXiElA9tBcsGUhKKzwpKREJyY8k+feXkpK8bulInNKODzzeEJ7SMFIUwuMJIgTweErwsBPhezwUI1qERwvxhAsQzyHG5UupPulUVoV3UPtRxSq6StaVVfV5/da+ZMxhaDSJIjMpkz4t+xz2cULhEEXBovIkUpZoioJFB8xHJpqKCagg6Kwv26c4VBz9pOopT0aZ4SSakUqTUBKZmkxGyE9ayEuqWwpyko84JaGAlk++0hD+0jDe0iDeguLy0pCUBPYno2Awxr+CD2jiTD4fnuSy0pH/4GTk9zjJyO+WiHxhPJ4wHu/+ajrx7MPDTjxSilCCaAmiAeeREjweRbwgHqfa7tBJFYmnijaiAxJPVfscwvHKkpYlK9NANZpEUVu8Hi8ZSRlkJGXU2jGD4eABiabi4wGJp2y5W9LZHiqmOFhMSaiEklAJRcEi53mwhOJQMYFDqHryhrwkBd2quKCHjLCfjHASGWE/6SEf6SEfqSEvaWVJKSAkB4XkIG5CAn9pGH8gjK80gHdPEd7SIJ6SIJ7SAFLsJCSptnTkd6e0g1d5PIjfh/h8zqPf5yQknxfxeZzJK4jXg/jEaQ/yEpFo1Ek8njAiIcQTRKQEkSBC0H0MOCUp91G0xNneg9vGtD9xeTwKsbY5HdTBIfXghOJPqbBdCmS2hSYdnKlpB8hoax0bTJ2yT1s94PP4yEzKJDMps9aPHQqHKAk5SaMseZQllrJlRaEiSoJOoilbV55w3GXFoWJ2uftHLispe3SXhTQUPSD14Au51XMRVXZpQW959VxKyEty2ENK2EtS2ONMISEpLCSFBH9I8IfAHwJf0H0MKd6g4guG8QbDThtSQQhPIIwnGMITcCYJBpFACAlUV3ryulMKUP374iQur5vEIpJWeeKKSFpuycjjCYMnjEf2IbLHSVKeEEJof+LSEry+ErwpYXzJYbwpYbzJIP5UnAN6UASn1JSEpGRCUgYkZ7pTE0hrCWkt3MeWkNrM/XAEIBxy2rHCQecYHp87eZxH8bjVnm5yL3seDoOGnP015CxPaQKpLZxzpbZwqhLNEcESxRHO6/GS5kkjzV83/7SBcKA8IR2YUCokqUpKQWXLAuEAgXCAvJDzWBouJRgKli8PhAMEQs7ysueRy4MaQxWaevGGwV+eaJznPneZz01E/qDiC0FSSEgJ+0hWLykhD8luAksOe0gKOYnMX57IcJOZ4guCN6TlicwbULzBMB43oXncSYKh8oS2X1lniPQDYxecL3JVd9q/XJJL8CYH8CbvxpukeH1BPL5SfP4SvElhvMlhvEkKUvbFH1EUEnVKRuImM/d5lcRJUWXbePyKxx/G63d79/nd9ihvkjv53Haj5P2dG/yp+x+9/v2JyusHj99tu0rfv12S+7cIBZwEFwo6Sc6f4pa62kNmO2d/U2ssUZha5ff48Sf5yaD2quYOVVjDBMPBqAmlNFRa/jwYDladeCpsG7luT4zblcUSDAcJhoOE3Pic55GJQcoTmM9NXklByCiCpoVKk0JoUghNCxRvWAl7ICxCWAQVp1SVVhImrSRMk1IvTUq9ZBT7SC9MIrUwBW8wXHdvgkfwpvqdEpXHmXcKQAFnkj1uMgqDhBAJOxNOtSA4yzw+LZ/E7Y4OoGFxppDzXLyKPy2ELzWMPy2ML6sVkpnlJDEF1TCEFEWQjOZIZhtIbw0Z7pTWKqLk1QKSm+5PxqEABIsgWOKUoJIznE4XjagHX1wThYicAjyOU4b/u6o+WGH9OOB14Ft30auqel88YzJHPo94SPImkeRNcpo66rGwhgmFQwTCAUIaKk8gZVMgHKAgUMDewF4KAgXsK93H3tK9AOWv0e/xk+RNIhQOkV+aT15JHptK8skvcZ7nl+STV7yb4r35kL+H9GK3QOGWBBSnYOFR8ITB606esFJVpzZRZ3dxCycehZRSSCtxpvQSyCxVksOKLyz4Io7rD4M35MEbUrxhD96QF18IvKGybdR5HlKnzau0murMSgMESd6NhoGQOpNLCKfzdAAACi9JREFUfbvxpG7AnxwiKSmALyWENzmMx69OqSspjCdJ8CT5IFRy4GGl7GJd8KRnIGnpeDIyEF/y/lJQWcmofN7nPHp8bgeIVLctyn0UL5Tsdac9zlRa4KxPznCrEjMgKRM6j4Ruxx363+MwxS1RiIgXeBo4if/f3r3HyFWWcRz//uayu71wa7G60JZiUv6oyHVTICHSQEDBCzEIlotgMEEMGDQiodFEEqIRYowx1SCJEGMNGK8UQRolxiCIpUWKLVBuIlRKSxfD3i8z5/GP953dw7Iz7Qw7u2emzyeZzJn3XPb8dnb32fOe95yBXcATkjaa2TNTFn3EzD7RrP1wLstyypHL5yjOUldJOSnTP9ZPyUoklkw8ylaeKFolK1FOyhPthmFxAIJhk8slJUo2WdBG4vDx9ECMviRsq1IEE0tC16CFbVW2Z2ZhOzb+jiI5UhpheHSQ8ZEhkuEhbDiMEMx1dJLr6CDf0UmuswsbHoY332JRf8KifljcB4cMG6U84ZETpXw48lo4Yhw2CIcNFjhiqMgRe2H+cEJh2nq0v/NTBvRj6o9dgpoc3JCfOI0Uz0mFwQ+5fDJ5cW68ADcpC7MiSVIgKefDUVLOyOWSsFxuHOXKHHLOTg69qY0KBbAaeNHMXgaQdC9wITC1UDjnZkk+l+fwrsPnejcalliCEJpmmNl4Ms6+oX3sGdrDG0Nv0DfaR1ehi3mFecwrzGN+YT4d+Q7eHn2b3pFeeod72T7cS+9IL/2jfYwO9ZP09WP9AzAwQDIySnlK92A+CYMvusZS106Nh6OgqUdk6S7EQgL5sugoic5Sjs5Skc5x0Tks8okxVhSjRTFaMEbnwXjeKJRFZ6kQHqOddJSMoZEc583mNzxqZqE4Gngt9XoXcNo0y50haRvwOnCjme2YuoCka4BrAJYvX96EXXXOtYJcjQtpirki3Qu76V7YPaNfs5SUGCuPMVYeY6Q8wlh5bGIgRuVROTIzs4npcYvnyMpjjCVh/YHyKPtK7xzoMZ6Mh3N7uSKFXIFirkheecpWftc5rzXL1sxotgPVzEIx3XiJqT2eTwLHmNmApAuA3wMr37WS2Z3AnQA9PT11XgrsnHONK+QKFHKFWRs5mEXNPG2/C1iWer2UcNQwwcz6zGwgTj8IFCUd2cR9cs45V6dmFoongJWSjpXUAawFNqYXkPQBxc5GSavj/vQ2cZ+cc87VqWldT2ZWknQ9sIkwPPYuM9sh6do4/w7gM8CXJJWAYWCtWb13v3POOddMarW/yz09PbZly5a53g3nnGspkraaWU8j6x48lxY655xriBcK55xzNXmhcM45V5MXCuecczW13MlsSW8C/2lw9SOBfTO4O1nQbpnaLQ+0X6Z2ywPtl2m6PMeY2fsa2VjLFYr3QtKWRs/6Z1W7ZWq3PNB+mdotD7RfppnO411PzjnnavJC4ZxzrqaDrVDcOdc70ATtlqnd8kD7ZWq3PNB+mWY0z0F1jsI551z9DrYjCuecc3XyQuGcc66mli8Uku6StFfS9lTbiZL+Lulfku6XdGhq3glx3o44vyu2nxpfvyjph5Xbn2c5j6TLJT2VeiSSTspSngYyFSX9LLY/K2ldap1MZKozT4eku2P7NklrUutkJc8ySX+J3+8dkm6I7Ysk/UnSC/H5iNQ66+J+75T00VbPJGlxXH5A0vop25rzTA3kOVfS1rjfWyWd/Z7ymFlLP4CPAKcA21NtTwBnxemrgVvjdAF4Gjgxvl4M5OP0ZuAMwifz/RE4P+t5pqz3YeDl1OtM5GngPboMuDdOzwdeAVZkKVOdea4D7o7TS4CtQC5jebqBU+L0IcDzwCrgduDm2H4zcFucXgVsAzqBY4GXMvh7VG+mBcCZwLXA+inbmvNMDeQ5GTgqTh8P/Pe95Jn1N7BJ38QVU35p+5g8Ub8MeCZOXwBsqPImPJd6fSnwk6znmbLOd4BvZzFPne/RpcD9hKK+OP5CLMpapjry/Ai4IrXcw8DqrOWZku0+4FxgJ9Cd+pnaGafXAetSy2+Kf3haNlNquc+TKhRZzXSgeWK7CB8I19lonpbveqpiO/CpOH0xkx/JehxgkjZJelLSTbH9aMJHt1bsim1ZUS1P2meBe+J01vNA9Uy/BgaB3cCrwPfM7C2yn6lanm3AhZIKko4FTo3zMplH0grCf6P/AN5vZrsB4vOSuNjRwGup1Sr73sqZqslcpgbyXAT808xGaTBPuxaKq4HrJG0lHKaNxfYC4fDy8vj8aUnnECruVFkaN1wtDwCSTgOGzKzSZ571PFA902qgDBxF6Nb4mqQPkv1M1fLcRfhl3AL8AHgMKJHBPJIWAr8BvmJmfbUWnabNarTPmToyVd3ENG1zlqnePJI+BNwGfLHSNM1i+83TtI9CnUtm9hxwHoCk44CPx1m7gL+a2b4470FCX/MGYGlqE0uB12dth/ejRp6KtUweTUDImdk8UDPTZcBDZjYO7JX0KNADPEKGM1XLY2Yl4KuV5SQ9BrwA/I8M5ZFUJPwB+oWZ/TY275HUbWa7JXUDe2P7Lt55VFvZ90z93NWZqZrMZKo3j6SlwO+AK83spdjcUJ62PKKQtCQ+54BvAnfEWZuAEyTNl1QAziL0Je8G+iWdHkcAXEnoA8yEGnkqbRcD91basp4HamZ6FThbwQLgdEKfaqYzVcsTf9YWxOlzgZKZZepnLn79nwLPmtn3U7M2AlfF6auY3L+NwFpJnbE7bSWwucUzTSsrmerNI+lw4AHCuaRHKws3nGeuT8rMwEmdewj92eOEavkF4AbCSdDnge8STzLG5a8AdhD6lG9PtffEtpeA9el1Mp5nDfD4NNvJRJ56MwELgV/F9+gZ4OtZy1RnnhWEE47PAn8m3Oo5a3nOJHQ/PA08FR8XEAYTPEw4AnoYWJRa5xtxv3eSGjXT4pleAd4CBuL7uiormerNQ/hnZTC17FPAkkbz+C08nHPO1dSWXU/OOedmjhcK55xzNXmhcM45V5MXCuecczV5oXDOOVeTFwrn9iNe0/E3Seen2i6R9NBc7pdzs8WHxzp3ACQdT7i+42QgTxiX/jGbvOK1nm3lzaw8w7voXNN4oXDuAEm6nXAR04L4fAzh9u4F4BYzuy/esO3ncRmA683sMYXPofgW4UK9k8xs1ezuvXON80Lh3AGKt+J4knDDvz8AO8xsQ7xdwmbC0YYBiZmNSFoJ3GNmPbFQPAAcb2b/npsEzjWmLW8K6FwzmNmgpF8SbvFwCfBJSTfG2V3AcsIN1tYrfNJgmXBr+4rNXiRcK/JC4Vx9kvgQcJGZ7UzPlHQLsAc4kTBYZCQ1e3CW9tG5GeWjnpxrzCbgy5XPG5Z0cmw/DNhtZgnwOcKJb+damhcK5xpzK1AEnpa0Pb4G+DFwlaTHCd1OfhThWp6fzHbOOVeTH1E455yryQuFc865mrxQOOecq8kLhXPOuZq8UDjnnKvJC4VzzrmavFA455yr6f9Uimi+leWTiQAAAABJRU5ErkJggg==\n",
      "text/plain": [
       "<Figure size 432x288 with 1 Axes>"
      ]
     },
     "metadata": {
      "needs_background": "light"
     },
     "output_type": "display_data"
    }
   ],
   "source": [
    "#line chart compared married percentage vs fertility rate\n",
    "x_axis_data = clean_marital_df['Year']\n",
    "y_axis1 = fertility_rate\n",
    "y_axis2 = clean_marital_df['Per of married men']\n",
    "y_axis3 = clean_marital_df['Per of married women']\n",
    "y_axis4=clean_marital_df[\"Per of married peole\"]\n",
    "\n",
    "plt.plot(x_axis_data, y_axis1,label=\"Fertility Rate\")\n",
    "plt.plot(x_axis_data, y_axis2,label=\"Married men\")\n",
    "plt.plot(x_axis_data, y_axis3,label=\"Married Women\")\n",
    "plt.plot(x_axis_data,y_axis4,label=\"Married People\")\n",
    "plt.legend(loc=\"best\")\n",
    "plt.xlabel('Year')\n",
    "plt.ylabel('Fertility Rate/Married Per')\n",
    "plt.title('Fertility Rate vs Married Percentage')\n",
    "#save fig\n",
    "plt.savefig(\"Output/fertility_married_line.png\")"
   ]
  },
  {
   "cell_type": "code",
   "execution_count": 10,
   "metadata": {},
   "outputs": [
    {
     "data": {
      "image/png": "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\n",
      "text/plain": [
       "<Figure size 432x288 with 1 Axes>"
      ]
     },
     "metadata": {
      "needs_background": "light"
     },
     "output_type": "display_data"
    },
    {
     "name": "stdout",
     "output_type": "stream",
     "text": [
      "The correlation between both factors is 0.8\n"
     ]
    },
    {
     "data": {
      "text/plain": [
       "<Figure size 432x288 with 0 Axes>"
      ]
     },
     "metadata": {},
     "output_type": "display_data"
    }
   ],
   "source": [
    "#scatter plot fertility rate vs married people\n",
    "plt.scatter(fertility_rate, married_per, marker=\"o\", facecolors=\"blue\", edgecolors=\"black\")\n",
    "plt.xlabel('Fertility Rate')\n",
    "plt.ylabel('Married Percentage')\n",
    "\n",
    "#regression\n",
    "model = st.linregress(fertility_rate, married_per)\n",
    "y_value=fertility_rate*model[0]+model[1]\n",
    "plt.plot(fertility_rate,y_value,color=\"red\")\n",
    "plt.show()\n",
    "\n",
    "#correlation\n",
    "correlation = st.pearsonr(fertility_rate,married_per)\n",
    "print(f\"The correlation between both factors is {round(correlation[0],2)}\")\n",
    "\n",
    "#save fig\n",
    "plt.savefig(\"Output/fertility_married_scatter.png\")"
   ]
  },
  {
   "cell_type": "markdown",
   "metadata": {},
   "source": [
    "Based on correlation and linear regression. The trend will be the less people get married, the less fertility rate tends to be."
   ]
  },
  {
   "cell_type": "code",
   "execution_count": 11,
   "metadata": {},
   "outputs": [
    {
     "data": {
      "image/png": "iVBORw0KGgoAAAANSUhEUgAAAYoAAAEWCAYAAAB42tAoAAAABHNCSVQICAgIfAhkiAAAAAlwSFlzAAALEgAACxIB0t1+/AAAADh0RVh0U29mdHdhcmUAbWF0cGxvdGxpYiB2ZXJzaW9uMy4yLjIsIGh0dHA6Ly9tYXRwbG90bGliLm9yZy+WH4yJAAAgAElEQVR4nOzdd3xUZfb48c/JpJMQSKETuiI1oTcFXQQb2HvDXVexuyqLP9e17Lq2da3Yy2LbFbsuoqvuV0TAAoQOSlGagoRACukzc35/3EkYQjIZQiYTkvN+ve4rtz73zAzcc+/z3PtcUVWMMcaYmkSEOwBjjDGNmyUKY4wxAVmiMMYYE5AlCmOMMQFZojDGGBOQJQpjjDEBWaJowkTkGRH5s298nIhs81u2WkTGhS04c8j8f986bDtTRO6p75hM02SJIsxEZJOIFIvIXr+hQx3KmSIi8/3nqepUVf1rdeural9Vnevb9i4Rea1OH8DZfq6IlPhi3yUi74pI+yC33S+BhYuIqIj0rDLvkL6XUAv0+x4K378lj+/3zBeRZSJySn3v51BU93uZ0LFE0ThMUtUEv+GXg9lYRCJDFdhBuFZVE4CeQALwUJjjaTKq+31FxBXi3X7t+z1bAS8Cb4pI8sEU0Ej+XZp6YImikRKRJBF5UUS2i8jPInJPxcHBd8a3QEQeEZHdwCzgGWCk7yww17dejdULviuZ8SJyAnAbcK5v2+UicraILKmy/s0i8n5tcatqLvA+kOG37WUislZECkTkRxG50je/BfAx0MH/akpEIkTkVhHZKCI5IlLjQcpX7il+05G+q5pBIhIrIq/5ysgVkUUi0ra2z1DDfsaJyDbf97DT97tc5rd8pog8JSIf+z7HAhFpJyKPisgeEfleRDL91q/4fAUiskZETvdbVvX3vctX/tMiMkdECoFjq/6+InKK7+w/V0QWisgAv2WZIpLl298sIDaYz62qXuAlIA7oLiIxIvKQiGwRkV/Fqf6Kq/IdTReRHcA/RcQlIrf5fdYlItLZt35vEflMRHaLyA8ick6V7/NJEfnIt923ItLDt2yeb7Xlvu/6XBFpLSKzRSTb933PFpFOfuV1E5F5vrI+95X9mt/yEb7vLNf3f2BcMN9Pc2GJovF6GXDjnKFnAhOAy/2WDwd+BNoAFwFT8Z0FqmqrYHeiqp8A9wKzfNsOBD4EuonIUX6rXgS8Wlt5IpICnAFs8Ju9EzgFaAlcBjwiIoNUtRA4EfilytXU9cBpwFigA7AHeLKGXf4bON9veiKwS1WzgEuBJKAzkILzHRXX9hkCaOcrryPwO+BJEWntt/wc4HYgFSgFvgayfNNvAw/7rbsRONpX3t3Aa7J/dZ3/7/s337wLfOOJwH7VjCIyCOeAfqXvsz4LfOg7sEfjJO9XgWTgLeDMYD6wOFcFlwN7gfXAA8AROCcCPX3fxR1VvqNkoAtwBXATzu9zEs7v/1ugyHeS8BnwL99nPB94SkT6+pV1vu+7aY3z7+lvAKp6jG/5QN+/mVk4x7J/+vabjvM7z/Ar61/Ad77v5i7gYr/P2BH4CLjHF/stwDsikhbMd9QsqKoNYRyATTj/CXN9w/tAW5wDTZzfeucDX/jGpwBbqpQzBZhfZd5M4B7f+DhgW5X9jveN3wW8VmXbp4G/+cb74hysY2r4DHOBIiAPUGAZkB7gM78P3FBdXL55a4Hf+E23B8qByGrK6gkUAPG+6deBO3zjvwUWAgOC+B0U6FllXuX34ouz2D8GnAQ4wu+7ft5v2XXAWr/p/kBugP0vA04N8PvOBF4J8Ps+Dfy1yvIfcJLtMcAvgPgtW1ixbTWxTME5SckFdgHfAOMBAQqBHn7rjgR+8vuOyoDYKjGcWs0+zgW+qjLvWeBOv8/2gt+yk4DvA/1eVcrKAPb4xtN9nyfeb/lrfr/tdODVKtv/F7j0YP4vN+XB6hAbh9NU9fOKCREZBkQB20WkYnYEsNVvG//xUHgZ+LeI3I5z9vWmqpYGWP96VX1BRPoDs4FOwBYAETkRuBPnTDQCiAdWBiirC/CeiHj95nlwEujP/iuq6gYRWQtMEpH/AJNxrsDAOYPuDLwhIq1wDg5/UtXyavbpwfnO/UXhJKgKOarq9psuwmmPqfCr33hxNdOV64rIJThn2119sxJwrjwqVPf7BvrNuwCXish1fvOica7IFPhZfUdAn80BygL4RlXH+M8QkTY4v90Sv3+XAvi3l2SraonfdGecq6fq4h0uvmpSn0j2v2rd4Tde9bvej4jEA48AJ+BcgQAkilNd2wHYrapFfpts9cVWEcvZIjLJb3kU8EVN+2tuLFE0TltxrihSqxyY/FXt9vdQugE+YFtV/UZEynCqRy7wDbUXpLrSV2/+pK86JBp4B7gE+EBVy8Vp66g40lQX91bgt6q6IMj4K6qfIoA1qrrBF0s5TtXF3SLSFZiDc4b7YjVlbME5aK/1m9cNWBdkDEETkS7A88BvcKoLPSKyjH3fCVT/vQT6jbfiXAH+reoCERkLdBQR8UsW6VR/AA9kF07C66uqP9ewTtUYtwI9gFXVzP9SVY8/yBhqcjNwJDBcVXeISAawFOc73Q4ki0i8X7Lo7LftVpwrit/XUyxNjrVRNEKquh34FPiHiLQUp3G3h+8/fE1+BTr56qMP1q9AVxGp+u/hFZx6Xreqzj9wsxq9jFPvPBknUcQA2YDbd3Uxocq+U0QkyW/eM8DffAdURCRNRE4NsL83fGVehVMXjW+7Y0Wkv++sMh/n6sBTQxmzgNtFpJPv+x4PTMJpW6hvLXAOqNm+OC8D+h1imc8DU0VkuDhaiMjJIpKI01biBq4Xp7H/DGDYwe5AnYbt53HamNr4Yu8oIhMDbPYC8FcR6eWLa4CvHWs2cISIXCwiUb5haJV2sUB+Bbr7TSfiJLFccW58uNMv7s3AYpybAqJFZCTOb1vhNZwr0oniNL7HitMw3wkDWKJozC7BOciuwWkfeBunrr4m/wesBnaIyK6D3Ndbvr85IpLlN/9VnANYrY3Y/lS1DHgc+LOqFuA0Tr+J8zkuwGksr1j3e5wrgh99d5x0AB7zrfOpiBTg1JEPD7C/7TgHw1E4B/wK7XC+t3ycK4UvcQ4K1fkLTr39fF+cDwIXqmrVM+FDpqprgH/4Yv4Vp/0i2KunmspcDPweJ7HvwWn8neJbVoZzg8EU37JzgXfruKvpvrK/EZF84HOcM/maPIzz23+K8zu8iNP2VoCT3M/DaT/ZgdNQHhNkHHcBL/v+zZwDPIpzZ1ZFm8onVda/EKc9JQen0XoWzlU7qroVOBXn7r9snCuMadjxsZLsX21pzD7i3Pa4ExikquvDHY8x9UWcW4S/V9U7a13ZWMY0AV0FLLIkYQ53vmqtHr5qxRNwriBqfS7IOKwx21RLRDbhNASeFuZQjKkP7XCq21KAbcBVqro0vCEdPqzqyRhjTEBW9WSMMSagw67qKTU1Vbt27RruMIwx5rCyZMmSXapap25JDrtE0bVrVxYvXhzuMIwx5rAiIrU9jV8jq3oyxhgTkCUKY4wxAVmiMMYYE9Bh10ZhjAmsvLycbdu2UVJSUvvKpsmJjY2lU6dOREVV7Qy57ixRGNPEbNu2jcTERLp27Ypfd+CmGVBVcnJy2LZtG926dau3cq3qyZgmpqSkhJSUFEsSzZCIkJKSUu9Xk5YojGmCLEk0X6H47ZtNotiZX8Ld/1lNmdtb+8rGGGMqNZtEkbVlD/9csIn7Pl5b+8rGmDpzuVxkZGRUDps2bQp62/fff581a9ZUTt9xxx18/rnzluBx48ZVPmx70kknkZubS25uLk899dRBxbdp0ybi4uLIyMigT58+XHLJJZSXV/d23H3mzp3LwoULD2o/TUmzSRQn9GvPZaO78s8Fm5i94pdwh2NMkxUXF8eyZcsqh2C73HG73Qckir/85S+MHz/+gHXnzJlDq1at6pQoAHr06MGyZctYuXIl27Zt48033wy4viWKZuT/nXgUg9JbMf3tFWzYuTfc4RjTbCxZsoSxY8cyePBgJk6cyPbt2wHnKuG2225j7NixPPDAA3z44YdMmzaNjIwMNm7cyJQpU3j77QPfRtu1a1d27drFrbfeysaNG8nIyGDatGlcfPHFfPDBB5XrXXjhhXz44YcHbF/B5XIxbNgwfv7ZeQX4f/7zH4YPH05mZibjx4/n119/ZdOmTTzzzDM88sgjZGRk8NVXX5Gdnc2ZZ57J0KFDGTp0KAsWHNILChu9ZnV7bHRkBE9eOIhTHp/PVa8t4f1rRtMipll9BaaZufs/q1nzS369ltmnQ0vunNS3xuXFxcVkZGQA0K1bN958802uu+46PvjgA9LS0pg1axZ/+tOfeOmllwDIzc3lyy+/BGD9+vWccsopnHXWWUHFcv/997Nq1SqWLVsGwJdffskjjzzCqaeeSl5eHgsXLuTll1+ucfuSkhK+/fZbHnvsMQDGjBnDN998g4jwwgsv8OCDD/KPf/yDqVOnkpCQwC233ALABRdcwB/+8AfGjBnDli1bmDhxImvXNt1q7WZ3lGyfFMfj52dy8Yvfctt7K3n03Ay7Q8SYelRR9VRh1apVrFq1iuOPPx4Aj8dD+/b7Xv9+7rnn1tu+x44dyzXXXMPOnTt59913OfPMM4mMPPAwV3EVsn79es466ywGDBgAOM+gnHvuuWzfvp2ysrIan0X4/PPP96siy8/Pp6CggMTExHr7LI1Js0sUAKN7pnLT8Ufw0KfrGNKlNReP7BrukIwJiUBn/g1FVenbty9ff/11tctbtGhRr/u7+OKLef3113njjTcqr1qqqmij2L59O+PGjePDDz9k8uTJXHfdddx0001MnjyZuXPnctddd1W7vdfr5euvvyYuLq5eY2+sQtZGISKxIvKdiCwXkdUicnc164wTkTwRWeYb7ghVPFVdPa4nx/Vuw19mr2Hplj0NtVtjmp0jjzyS7OzsykRRXl7O6tWrq103MTGRgoKCoMuubv0pU6bw6KOPAtC3b+BE2b59e+6//37uu+8+APLy8ujYsSPAflVWVfczYcIEZsyYUTntfwXVFIWyMbsUOE5VBwIZwAkiMqKa9b5S1Qzf8JcQxrOfiAjhkXMyaNsylmtez2J3YVlD7dqYZiU6Opq3336b6dOnM3DgQDIyMmq8g+i8887j73//O5mZmWzcuLHWslNSUhg9ejT9+vVj2rRpALRt25ajjjqKyy67LKj4TjvtNIqKivjqq6+46667OPvsszn66KNJTU2tXGfSpEm89957lY3Zjz/+OIsXL2bAgAH06dOHZ555Jqh9Ha4a5J3ZIhIPzMd5ofm3fvPHAbeo6inBljVkyBCtzxcXrdyWx5lPL2REjxT+OWUorghrrzCHt7Vr13LUUUeFO4ywKSoqon///mRlZZGUlBTucMKiun8DIrJEVYfUpbyQ3h4rIi4RWQbsBD7zTxJ+Rvqqpz4WkWqvE0XkChFZLCKLs7Oz6zXG/p2SuGtyX+aty+aJ/1tfr2UbYxrW559/Tu/evbnuuuuabZIIhZA2ZquqB8gQkVbAeyLST1VX+a2SBXRR1b0ichLwPtCrmnKeA54D54qivuM8f1hnlmzew2P/W09G51aMO7JNfe/CGNMAxo8fz5YtW8IdRpPTIA/cqWouMBc4ocr8fFXd6xufA0SJSOqBJYSWiHDPaf04sm0iN85axs+5xQ0dgjHGNFqhvOspzXclgYjEAeOB76us0058DzGIyDBfPDmhiimQuGgXT180GI9Hufr1LErdnnCEYYwxjU4oryjaA1+IyApgEU4bxWwRmSoiU33rnAWsEpHlwOPAedoQres16Jbagr+fPYDlW3O5Z3bTfcrSGGMORsjaKFR1BZBZzfxn/MZnADOqrhNOJ/RrzxXHdOe5eT8ypGtrTs3oGO6QjDEmrJpVp4DB+uPEIxnWNZlb31nJul+Df/jHmOZu06ZN9OvXb795d911Fw899FCYInJ8+OGH3H///Qe1TUXHg8YSRbUiXRHMuCCTFjGRTH1tCXtL3eEOyRgTJLfbfcD05MmTufXWW8MU0eHPEkUN2rSM5YnzM9m0q5Dpb68gjE0nxjQZ48aNY/r06QwbNowjjjiCr776CoCZM2dy2mmnMWnSJLp168aMGTN4+OGHyczMZMSIEezevRuA559/nqFDhzJw4EDOPPNMioqKAKfbjptuuoljjz2W6dOnHzA9c+ZMrr32WoAauwjPyclhwoQJZGZmcuWVV9b4fz4hIYHp06czePBgxo8fz3fffce4cePo3r17ZZfmHo+HadOmMXToUAYMGMCzzz4LOO+1GDduHGeddRa9e/fmwgsvPCyOLc2yU8BgjeyRwh9P6M39H3/P4AWt+e2Y6nuSNKbR+vhW2LGyfsts1x9OPLhqHH9ut5vvvvuOOXPmcPfdd1e+wW7VqlUsXbqUkpISevbsyQMPPMDSpUv5wx/+wCuvvMKNN97IGWecwe9//3sAbr/9dl588UWuu+46ANatW8fnn3+Oy+ViypQp+03PnDmzcv833HBDtV2E33333YwZM4Y77riDjz76iOeee67a+AsLCxk3bhwPPPAAp59+OrfffjufffYZa9as4dJLL2Xy5Mm8+OKLJCUlsWjRIkpLSxk9ejQTJkwAYOnSpaxevZoOHTowevRoFixYwJgxY+r8fTYESxS1uPKY7izZvId756xlYOckBndJDndIxjRaNXXZ7z//jDPOAGDw4MH7vSb12GOPJTExkcTERJKSkpg0aRIA/fv3Z8WKFYCTTG6//XZyc3PZu3cvEydOrNz+7LPPxuVy1ThdoaYuwufNm8e7774LwMknn0zr1q2r/SzR0dGccMIJlbHFxMQQFRVF//79Kz/Pp59+yooVKypfupSXl8f69euJjo5m2LBhdOrUCaDyVbGWKA5zIsJDZw9k8oz5XPP6UmZfP4bUhJhwh2VMcA7hzL8uUlJS2LNn/96Yd+/evd97HWJinP8/Lpdrv/aEivkAERERldMRERGV602ZMoX333+fgQMHMnPmTObOnVu5TdXuymvqvjxQF+HBvJsmKiqqcr2a4lRVnnjiif0SGThVT/6fs+p30FhZG0UQkuKieOrCQewpKuOGN5bi8Tb+OkVjwiEhIYH27dvzv//9D3CSxCeffFJvZ8wFBQW0b9+e8vJyXn/99TqVUVMX4cccc0xlmR9//PEBCe9gTJw4kaeffpry8nLAqRYrLCysc3nhZokiSH07JPHX0/qxYEMOj3y2LtzhGNNovfLKK9xzzz1kZGRw3HHHceedd9KjR496Kfuvf/0rw4cP5/jjj6d37951KqOmLsLvvPNO5s2bx6BBg/j0009JT0+vc5yXX345ffr0YdCgQfTr148rr7zysLhyqEmDdDNen+q7m/GDNf3tFcxavJWXpgzhuN5twxaHMTVp7t2Mm8Osm/Gm6O5T+9KnfUtufGMZW3cXhTscY4wJOUsUByk2ysUzFw0G4KrXl1BSbp0HGmOaNksUdZCeEs/D52Sw6ud87v7Pmto3MMaYw5glijoa36ctV43rwb+/28LbS7aFOxxjjAkZSxSH4Objj2Bk9xT+9N5K1m7PD3c4xhgTEpYoDkGkK4LHz88kKS6Kq15bQn5JebhDMsaYemeJ4hClJcbw5IWD2LqnmD++ZZ0HmuatqXcz/thjj3HjjTdWTl955ZWMHz++cvqJJ57g+uuvP7RgG6GAiUJEIkRkVUMFc7ga2jWZ/3dibz5ZvYMXvvop3OEY06yFspvxUaNGsXDhwsrpZcuWkZeXh8fj3P24cOFCRo8efcj7aWwC9vWkql4RWS4i6aq6paGCOhz9bkw3lmzew/2ffM+ATkkM754S7pCMaXTGjRvH8OHD+eKLL8jNzeXFF1/k6KOPZubMmbz//vt4PB5WrVrFzTffTFlZGa+++ioxMTHMmTOH5ORknn/+eZ577jnKysro2bMnr776KvHx8UyZMoXk5GSWLl3KoEGDyMnJ2W+6f//+LF68mBkzZpCdnc3UqVPZssU5pD366KOMHj2anJwczj//fLKzsxk2bFi1tQOZmZmsW7eO4uJiysrKiI+Pp2fPnqxcuZKMjAwWLlzIgw8+yLJly5g6dSpFRUX06NGDl156idatWzNu3DgyMzNZsmQJ2dnZvPLKK9x3332sXLmSc889l3vuuQeA1157jccff5yysjKGDx/OU089hcvlIiEhgRtuuIHZs2cTFxfHBx98QNu2oX/wN5hOAdsDq0XkO6CysxJVnRyyqA5DIsKDZw3g+xkLuPbfS/no+jG0SYwNd1immXvguwf4fvf39Vpm7+TeTB82vc7bH87djEdGRpKRkcGiRYsoLi5m+PDh9OrVi4ULF9KmTRtUlc6dO3PyySfzxBNPMHbsWO644w7uvvtuHn30UcDpfXbevHk89thjnHrqqSxZsoTk5GR69OjBH/7wB3bu3MmsWbNYsGABUVFRXH311bz++utccsklFBYWMmLECP72t7/xxz/+keeff57bb7+9zr9FsIJJFHeHPIomIjE2iqcvGsRpTy7gun8t5fXLhxPpsmYg03w0h27GR48ezcKFCykuLmbkyJH06tWLe++9l7S0NEaNGkVeXh65ubmMHTsWgEsvvZSzzz67cvvJkydXfq6+ffvSvn17ALp3787WrVuZP38+S5YsYejQoQAUFxfTpk0bwEkyp5xySuX399lnn1UbY32rNVGo6pci0gXopaqfi0g8cOC3X4WIxALzgBjfft5W1TurrCPAY8BJQBEwRVWzDv5jNB6927Xk3tP7c9Oby/n7pz/w/060PndM+BzKmX9dNIduxkeNGsWzzz5LSUkJ11xzDWlpaaxZs4a0tLSg2if8P1fVz+x2u1FVLr30Uu67774DtvXv4rwhuyiv9XRXRH4PvA0865vVEXg/iLJLgeNUdSCQAZwgIiOqrHMi0Ms3XAE8HWTcjdoZgzpxwfB0nv3yRz5dvSPc4RjTYJpDN+OjRo3im2++ITs7mzZt2iAipKWl8cEHHzBq1CiSkpJo3bp15WteX3311cqri2D85je/4e2332bnzp2A8x1u3ry5Tp+1vgRTL3INMBrIB1DV9UCb2jZSx17fZJRvqNo6dCrwim/db4BWItI+2OAbsztO6cOATknc/NZyNuccvv3QG3Owmno3461btyYtLY2+fftWzhs5ciQ7d+5k4MCBALz88stMmzaNAQMGsGzZMu64446g4+vTpw/33HMPEyZMYMCAARx//PFs3769Tp+1vtTazbiIfKuqw0VkqapmikgkkKWqA2otXMQFLAF6Ak+q6vQqy2cD96vqfN/0/4Dpqrq4ynpX4FxxkJ6ePjjc2TVYW3cXccoT8+nQKo73rh5FbFStNXbGHDLrZtyEo5vxL0XkT0CciBwPvAX8J5jCVdWjqhlAJ2CYiPSrskp1FYIHZC5VfU5Vh6jqkLS0tGB23Sh0To7n0XMzWLs9nz+/b4+jGGMOT8EkiluBncBK4EpgDnBQ92Opai4wFzihyqJtQGe/6U7ALwdTdmN3bO82XHdcT95aso1Zi+xRFGPM4afGRCEibUTkUeBDoDvwO1U9S1Wf1yD6qRCRNBFp5RuPA8YDVW/o/hC4RBwjgDxVDW9lXAjcOP4IxvRM5c8frGbVz3nhDscYYw5KoCuKV3AesHsCSAAeP8iy2wNfiMgKYBHwmarOFpGpIjLVt84c4EdgA/A8cPVB7uOw4IoQHjsvg5QW0Vz9ehZ5RdZ5oDHm8BHoOYp2qvon3/h/ReSgnm9Q1RVAZjXzn/EbV5y7qpq8lIQYZlwwiHOf/Zqb31rGcxcPISKi9nu2jTEm3AJdUYiItBaRZBFJBlxVps1BGtylNbeffBSfr93JM/M2hjscY4wJSqBEkYRza2vF0BLI8o0vDrCdCeDSUV2ZNLADD/33BxZu3FX7BsYcRpp6N+MV8/v378/AgQOZMGECO3bU70O1Ne03nGpMFKraVVW7q2q3aobuDRlkUyIi3H9Gf7qltuD6fy9lR15JuEMypkkJZTfjFb744guWL1/OkCFDuPfee+ut3MbKeqwLgxYxkTxz0WCKyjxc+68syj3ecIdkTIMYN24c06dPZ9iwYRxxxBGV3VzMnDmT0047jUmTJtGtWzdmzJjBww8/TGZmJiNGjGD37t0APP/88wwdOpSBAwdy5plnUlRUBDh9QN10000ce+yxTJ8+/YDpmTNncu211wKQnZ3NmWeeydChQxk6dCgLFiwAICcnhwkTJpCZmcmVV14Z1EvIjjnmGDZs2IDH42HatGkMHTqUAQMG8OyzTo9Hqsq0adPo168f/fv3Z9asWQDMnTuXY445htNPP50+ffowdepUvN4DjwOvvfYaw4YNIyMjgyuvvLLyvRcNLZjeY00I9GqbyH1n9OeGN5bxwMffc/spfcIdkmmCdtx7L6Vr67eb8ZijetPuttvqvP3h3M14VbNnz6Z///68+OKLJCUlsWjRIkpLSxk9ejQTJkwgKyuLZcuWsXz5cnbt2sXQoUM55phjAPjuu+9Ys2YNXbp04YQTTuDdd9/lrLPOqix77dq1NXY33tAsUYTRqRkdydq8hxfm/8SgLq05qX+T6ObKNGPNoZvxilhdLhcDBgzgnnvu4fLLL2fFihW8/fbbAOTl5bF+/Xrmz5/P+eefj8vlom3btowdO5ZFixbRsmVLhg0bRvfuTi3++eefz/z58/dLFP/73/9q7G68odWYKGq7s0lVd9d/OM3Pn07uw/Jtefzx7RX0bpdI97SEcIdkmpBDOfOvi+bQzTg4bRSpqamV06rKE088sV/iApgzZ06NZVTdV9XpQN2NN7RAbRQVdzctAbKBdcB63/iS0IfWPERHRvDkhYOIcglXvZZFUVnD9C9vTCg0h27GqzNx4kSefvppysudh2nXrVtHYWEhxxxzDLNmzcLj8ZCdnc28efMYNmwY4FQ9/fTTT3i9XmbNmnXAd9SYuhsPdNdTxd1N/wUmqWqqqqYApwDvNlSAzUHHVnE8dl4m63YWcPt7q4JqRDOmsWrq3YxX5/LLL6dPnz4MGjSIfv36ceWVV+J2uzn99NMZMGAAAwcO5LjjjuPBB8qc40YAACAASURBVB+kXbt2gNM1+a233kq/fv3o1q0bp59++n5lNqbuxoPpZnyJqg6uMm9xXburPVRDhgzRxYub5mMcj32+nkc+X8ffTu/HhcO7hDscc5iybsYbv7lz5/LQQw8xe/bskJQfjm7Gd4nI7SLSVUS6+Locz6nLzkxg1x3Xk7FHpHH3h2tYsS033OEYYwwQXKI4H0gD3vMNab55pp5FRAiPnptBWmIMV72WxZ7CsnCHZIwJgXHjxoXsaiIUak0UqrpbVW8AjlbVQap6o93xFDqtW0Tz1IWDyC4o5Q9vLsPrtfYKc/Csnav5CsVvX2uiEJFRIrIGWOObHigiT9V7JKbSwM6t+POkPsz9IZsZX2wIdzjmMBMbG0tOTo4li2ZIVcnJySE2NrZeyw3mgbtHgIk4LxlCVZeLyDH1GoU5wEXD01myaTePfL6OzPRWHN3r8HkFrAmvTp06sW3bNrKzs8MdigmD2NhYOnXqVK9lBvVktqpurfIwSHg6HGlGRIR7z+jPmu353PDGMmZfN4YOrQ58QMiYqqKiovZ7wM2YQxVMY/ZWERkFqIhEi8gtwNoQx2WA+OhInr5oMKXlHq75VxZlbus80BjT8IJJFFNx3kLXEdgGZNBM3krXGPRIS+DvZw9k6ZZc7p1j+dkY0/BqrXpS1V3AhQ0Qi6nBSf3b89vR3XhpgdN54OSBHcIdkjGmGQnUKeAfVfVBEXkCOOD2CVW9PqSRmf38v5N6s3xbLre+s4I+7RPp2SYx3CEZY5qJQFVPFfUcFR0DVh0CEpHOIvKFiKwVkdUickM164wTkTwRWeYb7qjDZ2gWolwRPHnBIOKiXEx9LYvCUus80BjTMGq8olDV/4iIC+inqtPqULYbuFlVs0QkEVgiIp+p6poq632lqqfUofxmp11SLE+cn8lFL37Lre+u5PHzMoLuFtkYY+oqYGO2qnqAwYHWCbDtdlXN8o0X4FyhdKxLWWafUT1TuXnCkfxn+S+88nV4uhw2xjQvwTxHsVREPgTeAgorZqpq0F2Ni0hXIBP4tprFI0VkOfALcIuqrq5m+yuAK4CD6vq3qbpqbA+yNu/hno/W0LdDS4Z0DfiOKWOMOSTB3B6bjNNb7HHAJN8QdFWRiCQA7wA3qmp+lcVZQBdVHQg8AbxfXRmq+pyqDlHVIWlp9oRyRITw8DkZtE+K44Lnv+WFr360PqGMMSET8IrC10axq45tFIhIFE6SeL26KxD/xKGqc0TkKRFJ9d2SawJIio/ivatHMf2dldzz0Vrm/pDNP84ZSNuW9dvHizHGBNNGMaguBYvTyvoisFZVH65hnXa+9RCRYb547F0XQUpJiOH5SwZz7+n9WbJ5DxMfnccnq8LzBixjTNMVTBvFsjq2UYwGLgZWisgy37zbgHTf9s8AZwFXiYgbKAbOU+vy8qCICBcMT2dE92RueGMZU1/L4twhnbljUh9axATVlZcxxgQUzKtQ/1nNbFXV34YmpMCa8qtQD1WZ28ujn6/j6S830iU5nkfPyySjc6twh2WMaQQO5VWotSaKxsYSRe2+/TGHm95czo78Em78TS+uPrYnrgh73sKY5uxQEkWtdRMiEgv8DugLVLaUhuuKwtRuePcU5txwNHd8sIp/fLaOL9dl88i5GXROjg93aMaYw1Awt8e+CrTDeXnRl0AnoCCUQZlDlxQXxWPnZfLouRn8sKOAEx/7inezttlbz4wxBy2YRNFTVf8MFKrqy8DJQP/QhmXqy2mZHZlzw9Ec1T6Rm95czvVvLCOvuDzcYRljDiPBJIqKo0quiPQDkoCuIYvI1LvOyfG8ccVIpk08ko9XbufER+fxzY92F7IxJjjBJIrnRKQ18Gec92avAR4MaVSm3rkihGuO7ck7V40iJsrF+c9/wwOffG9vzTPG1MruemqGCkvd3PPRGv793Vb6dWzJo+dm0rNNQrjDMsaEUEhvjxWRVsAlONVNlXdJhevFRZYo6s9/V+/g1ndWUFzu4faT+3Dh8HTrttyYJiqkt8cCc4BvgJWA1VM0IRP7tiOzcytufms5t7+/irk/7OSBMweQkhAT7tCMMY1IMFcUWapap/6eQsGuKOqf16vMXLiJ+z/5npaxUfz97AEce2SbcIdljKlHh3JFEdRzFCLyexFpLyLJFUNddmYap4gI4bdjuvHhtaNJTYjmsn8u4s4PVlFS7gl3aMaYRiCYRFEG/B34mn3vy7ZT+iaod7uWvH/NaH47uhsvf72ZSU/MZ/UveeEOyxgTZsEkiptwHrrrqqrdfEP3UAdmwiM2ysUdk/rwym+HkVdczulPLuT5efZiJGOas2ASxWqgKNSBmMblmCPS+OTGYzi2dxp/m7OWi1/6lh15JeEOyxgTBsEkCg/OOymeFZHHK4ZQB2bCL7lFNM9cNJj7z+hP1uZcJj46j49X2ouRjGlugrk99n1qeJe1afpEhPOGpTO8ewo3vrGUq17P4uzBnbhzcl8S7MVIJkzyisvZuruILb6hTWIMkwd2INIVzLmvOVj2ZLYJWrnHy2Ofr+epuRvonBzPI+dmMCi9dbjDMs3Esq25/OPTH1ixLa/aji27p7XglglHcmK/dvbgaDVC/WT2aOAuoAvOFYjgvOEuLA3alijCb9Gm3dz4xjJ25Jdw/XG9uObYHnYmVw2PV/lhRwEtYlykJ8fbwauOfs4t5sFPvueDZb+QmhDDCf3a0iW5BZ2T4+icHE/n5Hi+2ZjD3//7A+t37qV/xySmn9CbMb1Swx16oxLqRPE98Aec22Irb6xX1bB0P2qJonHILynnzg9W897SnxncpTWPnJNBeoq9GGlLThHzN+xi/oZsFm7MIbfIOfNNTYhmUHprBndxhn4dk4iNcoU52sZtb6mbZ+Zu5PmvfgTg90d3Z+q4HjVWeXq8yntLf+aRz9bxc24xR/dK5cGzBtA+Ka4hw260Qp0ovlXV4XWKLAQsUTQuHy7/hT+9txJVuHtyX84Y1LFZnTnvKSxj4cacyuSwdXcxAO1axjKmVyqje6ZQVOZhyeY9ZG3ew6Yc5wbCKJfQr2MSg/2SR5uWsYF2FXZFZW7+uWAT89fvYkjX1ow9Io2Mzq2CvppUVdZuL2BD9l6Ky9wUlnooLvdQ5BvPLymnoMRNfnE5+SVuft5TRH6Jm1MzOvDHE3rTsVVwB/xSt4fXv9nCQ5/+QFyUiyfOz2RUT7u6CHWiuB9wAe8CpRXzVTWrlu06A6/gvB3PCzynqo9VWUeAx4CTcG7BnVJbuZYoGp+fc4v5w6xlfPfTbk4e0J57T+tPUnxUuMMKiZJyD4s37WH+hl0s2LCLVb/koQqJMZGM6JHCmJ6pjOmVSvfUFtUmzF17S8navIclW5zEsXxbXmVX751ax1UmjUHprendLrFRVOmVe7y8uXgrj32+np0FpfRsk8CP2XvxKiTGRnJ0r1SO7pVGj7QE2ifF0qZlDDGRztVSSbmHhRt38b+1O/m/73eyvZpbrF0RQny0i5axUSTGRtIyLoqWsZG0jo/mguHpZNaxHWzDzgKmvpbFj9l7uWXikUw9pgcRzfjd8aFOFF9UM1tV9bhatmsPtFfVLBFJxKm6Ok1V1/itcxJwHU6iGA48VtvViyWKxsnjVZ6dt5GHP11HWmIM/zhnIKN6HP5ncV6vsmZ7Pl+tdxLDok27KXV7iYwQBnVpzZieqYzumcrATkl1OqiXub2s/iXPueLYsofFm/aws8A5H4uPdpHRuRX9OyUxoGMr+ndMonNyXINdsakqc1bu4KFPf+CnXYUM7dqa6Sf0ZkjXZPKKylmwcRdf/pDNl+uy2ZG/fwJITYihTWIMP+7aS0m5l/hoF0f3SuU3vduSkd6KFjGRtIh2ERftItoVEbLPVFjqZvo7K5i9Yjvjj2rLP84ZSFJc0zyJqU1IE0V9EZEPgBmq+pnfvGeBuar6b9/0D8A4Va3xZn1LFI3bym153PDGUn7KKeSKo7tz84QjiY4M/1nxwdi629fOsH4XCzfuYo+vneHItomM6ZXKmJ6pDOuWTIsQ3B6sqvycW1xZVbVkyx5+2FFAucf5f9oyNpJ+HZMY0qU1o3qmkpneqvLsva425xTyv7U72ZxTSPbeUrILnGFnQSlFZR6OaJvAHyf25jdHtan2gK6q/LSrkJ9zi9meW8L2vBK25xWzI7+E9OR4fnNUW0Z0Tz7kOOtKVXl54Sbu+WgtHVrF8cxFg+nToWVYYgmnkCQKEbmpyiwFdgHzVfWngwywKzAP6Keq+X7zZwP3q+p83/T/gOmqurjK9lcAVwCkp6cP3rx588Hs3jSwojI393y0ln99u4W+HVry2HkZ9GyTGO6wapRb5NfOsH4XW3Y77QhtW8YwpmcaR/dKZVSPlLC1IZS6PazbsZeVP+ex6pc8Vm7LY/UveXgVYqMiGNo1mZE9UjiqfUtiXBFEuiKIcglRrghiIiNoERNJYmwkLaIjiYgQvF5l5c95fLbmVz5b8ys//FoAOEkoLTGGtMQY2iTGkpYYw4BOSZwyoAOuJlBls2Tzbq5+PYu84nLuO6M/p2d2CndIDSpUieLOamYnAxOBu1T1jSCDSwC+BP6mqu9WWfYRcF+VRPFHVV1SU3l2RXH4+GzNr0x/ZwWFpW5uP/koLhrRpVE0dJeUO43LFe0MK3922hkSYiIZ0T2FMT1TGNMrlR5pCY0i3urkl5Tz7Y+7WbhxFws35FQe7GuTEBOJCBSUuIkQGNo1meP7tGVCn3bN4q617IJSrv1XFt/+tJtLR3bhTyf3OeyueOuqQauefF2Mfx7MOypEJAqYDfxXVR+uZrlVPTVxOwtKmPbWCr5cl81xvdvwwJkDSEts2BcjVbQzVCSG737a186Qmd6KMT3TGNMrhQGdWhHVCBqP6yK7oJQtu4twe7yUe5Ryr5dyt5dSt5fCUjcFJW4KSt3sLXFT4vYwOL01x/VuQ+sW0eEOvcGVe7w88PH3vDD/JwZ3ac1TFw6ibSO/46w+NHgbhYgsVdXMWtYR4GVgt6reWMM6JwPXsq8x+3FVHRaoXEsUh5+KOuJ7P/6elrGR/P2sgRzbO7QvRtq6u4gFG3bx1YZdLNywr53hiLYJjO6ZytG9UhnWLcW6IWnG/rP8F6a/s4IWMZHcfvJRnNCvXdjaURpCQ19RHAfcHsRdT2OAr9j/Faq3AekAqvqML5nMAE7AuT32sqrtE1VZojh8rfu1gOv/vZTvdxRw8Ygu3HbSUcRF189/zNyiMr6ufJ5hF5tz9rUzjO7pNECP6Zna6J9VMA1r3a8FXP16Fht27iWlRTRnDenEBcPS6ZLSItyh1btQtVGsxGnA9pcM/AJcoqrf12WHh8oSxeGt1O3h75/8wAvzf6JnmwQePTeDfh2T6lTOEr/nGVb42hlaRLsY2SOlMjn0bNN42xlM4+D1Kl9t2MW/vt3M52t34vEqR/dK5aT+7enVJoHuaQkkN4EqulAlii5VZimQo6qFddlRfbFE0TTMX7+Lm99axu7CMm6ZcCS/P7p7wIehvF5l7Y585q93rhgWbdpNSbkXV4SQ2blV5W2rAzsfvu0MJvx+zS9h1qKtvPHdFn7xeziwdXwU3dMSOKJtIsO7OXeZHW7tGqFKFIuBBcDHOA3OjeKtNZYomo49hWXc9t5KPl61g5HdU/jHOQPp4NdNw7Y9vnaG9btYuDGH3YVlAPRq49/OkExibPN8gMqEjterbNtTzMbsvb6hkB+z97Jmez4FJW4Auqe2YESPFIZ2bY0glTcL7C0tp7DUQ7ukWAZ2ch6YbAxtYaFKFJHAGJz2g2OBHOC/wMequq6OsR4ySxRNi6ry1uJt3PWf1URGCNcd14vNuwtZsCGHn3Y5F69tEmMqn4Ae0yv1sDuTM02Hx6us3Z7Pwo27+HpjDos27WFvqXu/dSq6JKlIKCLOyc2ATq0YlN6akT1S6JrS8L0JN0hjtq9LjhNxEkcv4GtVvbouOz0Uliiapk27Crlx1jKWbc2lRbSLEd1TKhNDL2tnMI2U2+NlY3YhUS4h0ddXVUyk0yXJ7sIylm/LZcXWPJZvy2X51lxyfFfF7ZNiGdk9hRE9Uji6V2qD9HDbUImiRUX7hIhEACNVdUFddnooLFE0XW6Pl592FdI1tYW1M5gmR1X5cVchX2/M4euNOXzzYw45hWW4IoTfjenGDb/pFZJuYSqEulPAUcALQIKqpovIQODKcFxNgCUKY0zToKqs+3Uv/1zwE28s2kq7lrHcMalPyN7QdyiJIpjTtkdwuu3IAVDV5cAxddmZMcYYh4hwZLtE7j9zAO9cNYrkFtFc/XoWl7z0XWX7XGMR1PW9qm6tMstT7YrGGGMO2uAurfnw2tHcOakPy7bkMvGReZXveGmoHr4DCaZCbKuv+klFJBq4Hlgb2rCMMaZ5iXRFcNnobpzcvz0zvtjAe1k/897Sn+mR1oLzh6VzxqBOYXvwL5g2ilSct9CNBwT4FLheVXeHPrwDWRuFMaY5KCpz89GK7fz7uy1kbckl2hXBjcf34upxPetU3qG0UQRzRXGkql5YZYejcR7GM8YYEwLx0ZGcPaQzZw/pzPc78nnju630TEsISyzBXFFkVe1SvLp5DcWuKIwx5uCF5IpCREYCo4C0Km+7awk03b54jTHG7CdQ1VM0kOBbx/89lvnAWaEMyhhjTONRY6JQ1S+BL0VkpqraS6qNMaaZCqYxu0hE/g70BSp7Y6vtxUXGGGOahmAeuHsd+B7oBtwNbAIWhTAmY4wxjUgwiSJFVV8EylX1S1X9LTAixHEZY4xpJIKpeir3/d0uIifjvAq1U+hCMsYY05gEkyjuEZEk4GbgCZzbY28MaVTGGGMajVqrnlR1tqrmqeoqVT1WVQcDtXbfISIvichOEVlVw/JxIpInIst8wx11iN8YY0yIBXrgzgWcA3QEPlHVVSJyCnAbEAdk1lL2TGAG8EqAdb5S1VMOKmJjjDENKlDV04tAZ+A74HER2QyMBG5V1fdrK1hV54lI1/oI0hhjTPgEShRDgAGq6hWRWGAX0FNVd9Tj/keKyHKcBvJbVHV1dSuJyBXAFQDp6en1uHtjjDG1CdRGUaaqXgBVLQHW1XOSyAK6qOpAnEbyGq9SVPU5VR2iqkPS0tLqMQRjjDG1CXRF0VtEVvjGBejhmxZAVXXAoexYVfP9xueIyFMikqqquw6lXGOMMfUrUKI4KpQ7FpF2wK+qqiIyDOfqJieU+zTGGHPwAnUKeEgdAYrIv4FxQKqIbAPuBKJ8ZT+D0wPtVSLiBoqB87QxvBzWGGPMfoJ54K5OVPX8WpbPwLl91hhjTCMWTF9PxhhjmrFaE4WInCIillCMMaaZCiYBnAesF5EHRSSkDdzGGGMan2D6eroIp7uOjcA/ReRrEblCRBJr2dQYY0wTEFSVku+Zh3eAN4D2wOlAlohcF8LYjDHGNALBtFFMFpH3gP/Dub11mKqeCAwEbglxfMYYY8IsmNtjzwIeUdV5/jNVtUhEfhuasIwxxjQWwVQ9ba+aJETkAQBV/V9IojLGGNNoBJMojq9m3on1HYgxxpjGKdCLi64CrmZfZ4AVEoEFoQ7MGGNM4xCojeJfwMfAfcCtfvMLVLXWV6EaY4xpGgIlClXVTSJyTdUFIpJsycIYY5qH2q4oTgGWAIrzHooKCnQPYVzGGGMaiUDdjJ/i+9ut4cIxxhjT2ARqzB4UaENVzar/cIwxxjQ2gaqe/hFgmQLH1XMsxhhjGqFAVU/HNmQgxhhjGqdAVU/Hqer/icgZ1S1X1XdDF5YxxpjGIlDV01icjgAnVbNMAUsUxhjTDASqerrTN/oXVf3Jf5mI2J1QxhjTTATT19M71cx7u7aNROQlEdkpIqtqWC4i8riIbBCRFbXdZWWMMSY8ArVR9Ab6AklV2ilaArFBlD0TmAG8UsPyE4FevmE48LTvrzHGmEYkUBvFkThPZrdi/3aKAuD3tRWsqvNEpGuAVU4FXlFVBb4RkVYi0l5Vt9catTHGmAYTqI3iAxGZDUxX1XtDsO+OwFa/6W2+eQckChG5ArgCID09PQShGGOMqUnANgpV9VD9+yjqg1QzT2uI4zlVHaKqQ9LS0kIUjjHGmOoE8yrUhSIyA5gFFFbMrIcuPLYBnf2mOwG/HGKZxhhj6lkwiWKU7+9f/ObVRxceHwLXisgbOI3YedY+YYwxjU+tiaKuXXmIyL+BcUCqiGwD7gSifGU+A8wBTgI2AEXAZXXZjzHGmNCqNVGISFvgXqCDqp4oIn2Akar6YqDtVPX8WpYrcMBLkYwxxjQuwTxwNxP4L9DBN70OuDFUARljjGlcgkkUqar6JuAFUFU34AlpVMYYYxqNYBJFoYik4Lt1VURGAHkhjcoYY0yjEcxdTzfh3KHUQ0QWAGnAWSGNyhhjTKMRqK+ndFXdoqpZIjIWp0sPAX5Q1fIGi9AYY0xYBap6et9vfJaqrlbVVZYkjDGmeQmUKPy72Oge6kCMMcY0ToEShdYwbowxphkJ1Jg9UETyca4s4nzj+KZVVVuGPDpjjDFhF6ibcVdDBmKMMaZxCuY5CmOMMc2YJQpjjDEBWaIwxhgTkCUKY4wxAVmiMMYYE5AlCmOMMQFZojDGGBOQJQpjjDEBWaIwxhgTkCUKY4wxAYU0UYjICSLyg4hsEJFbq1k+TkTyRGSZb7gjlPEYY4w5eMG84a5ORMQFPAkcD2wDFonIh6q6psqqX6nqKaGKwxhjzKEJWaIAhgEbVPVHABF5AzgVqJoojDGm2fF4PZR6SnGrm0iJJCoiisiISET2vQrIq17cXjfl3nLKPeVEu6KJj4pv8FhDmSg6Alv9prcBw6tZb6SILAd+AW5R1dVVVxCRK4ArANLT00MQqjGmuVFVit3F7C7Zzd7yvRSVF1FYXkiRu4ii8iJKPCWUecoo85RR6imlzFtGuaecUk8ppZ7SyvEybxle9eJVL6qKF2/lAb7MU+Yc5H0H+optSzwluL3uauOKlEhcES48Xg9u3X+d3/X7HTcOvrEhvp79Ywph2VLNvKovQMoCuqjqXhE5Cef1q70O2Ej1OeA5gCFDhthLlIxppLzqpcRdQrG7mBJPCeWecjzqwaMevOrF43X+enEOqhXbeNWLRz24vW486qHcW47b66bYXbzfUOIuQUSIjogmxhVDtCuaaFc0ZZ4ysouy2Vm8k+yibLKLs8kvzScmMoa4yDhiXbHERcYR7Yomvyyf3SW72VOyh1JPadCfLTrC2Vd0RBQxrihiJJIocREtEbgQInAafQUQhXiJIAkhWiKIIpaoyHiiXRALxCjEqJcYVSIVPK4oyl1RuF2RuCMicUdEEKkQ5fUQ5XUT6XET5XXT1xsdip+tVqFMFNuAzn7TnXCuGiqpar7f+BwReUpEUlV1VwjjMuaw5FUvxe5iCssLAYiKiCLaFU1URBRREVG41U1BWQH5pfnkleWRX5pPfpkz5JXmOeOl+RSUFeBW54CsqvsdqCsO5P4Hd0UrD+pVz5grtnF73ZR4nAQRSrGuWBSt9gAf64olLS6FtKiWHBWdQsvoNErVTYnXTbGnjJLyPRR73SSLi57EkxwdR2t3Oa3Li2lZWkx86V7iSwqILysiXr3EepUYVaJVicJ35isRoN56+CQCUXEQGeOUWVYI7pIAq0dAdAIkZ9TDvg9eKBPFIqCXiHQDfgbOAy7wX0FE2gG/qqqKyDCchJwTwpiMqaSquNVNuae88m9FNUFlvXDFuKeG+X7VCjUtc3vdldUIbq+78gBbMb9cyysPthXz3V535foVVSKF5YXoIbyVOC4yjqSYJBKjEomMiMQlLiIkYr8hJjIGl7gqBxFBkAP+uiJcREqkU06Es26cK4Y4IohVJc7rJdbjJkq9RKoSoYpLvbi8XiK8bsRThnjKiXCXgqeMCE8ZkapEqpdIjweXeoj0eol1lxHnLiW+vITY8mIiyouc387lwh0RSWlEFKURLqLKi0ks+BkpXxf8FxKTBC1SID4VEtpBWmuIT4a4VhDXGlzR4C51Bo/vr9ftHLBjEn1/EyC6BbhiwBUFEZH7/kZEgSvSN+43HRnnrCNVKl085VBaAGV7oawIomKdfUS3gMjYA9dvQCFLFKrqFpFrgf8CLuAlVV0tIlN9y58BzgKuEhE3UAycpxWnLqZJUFXKvGWUuJ363op638q/fvNLPaX76nRrOTD7N/DVul6ABBBK0RHRREZE7hv8DqwVB+qoiChc4qqcH+2KJj4yvnJ5ZEQkLaJa0CIylhZeSPB6iC8vRdRDmSpulDK8lKsXUaWlKkkeLy3d5bQsL6FlWRFJJXtpWZJPVPEeKN4Opb4LeXH5HdhcTsWw1w3qcf4e8P34DlQS4QwRLt+472WYZXs5sHa5Fq4Y54AYGVvlwOo72EbFQVQ8xKX4zsDjQATxlBPldRPlLSfB63EO6kd0gMT2vqEdxKc4B9fKQ4o6nyGutbMsMjzVODVyRTmJKj453JEcQA634/KQIUN08eLF4Q7jsKOqlQ1plYO7lFKv72+VZcEc2IOZfzB1wIFUVK9EuaKcO0RcUZV3iVQs8x8Par1ayqh2PYkkCoj0eolSJUqVSK/HGfd6iFQPUV4PLk854inznY2W7TszdZfsOzuterbqLgF3mW8d39/yEtj7KxRmc1AHYYlwDoixrXxnya33DbFJgIC33JcQPM7ZbMXBP8KXQMSXCND9D7bq3Td4Pb5l6pxlx7bad0Ye28o5uLuifEmgYojxJYA4Z1+mQYjIElUdUpdtQ1n1ZIJUtdGuqLxo37jbN15eZdq3XsWZeOWBv2oy8M0v85YdUowVjYcxkTHO3ypDYnxitfOrXT8yhpiIfctiXbFEu6KJdcUS5XLq3SsP0hKJy+NGvGXOQbTioFrdQbimZZ5SKKs4ABf7rVtWw9+Smpd5Du173Eec+unIGOfAGRnrnOFGxu6bF53gVIt0zITEDtDS72w5bYfNEQAADUtJREFUMm7fWb96nAN2hGtfMohOhAjreCHU1OtFS0pQtxv1eMD3V90ecJf7xt2o2w2e/9/e+cdadlV1/LPOr/vj/ZjpzHRISykt0sbU0k6h0JIQIZAqYNQYAvJLasofmABBozU0mEhCNLQxxphq1ESIsaYQFQOI0GhjSKViZXCmtrQDVBEKQ6fz8/W9ee/+OGf5x97n3nPvu/fMu3fem3fefeuT3Ox91t7n3PO9P9baZ+19z03RVovs/Hmy1VWyFVdqp4MkMUGthtRqSFJD4hhtt9HWGtlaq1c2brqJudtHLR7dWixQbJB8Kd2AQy848WEHvq7PkL3X1lmd2InnKzgaUYN6VB9wwIu1xY056yGHXQ/rY/dJwoRACk5H1TnbznnorPrH+dFlaxU6y9B5/gL9C/Utccy4Ue2Ac06Gytw573epjNx5521hMlTWCsdLyo+bB4C8z6gctbFpaLdLtrzsNkT6r7Uq6dIS6dmz7nHmjK+fIz03+NDVVcgn8vMLqjQlW1tDV1dd2dqcK+aNsu/9d1mg2Ep+vPJjjjx/ZOTIvGwUn9fXumsTTSRGEtGInTNvRs2eY99b38uV0ZW97WbcXNenGTVpxH1bvp0v8wvLLtfTbrkT7pyH1VXonLywky87xjSTqlGjn3OOC/VkDuYu9zno+gjnm/Sd7UhnXXDMA30KbWFiI+xLTNZu90fbnQ7a6aKdtqu3Wm503WqhrTbabrkRdKczUGZrLbLV8+jqmnPMa6topkgQQBAgoUuXaWuN7qnTdE+dJD11mvTs2UK6bAOIECwuEu7Z03sELzoIyECgkTBA6g2CRoOgUXf1eg2iCIliJAohDJEgROIIiSIIIyQKkShCkoSg0UCaTYJm09XjuPeaZK0W2nbaJUkI6jWkXndXG/U6ksze8thKcfT5o9z91bsHbIL0nPOw0z5QPzDS0Rf7DTjxoE4zCGkQ0pSAOMtGpEPWRqRP1mC1DelZ6J4o5LDbg7nsYhqlaOs5ce/As87kL46EzlnHw468CfMH19tG9RuwNde3RXVz1JtA1m6TnjqFdrveCXkHFEVot0t67hzZ0pIbNZ9bIlt+gWx5mXR52aU6VlbIVlb6qZAshTRDs9Q7Z++o80eW9p5b8snsIEDiGEmSfhlFLqXywgvuuZaW0M4Un8URSK1GUK8751qruc9RlqFZ5jRoRhAnhAcOULv2ZYSvfjXRvv2EiwsDk9mqiogQLCwS7t1LeNleV+7dS7i4iIQ2XzKOXRMoXjt3NZ/7yQ/QUKWZZTRUqacpknUGc9ydFqy1oXsGus/1nfY6B16cdGxN56BHIutTHutGznU3IRkmG3DaG2gL4006952JqjrHk+eYs2ww15x2e7lm0hRNs/W2boqm/TpZweZz1NrxZbcz3tbbdjbtdEhPn6F78iTdkyfJzp2bTqQIwfw8wdwcQbOJxDGEARKEvVLimGCx4Rx/kiBJjIRR/iL1X688qOSj/3YH7XYI911GcvXVBAsLhAvzBPPzbhQcxS6gRJE7Zhw755/n5Gt1l6MvBp68rNfd1YOxreyaQLF44mkWv/yx0Y1BNCKtMeSsawsQXT4izTGci75AqmTk8xTag6iSuWvNMucUcweRpxNy59ZxzoKSNu3kzrDTd4jr2rwDTrvQTZ3zTrtomg3YBtpzp56lg/sMt6epd/RDtu7WLpO9IIWrAokiyJ1qFCFxTLhvH7WXv5y5224juvwA4f79LgXR9Rq7XZdyDELCPYsuhbK4h3BxwY2eF+aRRmPgHkKGMQm7JlDwE2+CDx0ePVLf5hGLqrqR2cqqX+nQIsvztgN5y6G8bqvVH9kVRqADzrjXNuTMi23D+49oI00vLORiCIJBRxmGLhWQl1GIhJGvR/32KEKCAKnXCIbbo9Dlh0M/ava54tw20B75vPKwrbdP/vxBL+fcs+V1fy6D7f0gQBT38tYDWs2BGxVn9wSK+qJ7DKGq0OkMOGZttdxE3LCzbrXdZNzQJJxz5O2+8257R9+z58fLj+0dv9/W9iat7Mmdkh+REuf1wqV/YbQaNBvOqcbJYJvfj2jU/iVtyeBIuHfsePB517V5x24YRjXZNYFi+ZFHeO6T9w4FAu+ks4u8d4tIb0VCkCQ+71pDaglB7LbDPXvcdlJzude8PV83Xav111Inhf3zvkmhf63WzyPHSd9BWy7XMIwtYNcEinBhgdr114131Eky5IhLHHXBFtQSNzq29IFhGDPKrgkUjUOHuOrQ9tx50TAMYydjuQrDMAyjFAsUhmEYRikWKAzDMIxSLFAYhmEYpVigMAzDMEqxQGEYhmGUYoHCMAzDKMUChWEYhlHKjvvPbBF5Hvi/KXc/AJzcxNOpArOmadb0wOxpmjU9MHuaRul5qapePs3BdlyguBhE5BvT/rl4VZk1TbOmB2ZP06zpgdnTtNl6LPVkGIZhlGKBwjAMwyhltwWKv9juE9gCZk3TrOmB2dM0a3pg9jRtqp5dNUdhGIZhTM5uu6IwDMMwJsQChWEYhlHKjg8UIvIpETkhIk8UbDeLyL+LyH+LyBdFZLHQdpNve9K31739VX77uyLyx7JNf1k3iR4ReY+IHCk8MhE5VCU9U2iKReSvvP0pEbmnsE8lNE2oJxGRT3v7URF5Q2Gfquh5iYj8q3+9nxSRj3j7PhH5ZxH5ji8vK+xzjz/vYyLysztdk4js9/2XReT+oWNtu6Yp9NwhIof9eR8WkTdelB5V3dEP4KeBVwJPFGz/Cbze1+8CPuHrEfA4cLPf3g+Evv4Y8FpAgC8Db6m6nqH9XgH8T2G7EnqmeI/eDXzG15vA94BrqqRpQj0fBD7t6weBw0BQMT1XAK/09QXg28ANwH3AR739o8C9vn4DcBSoAdcCz1TwezSppjngdcCvAfcPHWvbNU2h5xbgSl+/Efjhxei55G/gFr2I1wx9aZfoT9S/BPiWr78VeGDMm/B0YftdwJ9XXc/QPr8P/F4V9Uz4Hr0L+CIuqO/3X4h9VdM0gZ4/Ad5b6Pcw8Jqq6RnS9nngDuAYcEXhM3XM1+8B7in0f8g7nh2rqdDvVykEiqpq2qgebxfgFC6wT6Vnx6eexvAE8Au+/nbcFxfgekBF5CER+aaI/La3vxh4trD/s95WFcbpKfLLwIO+XnU9MF7T3wErwHHg+8AfqOppqq9pnJ6jwC+KSCQi1wKv8m2V1CMi1+BGo/8BvEhVjwP48qDv9mLgB4Xd8nPfyZrGUTlNU+h5G/BfqtpiSj2zGijuAj4oIodxl2ltb49wl5fv8eUvicibcBF3mCqtGx6nBwARuQ04r6p5zrzqemC8ptcAKXAlLq3xmyLyMqqvaZyeT+G+jN8A/gh4FOhSQT0iMg/8PfDrqrpU1nWETUvs28YEmsYeYoRt2zRNqkdEfgq4F/hAbhrR7YJ6oklOcqegqk8DPwMgItcDP+ebngW+qqonfds/4XLNDwBXFQ5xFfCjS3bCF6BET8476V9NgNNZWT1QqundwFdUtQOcEJGvAbcCj1BhTeP0qGoX+I28n4g8CnwHOEOF9IhIjHNAf6Oqn/Pm50TkClU9LiJXACe8/VkGr2rzc6/U525CTeOojKZJ9YjIVcA/AO9T1We8eSo9M3lFISIHfRkAvwP8mW96CLhJRJoiEgGvx+WSjwMviMjtfgXA+3A5wEpQoie3vR34TG6ruh4o1fR94I3imANux+VUK61pnB7/WZvz9TuArqpW6jPnn/8vgadU9Q8LTV8A7vT1O+mf3xeAd4pIzafTrgMe2+GaRlIVTZPqEZG9wJdwc0lfyztPrWe7J2U2YVLnQVw+u4OLlu8HPoKbBP028En8JKPv/17gSVxO+b6C/VZvewa4v7hPxfW8Afj6iONUQs+kmoB54G/9e/Qt4O6qaZpQzzW4CcengH/B3eq5anpeh0s/PA4c8Y+34hYTPIy7AnoY2FfY52P+vI9RWDWzwzV9DzgNLPv39YaqaJpUD26wslLoewQ4OK0eu4WHYRiGUcpMpp4MwzCMzcMChWEYhlGKBQrDMAyjFAsUhmEYRikWKAzDMIxSLFAYxgXwv+n4NxF5S8H2DhH5ynael2FcKmx5rGFsABG5Eff7jluAELcu/c3a/8XrJMcKVTXd5FM0jC3DAoVhbBARuQ/3I6Y5X74Ud3v3CPi4qn7e37Dtr30fgA+p6qPi/ofid3E/1Dukqjdc2rM3jOmxQGEYG8TfiuObuBv+/SPwpKo+4G+X8BjuakOBTFXXROQ64EFVvdUHii8BN6rq/26PAsOYjpm8KaBhbAWquiIin8Xd4uEdwM+LyG/55jpwNe4Ga/eL+6fBFHdr+5zHLEgYOxELFIYxGZl/CPA2VT1WbBSRjwPPATfjFousFZpXLtE5GsamYqueDGM6HgI+nP/fsIjc4u17gOOqmgG/gpv4NowdjQUKw5iOTwAx8LiIPOG3Af4UuFNEvo5LO9lVhLHjsclswzAMoxS7ojAMwzBKsUBhGIZhlGKBwjAMwyjFAoVhGIZRigUKwzAMoxQLFIZhGEYpFigMwzCMUv4fdXj/iJtDnoEAAAAASUVORK5CYII=\n",
      "text/plain": [
       "<Figure size 432x288 with 1 Axes>"
      ]
     },
     "metadata": {
      "needs_background": "light"
     },
     "output_type": "display_data"
    }
   ],
   "source": [
    "##line chart compared unmarried percentage vs fertility rate\n",
    "y_axis4 = fertility_rate\n",
    "y_axis5 = clean_marital_df['Per of unmarried men']\n",
    "y_axis6 = clean_marital_df['Per of unmarried women']\n",
    "y_axis7=clean_marital_df[\"Per of unmarried peole\"]\n",
    "\n",
    "plt.plot(x_axis_data, y_axis4,label=\"Fertility Rate\")\n",
    "plt.plot(x_axis_data, y_axis5,label=\"Unmarried men\")\n",
    "plt.plot(x_axis_data, y_axis6,label=\"Unmarried Women\")\n",
    "plt.plot(x_axis_data,y_axis7,label=\"Unmarried People\")\n",
    "plt.legend(loc=\"best\")\n",
    "plt.xlabel('Year')\n",
    "plt.ylabel('Fertility Rate/Unmarried Per')\n",
    "plt.title('Fertility Rate vs Unmarried Percentage')\n",
    "#save fig\n",
    "plt.savefig(\"Output/fertility_unmarried_line.png\")"
   ]
  },
  {
   "cell_type": "code",
   "execution_count": 12,
   "metadata": {},
   "outputs": [
    {
     "data": {
      "image/png": "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\n",
      "text/plain": [
       "<Figure size 432x288 with 1 Axes>"
      ]
     },
     "metadata": {
      "needs_background": "light"
     },
     "output_type": "display_data"
    },
    {
     "name": "stdout",
     "output_type": "stream",
     "text": [
      "The correlation between both factors is -0.74\n"
     ]
    },
    {
     "data": {
      "text/plain": [
       "<Figure size 432x288 with 0 Axes>"
      ]
     },
     "metadata": {},
     "output_type": "display_data"
    }
   ],
   "source": [
    "#scatter plot fertility rate vs unmarried people\n",
    "plt.scatter(fertility_rate, unmarried_per, marker=\"o\", facecolors=\"green\", edgecolors=\"black\")\n",
    "plt.xlabel('Fertility Rate')\n",
    "plt.ylabel('Unmarried Percentage')\n",
    "\n",
    "#regression\n",
    "model = st.linregress(fertility_rate, unmarried_per)\n",
    "y_value1=fertility_rate*model[0]+model[1]\n",
    "plt.plot(fertility_rate,y_value1,color=\"red\")\n",
    "plt.show()\n",
    "\n",
    "#correlation\n",
    "correlation = st.pearsonr(fertility_rate,unmarried_per)\n",
    "print(f\"The correlation between both factors is {round(correlation[0],2)}\")\n",
    "\n",
    "#save fig\n",
    "plt.savefig(\"Output/fertility_unmarried_scatter.png\")"
   ]
  },
  {
   "cell_type": "code",
   "execution_count": 19,
   "metadata": {},
   "outputs": [
    {
     "data": {
      "image/png": "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\n",
      "text/plain": [
       "<Figure size 432x288 with 1 Axes>"
      ]
     },
     "metadata": {
      "needs_background": "light"
     },
     "output_type": "display_data"
    }
   ],
   "source": [
    "##line chart compared never married percentage vs fertility rate\n",
    "y_axis8 = fertility_rate\n",
    "y_axis9 = clean_marital_df['Per of Never married men']\n",
    "y_axis10 = clean_marital_df['Per of Never married women']\n",
    "y_axis11=clean_marital_df[\"Per of Never married peole\"]\n",
    "\n",
    "plt.plot(x_axis_data, y_axis8,label=\"Fertility Rate\")\n",
    "plt.plot(x_axis_data, y_axis9,label=\"Unmarried men\")\n",
    "plt.plot(x_axis_data, y_axis10,label=\"Unmarried Women\")\n",
    "plt.plot(x_axis_data,y_axis11,label=\"Unmarried People\")\n",
    "plt.legend(loc=\"best\")\n",
    "plt.xlabel('Year')\n",
    "plt.ylabel('Fertility Rate/Unmarried Per')\n",
    "plt.title('Fertility Rate vs Never married Percentage')\n",
    "#save fig\n",
    "plt.savefig(\"Output/fertility_nevermarried_line.png\")"
   ]
  },
  {
   "cell_type": "code",
   "execution_count": 14,
   "metadata": {},
   "outputs": [
    {
     "data": {
      "image/png": "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\n",
      "text/plain": [
       "<Figure size 432x288 with 1 Axes>"
      ]
     },
     "metadata": {
      "needs_background": "light"
     },
     "output_type": "display_data"
    },
    {
     "name": "stdout",
     "output_type": "stream",
     "text": [
      "The correlation between both factors is -0.72\n"
     ]
    },
    {
     "data": {
      "text/plain": [
       "<Figure size 432x288 with 0 Axes>"
      ]
     },
     "metadata": {},
     "output_type": "display_data"
    }
   ],
   "source": [
    "##scatter plot fertility rate vs never married people\n",
    "plt.scatter(fertility_rate, unmarried_per, marker=\"o\", facecolors=\"green\", edgecolors=\"black\")\n",
    "plt.xlabel('Fertility Rate')\n",
    "plt.ylabel('Never married Percentage')\n",
    "\n",
    "#regression\n",
    "model = st.linregress(fertility_rate, never_per)\n",
    "y_value1=fertility_rate*model[0]+model[1]\n",
    "plt.plot(fertility_rate,y_value1,color=\"red\")\n",
    "plt.show()\n",
    "\n",
    "#correlation\n",
    "correlation = st.pearsonr(fertility_rate,never_per)\n",
    "print(f\"The correlation between both factors is {round(correlation[0],2)}\")\n",
    "\n",
    "#save fig\n",
    "plt.savefig(\"Output/fertility_nevermarried_scatter.png\")"
   ]
  },
  {
   "cell_type": "markdown",
   "metadata": {},
   "source": [
    "The tend is same as fertility vs married people. It proves again variable \"married\" and \"unmarried\",\"married\" and \"never married\" are the same factors. "
   ]
  },
  {
   "cell_type": "markdown",
   "metadata": {},
   "source": [
    "## Fertility Rate vs Age"
   ]
  },
  {
   "cell_type": "code",
   "execution_count": null,
   "metadata": {},
   "outputs": [],
   "source": [
    "# Raw DataFrame Prep: Fertility by Age\n",
    "\n",
    "# Read csv\n",
    "age_fertility_df = pd.read_csv(age_fertility_path)\n",
    "\n",
    "# Clean\n",
    "age_fertility_df = age_fertility_df[['Year', 'Age 10-14 Years', 'Age 15-19 Years', 'Age 20-24 Years',\n",
    "                           'Age 25-29 Years', 'Age 30-34 Years', 'Age 35-39 Years', 'Age 40-44 Years', 'Age 45-49 Years']]\n",
    "\n",
    "# Merge with fertility rates\n",
    "merge_age_df = pd.merge(fertility_rate_df, age_fertility_df, on=\"Year\", how=\"outer\")\n",
    "\n",
    "# Print and display\n",
    "print(f'{len(merge_age_df)} records')\n",
    "merge_age_df.head()\n",
    "\n",
    "# Print to csv - remove hashmark in front of below code to export to csv\n",
    "# merge_age_df.to_csv(\"Output/fertility_age.csv\", index=False, header=True)"
   ]
  },
  {
   "cell_type": "markdown",
   "metadata": {},
   "source": [
    "## Fertility Rate vs Education"
   ]
  },
  {
   "cell_type": "code",
   "execution_count": null,
   "metadata": {},
   "outputs": [],
   "source": [
    "# Raw DataFrame Prep: Female Education Attainment Level\n",
    "\n",
    "# Read csv and drop na\n",
    "education_df = pd.read_csv(education_path).dropna()\n",
    "\n",
    "# Clean\n",
    "education_df.rename(columns = {'Years':'Year'}, inplace=True)\n",
    "\n",
    "# Merge with fertility rates\n",
    "merge_education_df = pd.merge(fertility_rate_df, education_df, on=\"Year\", how=\"outer\")\n",
    "\n",
    "# Print and display\n",
    "print(f'{len(merge_education_df)} records')\n",
    "merge_education_df.head()\n",
    "\n",
    "# Print to csv - remove hashmark in front of below code to export to csv\n",
    "# merge_education_df.to_csv(\"Output/education.csv\", index=False, header=True)\n"
   ]
  },
  {
   "cell_type": "code",
   "execution_count": null,
   "metadata": {},
   "outputs": [],
   "source": []
  }
 ],
 "metadata": {
  "kernelspec": {
   "display_name": "Python 3",
   "language": "python",
   "name": "python3"
  },
  "language_info": {
   "codemirror_mode": {
    "name": "ipython",
    "version": 3
   },
   "file_extension": ".py",
   "mimetype": "text/x-python",
   "name": "python",
   "nbconvert_exporter": "python",
   "pygments_lexer": "ipython3",
   "version": "3.6.12"
  }
 },
 "nbformat": 4,
 "nbformat_minor": 4
}
