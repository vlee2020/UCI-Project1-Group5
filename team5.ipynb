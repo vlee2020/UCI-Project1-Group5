{
 "cells": [
  {
   "cell_type": "code",
<<<<<<< HEAD
<<<<<<< HEAD
   "execution_count": 1,
=======
   "execution_count": 63,
>>>>>>> e1b1d82a31eadad4443f29f3b758d350b4ef0430
=======
   "execution_count": 62,
   "metadata": {},
   "outputs": [],
   "source": [
    "import warnings\n",
    "warnings.filterwarnings('ignore')"
   ]
  },
  {
   "cell_type": "code",
   "execution_count": 71,
>>>>>>> 01d356f5ef9b730c600cc626d82d4471439bb6e1
   "metadata": {},
   "outputs": [],
   "source": [
    "#Dependencies\n",
    "import pandas as pd\n",
    "import numpy as np\n",
<<<<<<< HEAD
    "import matplotlib.pyplot as plt"
=======
    "import matplotlib.pyplot as plt\n",
<<<<<<< HEAD
    "import scipy.stats as st"
>>>>>>> e1b1d82a31eadad4443f29f3b758d350b4ef0430
=======
    "import scipy.stats as stats\n",
    "from scipy.stats import linregress\n"
>>>>>>> 01d356f5ef9b730c600cc626d82d4471439bb6e1
   ]
  },
  {
   "cell_type": "code",
<<<<<<< HEAD
<<<<<<< HEAD
   "execution_count": 2,
=======
   "execution_count": 29,
>>>>>>> e1b1d82a31eadad4443f29f3b758d350b4ef0430
=======
   "execution_count": 64,
>>>>>>> 01d356f5ef9b730c600cc626d82d4471439bb6e1
   "metadata": {},
   "outputs": [],
   "source": [
    "# csv_file pathing\n",
    "fertility_rate_path = \"Resource/fred_fertility_rates.csv\"\n",
    "living_arrangements_path = \"Resource/census_living_arrangements.csv\"\n",
    "living_arrangements_decade_path = \"Resource/census_living_arrangements_by_decade.csv\"\n",
    "marital_status_path = \"Resource/marital status overtime.csv\"\n",
    "age_fertility_path = \"Resource/Age_Fertility.csv\"\n",
    "education_path = \"Resource/Female Education Attainment Level.csv\"\n"
   ]
  },
  {
   "cell_type": "code",
<<<<<<< HEAD
<<<<<<< HEAD
   "execution_count": 3,
=======
   "execution_count": 5,
>>>>>>> e1b1d82a31eadad4443f29f3b758d350b4ef0430
=======
   "execution_count": 65,
>>>>>>> 01d356f5ef9b730c600cc626d82d4471439bb6e1
   "metadata": {},
   "outputs": [
    {
     "name": "stdout",
     "output_type": "stream",
     "text": [
      "59 records\n"
     ]
    },
    {
     "data": {
      "text/html": [
       "<div>\n",
       "<style scoped>\n",
       "    .dataframe tbody tr th:only-of-type {\n",
       "        vertical-align: middle;\n",
       "    }\n",
       "\n",
       "    .dataframe tbody tr th {\n",
       "        vertical-align: top;\n",
       "    }\n",
       "\n",
       "    .dataframe thead th {\n",
       "        text-align: right;\n",
       "    }\n",
       "</style>\n",
       "<table border=\"1\" class=\"dataframe\">\n",
       "  <thead>\n",
       "    <tr style=\"text-align: right;\">\n",
       "      <th></th>\n",
       "      <th>Year</th>\n",
       "      <th>fertility_rate</th>\n",
       "    </tr>\n",
       "  </thead>\n",
       "  <tbody>\n",
       "    <tr>\n",
       "      <th>0</th>\n",
       "      <td>1960</td>\n",
       "      <td>3.654</td>\n",
       "    </tr>\n",
       "    <tr>\n",
       "      <th>1</th>\n",
       "      <td>1961</td>\n",
       "      <td>3.620</td>\n",
       "    </tr>\n",
       "    <tr>\n",
       "      <th>2</th>\n",
       "      <td>1962</td>\n",
       "      <td>3.461</td>\n",
       "    </tr>\n",
       "    <tr>\n",
       "      <th>3</th>\n",
       "      <td>1963</td>\n",
       "      <td>3.319</td>\n",
       "    </tr>\n",
       "    <tr>\n",
       "      <th>4</th>\n",
       "      <td>1964</td>\n",
       "      <td>3.190</td>\n",
       "    </tr>\n",
       "  </tbody>\n",
       "</table>\n",
       "</div>"
      ],
      "text/plain": [
       "   Year  fertility_rate\n",
       "0  1960           3.654\n",
       "1  1961           3.620\n",
       "2  1962           3.461\n",
       "3  1963           3.319\n",
       "4  1964           3.190"
      ]
     },
<<<<<<< HEAD
<<<<<<< HEAD
     "execution_count": 3,
=======
     "execution_count": 5,
>>>>>>> e1b1d82a31eadad4443f29f3b758d350b4ef0430
=======
     "execution_count": 65,
>>>>>>> 01d356f5ef9b730c600cc626d82d4471439bb6e1
     "metadata": {},
     "output_type": "execute_result"
    }
   ],
   "source": [
    "# Raw DataFrame Prep: Fertility Rates\n",
    "\n",
<<<<<<< HEAD
    "fertility_rate_df = pd.read_csv(fertility_rate_path).dropna()\n",
    "fertility_rate_df['DATE'] = pd.to_datetime(fertility_rate_df['DATE'].str.strip(), format='%d/%m/%Y').dt.year\n",
    "fertility_rate_df.rename(columns = {'SPDYNTFRTINUSA':'fertility_rate','DATE':'Year'}, inplace = True) \n",
    "\n",
=======
    "# Read csv, drop na\n",
    "fertility_rate_df = pd.read_csv(fertility_rate_path).dropna()\n",
    "\n",
    "# Clean data\n",
    "fertility_rate_df['DATE'] = pd.to_datetime(fertility_rate_df['DATE'].str.strip(), format='%d/%m/%Y').dt.year\n",
    "fertility_rate_df.rename(columns = {'SPDYNTFRTINUSA':'fertility_rate','DATE':'Year'}, inplace = True) \n",
    "\n",
    "# Print and display\n",
>>>>>>> e1b1d82a31eadad4443f29f3b758d350b4ef0430
    "print(f'{len(fertility_rate_df)} records')\n",
    "fertility_rate_df.head()\n",
    "\n",
    "# Print to csv - remove hashmark in front of below code to export to csv\n",
    "# fertility_rate_df.to_csv(\"Output/fertility_rate.csv\", index=False, header=True)\n"
   ]
  },
  {
<<<<<<< HEAD
<<<<<<< HEAD
   "cell_type": "code",
   "execution_count": 4,
=======
=======
   "cell_type": "code",
   "execution_count": 66,
   "metadata": {},
   "outputs": [
    {
     "data": {
      "image/png": "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\n",
      "text/plain": [
       "<Figure size 432x288 with 1 Axes>"
      ]
     },
     "metadata": {
      "needs_background": "light"
     },
     "output_type": "display_data"
    }
   ],
   "source": [
    "# Fertility Rate Trend over Time\n",
    "\n",
    "# Variables to Compare\n",
    "x_values = fertility_rate_df['Year']\n",
    "y_values = fertility_rate_df['fertility_rate']\n",
    "\n",
    "plt.plot(x_values, y_values, marker ='.', color = \"black\", label = 'Fertility Rate')\n",
    "plt.title(\"U.S. Fertility Rate Trend (1960 thru 2019)\")\n",
    "plt.savefig('Output\\FertilityRateTrendChart.png')\n"
   ]
  },
  {
>>>>>>> 01d356f5ef9b730c600cc626d82d4471439bb6e1
   "cell_type": "markdown",
   "metadata": {},
   "source": [
    "## Fertility Rate vs Living Arrangements"
   ]
  },
  {
   "cell_type": "code",
<<<<<<< HEAD
   "execution_count": 32,
>>>>>>> e1b1d82a31eadad4443f29f3b758d350b4ef0430
   "metadata": {},
   "outputs": [
    {
     "name": "stdout",
     "output_type": "stream",
     "text": [
<<<<<<< HEAD
      "60 records\n"
     ]
    },
    {
=======
   "execution_count": 67,
   "metadata": {},
   "outputs": [
    {
>>>>>>> 01d356f5ef9b730c600cc626d82d4471439bb6e1
     "data": {
      "text/html": [
       "<div>\n",
       "<style scoped>\n",
       "    .dataframe tbody tr th:only-of-type {\n",
       "        vertical-align: middle;\n",
       "    }\n",
       "\n",
       "    .dataframe tbody tr th {\n",
       "        vertical-align: top;\n",
       "    }\n",
       "\n",
       "    .dataframe thead th {\n",
       "        text-align: right;\n",
       "    }\n",
       "</style>\n",
       "<table border=\"1\" class=\"dataframe\">\n",
       "  <thead>\n",
       "    <tr style=\"text-align: right;\">\n",
       "      <th></th>\n",
       "      <th>Year</th>\n",
       "      <th>fertility_rate</th>\n",
       "      <th>under_18</th>\n",
       "      <th>two_parents</th>\n",
       "      <th>mother_only</th>\n",
       "      <th>father_only</th>\n",
       "      <th>other_relatives</th>\n",
       "      <th>non_relatives</th>\n",
<<<<<<< HEAD
=======
       "      <th>other</th>\n",
       "      <th>pct_mother_only</th>\n",
       "      <th>pct_two_parents</th>\n",
       "      <th>pct_other</th>\n",
>>>>>>> 01d356f5ef9b730c600cc626d82d4471439bb6e1
       "    </tr>\n",
       "  </thead>\n",
       "  <tbody>\n",
       "    <tr>\n",
       "      <th>0</th>\n",
       "      <td>1960</td>\n",
       "      <td>3.654</td>\n",
       "      <td>63727.0</td>\n",
       "      <td>55877.0</td>\n",
       "      <td>5105.0</td>\n",
       "      <td>724.0</td>\n",
       "      <td>1601.0</td>\n",
       "      <td>420.0</td>\n",
<<<<<<< HEAD
       "    </tr>\n",
       "    <tr>\n",
       "      <th>1</th>\n",
       "      <td>1961</td>\n",
       "      <td>3.620</td>\n",
       "      <td>NaN</td>\n",
       "      <td>NaN</td>\n",
       "      <td>NaN</td>\n",
       "      <td>NaN</td>\n",
       "      <td>NaN</td>\n",
       "      <td>NaN</td>\n",
       "    </tr>\n",
       "    <tr>\n",
       "      <th>2</th>\n",
       "      <td>1962</td>\n",
       "      <td>3.461</td>\n",
       "      <td>NaN</td>\n",
       "      <td>NaN</td>\n",
       "      <td>NaN</td>\n",
       "      <td>NaN</td>\n",
       "      <td>NaN</td>\n",
       "      <td>NaN</td>\n",
       "    </tr>\n",
       "    <tr>\n",
       "      <th>3</th>\n",
       "      <td>1963</td>\n",
       "      <td>3.319</td>\n",
       "      <td>NaN</td>\n",
       "      <td>NaN</td>\n",
       "      <td>NaN</td>\n",
       "      <td>NaN</td>\n",
       "      <td>NaN</td>\n",
       "      <td>NaN</td>\n",
       "    </tr>\n",
       "    <tr>\n",
       "      <th>4</th>\n",
       "      <td>1964</td>\n",
       "      <td>3.190</td>\n",
       "      <td>NaN</td>\n",
       "      <td>NaN</td>\n",
       "      <td>NaN</td>\n",
       "      <td>NaN</td>\n",
       "      <td>NaN</td>\n",
       "      <td>NaN</td>\n",
=======
       "      <td>2745.0</td>\n",
       "      <td>0.080107</td>\n",
       "      <td>0.876818</td>\n",
       "      <td>0.043074</td>\n",
       "    </tr>\n",
       "    <tr>\n",
       "      <th>8</th>\n",
       "      <td>1968</td>\n",
       "      <td>2.464</td>\n",
       "      <td>70326.0</td>\n",
       "      <td>60030.0</td>\n",
       "      <td>7556.0</td>\n",
       "      <td>776.0</td>\n",
       "      <td>1660.0</td>\n",
       "      <td>304.0</td>\n",
       "      <td>2740.0</td>\n",
       "      <td>0.107442</td>\n",
       "      <td>0.853596</td>\n",
       "      <td>0.038961</td>\n",
       "    </tr>\n",
       "    <tr>\n",
       "      <th>9</th>\n",
       "      <td>1969</td>\n",
       "      <td>2.456</td>\n",
       "      <td>70317.0</td>\n",
       "      <td>59857.0</td>\n",
       "      <td>7744.0</td>\n",
       "      <td>765.0</td>\n",
       "      <td>1602.0</td>\n",
       "      <td>349.0</td>\n",
       "      <td>2716.0</td>\n",
       "      <td>0.110130</td>\n",
       "      <td>0.851245</td>\n",
       "      <td>0.038625</td>\n",
       "    </tr>\n",
       "    <tr>\n",
       "      <th>10</th>\n",
       "      <td>1970</td>\n",
       "      <td>2.480</td>\n",
       "      <td>69162.0</td>\n",
       "      <td>58939.0</td>\n",
       "      <td>7452.0</td>\n",
       "      <td>748.0</td>\n",
       "      <td>1546.0</td>\n",
       "      <td>477.0</td>\n",
       "      <td>2771.0</td>\n",
       "      <td>0.107747</td>\n",
       "      <td>0.852188</td>\n",
       "      <td>0.040065</td>\n",
       "    </tr>\n",
       "    <tr>\n",
       "      <th>11</th>\n",
       "      <td>1971</td>\n",
       "      <td>2.266</td>\n",
       "      <td>70255.0</td>\n",
       "      <td>58606.0</td>\n",
       "      <td>8714.0</td>\n",
       "      <td>764.0</td>\n",
       "      <td>1707.0</td>\n",
       "      <td>464.0</td>\n",
       "      <td>2935.0</td>\n",
       "      <td>0.124034</td>\n",
       "      <td>0.834190</td>\n",
       "      <td>0.041776</td>\n",
>>>>>>> 01d356f5ef9b730c600cc626d82d4471439bb6e1
       "    </tr>\n",
       "  </tbody>\n",
       "</table>\n",
       "</div>"
      ],
      "text/plain": [
<<<<<<< HEAD
       "   Year  fertility_rate  under_18  two_parents  mother_only  father_only  \\\n",
       "0  1960           3.654   63727.0      55877.0       5105.0        724.0   \n",
       "1  1961           3.620       NaN          NaN          NaN          NaN   \n",
       "2  1962           3.461       NaN          NaN          NaN          NaN   \n",
       "3  1963           3.319       NaN          NaN          NaN          NaN   \n",
       "4  1964           3.190       NaN          NaN          NaN          NaN   \n",
       "\n",
       "   other_relatives  non_relatives  \n",
       "0           1601.0          420.0  \n",
       "1              NaN            NaN  \n",
       "2              NaN            NaN  \n",
       "3              NaN            NaN  \n",
       "4              NaN            NaN  "
      ]
     },
     "execution_count": 4,
     "metadata": {},
     "output_type": "execute_result"
=======
      "52 records\n"
     ]
>>>>>>> e1b1d82a31eadad4443f29f3b758d350b4ef0430
    }
   ],
   "source": [
    "# Raw DataFrame Prep: Living Arrangements\n",
    "\n",
    "# Read csv, drop na\n",
    "living_arrangements_df = pd.read_csv(living_arrangements_path).dropna()\n",
    "\n",
    "# Merge with fertility rates\n",
<<<<<<< HEAD
    "merge_living_df = pd.merge(fertility_rate_df, living_arrangements_df, on=\"Year\", how=\"outer\")\n",
    "\n",
    "# Print and display\n",
    "print(f'{len(merge_living_df)} records')\n",
    "merge_living_df.head()\n",
    "\n",
    "# Print to csv - remove hashmark in front of below code to export to csv\n",
=======
    "merge_living_df = pd.merge(fertility_rate_df, living_arrangements_df, on = \"Year\", how = \"outer\").dropna()\n",
    "\n",
    "# Print, display, export options\n",
    "print(f'{len(merge_living_df)} records')\n",
    "# merge_living_df.head()\n",
>>>>>>> e1b1d82a31eadad4443f29f3b758d350b4ef0430
    "# merge_living_df.to_csv(\"Output/living_arrangements.csv\", index=False, header=True)"
   ]
  },
  {
   "cell_type": "code",
<<<<<<< HEAD
   "execution_count": 5,
   "metadata": {},
   "outputs": [
    {
     "name": "stdout",
     "output_type": "stream",
     "text": [
      "61 records\n"
     ]
    },
    {
     "data": {
      "text/html": [
       "<div>\n",
       "<style scoped>\n",
       "    .dataframe tbody tr th:only-of-type {\n",
       "        vertical-align: middle;\n",
       "    }\n",
       "\n",
       "    .dataframe tbody tr th {\n",
       "        vertical-align: top;\n",
       "    }\n",
       "\n",
       "    .dataframe thead th {\n",
       "        text-align: right;\n",
       "    }\n",
       "</style>\n",
       "<table border=\"1\" class=\"dataframe\">\n",
       "  <thead>\n",
       "    <tr style=\"text-align: right;\">\n",
       "      <th></th>\n",
       "      <th>Year</th>\n",
       "      <th>fertility_rate</th>\n",
       "      <th>Men Total</th>\n",
       "      <th>Married Men</th>\n",
       "      <th>Unmarried Men Total</th>\n",
       "      <th>Never Married Men</th>\n",
       "      <th>Widowed Men</th>\n",
       "      <th>Divorced Men</th>\n",
       "      <th>Women Total</th>\n",
       "      <th>Married Women</th>\n",
       "      <th>Unmarried Women Total</th>\n",
       "      <th>Never Married Women</th>\n",
       "      <th>Widowed Women</th>\n",
       "      <th>Divorced Women</th>\n",
       "    </tr>\n",
       "  </thead>\n",
       "  <tbody>\n",
       "    <tr>\n",
       "      <th>0</th>\n",
       "      <td>1960</td>\n",
       "      <td>3.654</td>\n",
       "      <td>60,273</td>\n",
       "      <td>41,781</td>\n",
       "      <td>18,492</td>\n",
       "      <td>15,274</td>\n",
       "      <td>2,112</td>\n",
       "      <td>1,106</td>\n",
       "      <td>64,607</td>\n",
       "      <td>42,583</td>\n",
       "      <td>22,024</td>\n",
       "      <td>12,252</td>\n",
       "      <td>8,064</td>\n",
       "      <td>1,708</td>\n",
       "    </tr>\n",
       "    <tr>\n",
       "      <th>1</th>\n",
       "      <td>1961</td>\n",
       "      <td>3.620</td>\n",
       "      <td>NaN</td>\n",
       "      <td>NaN</td>\n",
       "      <td>NaN</td>\n",
       "      <td>NaN</td>\n",
       "      <td>NaN</td>\n",
       "      <td>NaN</td>\n",
       "      <td>NaN</td>\n",
       "      <td>NaN</td>\n",
       "      <td>NaN</td>\n",
       "      <td>NaN</td>\n",
       "      <td>NaN</td>\n",
       "      <td>NaN</td>\n",
       "    </tr>\n",
       "    <tr>\n",
       "      <th>2</th>\n",
       "      <td>1962</td>\n",
       "      <td>3.461</td>\n",
       "      <td>NaN</td>\n",
       "      <td>NaN</td>\n",
       "      <td>NaN</td>\n",
       "      <td>NaN</td>\n",
       "      <td>NaN</td>\n",
       "      <td>NaN</td>\n",
       "      <td>NaN</td>\n",
       "      <td>NaN</td>\n",
       "      <td>NaN</td>\n",
       "      <td>NaN</td>\n",
       "      <td>NaN</td>\n",
       "      <td>NaN</td>\n",
       "    </tr>\n",
       "    <tr>\n",
       "      <th>3</th>\n",
       "      <td>1963</td>\n",
       "      <td>3.319</td>\n",
       "      <td>NaN</td>\n",
       "      <td>NaN</td>\n",
       "      <td>NaN</td>\n",
       "      <td>NaN</td>\n",
       "      <td>NaN</td>\n",
       "      <td>NaN</td>\n",
       "      <td>NaN</td>\n",
       "      <td>NaN</td>\n",
       "      <td>NaN</td>\n",
       "      <td>NaN</td>\n",
       "      <td>NaN</td>\n",
       "      <td>NaN</td>\n",
       "    </tr>\n",
       "    <tr>\n",
       "      <th>4</th>\n",
       "      <td>1964</td>\n",
       "      <td>3.190</td>\n",
       "      <td>NaN</td>\n",
       "      <td>NaN</td>\n",
       "      <td>NaN</td>\n",
       "      <td>NaN</td>\n",
       "      <td>NaN</td>\n",
       "      <td>NaN</td>\n",
       "      <td>NaN</td>\n",
       "      <td>NaN</td>\n",
       "      <td>NaN</td>\n",
       "      <td>NaN</td>\n",
       "      <td>NaN</td>\n",
       "      <td>NaN</td>\n",
       "    </tr>\n",
       "  </tbody>\n",
       "</table>\n",
       "</div>"
      ],
      "text/plain": [
       "   Year  fertility_rate Men Total Married Men Unmarried Men Total  \\\n",
       "0  1960           3.654    60,273      41,781              18,492   \n",
       "1  1961           3.620       NaN         NaN                 NaN   \n",
       "2  1962           3.461       NaN         NaN                 NaN   \n",
       "3  1963           3.319       NaN         NaN                 NaN   \n",
       "4  1964           3.190       NaN         NaN                 NaN   \n",
       "\n",
       "  Never Married Men Widowed Men Divorced Men Women Total Married Women  \\\n",
       "0            15,274       2,112        1,106      64,607        42,583   \n",
       "1               NaN         NaN          NaN         NaN           NaN   \n",
       "2               NaN         NaN          NaN         NaN           NaN   \n",
       "3               NaN         NaN          NaN         NaN           NaN   \n",
       "4               NaN         NaN          NaN         NaN           NaN   \n",
       "\n",
       "  Unmarried Women Total  Never Married Women Widowed Women Divorced Women  \n",
       "0                 22,024              12,252         8,064          1,708  \n",
       "1                    NaN                 NaN           NaN            NaN  \n",
       "2                    NaN                 NaN           NaN            NaN  \n",
       "3                    NaN                 NaN           NaN            NaN  \n",
       "4                    NaN                 NaN           NaN            NaN  "
      ]
     },
     "execution_count": 5,
     "metadata": {},
     "output_type": "execute_result"
    }
   ],
   "source": [
    "# Raw DataFrame Prep: Marital Status\n",
    "\n",
    "# Read csv, drop na\n",
    "marital_status_df = pd.read_csv(marital_status_path).dropna()\n",
    "\n",
    "# Merge with fertility rates\n",
    "merge_marital_df = pd.merge(fertility_rate_df, marital_status_df, on=\"Year\", how=\"outer\")\n",
    "\n",
    "# Print and display\n",
    "print(f'{len(merge_marital_df)} records')\n",
    "merge_marital_df.head()\n",
    "\n",
    "# Print to csv - remove hashmark in front of below code to export to csv\n",
    "# merge_marital_df.to_csv(\"Output/marital_status.csv\", index=False, header=True)"
   ]
  },
  {
   "cell_type": "code",
   "execution_count": 6,
   "metadata": {},
   "outputs": [
    {
     "name": "stdout",
     "output_type": "stream",
     "text": [
      "73 records\n"
     ]
    },
    {
     "data": {
      "text/html": [
       "<div>\n",
       "<style scoped>\n",
       "    .dataframe tbody tr th:only-of-type {\n",
       "        vertical-align: middle;\n",
       "    }\n",
       "\n",
       "    .dataframe tbody tr th {\n",
       "        vertical-align: top;\n",
       "    }\n",
       "\n",
       "    .dataframe thead th {\n",
       "        text-align: right;\n",
       "    }\n",
       "</style>\n",
       "<table border=\"1\" class=\"dataframe\">\n",
       "  <thead>\n",
       "    <tr style=\"text-align: right;\">\n",
       "      <th></th>\n",
       "      <th>Year</th>\n",
       "      <th>fertility_rate</th>\n",
       "      <th>Age 10-14 Years</th>\n",
       "      <th>Age 15-19 Years</th>\n",
       "      <th>Age 20-24 Years</th>\n",
       "      <th>Age 25-29 Years</th>\n",
       "      <th>Age 30-34 Years</th>\n",
       "      <th>Age 35-39 Years</th>\n",
       "      <th>Age 40-44 Years</th>\n",
       "      <th>Age 45-49 Years</th>\n",
       "    </tr>\n",
       "  </thead>\n",
       "  <tbody>\n",
       "    <tr>\n",
       "      <th>0</th>\n",
       "      <td>1960</td>\n",
       "      <td>3.654</td>\n",
       "      <td>0.8</td>\n",
       "      <td>89.1</td>\n",
       "      <td>258.1</td>\n",
       "      <td>197.4</td>\n",
       "      <td>112.7</td>\n",
       "      <td>56.2</td>\n",
       "      <td>15.5</td>\n",
       "      <td>0.9</td>\n",
       "    </tr>\n",
       "    <tr>\n",
       "      <th>1</th>\n",
       "      <td>1961</td>\n",
       "      <td>3.620</td>\n",
       "      <td>0.9</td>\n",
       "      <td>88.6</td>\n",
       "      <td>251.9</td>\n",
       "      <td>197.5</td>\n",
       "      <td>113.2</td>\n",
       "      <td>55.6</td>\n",
       "      <td>15.6</td>\n",
       "      <td>0.9</td>\n",
       "    </tr>\n",
       "    <tr>\n",
       "      <th>2</th>\n",
       "      <td>1962</td>\n",
       "      <td>3.461</td>\n",
       "      <td>0.8</td>\n",
       "      <td>81.4</td>\n",
       "      <td>241.9</td>\n",
       "      <td>191.1</td>\n",
       "      <td>108.6</td>\n",
       "      <td>52.6</td>\n",
       "      <td>14.9</td>\n",
       "      <td>0.9</td>\n",
       "    </tr>\n",
       "    <tr>\n",
       "      <th>3</th>\n",
       "      <td>1963</td>\n",
       "      <td>3.319</td>\n",
       "      <td>0.9</td>\n",
       "      <td>76.7</td>\n",
       "      <td>229.1</td>\n",
       "      <td>185.1</td>\n",
       "      <td>105.8</td>\n",
       "      <td>51.2</td>\n",
       "      <td>14.2</td>\n",
       "      <td>0.9</td>\n",
       "    </tr>\n",
       "    <tr>\n",
       "      <th>4</th>\n",
       "      <td>1964</td>\n",
       "      <td>3.190</td>\n",
       "      <td>0.9</td>\n",
       "      <td>73.1</td>\n",
       "      <td>217.5</td>\n",
       "      <td>178.7</td>\n",
       "      <td>103.4</td>\n",
       "      <td>49.9</td>\n",
       "      <td>13.8</td>\n",
       "      <td>0.8</td>\n",
       "    </tr>\n",
       "  </tbody>\n",
       "</table>\n",
       "</div>"
      ],
      "text/plain": [
       "   Year  fertility_rate  Age 10-14 Years  Age 15-19 Years  Age 20-24 Years  \\\n",
       "0  1960           3.654              0.8             89.1            258.1   \n",
       "1  1961           3.620              0.9             88.6            251.9   \n",
       "2  1962           3.461              0.8             81.4            241.9   \n",
       "3  1963           3.319              0.9             76.7            229.1   \n",
       "4  1964           3.190              0.9             73.1            217.5   \n",
       "\n",
       "   Age 25-29 Years  Age 30-34 Years  Age 35-39 Years  Age 40-44 Years  \\\n",
       "0            197.4            112.7             56.2             15.5   \n",
       "1            197.5            113.2             55.6             15.6   \n",
       "2            191.1            108.6             52.6             14.9   \n",
       "3            185.1            105.8             51.2             14.2   \n",
       "4            178.7            103.4             49.9             13.8   \n",
       "\n",
       "   Age 45-49 Years  \n",
       "0              0.9  \n",
       "1              0.9  \n",
       "2              0.9  \n",
       "3              0.9  \n",
       "4              0.8  "
      ]
     },
     "execution_count": 6,
=======
       "    Year  fertility_rate  under_18  two_parents  mother_only  father_only  \\\n",
       "0   1960           3.654   63727.0      55877.0       5105.0        724.0   \n",
       "8   1968           2.464   70326.0      60030.0       7556.0        776.0   \n",
       "9   1969           2.456   70317.0      59857.0       7744.0        765.0   \n",
       "10  1970           2.480   69162.0      58939.0       7452.0        748.0   \n",
       "11  1971           2.266   70255.0      58606.0       8714.0        764.0   \n",
       "\n",
       "    other_relatives  non_relatives   other  pct_mother_only  pct_two_parents  \\\n",
       "0            1601.0          420.0  2745.0         0.080107         0.876818   \n",
       "8            1660.0          304.0  2740.0         0.107442         0.853596   \n",
       "9            1602.0          349.0  2716.0         0.110130         0.851245   \n",
       "10           1546.0          477.0  2771.0         0.107747         0.852188   \n",
       "11           1707.0          464.0  2935.0         0.124034         0.834190   \n",
       "\n",
       "    pct_other  \n",
       "0    0.043074  \n",
       "8    0.038961  \n",
       "9    0.038625  \n",
       "10   0.040065  \n",
       "11   0.041776  "
      ]
     },
     "execution_count": 67,
>>>>>>> 01d356f5ef9b730c600cc626d82d4471439bb6e1
     "metadata": {},
     "output_type": "execute_result"
    }
   ],
   "source": [
    "# Raw DataFrame Prep: Fertility by Age\n",
    "\n",
    "# Read csv\n",
    "age_fertility_df = pd.read_csv(age_fertility_path)\n",
    "\n",
    "# Clean\n",
    "age_fertility_df = age_fertility_df[['Year', 'Age 10-14 Years', 'Age 15-19 Years', 'Age 20-24 Years',\n",
    "                           'Age 25-29 Years', 'Age 30-34 Years', 'Age 35-39 Years', 'Age 40-44 Years', 'Age 45-49 Years']]\n",
    "\n",
    "# Merge with fertility rates\n",
    "merge_age_df = pd.merge(fertility_rate_df, age_fertility_df, on=\"Year\", how=\"outer\")\n",
    "\n",
<<<<<<< HEAD
    "# Print and display\n",
    "print(f'{len(merge_age_df)} records')\n",
    "merge_age_df.head()\n",
    "\n",
    "# Print to csv - remove hashmark in front of below code to export to csv\n",
    "# merge_age_df.to_csv(\"Output/fertility_age.csv\", index=False, header=True)"
=======
   "execution_count": 71,
   "metadata": {},
   "outputs": [],
   "source": [
    "# Living Arrangements Bar Chart\n",
    "\n",
    "# Clean and organize\n",
=======
    "# Add additional columns, format... \n",
>>>>>>> 01d356f5ef9b730c600cc626d82d4471439bb6e1
    "other_ttl = merge_living_df['father_only'] + merge_living_df['other_relatives'] + merge_living_df['non_relatives']\n",
    "merge_living_df['other']= other_ttl\n",
    "\n",
    "pct_mother_only = (merge_living_df['mother_only'] / merge_living_df['under_18']).astype(float)\n",
    "pct_two_parents = (merge_living_df['two_parents'] / merge_living_df['under_18']).astype(float)\n",
    "pct_other = (merge_living_df['other'] / merge_living_df['under_18']).astype(float)\n",
    "\n",
    "merge_living_df['pct_mother_only']= pct_mother_only.astype(float)\n",
    "merge_living_df['pct_two_parents']= pct_two_parents.astype(float)\n",
    "merge_living_df['pct_other']= pct_other.astype(float)\n",
    "                                         \n",
    "merge_living_df.head()\n",
    "\n",
    "#.map(\"{:,.0%}\".format)"
   ]
  },
  {
   "cell_type": "code",
   "execution_count": 90,
   "metadata": {
    "scrolled": true
   },
   "outputs": [
    {
     "data": {
      "image/png": "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\n",
      "text/plain": [
       "<Figure size 432x288 with 1 Axes>"
      ]
     },
     "metadata": {
      "needs_background": "light"
     },
     "output_type": "display_data"
    },
    {
     "name": "stdout",
     "output_type": "stream",
     "text": [
      "What is the correlation between fertility rate and % of Children under 18 living with their mother only?\n",
      "Their is a moderate correlation between fertility rate and children under 18 living with only their moms of -0.17.\n",
      "This data is collected from 1960 thru 2019 however we only have 1 data point in the 1960's decade.\n",
      "Data Source: US Census Bureau\n"
     ]
    },
    {
     "data": {
      "text/plain": [
       "<Figure size 432x288 with 0 Axes>"
      ]
     },
     "metadata": {},
     "output_type": "display_data"
    }
   ],
   "source": [
    "# Living Arrangements Scatter Chart (Population Set)\n",
    "\n",
    "# Variables to Compare\n",
    "x_values = merge_living_df['fertility_rate']\n",
    "y_values = merge_living_df['pct_mother_only']\n",
    "\n",
    "# Scatter Chart\n",
    "plt.scatter(x_values, y_values, marker=\"o\", facecolors=\"black\", edgecolors=\"gray\")\n",
    "\n",
    "# Linear Regression Line\n",
    "(slope, intercept, rvalue, pvalue, stderr) = linregress(x_values, y_values)\n",
    "regress_values = x_values * slope + intercept\n",
    "line_eq = \"y = \" + str(round(slope,2)) + \"x + \" + str(round(intercept,2))\n",
    "plt.plot(x_values,regress_values,\"r-\", color = \"gray\")\n",
    "plt.annotate(line_eq,(1.75,.09),fontsize=10,color=\"black\")\n",
    "\n",
    "# Sample Population\n",
    "sample_df = merge_living_df[-20:]\n",
    "\n",
    "# Variables to Compare\n",
    "x_values = sample_df['fertility_rate']\n",
    "y_values = sample_df['pct_mother_only']\n",
    "\n",
    "# Scatter Chart\n",
    "plt.scatter(x_values, y_values, marker=\"o\", facecolors=\"blue\", edgecolors=\"gray\")\n",
    "\n",
    "\n",
    "\n",
    "# Labels and Display\n",
    "plt.xlabel('Fertility Rate')\n",
    "plt.ylabel('% Children Living with Mother only')\n",
    "plt.show()\n",
    "\n",
    "plt.savefig('Output\\ScatterPlot_MotherOnlyLiving.png')\n",
    "\n",
    "# Correlation Coefficient\n",
    "correlation = st.pearsonr(x_values, y_values)\n",
    "print(f\"What is the correlation between fertility rate and % of Children under 18 living with their mother only?\")\n",
    "print(f\"Their is a moderate correlation between fertility rate and children under 18 living with only their moms of {round(correlation[0],2)}.\")\n",
    "print(f\"This data is collected from 1960 thru 2019 however we only have 1 data point in the 1960's decade.\")\n",
    "print(f\"Data Source: US Census Bureau\")"
   ]
  },
  {
   "cell_type": "code",
   "execution_count": 82,
   "metadata": {},
   "outputs": [
    {
     "data": {
      "text/plain": [
       "Ttest_1sampResult(statistic=24.26411898862151, pvalue=9.244269763354844e-16)"
      ]
     },
     "execution_count": 82,
     "metadata": {},
     "output_type": "execute_result"
    }
   ],
   "source": [
    "# Calculate the population mean for Living Arrangements = Mother Only (entire population)\n",
    "population = merge_living_df['pct_mother_only']\n",
    "population_mean = population.mean()\n",
    "\n",
    "# Calculate the population mean for Living Arrangements = Mother Only over last 20 years\n",
    "sample_df = merge_living_df[-20:]\n",
    "sample = sample_df['pct_mother_only']\n",
    "sample_mean = sample.mean()\n",
    "\n",
    "stats.ttest_1samp(sample, population_mean)"
   ]
  },
  {
   "cell_type": "code",
   "execution_count": 74,
   "metadata": {},
   "outputs": [
    {
     "data": {
      "image/png": "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\n",
      "text/plain": [
       "<Figure size 432x288 with 1 Axes>"
      ]
     },
     "metadata": {
      "needs_background": "light"
     },
     "output_type": "display_data"
    }
   ],
   "source": [
    "# Living Arrangements Bar Chart\n",
    "x_values = merge_living_df['Year']\n",
    "y_values = merge_living_df['pct_mother_only']\n",
    "\n",
    "plt.bar(x_values, y_values, color='gray', alpha=0.5, align=\"center\")\n",
    "plt.plot(x_values, y_values, color = 'black')\n",
    "\n",
    "plt.savefig('Output\\MotherOnlyLiving_barchart.png')\n"
   ]
  },
  {
   "cell_type": "markdown",
   "metadata": {},
   "source": [
    "## Fertility Rate vs Marital Status"
   ]
  },
  {
   "cell_type": "code",
   "execution_count": null,
   "metadata": {},
   "outputs": [],
   "source": [
    "# Raw DataFrame Prep: Marital Status\n",
    "\n",
    "# Read csv, drop na\n",
    "marital_status_df = pd.read_csv(marital_status_path).dropna()\n",
    "\n",
    "# Merge with fertility rates\n",
    "merge_marital_df = pd.merge(fertility_rate_df, marital_status_df, on=\"Year\", how=\"outer\")\n",
    "\n",
    "# Print and display\n",
    "print(f'{len(merge_marital_df)} records')\n",
    "merge_marital_df.head()\n",
    "\n",
    "# Print to csv - remove hashmark in front of below code to export to csv\n",
    "# merge_marital_df.to_csv(\"Output/marital_status.csv\", index=False, header=True)\n"
   ]
  },
  {
   "cell_type": "markdown",
   "metadata": {},
   "source": [
    "## Fertility Rate vs Age"
>>>>>>> e1b1d82a31eadad4443f29f3b758d350b4ef0430
   ]
  },
  {
   "cell_type": "code",
<<<<<<< HEAD
<<<<<<< HEAD
   "execution_count": 7,
   "metadata": {},
   "outputs": [
    {
=======
   "execution_count": 27,
   "metadata": {},
   "outputs": [
    {
     "name": "stdout",
     "output_type": "stream",
     "text": [
      "73 records\n"
     ]
    },
    {
>>>>>>> e1b1d82a31eadad4443f29f3b758d350b4ef0430
     "data": {
      "text/html": [
       "<div>\n",
       "<style scoped>\n",
       "    .dataframe tbody tr th:only-of-type {\n",
       "        vertical-align: middle;\n",
       "    }\n",
       "\n",
       "    .dataframe tbody tr th {\n",
       "        vertical-align: top;\n",
       "    }\n",
       "\n",
       "    .dataframe thead th {\n",
       "        text-align: right;\n",
       "    }\n",
       "</style>\n",
       "<table border=\"1\" class=\"dataframe\">\n",
       "  <thead>\n",
       "    <tr style=\"text-align: right;\">\n",
       "      <th></th>\n",
       "      <th>Year</th>\n",
       "      <th>fertility_rate</th>\n",
       "      <th>Age 10-14 Years</th>\n",
       "      <th>Age 15-19 Years</th>\n",
       "      <th>Age 20-24 Years</th>\n",
       "      <th>Age 25-29 Years</th>\n",
       "      <th>Age 30-34 Years</th>\n",
       "      <th>Age 35-39 Years</th>\n",
       "      <th>Age 40-44 Years</th>\n",
       "      <th>Age 45-49 Years</th>\n",
       "      <th>35+</th>\n",
       "    </tr>\n",
       "  </thead>\n",
       "  <tbody>\n",
       "    <tr>\n",
       "      <th>0</th>\n",
       "      <td>1960</td>\n",
       "      <td>3.654</td>\n",
       "      <td>0.8</td>\n",
       "      <td>89.1</td>\n",
       "      <td>258.1</td>\n",
       "      <td>197.4</td>\n",
       "      <td>112.7</td>\n",
       "      <td>56.2</td>\n",
       "      <td>15.5</td>\n",
       "      <td>0.9</td>\n",
       "      <td>72.6</td>\n",
       "    </tr>\n",
       "    <tr>\n",
       "      <th>1</th>\n",
       "      <td>1961</td>\n",
       "      <td>3.620</td>\n",
       "      <td>0.9</td>\n",
       "      <td>88.6</td>\n",
       "      <td>251.9</td>\n",
       "      <td>197.5</td>\n",
       "      <td>113.2</td>\n",
       "      <td>55.6</td>\n",
       "      <td>15.6</td>\n",
       "      <td>0.9</td>\n",
       "      <td>72.1</td>\n",
       "    </tr>\n",
       "    <tr>\n",
       "      <th>2</th>\n",
       "      <td>1962</td>\n",
       "      <td>3.461</td>\n",
       "      <td>0.8</td>\n",
       "      <td>81.4</td>\n",
       "      <td>241.9</td>\n",
       "      <td>191.1</td>\n",
       "      <td>108.6</td>\n",
       "      <td>52.6</td>\n",
       "      <td>14.9</td>\n",
       "      <td>0.9</td>\n",
       "      <td>68.4</td>\n",
       "    </tr>\n",
       "    <tr>\n",
       "      <th>3</th>\n",
       "      <td>1963</td>\n",
       "      <td>3.319</td>\n",
       "      <td>0.9</td>\n",
       "      <td>76.7</td>\n",
       "      <td>229.1</td>\n",
       "      <td>185.1</td>\n",
       "      <td>105.8</td>\n",
       "      <td>51.2</td>\n",
       "      <td>14.2</td>\n",
       "      <td>0.9</td>\n",
       "      <td>66.3</td>\n",
       "    </tr>\n",
       "    <tr>\n",
       "      <th>4</th>\n",
       "      <td>1964</td>\n",
       "      <td>3.190</td>\n",
       "      <td>0.9</td>\n",
       "      <td>73.1</td>\n",
       "      <td>217.5</td>\n",
       "      <td>178.7</td>\n",
       "      <td>103.4</td>\n",
       "      <td>49.9</td>\n",
       "      <td>13.8</td>\n",
       "      <td>0.8</td>\n",
       "      <td>64.5</td>\n",
       "    </tr>\n",
       "  </tbody>\n",
       "</table>\n",
       "</div>"
      ],
      "text/plain": [
       "   Year  fertility_rate  Age 10-14 Years  Age 15-19 Years  Age 20-24 Years  \\\n",
       "0  1960           3.654              0.8             89.1            258.1   \n",
       "1  1961           3.620              0.9             88.6            251.9   \n",
       "2  1962           3.461              0.8             81.4            241.9   \n",
       "3  1963           3.319              0.9             76.7            229.1   \n",
       "4  1964           3.190              0.9             73.1            217.5   \n",
       "\n",
       "   Age 25-29 Years  Age 30-34 Years  Age 35-39 Years  Age 40-44 Years  \\\n",
       "0            197.4            112.7             56.2             15.5   \n",
       "1            197.5            113.2             55.6             15.6   \n",
       "2            191.1            108.6             52.6             14.9   \n",
       "3            185.1            105.8             51.2             14.2   \n",
       "4            178.7            103.4             49.9             13.8   \n",
       "\n",
       "   Age 45-49 Years   35+  \n",
       "0              0.9  72.6  \n",
       "1              0.9  72.1  \n",
       "2              0.9  68.4  \n",
       "3              0.9  66.3  \n",
       "4              0.8  64.5  "
      ]
     },
<<<<<<< HEAD
     "execution_count": 7,
=======
     "execution_count": 27,
>>>>>>> e1b1d82a31eadad4443f29f3b758d350b4ef0430
     "metadata": {},
     "output_type": "execute_result"
    }
   ],
=======
   "execution_count": null,
   "metadata": {},
   "outputs": [],
>>>>>>> 01d356f5ef9b730c600cc626d82d4471439bb6e1
   "source": [
<<<<<<< HEAD
    "age_35up = merge_age_df['Age 35-39 Years'] + merge_age_df['Age 40-44 Years'] + merge_age_df['Age 45-49 Years']\n",
    "merge_age_df['35+'] = age_35up\n",
    "merge_age_df.head()"
=======
    "# Raw DataFrame Prep: Fertility by Age\n",
    "\n",
    "# Read csv\n",
    "age_fertility_df = pd.read_csv(age_fertility_path)\n",
    "\n",
    "# Clean\n",
    "age_fertility_df = age_fertility_df[['Year', 'Age 10-14 Years', 'Age 15-19 Years', 'Age 20-24 Years',\n",
    "                           'Age 25-29 Years', 'Age 30-34 Years', 'Age 35-39 Years', 'Age 40-44 Years', 'Age 45-49 Years']]\n",
    "\n",
    "# Merge with fertility rates\n",
    "merge_age_df = pd.merge(fertility_rate_df, age_fertility_df, on=\"Year\", how=\"outer\")\n",
    "\n",
    "# Print and display\n",
    "print(f'{len(merge_age_df)} records')\n",
    "merge_age_df.head()\n",
    "\n",
    "# Print to csv - remove hashmark in front of below code to export to csv\n",
    "# merge_age_df.to_csv(\"Output/fertility_age.csv\", index=False, header=True)\n"
   ]
  },
  {
   "cell_type": "markdown",
   "metadata": {},
   "source": [
    "## Fertility Rate vs Education"
>>>>>>> e1b1d82a31eadad4443f29f3b758d350b4ef0430
   ]
  },
  {
   "cell_type": "code",
<<<<<<< HEAD
<<<<<<< HEAD
   "execution_count": 8,
   "metadata": {},
   "outputs": [
    {
=======
   "execution_count": 30,
   "metadata": {},
   "outputs": [
    {
     "name": "stdout",
     "output_type": "stream",
     "text": [
      "66 records\n"
     ]
    },
    {
>>>>>>> e1b1d82a31eadad4443f29f3b758d350b4ef0430
     "data": {
      "text/html": [
       "<div>\n",
       "<style scoped>\n",
       "    .dataframe tbody tr th:only-of-type {\n",
       "        vertical-align: middle;\n",
       "    }\n",
       "\n",
       "    .dataframe tbody tr th {\n",
       "        vertical-align: top;\n",
       "    }\n",
       "\n",
       "    .dataframe thead th {\n",
       "        text-align: right;\n",
       "    }\n",
       "</style>\n",
       "<table border=\"1\" class=\"dataframe\">\n",
       "  <thead>\n",
       "    <tr style=\"text-align: right;\">\n",
       "      <th></th>\n",
       "      <th>Year</th>\n",
       "      <th>fertility_rate</th>\n",
<<<<<<< HEAD
       "      <th>Age 10-14 Years</th>\n",
       "      <th>Age 15-19 Years</th>\n",
       "      <th>Age 20-24 Years</th>\n",
       "      <th>Age 25-29 Years</th>\n",
       "      <th>Age 30-34 Years</th>\n",
       "      <th>Age 35-39 Years</th>\n",
       "      <th>Age 40-44 Years</th>\n",
       "      <th>Age 45-49 Years</th>\n",
       "      <th>35+</th>\n",
       "      <th>34 or less</th>\n",
=======
       "      <th>Total # in thousands</th>\n",
       "      <th>e0 - 4</th>\n",
       "      <th>e5 - 8</th>\n",
       "      <th>hs0 - 3</th>\n",
       "      <th>hs4</th>\n",
       "      <th>c0 - 3</th>\n",
       "      <th>c4</th>\n",
>>>>>>> e1b1d82a31eadad4443f29f3b758d350b4ef0430
       "    </tr>\n",
       "  </thead>\n",
       "  <tbody>\n",
       "    <tr>\n",
       "      <th>0</th>\n",
       "      <td>1960</td>\n",
       "      <td>3.654</td>\n",
<<<<<<< HEAD
       "      <td>0.8</td>\n",
       "      <td>89.1</td>\n",
       "      <td>258.1</td>\n",
       "      <td>197.4</td>\n",
       "      <td>112.7</td>\n",
       "      <td>56.2</td>\n",
       "      <td>15.5</td>\n",
       "      <td>0.9</td>\n",
       "      <td>72.6</td>\n",
       "      <td>658.1</td>\n",
=======
       "      <td>51,468</td>\n",
       "      <td>7.30%</td>\n",
       "      <td>30.40%</td>\n",
       "      <td>19.70%</td>\n",
       "      <td>27.70%</td>\n",
       "      <td>9.00%</td>\n",
       "      <td>5.80%</td>\n",
>>>>>>> e1b1d82a31eadad4443f29f3b758d350b4ef0430
       "    </tr>\n",
       "    <tr>\n",
       "      <th>1</th>\n",
       "      <td>1961</td>\n",
       "      <td>3.620</td>\n",
<<<<<<< HEAD
       "      <td>0.9</td>\n",
       "      <td>88.6</td>\n",
       "      <td>251.9</td>\n",
       "      <td>197.5</td>\n",
       "      <td>113.2</td>\n",
       "      <td>55.6</td>\n",
       "      <td>15.6</td>\n",
       "      <td>0.9</td>\n",
       "      <td>72.1</td>\n",
       "      <td>652.1</td>\n",
=======
       "      <td>NaN</td>\n",
       "      <td>NaN</td>\n",
       "      <td>NaN</td>\n",
       "      <td>NaN</td>\n",
       "      <td>NaN</td>\n",
       "      <td>NaN</td>\n",
       "      <td>NaN</td>\n",
>>>>>>> e1b1d82a31eadad4443f29f3b758d350b4ef0430
       "    </tr>\n",
       "    <tr>\n",
       "      <th>2</th>\n",
       "      <td>1962</td>\n",
       "      <td>3.461</td>\n",
<<<<<<< HEAD
       "      <td>0.8</td>\n",
       "      <td>81.4</td>\n",
       "      <td>241.9</td>\n",
       "      <td>191.1</td>\n",
       "      <td>108.6</td>\n",
       "      <td>52.6</td>\n",
       "      <td>14.9</td>\n",
       "      <td>0.9</td>\n",
       "      <td>68.4</td>\n",
       "      <td>623.8</td>\n",
=======
       "      <td>52,381</td>\n",
       "      <td>6.90%</td>\n",
       "      <td>27.70%</td>\n",
       "      <td>17.90%</td>\n",
       "      <td>31.60%</td>\n",
       "      <td>9.30%</td>\n",
       "      <td>6.70%</td>\n",
>>>>>>> e1b1d82a31eadad4443f29f3b758d350b4ef0430
       "    </tr>\n",
       "    <tr>\n",
       "      <th>3</th>\n",
       "      <td>1963</td>\n",
       "      <td>3.319</td>\n",
<<<<<<< HEAD
       "      <td>0.9</td>\n",
       "      <td>76.7</td>\n",
       "      <td>229.1</td>\n",
       "      <td>185.1</td>\n",
       "      <td>105.8</td>\n",
       "      <td>51.2</td>\n",
       "      <td>14.2</td>\n",
       "      <td>0.9</td>\n",
       "      <td>66.3</td>\n",
       "      <td>597.6</td>\n",
=======
       "      <td>NaN</td>\n",
       "      <td>NaN</td>\n",
       "      <td>NaN</td>\n",
       "      <td>NaN</td>\n",
       "      <td>NaN</td>\n",
       "      <td>NaN</td>\n",
       "      <td>NaN</td>\n",
>>>>>>> e1b1d82a31eadad4443f29f3b758d350b4ef0430
       "    </tr>\n",
       "    <tr>\n",
       "      <th>4</th>\n",
       "      <td>1964</td>\n",
       "      <td>3.190</td>\n",
<<<<<<< HEAD
       "      <td>0.9</td>\n",
       "      <td>73.1</td>\n",
       "      <td>217.5</td>\n",
       "      <td>178.7</td>\n",
       "      <td>103.4</td>\n",
       "      <td>49.9</td>\n",
       "      <td>13.8</td>\n",
       "      <td>0.8</td>\n",
       "      <td>64.5</td>\n",
       "      <td>573.6</td>\n",
=======
       "      <td>53,447</td>\n",
       "      <td>6.20%</td>\n",
       "      <td>26.40%</td>\n",
       "      <td>18.50%</td>\n",
       "      <td>33.40%</td>\n",
       "      <td>8.80%</td>\n",
       "      <td>6.80%</td>\n",
>>>>>>> e1b1d82a31eadad4443f29f3b758d350b4ef0430
       "    </tr>\n",
       "  </tbody>\n",
       "</table>\n",
       "</div>"
      ],
      "text/plain": [
<<<<<<< HEAD
       "   Year  fertility_rate  Age 10-14 Years  Age 15-19 Years  Age 20-24 Years  \\\n",
       "0  1960           3.654              0.8             89.1            258.1   \n",
       "1  1961           3.620              0.9             88.6            251.9   \n",
       "2  1962           3.461              0.8             81.4            241.9   \n",
       "3  1963           3.319              0.9             76.7            229.1   \n",
       "4  1964           3.190              0.9             73.1            217.5   \n",
       "\n",
       "   Age 25-29 Years  Age 30-34 Years  Age 35-39 Years  Age 40-44 Years  \\\n",
       "0            197.4            112.7             56.2             15.5   \n",
       "1            197.5            113.2             55.6             15.6   \n",
       "2            191.1            108.6             52.6             14.9   \n",
       "3            185.1            105.8             51.2             14.2   \n",
       "4            178.7            103.4             49.9             13.8   \n",
       "\n",
       "   Age 45-49 Years   35+  34 or less  \n",
       "0              0.9  72.6       658.1  \n",
       "1              0.9  72.1       652.1  \n",
       "2              0.9  68.4       623.8  \n",
       "3              0.9  66.3       597.6  \n",
       "4              0.8  64.5       573.6  "
      ]
     },
     "execution_count": 8,
=======
       "   Year  fertility_rate  Total # in thousands  e0 - 4  e5 - 8 hs0 - 3     hs4  \\\n",
       "0  1960           3.654                 51,468  7.30%  30.40%  19.70%  27.70%   \n",
       "1  1961           3.620                    NaN    NaN     NaN     NaN     NaN   \n",
       "2  1962           3.461                 52,381  6.90%  27.70%  17.90%  31.60%   \n",
       "3  1963           3.319                    NaN    NaN     NaN     NaN     NaN   \n",
       "4  1964           3.190                 53,447  6.20%  26.40%  18.50%  33.40%   \n",
       "\n",
       "  c0 - 3     c4  \n",
       "0  9.00%  5.80%  \n",
       "1    NaN    NaN  \n",
       "2  9.30%  6.70%  \n",
       "3    NaN    NaN  \n",
       "4  8.80%  6.80%  "
      ]
     },
     "execution_count": 30,
>>>>>>> e1b1d82a31eadad4443f29f3b758d350b4ef0430
     "metadata": {},
     "output_type": "execute_result"
    }
   ],
=======
   "execution_count": null,
   "metadata": {},
   "outputs": [],
>>>>>>> 01d356f5ef9b730c600cc626d82d4471439bb6e1
   "source": [
<<<<<<< HEAD
    "age_34down = merge_age_df['Age 30-34 Years'] + merge_age_df['Age 25-29 Years'] + merge_age_df['Age 20-24 Years'] + merge_age_df['Age 15-19 Years'] + merge_age_df['Age 10-14 Years']\n",
    "merge_age_df['34 or less'] = age_34down\n",
    "merge_age_df.head()"
   ]
  },
  {
   "cell_type": "code",
   "execution_count": 13,
   "metadata": {},
   "outputs": [
    {
     "data": {
      "image/png": "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\n",
      "text/plain": [
       "<Figure size 576x576 with 1 Axes>"
      ]
     },
     "metadata": {
      "needs_background": "light"
     },
     "output_type": "display_data"
    }
   ],
   "source": [
    "merge_age_df.plot(kind=\"scatter\", x=\"Year\", y=\"35+\", grid=True, figsize=(8,8),\n",
    "              title=\"Women 35 and Up\")\n",
    "plt.show()"
   ]
  },
  {
   "cell_type": "code",
   "execution_count": 14,
   "metadata": {},
   "outputs": [
    {
     "data": {
      "image/png": "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\n",
      "text/plain": [
       "<Figure size 576x576 with 1 Axes>"
      ]
     },
     "metadata": {
      "needs_background": "light"
     },
     "output_type": "display_data"
    }
   ],
   "source": [
    "merge_age_df.plot(kind=\"scatter\", x=\"Year\", y=\"34 or less\", grid=True, figsize=(8,8),\n",
    "              title=\"Women 34 and Under\")\n",
    "plt.show()"
   ]
  },
  {
   "cell_type": "code",
   "execution_count": null,
   "metadata": {},
   "outputs": [],
   "source": []
  },
  {
   "cell_type": "code",
   "execution_count": null,
   "metadata": {},
   "outputs": [],
   "source": [
=======
>>>>>>> e1b1d82a31eadad4443f29f3b758d350b4ef0430
    "# Raw DataFrame Prep: Female Education Attainment Level\n",
    "\n",
    "# Read csv and drop na\n",
    "education_df = pd.read_csv(education_path).dropna()\n",
    "\n",
    "# Clean\n",
    "education_df.rename(columns = {'Years':'Year'}, inplace=True)\n",
    "\n",
    "# Merge with fertility rates\n",
    "merge_education_df = pd.merge(fertility_rate_df, education_df, on=\"Year\", how=\"outer\")\n",
    "\n",
    "# Print and display\n",
    "print(f'{len(merge_education_df)} records')\n",
    "merge_education_df.head()\n",
    "\n",
    "# Print to csv - remove hashmark in front of below code to export to csv\n",
    "# merge_education_df.to_csv(\"Output/education.csv\", index=False, header=True)\n"
   ]
  },
  {
   "cell_type": "code",
   "execution_count": null,
   "metadata": {},
   "outputs": [],
   "source": []
  }
 ],
 "metadata": {
  "kernelspec": {
   "display_name": "Python 3",
   "language": "python",
   "name": "python3"
  },
  "language_info": {
   "codemirror_mode": {
    "name": "ipython",
    "version": 3
   },
   "file_extension": ".py",
   "mimetype": "text/x-python",
   "name": "python",
   "nbconvert_exporter": "python",
   "pygments_lexer": "ipython3",
   "version": "3.6.12"
  }
 },
 "nbformat": 4,
 "nbformat_minor": 4
}
