{
 "cells": [
  {
   "cell_type": "code",
<<<<<<< HEAD
   "execution_count": 1,
=======
   "execution_count": 63,
>>>>>>> e1b1d82a31eadad4443f29f3b758d350b4ef0430
   "metadata": {},
   "outputs": [],
   "source": [
    "#Dependencies\n",
    "import pandas as pd\n",
    "import numpy as np\n",
<<<<<<< HEAD
    "import matplotlib.pyplot as plt"
=======
    "import matplotlib.pyplot as plt\n",
    "import scipy.stats as st"
>>>>>>> e1b1d82a31eadad4443f29f3b758d350b4ef0430
   ]
  },
  {
   "cell_type": "code",
<<<<<<< HEAD
   "execution_count": 2,
=======
   "execution_count": 29,
>>>>>>> e1b1d82a31eadad4443f29f3b758d350b4ef0430
   "metadata": {},
   "outputs": [],
   "source": [
    "# csv_file pathing\n",
    "fertility_rate_path = \"Resource/fred_fertility_rates.csv\"\n",
    "living_arrangements_path = \"Resource/census_living_arrangements.csv\"\n",
    "marital_status_path = \"Resource/marital status overtime.csv\"\n",
    "age_fertility_path = \"Resource/Age_Fertility.csv\"\n",
    "education_path = \"Resource/Female Education Attainment Level.csv\"\n"
   ]
  },
  {
   "cell_type": "code",
<<<<<<< HEAD
   "execution_count": 3,
=======
   "execution_count": 5,
>>>>>>> e1b1d82a31eadad4443f29f3b758d350b4ef0430
   "metadata": {},
   "outputs": [
    {
     "name": "stdout",
     "output_type": "stream",
     "text": [
      "59 records\n"
     ]
    },
    {
     "data": {
      "text/html": [
       "<div>\n",
       "<style scoped>\n",
       "    .dataframe tbody tr th:only-of-type {\n",
       "        vertical-align: middle;\n",
       "    }\n",
       "\n",
       "    .dataframe tbody tr th {\n",
       "        vertical-align: top;\n",
       "    }\n",
       "\n",
       "    .dataframe thead th {\n",
       "        text-align: right;\n",
       "    }\n",
       "</style>\n",
       "<table border=\"1\" class=\"dataframe\">\n",
       "  <thead>\n",
       "    <tr style=\"text-align: right;\">\n",
       "      <th></th>\n",
       "      <th>Year</th>\n",
       "      <th>fertility_rate</th>\n",
       "    </tr>\n",
       "  </thead>\n",
       "  <tbody>\n",
       "    <tr>\n",
       "      <th>0</th>\n",
       "      <td>1960</td>\n",
       "      <td>3.654</td>\n",
       "    </tr>\n",
       "    <tr>\n",
       "      <th>1</th>\n",
       "      <td>1961</td>\n",
       "      <td>3.620</td>\n",
       "    </tr>\n",
       "    <tr>\n",
       "      <th>2</th>\n",
       "      <td>1962</td>\n",
       "      <td>3.461</td>\n",
       "    </tr>\n",
       "    <tr>\n",
       "      <th>3</th>\n",
       "      <td>1963</td>\n",
       "      <td>3.319</td>\n",
       "    </tr>\n",
       "    <tr>\n",
       "      <th>4</th>\n",
       "      <td>1964</td>\n",
       "      <td>3.190</td>\n",
       "    </tr>\n",
       "  </tbody>\n",
       "</table>\n",
       "</div>"
      ],
      "text/plain": [
       "   Year  fertility_rate\n",
       "0  1960           3.654\n",
       "1  1961           3.620\n",
       "2  1962           3.461\n",
       "3  1963           3.319\n",
       "4  1964           3.190"
      ]
     },
<<<<<<< HEAD
     "execution_count": 3,
=======
     "execution_count": 5,
>>>>>>> e1b1d82a31eadad4443f29f3b758d350b4ef0430
     "metadata": {},
     "output_type": "execute_result"
    }
   ],
   "source": [
    "# Raw DataFrame Prep: Fertility Rates\n",
    "\n",
<<<<<<< HEAD
    "fertility_rate_df = pd.read_csv(fertility_rate_path).dropna()\n",
    "fertility_rate_df['DATE'] = pd.to_datetime(fertility_rate_df['DATE'].str.strip(), format='%d/%m/%Y').dt.year\n",
    "fertility_rate_df.rename(columns = {'SPDYNTFRTINUSA':'fertility_rate','DATE':'Year'}, inplace = True) \n",
    "\n",
=======
    "# Read csv, drop na\n",
    "fertility_rate_df = pd.read_csv(fertility_rate_path).dropna()\n",
    "\n",
    "# Clean data\n",
    "fertility_rate_df['DATE'] = pd.to_datetime(fertility_rate_df['DATE'].str.strip(), format='%d/%m/%Y').dt.year\n",
    "fertility_rate_df.rename(columns = {'SPDYNTFRTINUSA':'fertility_rate','DATE':'Year'}, inplace = True) \n",
    "\n",
    "# Print and display\n",
>>>>>>> e1b1d82a31eadad4443f29f3b758d350b4ef0430
    "print(f'{len(fertility_rate_df)} records')\n",
    "fertility_rate_df.head()\n",
    "\n",
    "# Print to csv - remove hashmark in front of below code to export to csv\n",
    "# fertility_rate_df.to_csv(\"Output/fertility_rate.csv\", index=False, header=True)\n"
   ]
  },
  {
<<<<<<< HEAD
   "cell_type": "code",
   "execution_count": 4,
=======
   "cell_type": "markdown",
   "metadata": {},
   "source": [
    "## Fertility Rate vs Living Arrangements"
   ]
  },
  {
   "cell_type": "code",
   "execution_count": 32,
>>>>>>> e1b1d82a31eadad4443f29f3b758d350b4ef0430
   "metadata": {},
   "outputs": [
    {
     "name": "stdout",
     "output_type": "stream",
     "text": [
<<<<<<< HEAD
      "60 records\n"
     ]
    },
    {
     "data": {
      "text/html": [
       "<div>\n",
       "<style scoped>\n",
       "    .dataframe tbody tr th:only-of-type {\n",
       "        vertical-align: middle;\n",
       "    }\n",
       "\n",
       "    .dataframe tbody tr th {\n",
       "        vertical-align: top;\n",
       "    }\n",
       "\n",
       "    .dataframe thead th {\n",
       "        text-align: right;\n",
       "    }\n",
       "</style>\n",
       "<table border=\"1\" class=\"dataframe\">\n",
       "  <thead>\n",
       "    <tr style=\"text-align: right;\">\n",
       "      <th></th>\n",
       "      <th>Year</th>\n",
       "      <th>fertility_rate</th>\n",
       "      <th>under_18</th>\n",
       "      <th>two_parents</th>\n",
       "      <th>mother_only</th>\n",
       "      <th>father_only</th>\n",
       "      <th>other_relatives</th>\n",
       "      <th>non_relatives</th>\n",
       "    </tr>\n",
       "  </thead>\n",
       "  <tbody>\n",
       "    <tr>\n",
       "      <th>0</th>\n",
       "      <td>1960</td>\n",
       "      <td>3.654</td>\n",
       "      <td>63727.0</td>\n",
       "      <td>55877.0</td>\n",
       "      <td>5105.0</td>\n",
       "      <td>724.0</td>\n",
       "      <td>1601.0</td>\n",
       "      <td>420.0</td>\n",
       "    </tr>\n",
       "    <tr>\n",
       "      <th>1</th>\n",
       "      <td>1961</td>\n",
       "      <td>3.620</td>\n",
       "      <td>NaN</td>\n",
       "      <td>NaN</td>\n",
       "      <td>NaN</td>\n",
       "      <td>NaN</td>\n",
       "      <td>NaN</td>\n",
       "      <td>NaN</td>\n",
       "    </tr>\n",
       "    <tr>\n",
       "      <th>2</th>\n",
       "      <td>1962</td>\n",
       "      <td>3.461</td>\n",
       "      <td>NaN</td>\n",
       "      <td>NaN</td>\n",
       "      <td>NaN</td>\n",
       "      <td>NaN</td>\n",
       "      <td>NaN</td>\n",
       "      <td>NaN</td>\n",
       "    </tr>\n",
       "    <tr>\n",
       "      <th>3</th>\n",
       "      <td>1963</td>\n",
       "      <td>3.319</td>\n",
       "      <td>NaN</td>\n",
       "      <td>NaN</td>\n",
       "      <td>NaN</td>\n",
       "      <td>NaN</td>\n",
       "      <td>NaN</td>\n",
       "      <td>NaN</td>\n",
       "    </tr>\n",
       "    <tr>\n",
       "      <th>4</th>\n",
       "      <td>1964</td>\n",
       "      <td>3.190</td>\n",
       "      <td>NaN</td>\n",
       "      <td>NaN</td>\n",
       "      <td>NaN</td>\n",
       "      <td>NaN</td>\n",
       "      <td>NaN</td>\n",
       "      <td>NaN</td>\n",
       "    </tr>\n",
       "  </tbody>\n",
       "</table>\n",
       "</div>"
      ],
      "text/plain": [
       "   Year  fertility_rate  under_18  two_parents  mother_only  father_only  \\\n",
       "0  1960           3.654   63727.0      55877.0       5105.0        724.0   \n",
       "1  1961           3.620       NaN          NaN          NaN          NaN   \n",
       "2  1962           3.461       NaN          NaN          NaN          NaN   \n",
       "3  1963           3.319       NaN          NaN          NaN          NaN   \n",
       "4  1964           3.190       NaN          NaN          NaN          NaN   \n",
       "\n",
       "   other_relatives  non_relatives  \n",
       "0           1601.0          420.0  \n",
       "1              NaN            NaN  \n",
       "2              NaN            NaN  \n",
       "3              NaN            NaN  \n",
       "4              NaN            NaN  "
      ]
     },
     "execution_count": 4,
     "metadata": {},
     "output_type": "execute_result"
=======
      "52 records\n"
     ]
>>>>>>> e1b1d82a31eadad4443f29f3b758d350b4ef0430
    }
   ],
   "source": [
    "# Raw DataFrame Prep: Living Arrangements\n",
    "\n",
    "# Read csv, drop na\n",
    "living_arrangements_df = pd.read_csv(living_arrangements_path).dropna()\n",
    "\n",
    "# Merge with fertility rates\n",
<<<<<<< HEAD
    "merge_living_df = pd.merge(fertility_rate_df, living_arrangements_df, on=\"Year\", how=\"outer\")\n",
    "\n",
    "# Print and display\n",
    "print(f'{len(merge_living_df)} records')\n",
    "merge_living_df.head()\n",
    "\n",
    "# Print to csv - remove hashmark in front of below code to export to csv\n",
=======
    "merge_living_df = pd.merge(fertility_rate_df, living_arrangements_df, on = \"Year\", how = \"outer\").dropna()\n",
    "\n",
    "# Print, display, export options\n",
    "print(f'{len(merge_living_df)} records')\n",
    "# merge_living_df.head()\n",
>>>>>>> e1b1d82a31eadad4443f29f3b758d350b4ef0430
    "# merge_living_df.to_csv(\"Output/living_arrangements.csv\", index=False, header=True)"
   ]
  },
  {
   "cell_type": "code",
<<<<<<< HEAD
   "execution_count": 5,
   "metadata": {},
   "outputs": [
    {
     "name": "stdout",
     "output_type": "stream",
     "text": [
      "61 records\n"
     ]
    },
    {
     "data": {
      "text/html": [
       "<div>\n",
       "<style scoped>\n",
       "    .dataframe tbody tr th:only-of-type {\n",
       "        vertical-align: middle;\n",
       "    }\n",
       "\n",
       "    .dataframe tbody tr th {\n",
       "        vertical-align: top;\n",
       "    }\n",
       "\n",
       "    .dataframe thead th {\n",
       "        text-align: right;\n",
       "    }\n",
       "</style>\n",
       "<table border=\"1\" class=\"dataframe\">\n",
       "  <thead>\n",
       "    <tr style=\"text-align: right;\">\n",
       "      <th></th>\n",
       "      <th>Year</th>\n",
       "      <th>fertility_rate</th>\n",
       "      <th>Men Total</th>\n",
       "      <th>Married Men</th>\n",
       "      <th>Unmarried Men Total</th>\n",
       "      <th>Never Married Men</th>\n",
       "      <th>Widowed Men</th>\n",
       "      <th>Divorced Men</th>\n",
       "      <th>Women Total</th>\n",
       "      <th>Married Women</th>\n",
       "      <th>Unmarried Women Total</th>\n",
       "      <th>Never Married Women</th>\n",
       "      <th>Widowed Women</th>\n",
       "      <th>Divorced Women</th>\n",
       "    </tr>\n",
       "  </thead>\n",
       "  <tbody>\n",
       "    <tr>\n",
       "      <th>0</th>\n",
       "      <td>1960</td>\n",
       "      <td>3.654</td>\n",
       "      <td>60,273</td>\n",
       "      <td>41,781</td>\n",
       "      <td>18,492</td>\n",
       "      <td>15,274</td>\n",
       "      <td>2,112</td>\n",
       "      <td>1,106</td>\n",
       "      <td>64,607</td>\n",
       "      <td>42,583</td>\n",
       "      <td>22,024</td>\n",
       "      <td>12,252</td>\n",
       "      <td>8,064</td>\n",
       "      <td>1,708</td>\n",
       "    </tr>\n",
       "    <tr>\n",
       "      <th>1</th>\n",
       "      <td>1961</td>\n",
       "      <td>3.620</td>\n",
       "      <td>NaN</td>\n",
       "      <td>NaN</td>\n",
       "      <td>NaN</td>\n",
       "      <td>NaN</td>\n",
       "      <td>NaN</td>\n",
       "      <td>NaN</td>\n",
       "      <td>NaN</td>\n",
       "      <td>NaN</td>\n",
       "      <td>NaN</td>\n",
       "      <td>NaN</td>\n",
       "      <td>NaN</td>\n",
       "      <td>NaN</td>\n",
       "    </tr>\n",
       "    <tr>\n",
       "      <th>2</th>\n",
       "      <td>1962</td>\n",
       "      <td>3.461</td>\n",
       "      <td>NaN</td>\n",
       "      <td>NaN</td>\n",
       "      <td>NaN</td>\n",
       "      <td>NaN</td>\n",
       "      <td>NaN</td>\n",
       "      <td>NaN</td>\n",
       "      <td>NaN</td>\n",
       "      <td>NaN</td>\n",
       "      <td>NaN</td>\n",
       "      <td>NaN</td>\n",
       "      <td>NaN</td>\n",
       "      <td>NaN</td>\n",
       "    </tr>\n",
       "    <tr>\n",
       "      <th>3</th>\n",
       "      <td>1963</td>\n",
       "      <td>3.319</td>\n",
       "      <td>NaN</td>\n",
       "      <td>NaN</td>\n",
       "      <td>NaN</td>\n",
       "      <td>NaN</td>\n",
       "      <td>NaN</td>\n",
       "      <td>NaN</td>\n",
       "      <td>NaN</td>\n",
       "      <td>NaN</td>\n",
       "      <td>NaN</td>\n",
       "      <td>NaN</td>\n",
       "      <td>NaN</td>\n",
       "      <td>NaN</td>\n",
       "    </tr>\n",
       "    <tr>\n",
       "      <th>4</th>\n",
       "      <td>1964</td>\n",
       "      <td>3.190</td>\n",
       "      <td>NaN</td>\n",
       "      <td>NaN</td>\n",
       "      <td>NaN</td>\n",
       "      <td>NaN</td>\n",
       "      <td>NaN</td>\n",
       "      <td>NaN</td>\n",
       "      <td>NaN</td>\n",
       "      <td>NaN</td>\n",
       "      <td>NaN</td>\n",
       "      <td>NaN</td>\n",
       "      <td>NaN</td>\n",
       "      <td>NaN</td>\n",
       "    </tr>\n",
       "  </tbody>\n",
       "</table>\n",
       "</div>"
      ],
      "text/plain": [
       "   Year  fertility_rate Men Total Married Men Unmarried Men Total  \\\n",
       "0  1960           3.654    60,273      41,781              18,492   \n",
       "1  1961           3.620       NaN         NaN                 NaN   \n",
       "2  1962           3.461       NaN         NaN                 NaN   \n",
       "3  1963           3.319       NaN         NaN                 NaN   \n",
       "4  1964           3.190       NaN         NaN                 NaN   \n",
       "\n",
       "  Never Married Men Widowed Men Divorced Men Women Total Married Women  \\\n",
       "0            15,274       2,112        1,106      64,607        42,583   \n",
       "1               NaN         NaN          NaN         NaN           NaN   \n",
       "2               NaN         NaN          NaN         NaN           NaN   \n",
       "3               NaN         NaN          NaN         NaN           NaN   \n",
       "4               NaN         NaN          NaN         NaN           NaN   \n",
       "\n",
       "  Unmarried Women Total  Never Married Women Widowed Women Divorced Women  \n",
       "0                 22,024              12,252         8,064          1,708  \n",
       "1                    NaN                 NaN           NaN            NaN  \n",
       "2                    NaN                 NaN           NaN            NaN  \n",
       "3                    NaN                 NaN           NaN            NaN  \n",
       "4                    NaN                 NaN           NaN            NaN  "
      ]
     },
     "execution_count": 5,
     "metadata": {},
     "output_type": "execute_result"
    }
   ],
   "source": [
    "# Raw DataFrame Prep: Marital Status\n",
    "\n",
    "# Read csv, drop na\n",
    "marital_status_df = pd.read_csv(marital_status_path).dropna()\n",
    "\n",
    "# Merge with fertility rates\n",
    "merge_marital_df = pd.merge(fertility_rate_df, marital_status_df, on=\"Year\", how=\"outer\")\n",
    "\n",
    "# Print and display\n",
    "print(f'{len(merge_marital_df)} records')\n",
    "merge_marital_df.head()\n",
    "\n",
    "# Print to csv - remove hashmark in front of below code to export to csv\n",
    "# merge_marital_df.to_csv(\"Output/marital_status.csv\", index=False, header=True)"
   ]
  },
  {
   "cell_type": "code",
   "execution_count": 6,
   "metadata": {},
   "outputs": [
    {
     "name": "stdout",
     "output_type": "stream",
     "text": [
      "73 records\n"
     ]
    },
    {
     "data": {
      "text/html": [
       "<div>\n",
       "<style scoped>\n",
       "    .dataframe tbody tr th:only-of-type {\n",
       "        vertical-align: middle;\n",
       "    }\n",
       "\n",
       "    .dataframe tbody tr th {\n",
       "        vertical-align: top;\n",
       "    }\n",
       "\n",
       "    .dataframe thead th {\n",
       "        text-align: right;\n",
       "    }\n",
       "</style>\n",
       "<table border=\"1\" class=\"dataframe\">\n",
       "  <thead>\n",
       "    <tr style=\"text-align: right;\">\n",
       "      <th></th>\n",
       "      <th>Year</th>\n",
       "      <th>fertility_rate</th>\n",
       "      <th>Age 10-14 Years</th>\n",
       "      <th>Age 15-19 Years</th>\n",
       "      <th>Age 20-24 Years</th>\n",
       "      <th>Age 25-29 Years</th>\n",
       "      <th>Age 30-34 Years</th>\n",
       "      <th>Age 35-39 Years</th>\n",
       "      <th>Age 40-44 Years</th>\n",
       "      <th>Age 45-49 Years</th>\n",
       "    </tr>\n",
       "  </thead>\n",
       "  <tbody>\n",
       "    <tr>\n",
       "      <th>0</th>\n",
       "      <td>1960</td>\n",
       "      <td>3.654</td>\n",
       "      <td>0.8</td>\n",
       "      <td>89.1</td>\n",
       "      <td>258.1</td>\n",
       "      <td>197.4</td>\n",
       "      <td>112.7</td>\n",
       "      <td>56.2</td>\n",
       "      <td>15.5</td>\n",
       "      <td>0.9</td>\n",
       "    </tr>\n",
       "    <tr>\n",
       "      <th>1</th>\n",
       "      <td>1961</td>\n",
       "      <td>3.620</td>\n",
       "      <td>0.9</td>\n",
       "      <td>88.6</td>\n",
       "      <td>251.9</td>\n",
       "      <td>197.5</td>\n",
       "      <td>113.2</td>\n",
       "      <td>55.6</td>\n",
       "      <td>15.6</td>\n",
       "      <td>0.9</td>\n",
       "    </tr>\n",
       "    <tr>\n",
       "      <th>2</th>\n",
       "      <td>1962</td>\n",
       "      <td>3.461</td>\n",
       "      <td>0.8</td>\n",
       "      <td>81.4</td>\n",
       "      <td>241.9</td>\n",
       "      <td>191.1</td>\n",
       "      <td>108.6</td>\n",
       "      <td>52.6</td>\n",
       "      <td>14.9</td>\n",
       "      <td>0.9</td>\n",
       "    </tr>\n",
       "    <tr>\n",
       "      <th>3</th>\n",
       "      <td>1963</td>\n",
       "      <td>3.319</td>\n",
       "      <td>0.9</td>\n",
       "      <td>76.7</td>\n",
       "      <td>229.1</td>\n",
       "      <td>185.1</td>\n",
       "      <td>105.8</td>\n",
       "      <td>51.2</td>\n",
       "      <td>14.2</td>\n",
       "      <td>0.9</td>\n",
       "    </tr>\n",
       "    <tr>\n",
       "      <th>4</th>\n",
       "      <td>1964</td>\n",
       "      <td>3.190</td>\n",
       "      <td>0.9</td>\n",
       "      <td>73.1</td>\n",
       "      <td>217.5</td>\n",
       "      <td>178.7</td>\n",
       "      <td>103.4</td>\n",
       "      <td>49.9</td>\n",
       "      <td>13.8</td>\n",
       "      <td>0.8</td>\n",
       "    </tr>\n",
       "  </tbody>\n",
       "</table>\n",
       "</div>"
      ],
      "text/plain": [
       "   Year  fertility_rate  Age 10-14 Years  Age 15-19 Years  Age 20-24 Years  \\\n",
       "0  1960           3.654              0.8             89.1            258.1   \n",
       "1  1961           3.620              0.9             88.6            251.9   \n",
       "2  1962           3.461              0.8             81.4            241.9   \n",
       "3  1963           3.319              0.9             76.7            229.1   \n",
       "4  1964           3.190              0.9             73.1            217.5   \n",
       "\n",
       "   Age 25-29 Years  Age 30-34 Years  Age 35-39 Years  Age 40-44 Years  \\\n",
       "0            197.4            112.7             56.2             15.5   \n",
       "1            197.5            113.2             55.6             15.6   \n",
       "2            191.1            108.6             52.6             14.9   \n",
       "3            185.1            105.8             51.2             14.2   \n",
       "4            178.7            103.4             49.9             13.8   \n",
       "\n",
       "   Age 45-49 Years  \n",
       "0              0.9  \n",
       "1              0.9  \n",
       "2              0.9  \n",
       "3              0.9  \n",
       "4              0.8  "
      ]
     },
     "execution_count": 6,
     "metadata": {},
     "output_type": "execute_result"
    }
   ],
   "source": [
    "# Raw DataFrame Prep: Fertility by Age\n",
    "\n",
    "# Read csv\n",
    "age_fertility_df = pd.read_csv(age_fertility_path)\n",
    "\n",
    "# Clean\n",
    "age_fertility_df = age_fertility_df[['Year', 'Age 10-14 Years', 'Age 15-19 Years', 'Age 20-24 Years',\n",
    "                           'Age 25-29 Years', 'Age 30-34 Years', 'Age 35-39 Years', 'Age 40-44 Years', 'Age 45-49 Years']]\n",
    "\n",
    "# Merge with fertility rates\n",
    "merge_age_df = pd.merge(fertility_rate_df, age_fertility_df, on=\"Year\", how=\"outer\")\n",
    "\n",
    "# Print and display\n",
    "print(f'{len(merge_age_df)} records')\n",
    "merge_age_df.head()\n",
    "\n",
    "# Print to csv - remove hashmark in front of below code to export to csv\n",
    "# merge_age_df.to_csv(\"Output/fertility_age.csv\", index=False, header=True)"
=======
   "execution_count": 71,
   "metadata": {},
   "outputs": [],
   "source": [
    "# Living Arrangements Bar Chart\n",
    "\n",
    "# Clean and organize\n",
    "other_ttl = merge_living_df['father_only'] + merge_living_df['other_relatives'] + merge_living_df['non_relatives']\n",
    "pct_mother_only = merge_living_df['mother_only'] / merge_living_df['under_18'] \n",
    "pct_two_parents = merge_living_df['two_parents'] / merge_living_df['under_18'] \n",
    "pct_other = merge_living_df['other'] / merge_living_df['under_18'] \n",
    "\n",
    "merge_living_df['other']= other_ttl\n",
    "merge_living_df['%_mother_only']= pct_mother_only.map(\"{:,.2%}\".format)\n",
    "merge_living_df['%_two_parents']= pct_two_parents.map(\"{:,.2%}\".format)\n",
    "merge_living_df['%_other']= pct_other.map(\"{:,.2%}\".format)\n",
    "\n",
    "# Create data frame w/specific chart data required\n",
    "chart_data_df = merge_living_df[['Year', 'fertility_rate', 'under_18', 'mother_only', 'two_parents', 'other', '%_mother_only', '%_two_parents', '%_other']].reset_index(drop=True)\n",
    "pct_mother_only = chart_data_df['mother_only'] / chart_data_df['under_18'] \n",
    "pct_two_parents = chart_data_df['two_parents'] / chart_data_df['under_18'] \n",
    "pct_other = chart_data_df['other'] / chart_data_df['under_18'] \n",
    "\n",
    "# Drop Outlier\n",
    "chart_data_df = chart_data_df[chart_data_df.Year != 1960]\n",
    "chart_data_df.head()\n",
    "\n",
    "# Print output\n",
    "chart_data_df.to_csv(\"Output/living_arrangements_chartdata.csv\", index=False, header=True)"
   ]
  },
  {
   "cell_type": "code",
   "execution_count": 58,
   "metadata": {
    "scrolled": true
   },
   "outputs": [
    {
     "data": {
      "text/plain": [
       "[<matplotlib.lines.Line2D at 0x1de9a8d8278>]"
      ]
     },
     "execution_count": 58,
     "metadata": {},
     "output_type": "execute_result"
    },
    {
     "data": {
      "image/png": "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\n",
      "text/plain": [
       "<Figure size 432x288 with 1 Axes>"
      ]
     },
     "metadata": {
      "needs_background": "light"
     },
     "output_type": "display_data"
    }
   ],
   "source": [
    "# Living Arrangements Line Chart\n",
    "\n",
    "x_axis_data = chart_data_df['Year']\n",
    "y_axis1 = chart_data_df['%_mother_only']\n",
    "y_axis2 = chart_data_df['%_other']\n",
    "y_axis3 = chart_data_df['%_two_parents']\n",
    "\n",
    "plt.plot(x_axis_data, y_axis1)\n",
    "plt.plot(x_axis_data, y_axis2)\n",
    "plt.plot(x_axis_data, y_axis3)\n"
   ]
  },
  {
   "cell_type": "code",
   "execution_count": 69,
   "metadata": {},
   "outputs": [
    {
     "data": {
      "image/png": "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\n",
      "text/plain": [
       "<Figure size 432x288 with 1 Axes>"
      ]
     },
     "metadata": {
      "needs_background": "light"
     },
     "output_type": "display_data"
    }
   ],
   "source": [
    "# Living Arrangements Scatter Chart\n",
    "\n",
    "fertility_rate = chart_data_df['fertility_rate']\n",
    "mother_only = chart_data_df['%_mother_only']\n",
    "\n",
    "plt.scatter(fertility_rate, mother_only, marker=\"o\", facecolors=\"red\", edgecolors=\"gray\")\n",
    "\n",
    "plt.xlabel('Fertility Rate')\n",
    "plt.ylabel('Mother Only')\n",
    "\n",
    "plt.show()\n"
   ]
  },
  {
   "cell_type": "markdown",
   "metadata": {},
   "source": [
    "## Fertility Rate vs Marital Status"
   ]
  },
  {
   "cell_type": "code",
   "execution_count": 7,
   "metadata": {},
   "outputs": [
    {
     "name": "stdout",
     "output_type": "stream",
     "text": [
      "61 records\n"
     ]
    }
   ],
   "source": [
    "# Raw DataFrame Prep: Marital Status\n",
    "\n",
    "# Read csv, drop na\n",
    "marital_status_df = pd.read_csv(marital_status_path).dropna()\n",
    "\n",
    "# Merge with fertility rates\n",
    "merge_marital_df = pd.merge(fertility_rate_df, marital_status_df, on=\"Year\", how=\"outer\")\n",
    "\n",
    "# Print and display\n",
    "print(f'{len(merge_marital_df)} records')\n",
    "merge_marital_df.head()\n",
    "\n",
    "# Print to csv - remove hashmark in front of below code to export to csv\n",
    "merge_marital_df.to_csv(\"Output/marital_status.csv\", index=False, header=True)"
   ]
  },
  {
   "cell_type": "markdown",
   "metadata": {},
   "source": [
    "## Fertility Rate vs Age"
>>>>>>> e1b1d82a31eadad4443f29f3b758d350b4ef0430
   ]
  },
  {
   "cell_type": "code",
<<<<<<< HEAD
   "execution_count": 7,
   "metadata": {},
   "outputs": [
    {
=======
   "execution_count": 27,
   "metadata": {},
   "outputs": [
    {
     "name": "stdout",
     "output_type": "stream",
     "text": [
      "73 records\n"
     ]
    },
    {
>>>>>>> e1b1d82a31eadad4443f29f3b758d350b4ef0430
     "data": {
      "text/html": [
       "<div>\n",
       "<style scoped>\n",
       "    .dataframe tbody tr th:only-of-type {\n",
       "        vertical-align: middle;\n",
       "    }\n",
       "\n",
       "    .dataframe tbody tr th {\n",
       "        vertical-align: top;\n",
       "    }\n",
       "\n",
       "    .dataframe thead th {\n",
       "        text-align: right;\n",
       "    }\n",
       "</style>\n",
       "<table border=\"1\" class=\"dataframe\">\n",
       "  <thead>\n",
       "    <tr style=\"text-align: right;\">\n",
       "      <th></th>\n",
       "      <th>Year</th>\n",
       "      <th>fertility_rate</th>\n",
       "      <th>Age 10-14 Years</th>\n",
       "      <th>Age 15-19 Years</th>\n",
       "      <th>Age 20-24 Years</th>\n",
       "      <th>Age 25-29 Years</th>\n",
       "      <th>Age 30-34 Years</th>\n",
       "      <th>Age 35-39 Years</th>\n",
       "      <th>Age 40-44 Years</th>\n",
       "      <th>Age 45-49 Years</th>\n",
       "      <th>35+</th>\n",
       "    </tr>\n",
       "  </thead>\n",
       "  <tbody>\n",
       "    <tr>\n",
       "      <th>0</th>\n",
       "      <td>1960</td>\n",
       "      <td>3.654</td>\n",
       "      <td>0.8</td>\n",
       "      <td>89.1</td>\n",
       "      <td>258.1</td>\n",
       "      <td>197.4</td>\n",
       "      <td>112.7</td>\n",
       "      <td>56.2</td>\n",
       "      <td>15.5</td>\n",
       "      <td>0.9</td>\n",
       "      <td>72.6</td>\n",
       "    </tr>\n",
       "    <tr>\n",
       "      <th>1</th>\n",
       "      <td>1961</td>\n",
       "      <td>3.620</td>\n",
       "      <td>0.9</td>\n",
       "      <td>88.6</td>\n",
       "      <td>251.9</td>\n",
       "      <td>197.5</td>\n",
       "      <td>113.2</td>\n",
       "      <td>55.6</td>\n",
       "      <td>15.6</td>\n",
       "      <td>0.9</td>\n",
       "      <td>72.1</td>\n",
       "    </tr>\n",
       "    <tr>\n",
       "      <th>2</th>\n",
       "      <td>1962</td>\n",
       "      <td>3.461</td>\n",
       "      <td>0.8</td>\n",
       "      <td>81.4</td>\n",
       "      <td>241.9</td>\n",
       "      <td>191.1</td>\n",
       "      <td>108.6</td>\n",
       "      <td>52.6</td>\n",
       "      <td>14.9</td>\n",
       "      <td>0.9</td>\n",
       "      <td>68.4</td>\n",
       "    </tr>\n",
       "    <tr>\n",
       "      <th>3</th>\n",
       "      <td>1963</td>\n",
       "      <td>3.319</td>\n",
       "      <td>0.9</td>\n",
       "      <td>76.7</td>\n",
       "      <td>229.1</td>\n",
       "      <td>185.1</td>\n",
       "      <td>105.8</td>\n",
       "      <td>51.2</td>\n",
       "      <td>14.2</td>\n",
       "      <td>0.9</td>\n",
       "      <td>66.3</td>\n",
       "    </tr>\n",
       "    <tr>\n",
       "      <th>4</th>\n",
       "      <td>1964</td>\n",
       "      <td>3.190</td>\n",
       "      <td>0.9</td>\n",
       "      <td>73.1</td>\n",
       "      <td>217.5</td>\n",
       "      <td>178.7</td>\n",
       "      <td>103.4</td>\n",
       "      <td>49.9</td>\n",
       "      <td>13.8</td>\n",
       "      <td>0.8</td>\n",
       "      <td>64.5</td>\n",
       "    </tr>\n",
       "  </tbody>\n",
       "</table>\n",
       "</div>"
      ],
      "text/plain": [
       "   Year  fertility_rate  Age 10-14 Years  Age 15-19 Years  Age 20-24 Years  \\\n",
       "0  1960           3.654              0.8             89.1            258.1   \n",
       "1  1961           3.620              0.9             88.6            251.9   \n",
       "2  1962           3.461              0.8             81.4            241.9   \n",
       "3  1963           3.319              0.9             76.7            229.1   \n",
       "4  1964           3.190              0.9             73.1            217.5   \n",
       "\n",
       "   Age 25-29 Years  Age 30-34 Years  Age 35-39 Years  Age 40-44 Years  \\\n",
       "0            197.4            112.7             56.2             15.5   \n",
       "1            197.5            113.2             55.6             15.6   \n",
       "2            191.1            108.6             52.6             14.9   \n",
       "3            185.1            105.8             51.2             14.2   \n",
       "4            178.7            103.4             49.9             13.8   \n",
       "\n",
       "   Age 45-49 Years   35+  \n",
       "0              0.9  72.6  \n",
       "1              0.9  72.1  \n",
       "2              0.9  68.4  \n",
       "3              0.9  66.3  \n",
       "4              0.8  64.5  "
      ]
     },
<<<<<<< HEAD
     "execution_count": 7,
=======
     "execution_count": 27,
>>>>>>> e1b1d82a31eadad4443f29f3b758d350b4ef0430
     "metadata": {},
     "output_type": "execute_result"
    }
   ],
   "source": [
<<<<<<< HEAD
    "age_35up = merge_age_df['Age 35-39 Years'] + merge_age_df['Age 40-44 Years'] + merge_age_df['Age 45-49 Years']\n",
    "merge_age_df['35+'] = age_35up\n",
    "merge_age_df.head()"
=======
    "# Raw DataFrame Prep: Fertility by Age\n",
    "\n",
    "# Read csv\n",
    "age_fertility_df = pd.read_csv(age_fertility_path)\n",
    "\n",
    "# Clean\n",
    "age_fertility_df = age_fertility_df[['Year', 'Age 10-14 Years', 'Age 15-19 Years', 'Age 20-24 Years',\n",
    "                           'Age 25-29 Years', 'Age 30-34 Years', 'Age 35-39 Years', 'Age 40-44 Years', 'Age 45-49 Years']]\n",
    "\n",
    "# Merge with fertility rates\n",
    "merge_age_df = pd.merge(fertility_rate_df, age_fertility_df, on=\"Year\", how=\"outer\")\n",
    "\n",
    "# Print and display\n",
    "print(f'{len(merge_age_df)} records')\n",
    "merge_age_df.head()\n",
    "\n",
    "# Print to csv - remove hashmark in front of below code to export to csv\n",
    "# merge_age_df.to_csv(\"Output/fertility_age.csv\", index=False, header=True)"
   ]
  },
  {
   "cell_type": "markdown",
   "metadata": {},
   "source": [
    "## Fertility Rate vs Education"
>>>>>>> e1b1d82a31eadad4443f29f3b758d350b4ef0430
   ]
  },
  {
   "cell_type": "code",
<<<<<<< HEAD
   "execution_count": 8,
   "metadata": {},
   "outputs": [
    {
=======
   "execution_count": 30,
   "metadata": {},
   "outputs": [
    {
     "name": "stdout",
     "output_type": "stream",
     "text": [
      "66 records\n"
     ]
    },
    {
>>>>>>> e1b1d82a31eadad4443f29f3b758d350b4ef0430
     "data": {
      "text/html": [
       "<div>\n",
       "<style scoped>\n",
       "    .dataframe tbody tr th:only-of-type {\n",
       "        vertical-align: middle;\n",
       "    }\n",
       "\n",
       "    .dataframe tbody tr th {\n",
       "        vertical-align: top;\n",
       "    }\n",
       "\n",
       "    .dataframe thead th {\n",
       "        text-align: right;\n",
       "    }\n",
       "</style>\n",
       "<table border=\"1\" class=\"dataframe\">\n",
       "  <thead>\n",
       "    <tr style=\"text-align: right;\">\n",
       "      <th></th>\n",
       "      <th>Year</th>\n",
       "      <th>fertility_rate</th>\n",
<<<<<<< HEAD
       "      <th>Age 10-14 Years</th>\n",
       "      <th>Age 15-19 Years</th>\n",
       "      <th>Age 20-24 Years</th>\n",
       "      <th>Age 25-29 Years</th>\n",
       "      <th>Age 30-34 Years</th>\n",
       "      <th>Age 35-39 Years</th>\n",
       "      <th>Age 40-44 Years</th>\n",
       "      <th>Age 45-49 Years</th>\n",
       "      <th>35+</th>\n",
       "      <th>34 or less</th>\n",
=======
       "      <th>Total # in thousands</th>\n",
       "      <th>e0 - 4</th>\n",
       "      <th>e5 - 8</th>\n",
       "      <th>hs0 - 3</th>\n",
       "      <th>hs4</th>\n",
       "      <th>c0 - 3</th>\n",
       "      <th>c4</th>\n",
>>>>>>> e1b1d82a31eadad4443f29f3b758d350b4ef0430
       "    </tr>\n",
       "  </thead>\n",
       "  <tbody>\n",
       "    <tr>\n",
       "      <th>0</th>\n",
       "      <td>1960</td>\n",
       "      <td>3.654</td>\n",
<<<<<<< HEAD
       "      <td>0.8</td>\n",
       "      <td>89.1</td>\n",
       "      <td>258.1</td>\n",
       "      <td>197.4</td>\n",
       "      <td>112.7</td>\n",
       "      <td>56.2</td>\n",
       "      <td>15.5</td>\n",
       "      <td>0.9</td>\n",
       "      <td>72.6</td>\n",
       "      <td>658.1</td>\n",
=======
       "      <td>51,468</td>\n",
       "      <td>7.30%</td>\n",
       "      <td>30.40%</td>\n",
       "      <td>19.70%</td>\n",
       "      <td>27.70%</td>\n",
       "      <td>9.00%</td>\n",
       "      <td>5.80%</td>\n",
>>>>>>> e1b1d82a31eadad4443f29f3b758d350b4ef0430
       "    </tr>\n",
       "    <tr>\n",
       "      <th>1</th>\n",
       "      <td>1961</td>\n",
       "      <td>3.620</td>\n",
<<<<<<< HEAD
       "      <td>0.9</td>\n",
       "      <td>88.6</td>\n",
       "      <td>251.9</td>\n",
       "      <td>197.5</td>\n",
       "      <td>113.2</td>\n",
       "      <td>55.6</td>\n",
       "      <td>15.6</td>\n",
       "      <td>0.9</td>\n",
       "      <td>72.1</td>\n",
       "      <td>652.1</td>\n",
=======
       "      <td>NaN</td>\n",
       "      <td>NaN</td>\n",
       "      <td>NaN</td>\n",
       "      <td>NaN</td>\n",
       "      <td>NaN</td>\n",
       "      <td>NaN</td>\n",
       "      <td>NaN</td>\n",
>>>>>>> e1b1d82a31eadad4443f29f3b758d350b4ef0430
       "    </tr>\n",
       "    <tr>\n",
       "      <th>2</th>\n",
       "      <td>1962</td>\n",
       "      <td>3.461</td>\n",
<<<<<<< HEAD
       "      <td>0.8</td>\n",
       "      <td>81.4</td>\n",
       "      <td>241.9</td>\n",
       "      <td>191.1</td>\n",
       "      <td>108.6</td>\n",
       "      <td>52.6</td>\n",
       "      <td>14.9</td>\n",
       "      <td>0.9</td>\n",
       "      <td>68.4</td>\n",
       "      <td>623.8</td>\n",
=======
       "      <td>52,381</td>\n",
       "      <td>6.90%</td>\n",
       "      <td>27.70%</td>\n",
       "      <td>17.90%</td>\n",
       "      <td>31.60%</td>\n",
       "      <td>9.30%</td>\n",
       "      <td>6.70%</td>\n",
>>>>>>> e1b1d82a31eadad4443f29f3b758d350b4ef0430
       "    </tr>\n",
       "    <tr>\n",
       "      <th>3</th>\n",
       "      <td>1963</td>\n",
       "      <td>3.319</td>\n",
<<<<<<< HEAD
       "      <td>0.9</td>\n",
       "      <td>76.7</td>\n",
       "      <td>229.1</td>\n",
       "      <td>185.1</td>\n",
       "      <td>105.8</td>\n",
       "      <td>51.2</td>\n",
       "      <td>14.2</td>\n",
       "      <td>0.9</td>\n",
       "      <td>66.3</td>\n",
       "      <td>597.6</td>\n",
=======
       "      <td>NaN</td>\n",
       "      <td>NaN</td>\n",
       "      <td>NaN</td>\n",
       "      <td>NaN</td>\n",
       "      <td>NaN</td>\n",
       "      <td>NaN</td>\n",
       "      <td>NaN</td>\n",
>>>>>>> e1b1d82a31eadad4443f29f3b758d350b4ef0430
       "    </tr>\n",
       "    <tr>\n",
       "      <th>4</th>\n",
       "      <td>1964</td>\n",
       "      <td>3.190</td>\n",
<<<<<<< HEAD
       "      <td>0.9</td>\n",
       "      <td>73.1</td>\n",
       "      <td>217.5</td>\n",
       "      <td>178.7</td>\n",
       "      <td>103.4</td>\n",
       "      <td>49.9</td>\n",
       "      <td>13.8</td>\n",
       "      <td>0.8</td>\n",
       "      <td>64.5</td>\n",
       "      <td>573.6</td>\n",
=======
       "      <td>53,447</td>\n",
       "      <td>6.20%</td>\n",
       "      <td>26.40%</td>\n",
       "      <td>18.50%</td>\n",
       "      <td>33.40%</td>\n",
       "      <td>8.80%</td>\n",
       "      <td>6.80%</td>\n",
>>>>>>> e1b1d82a31eadad4443f29f3b758d350b4ef0430
       "    </tr>\n",
       "  </tbody>\n",
       "</table>\n",
       "</div>"
      ],
      "text/plain": [
<<<<<<< HEAD
       "   Year  fertility_rate  Age 10-14 Years  Age 15-19 Years  Age 20-24 Years  \\\n",
       "0  1960           3.654              0.8             89.1            258.1   \n",
       "1  1961           3.620              0.9             88.6            251.9   \n",
       "2  1962           3.461              0.8             81.4            241.9   \n",
       "3  1963           3.319              0.9             76.7            229.1   \n",
       "4  1964           3.190              0.9             73.1            217.5   \n",
       "\n",
       "   Age 25-29 Years  Age 30-34 Years  Age 35-39 Years  Age 40-44 Years  \\\n",
       "0            197.4            112.7             56.2             15.5   \n",
       "1            197.5            113.2             55.6             15.6   \n",
       "2            191.1            108.6             52.6             14.9   \n",
       "3            185.1            105.8             51.2             14.2   \n",
       "4            178.7            103.4             49.9             13.8   \n",
       "\n",
       "   Age 45-49 Years   35+  34 or less  \n",
       "0              0.9  72.6       658.1  \n",
       "1              0.9  72.1       652.1  \n",
       "2              0.9  68.4       623.8  \n",
       "3              0.9  66.3       597.6  \n",
       "4              0.8  64.5       573.6  "
      ]
     },
     "execution_count": 8,
=======
       "   Year  fertility_rate  Total # in thousands  e0 - 4  e5 - 8 hs0 - 3     hs4  \\\n",
       "0  1960           3.654                 51,468  7.30%  30.40%  19.70%  27.70%   \n",
       "1  1961           3.620                    NaN    NaN     NaN     NaN     NaN   \n",
       "2  1962           3.461                 52,381  6.90%  27.70%  17.90%  31.60%   \n",
       "3  1963           3.319                    NaN    NaN     NaN     NaN     NaN   \n",
       "4  1964           3.190                 53,447  6.20%  26.40%  18.50%  33.40%   \n",
       "\n",
       "  c0 - 3     c4  \n",
       "0  9.00%  5.80%  \n",
       "1    NaN    NaN  \n",
       "2  9.30%  6.70%  \n",
       "3    NaN    NaN  \n",
       "4  8.80%  6.80%  "
      ]
     },
     "execution_count": 30,
>>>>>>> e1b1d82a31eadad4443f29f3b758d350b4ef0430
     "metadata": {},
     "output_type": "execute_result"
    }
   ],
   "source": [
<<<<<<< HEAD
    "age_34down = merge_age_df['Age 30-34 Years'] + merge_age_df['Age 25-29 Years'] + merge_age_df['Age 20-24 Years'] + merge_age_df['Age 15-19 Years'] + merge_age_df['Age 10-14 Years']\n",
    "merge_age_df['34 or less'] = age_34down\n",
    "merge_age_df.head()"
   ]
  },
  {
   "cell_type": "code",
   "execution_count": 13,
   "metadata": {},
   "outputs": [
    {
     "data": {
      "image/png": "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\n",
      "text/plain": [
       "<Figure size 576x576 with 1 Axes>"
      ]
     },
     "metadata": {
      "needs_background": "light"
     },
     "output_type": "display_data"
    }
   ],
   "source": [
    "merge_age_df.plot(kind=\"scatter\", x=\"Year\", y=\"35+\", grid=True, figsize=(8,8),\n",
    "              title=\"Women 35 and Up\")\n",
    "plt.show()"
   ]
  },
  {
   "cell_type": "code",
   "execution_count": 14,
   "metadata": {},
   "outputs": [
    {
     "data": {
      "image/png": "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\n",
      "text/plain": [
       "<Figure size 576x576 with 1 Axes>"
      ]
     },
     "metadata": {
      "needs_background": "light"
     },
     "output_type": "display_data"
    }
   ],
   "source": [
    "merge_age_df.plot(kind=\"scatter\", x=\"Year\", y=\"34 or less\", grid=True, figsize=(8,8),\n",
    "              title=\"Women 34 and Under\")\n",
    "plt.show()"
   ]
  },
  {
   "cell_type": "code",
   "execution_count": null,
   "metadata": {},
   "outputs": [],
   "source": []
  },
  {
   "cell_type": "code",
   "execution_count": null,
   "metadata": {},
   "outputs": [],
   "source": [
=======
>>>>>>> e1b1d82a31eadad4443f29f3b758d350b4ef0430
    "# Raw DataFrame Prep: Female Education Attainment Level\n",
    "\n",
    "# Read csv and drop na\n",
    "education_df = pd.read_csv(education_path).dropna()\n",
    "\n",
    "# Clean\n",
    "education_df.rename(columns = {'Years':'Year'}, inplace=True)\n",
    "\n",
    "# Merge with fertility rates\n",
    "merge_education_df = pd.merge(fertility_rate_df, education_df, on=\"Year\", how=\"outer\")\n",
    "\n",
    "# Print and display\n",
    "print(f'{len(merge_education_df)} records')\n",
    "merge_education_df.head()\n",
    "\n",
    "# Print to csv - remove hashmark in front of below code to export to csv\n",
    "# merge_education_df.to_csv(\"Output/education.csv\", index=False, header=True)"
   ]
  },
  {
   "cell_type": "code",
   "execution_count": null,
   "metadata": {},
   "outputs": [],
   "source": []
  }
 ],
 "metadata": {
  "kernelspec": {
   "display_name": "Python 3",
   "language": "python",
   "name": "python3"
  },
  "language_info": {
   "codemirror_mode": {
    "name": "ipython",
    "version": 3
   },
   "file_extension": ".py",
   "mimetype": "text/x-python",
   "name": "python",
   "nbconvert_exporter": "python",
   "pygments_lexer": "ipython3",
   "version": "3.8.3"
  }
 },
 "nbformat": 4,
 "nbformat_minor": 4
}
