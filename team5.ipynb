{
 "cells": [
  {
   "cell_type": "code",
   "execution_count": 62,
   "metadata": {},
   "outputs": [],
   "source": [
    "import warnings\n",
    "warnings.filterwarnings('ignore')"
   ]
  },
  {
   "cell_type": "code",
   "execution_count": 71,
   "metadata": {},
   "outputs": [],
   "source": [
    "#Dependencies\n",
    "import pandas as pd\n",
    "import numpy as np\n",
    "import matplotlib.pyplot as plt\n",
    "import scipy.stats as stats\n",
    "from scipy.stats import linregress\n"
   ]
  },
  {
   "cell_type": "code",
   "execution_count": 64,
   "metadata": {},
   "outputs": [],
   "source": [
    "# csv_file pathing\n",
    "fertility_rate_path = \"Resource/fred_fertility_rates.csv\"\n",
    "living_arrangements_path = \"Resource/census_living_arrangements.csv\"\n",
    "living_arrangements_decade_path = \"Resource/census_living_arrangements_by_decade.csv\"\n",
    "marital_status_path = \"Resource/marital status overtime.csv\"\n",
    "age_fertility_path = \"Resource/Age_Fertility.csv\"\n",
    "education_path = \"Resource/Female Education Attainment Level.csv\"\n"
   ]
  },
  {
   "cell_type": "code",
   "execution_count": 65,
   "metadata": {},
   "outputs": [
    {
     "name": "stdout",
     "output_type": "stream",
     "text": [
      "59 records\n"
     ]
    },
    {
     "data": {
      "text/html": [
       "<div>\n",
       "<style scoped>\n",
       "    .dataframe tbody tr th:only-of-type {\n",
       "        vertical-align: middle;\n",
       "    }\n",
       "\n",
       "    .dataframe tbody tr th {\n",
       "        vertical-align: top;\n",
       "    }\n",
       "\n",
       "    .dataframe thead th {\n",
       "        text-align: right;\n",
       "    }\n",
       "</style>\n",
       "<table border=\"1\" class=\"dataframe\">\n",
       "  <thead>\n",
       "    <tr style=\"text-align: right;\">\n",
       "      <th></th>\n",
       "      <th>Year</th>\n",
       "      <th>fertility_rate</th>\n",
       "    </tr>\n",
       "  </thead>\n",
       "  <tbody>\n",
       "    <tr>\n",
       "      <th>0</th>\n",
       "      <td>1960</td>\n",
       "      <td>3.654</td>\n",
       "    </tr>\n",
       "    <tr>\n",
       "      <th>1</th>\n",
       "      <td>1961</td>\n",
       "      <td>3.620</td>\n",
       "    </tr>\n",
       "    <tr>\n",
       "      <th>2</th>\n",
       "      <td>1962</td>\n",
       "      <td>3.461</td>\n",
       "    </tr>\n",
       "    <tr>\n",
       "      <th>3</th>\n",
       "      <td>1963</td>\n",
       "      <td>3.319</td>\n",
       "    </tr>\n",
       "    <tr>\n",
       "      <th>4</th>\n",
       "      <td>1964</td>\n",
       "      <td>3.190</td>\n",
       "    </tr>\n",
       "  </tbody>\n",
       "</table>\n",
       "</div>"
      ],
      "text/plain": [
       "   Year  fertility_rate\n",
       "0  1960           3.654\n",
       "1  1961           3.620\n",
       "2  1962           3.461\n",
       "3  1963           3.319\n",
       "4  1964           3.190"
      ]
     },
     "execution_count": 65,
     "metadata": {},
     "output_type": "execute_result"
    }
   ],
   "source": [
    "# Raw DataFrame Prep: Fertility Rates\n",
    "\n",
    "# Read csv, drop na\n",
    "fertility_rate_df = pd.read_csv(fertility_rate_path).dropna()\n",
    "\n",
    "# Clean data\n",
    "fertility_rate_df['DATE'] = pd.to_datetime(fertility_rate_df['DATE'].str.strip(), format='%d/%m/%Y').dt.year\n",
    "fertility_rate_df.rename(columns = {'SPDYNTFRTINUSA':'fertility_rate','DATE':'Year'}, inplace = True) \n",
    "\n",
    "# Print and display\n",
    "print(f'{len(fertility_rate_df)} records')\n",
    "fertility_rate_df.head()\n",
    "\n",
    "# Print to csv - remove hashmark in front of below code to export to csv\n",
    "# fertility_rate_df.to_csv(\"Output/fertility_rate.csv\", index=False, header=True)\n"
   ]
  },
  {
   "cell_type": "code",
   "execution_count": 66,
   "metadata": {},
   "outputs": [
    {
     "data": {
      "image/png": "[encoded data removed]",
      "text/plain": [
       "<Figure size 432x288 with 1 Axes>"
      ]
     },
     "metadata": {
      "needs_background": "light"
     },
     "output_type": "display_data"
    }
   ],
   "source": [
    "# Fertility Rate Trend over Time\n",
    "\n",
    "# Variables to Compare\n",
    "x_values = fertility_rate_df['Year']\n",
    "y_values = fertility_rate_df['fertility_rate']\n",
    "\n",
    "plt.plot(x_values, y_values, marker ='.', color = \"black\", label = 'Fertility Rate')\n",
    "plt.title(\"U.S. Fertility Rate Trend (1960 thru 2019)\")\n",
    "plt.savefig('Output\\FertilityRateTrendChart.png')\n"
   ]
  },
  {
   "cell_type": "markdown",
   "metadata": {},
   "source": [
    "## Fertility Rate vs Living Arrangements"
   ]
  },
  {
   "cell_type": "code",
   "execution_count": 67,
   "metadata": {},
   "outputs": [
    {
     "data": {
      "text/html": [
       "<div>\n",
       "<style scoped>\n",
       "    .dataframe tbody tr th:only-of-type {\n",
       "        vertical-align: middle;\n",
       "    }\n",
       "\n",
       "    .dataframe tbody tr th {\n",
       "        vertical-align: top;\n",
       "    }\n",
       "\n",
       "    .dataframe thead th {\n",
       "        text-align: right;\n",
       "    }\n",
       "</style>\n",
       "<table border=\"1\" class=\"dataframe\">\n",
       "  <thead>\n",
       "    <tr style=\"text-align: right;\">\n",
       "      <th></th>\n",
       "      <th>Year</th>\n",
       "      <th>fertility_rate</th>\n",
       "      <th>under_18</th>\n",
       "      <th>two_parents</th>\n",
       "      <th>mother_only</th>\n",
       "      <th>father_only</th>\n",
       "      <th>other_relatives</th>\n",
       "      <th>non_relatives</th>\n",
       "      <th>other</th>\n",
       "      <th>pct_mother_only</th>\n",
       "      <th>pct_two_parents</th>\n",
       "      <th>pct_other</th>\n",
       "    </tr>\n",
       "  </thead>\n",
       "  <tbody>\n",
       "    <tr>\n",
       "      <th>0</th>\n",
       "      <td>1960</td>\n",
       "      <td>3.654</td>\n",
       "      <td>63727.0</td>\n",
       "      <td>55877.0</td>\n",
       "      <td>5105.0</td>\n",
       "      <td>724.0</td>\n",
       "      <td>1601.0</td>\n",
       "      <td>420.0</td>\n",
       "      <td>2745.0</td>\n",
       "      <td>0.080107</td>\n",
       "      <td>0.876818</td>\n",
       "      <td>0.043074</td>\n",
       "    </tr>\n",
       "    <tr>\n",
       "      <th>8</th>\n",
       "      <td>1968</td>\n",
       "      <td>2.464</td>\n",
       "      <td>70326.0</td>\n",
       "      <td>60030.0</td>\n",
       "      <td>7556.0</td>\n",
       "      <td>776.0</td>\n",
       "      <td>1660.0</td>\n",
       "      <td>304.0</td>\n",
       "      <td>2740.0</td>\n",
       "      <td>0.107442</td>\n",
       "      <td>0.853596</td>\n",
       "      <td>0.038961</td>\n",
       "    </tr>\n",
       "    <tr>\n",
       "      <th>9</th>\n",
       "      <td>1969</td>\n",
       "      <td>2.456</td>\n",
       "      <td>70317.0</td>\n",
       "      <td>59857.0</td>\n",
       "      <td>7744.0</td>\n",
       "      <td>765.0</td>\n",
       "      <td>1602.0</td>\n",
       "      <td>349.0</td>\n",
       "      <td>2716.0</td>\n",
       "      <td>0.110130</td>\n",
       "      <td>0.851245</td>\n",
       "      <td>0.038625</td>\n",
       "    </tr>\n",
       "    <tr>\n",
       "      <th>10</th>\n",
       "      <td>1970</td>\n",
       "      <td>2.480</td>\n",
       "      <td>69162.0</td>\n",
       "      <td>58939.0</td>\n",
       "      <td>7452.0</td>\n",
       "      <td>748.0</td>\n",
       "      <td>1546.0</td>\n",
       "      <td>477.0</td>\n",
       "      <td>2771.0</td>\n",
       "      <td>0.107747</td>\n",
       "      <td>0.852188</td>\n",
       "      <td>0.040065</td>\n",
       "    </tr>\n",
       "    <tr>\n",
       "      <th>11</th>\n",
       "      <td>1971</td>\n",
       "      <td>2.266</td>\n",
       "      <td>70255.0</td>\n",
       "      <td>58606.0</td>\n",
       "      <td>8714.0</td>\n",
       "      <td>764.0</td>\n",
       "      <td>1707.0</td>\n",
       "      <td>464.0</td>\n",
       "      <td>2935.0</td>\n",
       "      <td>0.124034</td>\n",
       "      <td>0.834190</td>\n",
       "      <td>0.041776</td>\n",
       "    </tr>\n",
       "  </tbody>\n",
       "</table>\n",
       "</div>"
      ],
      "text/plain": [
       "    Year  fertility_rate  under_18  two_parents  mother_only  father_only  \\\n",
       "0   1960           3.654   63727.0      55877.0       5105.0        724.0   \n",
       "8   1968           2.464   70326.0      60030.0       7556.0        776.0   \n",
       "9   1969           2.456   70317.0      59857.0       7744.0        765.0   \n",
       "10  1970           2.480   69162.0      58939.0       7452.0        748.0   \n",
       "11  1971           2.266   70255.0      58606.0       8714.0        764.0   \n",
       "\n",
       "    other_relatives  non_relatives   other  pct_mother_only  pct_two_parents  \\\n",
       "0            1601.0          420.0  2745.0         0.080107         0.876818   \n",
       "8            1660.0          304.0  2740.0         0.107442         0.853596   \n",
       "9            1602.0          349.0  2716.0         0.110130         0.851245   \n",
       "10           1546.0          477.0  2771.0         0.107747         0.852188   \n",
       "11           1707.0          464.0  2935.0         0.124034         0.834190   \n",
       "\n",
       "    pct_other  \n",
       "0    0.043074  \n",
       "8    0.038961  \n",
       "9    0.038625  \n",
       "10   0.040065  \n",
       "11   0.041776  "
      ]
     },
     "execution_count": 67,
     "metadata": {},
     "output_type": "execute_result"
    }
   ],
   "source": [
    "# Raw DataFrame Prep: Living Arrangements\n",
    "\n",
    "# Read csv, drop na\n",
    "living_arrangements_df = pd.read_csv(living_arrangements_path).dropna()\n",
    "\n",
    "# Merge with fertility rates\n",
    "merge_living_df = pd.merge(fertility_rate_df, living_arrangements_df, on = \"Year\", how = \"outer\").dropna()\n",
    "\n",
    "# Add additional columns, format... \n",
    "other_ttl = merge_living_df['father_only'] + merge_living_df['other_relatives'] + merge_living_df['non_relatives']\n",
    "merge_living_df['other']= other_ttl\n",
    "\n",
    "pct_mother_only = (merge_living_df['mother_only'] / merge_living_df['under_18']).astype(float)\n",
    "pct_two_parents = (merge_living_df['two_parents'] / merge_living_df['under_18']).astype(float)\n",
    "pct_other = (merge_living_df['other'] / merge_living_df['under_18']).astype(float)\n",
    "\n",
    "merge_living_df['pct_mother_only']= pct_mother_only.astype(float)\n",
    "merge_living_df['pct_two_parents']= pct_two_parents.astype(float)\n",
    "merge_living_df['pct_other']= pct_other.astype(float)\n",
    "                                         \n",
    "merge_living_df.head()\n",
    "\n",
    "#.map(\"{:,.0%}\".format)"
   ]
  },
  {
   "cell_type": "code",
   "execution_count": 90,
   "metadata": {
    "scrolled": true
   },
   "outputs": [
    {
     "data": {
      "image/png": "[encoded data removed]",
      "text/plain": [
       "<Figure size 432x288 with 1 Axes>"
      ]
     },
     "metadata": {
      "needs_background": "light"
     },
     "output_type": "display_data"
    },
    {
     "name": "stdout",
     "output_type": "stream",
     "text": [
      "What is the correlation between fertility rate and % of Children under 18 living with their mother only?\n",
      "Their is a moderate correlation between fertility rate and children under 18 living with only their moms of -0.17.\n",
      "This data is collected from 1960 thru 2019 however we only have 1 data point in the 1960's decade.\n",
      "Data Source: US Census Bureau\n"
     ]
    },
    {
     "data": {
      "text/plain": [
       "<Figure size 432x288 with 0 Axes>"
      ]
     },
     "metadata": {},
     "output_type": "display_data"
    }
   ],
   "source": [
    "# Living Arrangements Scatter Chart (Population Set)\n",
    "\n",
    "# Variables to Compare\n",
    "x_values = merge_living_df['fertility_rate']\n",
    "y_values = merge_living_df['pct_mother_only']\n",
    "\n",
    "# Scatter Chart\n",
    "plt.scatter(x_values, y_values, marker=\"o\", facecolors=\"black\", edgecolors=\"gray\")\n",
    "\n",
    "# Linear Regression Line\n",
    "(slope, intercept, rvalue, pvalue, stderr) = linregress(x_values, y_values)\n",
    "regress_values = x_values * slope + intercept\n",
    "line_eq = \"y = \" + str(round(slope,2)) + \"x + \" + str(round(intercept,2))\n",
    "plt.plot(x_values,regress_values,\"r-\", color = \"gray\")\n",
    "plt.annotate(line_eq,(1.75,.09),fontsize=10,color=\"black\")\n",
    "\n",
    "# Sample Population\n",
    "sample_df = merge_living_df[-20:]\n",
    "\n",
    "# Variables to Compare\n",
    "x_values = sample_df['fertility_rate']\n",
    "y_values = sample_df['pct_mother_only']\n",
    "\n",
    "# Scatter Chart\n",
    "plt.scatter(x_values, y_values, marker=\"o\", facecolors=\"blue\", edgecolors=\"gray\")\n",
    "\n",
    "\n",
    "\n",
    "# Labels and Display\n",
    "plt.xlabel('Fertility Rate')\n",
    "plt.ylabel('% Children Living with Mother only')\n",
    "plt.show()\n",
    "\n",
    "plt.savefig('Output\\ScatterPlot_MotherOnlyLiving.png')\n",
    "\n",
    "# Correlation Coefficient\n",
    "correlation = st.pearsonr(x_values, y_values)\n",
    "print(f\"What is the correlation between fertility rate and % of Children under 18 living with their mother only?\")\n",
    "print(f\"Their is a moderate correlation between fertility rate and children under 18 living with only their moms of {round(correlation[0],2)}.\")\n",
    "print(f\"This data is collected from 1960 thru 2019 however we only have 1 data point in the 1960's decade.\")\n",
    "print(f\"Data Source: US Census Bureau\")"
   ]
  },
  {
   "cell_type": "code",
   "execution_count": 82,
   "metadata": {},
   "outputs": [
    {
     "data": {
      "text/plain": [
       "Ttest_1sampResult(statistic=24.26411898862151, pvalue=9.244269763354844e-16)"
      ]
     },
     "execution_count": 82,
     "metadata": {},
     "output_type": "execute_result"
    }
   ],
   "source": [
    "# Calculate the population mean for Living Arrangements = Mother Only (entire population)\n",
    "population = merge_living_df['pct_mother_only']\n",
    "population_mean = population.mean()\n",
    "\n",
    "# Calculate the population mean for Living Arrangements = Mother Only over last 20 years\n",
    "sample_df = merge_living_df[-20:]\n",
    "sample = sample_df['pct_mother_only']\n",
    "sample_mean = sample.mean()\n",
    "\n",
    "stats.ttest_1samp(sample, population_mean)"
   ]
  },
  {
   "cell_type": "code",
   "execution_count": 74,
   "metadata": {},
   "outputs": [
    {
     "data": {
      "image/png": "[encoded data removed]",
      "text/plain": [
       "<Figure size 432x288 with 1 Axes>"
      ]
     },
     "metadata": {
      "needs_background": "light"
     },
     "output_type": "display_data"
    }
   ],
   "source": [
    "# Living Arrangements Bar Chart\n",
    "x_values = merge_living_df['Year']\n",
    "y_values = merge_living_df['pct_mother_only']\n",
    "\n",
    "plt.bar(x_values, y_values, color='gray', alpha=0.5, align=\"center\")\n",
    "plt.plot(x_values, y_values, color = 'black')\n",
    "\n",
    "plt.savefig('Output\\MotherOnlyLiving_barchart.png')\n"
   ]
  },
  {
   "cell_type": "markdown",
   "metadata": {},
   "source": [
    "## Fertility Rate vs Marital Status"
   ]
  },
  {
   "cell_type": "code",
   "execution_count": null,
   "metadata": {},
   "outputs": [],
   "source": [
    "# Raw DataFrame Prep: Marital Status\n",
    "\n",
    "# Read csv, drop na\n",
    "marital_status_df = pd.read_csv(marital_status_path).dropna()\n",
    "\n",
    "# Merge with fertility rates\n",
    "merge_marital_df = pd.merge(fertility_rate_df, marital_status_df, on=\"Year\", how=\"outer\")\n",
    "\n",
    "# Print and display\n",
    "print(f'{len(merge_marital_df)} records')\n",
    "merge_marital_df.head()\n",
    "\n",
    "# Print to csv - remove hashmark in front of below code to export to csv\n",
    "# merge_marital_df.to_csv(\"Output/marital_status.csv\", index=False, header=True)\n"
   ]
  },
  {
   "cell_type": "markdown",
   "metadata": {},
   "source": [
    "## Fertility Rate vs Age"
   ]
  },
  {
   "cell_type": "code",
   "execution_count": null,
   "metadata": {},
   "outputs": [],
   "source": [
    "# Raw DataFrame Prep: Fertility by Age\n",
    "\n",
    "# Read csv\n",
    "age_fertility_df = pd.read_csv(age_fertility_path)\n",
    "\n",
    "# Clean\n",
    "age_fertility_df = age_fertility_df[['Year', 'Age 10-14 Years', 'Age 15-19 Years', 'Age 20-24 Years',\n",
    "                           'Age 25-29 Years', 'Age 30-34 Years', 'Age 35-39 Years', 'Age 40-44 Years', 'Age 45-49 Years']]\n",
    "\n",
    "# Merge with fertility rates\n",
    "merge_age_df = pd.merge(fertility_rate_df, age_fertility_df, on=\"Year\", how=\"outer\")\n",
    "\n",
    "# Print and display\n",
    "print(f'{len(merge_age_df)} records')\n",
    "merge_age_df.head()\n",
    "\n",
    "# Print to csv - remove hashmark in front of below code to export to csv\n",
    "# merge_age_df.to_csv(\"Output/fertility_age.csv\", index=False, header=True)\n"
   ]
  },
  {
   "cell_type": "markdown",
   "metadata": {},
   "source": [
    "## Fertility Rate vs Education"
   ]
  },
  {
   "cell_type": "code",
   "execution_count": null,
   "metadata": {},
   "outputs": [],
   "source": [
    "# Raw DataFrame Prep: Female Education Attainment Level\n",
    "\n",
    "# Read csv and drop na\n",
    "education_df = pd.read_csv(education_path).dropna()\n",
    "\n",
    "# Clean\n",
    "education_df.rename(columns = {'Years':'Year'}, inplace=True)\n",
    "\n",
    "# Merge with fertility rates\n",
    "merge_education_df = pd.merge(fertility_rate_df, education_df, on=\"Year\", how=\"outer\")\n",
    "\n",
    "# Print and display\n",
    "print(f'{len(merge_education_df)} records')\n",
    "merge_education_df.head()\n",
    "\n",
    "# Print to csv - remove hashmark in front of below code to export to csv\n",
    "# merge_education_df.to_csv(\"Output/education.csv\", index=False, header=True)\n"
   ]
  },
  {
   "cell_type": "code",
   "execution_count": null,
   "metadata": {},
   "outputs": [],
   "source": []
  }
 ],
 "metadata": {
  "kernelspec": {
   "display_name": "Python 3",
   "language": "python",
   "name": "python3"
  },
  "language_info": {
   "codemirror_mode": {
    "name": "ipython",
    "version": 3
   },
   "file_extension": ".py",
   "mimetype": "text/x-python",
   "name": "python",
   "nbconvert_exporter": "python",
   "pygments_lexer": "ipython3",
   "version": "3.6.12"
  }
 },
 "nbformat": 4,
 "nbformat_minor": 4
}
