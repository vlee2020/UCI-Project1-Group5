{
 "cells": [
  {
   "cell_type": "code",
   "execution_count": 22,
   "metadata": {},
   "outputs": [],
   "source": [
    "#Dependencies\n",
    "import pandas as pd\n",
    "import numpy as np\n",
    "import matplotlib.pyplot as plt\n",
    "import scipy.stats as st"
   ]
  },
  {
   "cell_type": "code",
   "execution_count": 3,
   "metadata": {},
   "outputs": [],
   "source": [
    "# csv_file pathing\n",
    "fertility_rate_path = \"Resource/fred_fertility_rates.csv\"\n",
    "living_arrangements_path = \"Resource/census_living_arrangements.csv\"\n",
    "marital_status_path = \"Resource/marital status overtime.csv\"\n",
    "age_fertility_path = \"Resource/Age_Fertility.csv\"\n",
    "education_path = \"Resource/Female Education Attainment Level.csv\""
   ]
  },
  {
   "cell_type": "code",
   "execution_count": 4,
   "metadata": {},
   "outputs": [
    {
     "name": "stdout",
     "output_type": "stream",
     "text": [
      "59 records\n"
     ]
    },
    {
     "data": {
      "text/html": [
       "<div>\n",
       "<style scoped>\n",
       "    .dataframe tbody tr th:only-of-type {\n",
       "        vertical-align: middle;\n",
       "    }\n",
       "\n",
       "    .dataframe tbody tr th {\n",
       "        vertical-align: top;\n",
       "    }\n",
       "\n",
       "    .dataframe thead th {\n",
       "        text-align: right;\n",
       "    }\n",
       "</style>\n",
       "<table border=\"1\" class=\"dataframe\">\n",
       "  <thead>\n",
       "    <tr style=\"text-align: right;\">\n",
       "      <th></th>\n",
       "      <th>Year</th>\n",
       "      <th>fertility_rate</th>\n",
       "    </tr>\n",
       "  </thead>\n",
       "  <tbody>\n",
       "    <tr>\n",
       "      <th>0</th>\n",
       "      <td>1960</td>\n",
       "      <td>3.654</td>\n",
       "    </tr>\n",
       "    <tr>\n",
       "      <th>1</th>\n",
       "      <td>1961</td>\n",
       "      <td>3.620</td>\n",
       "    </tr>\n",
       "    <tr>\n",
       "      <th>2</th>\n",
       "      <td>1962</td>\n",
       "      <td>3.461</td>\n",
       "    </tr>\n",
       "    <tr>\n",
       "      <th>3</th>\n",
       "      <td>1963</td>\n",
       "      <td>3.319</td>\n",
       "    </tr>\n",
       "    <tr>\n",
       "      <th>4</th>\n",
       "      <td>1964</td>\n",
       "      <td>3.190</td>\n",
       "    </tr>\n",
       "  </tbody>\n",
       "</table>\n",
       "</div>"
      ],
      "text/plain": [
       "   Year  fertility_rate\n",
       "0  1960           3.654\n",
       "1  1961           3.620\n",
       "2  1962           3.461\n",
       "3  1963           3.319\n",
       "4  1964           3.190"
      ]
     },
     "execution_count": 4,
     "metadata": {},
     "output_type": "execute_result"
    }
   ],
   "source": [
    "# Raw DataFrame Prep: Fertility Rates\n",
    "\n",
    "# Read csv, drop na\n",
    "fertility_rate_df = pd.read_csv(fertility_rate_path).dropna()\n",
    "\n",
    "# Clean data\n",
    "fertility_rate_df['DATE'] = pd.to_datetime(fertility_rate_df['DATE'].str.strip(), format='%d/%m/%Y').dt.year\n",
    "fertility_rate_df.rename(columns = {'SPDYNTFRTINUSA':'fertility_rate','DATE':'Year'}, inplace = True) \n",
    "\n",
    "# Print and display\n",
    "print(f'{len(fertility_rate_df)} records')\n",
    "fertility_rate_df.head()\n",
    "\n",
    "# Print to csv - remove hashmark in front of below code to export to csv\n",
    "# fertility_rate_df.to_csv(\"Output/fertility_rate.csv\", index=False, header=True)\n"
   ]
  },
  {
   "cell_type": "markdown",
   "metadata": {},
   "source": [
    "## Fertility Rate vs Living Arrangements"
   ]
  },
  {
   "cell_type": "code",
   "execution_count": null,
   "metadata": {},
   "outputs": [],
   "source": [
    "# Raw DataFrame Prep: Living Arrangements\n",
    "\n",
    "# Read csv, drop na\n",
    "living_arrangements_df = pd.read_csv(living_arrangements_path).dropna()\n",
    "\n",
    "# Merge with fertility rates\n",
    "merge_living_df = pd.merge(fertility_rate_df, living_arrangements_df, on = \"Year\", how = \"outer\").dropna()\n",
    "\n",
    "# Print, display, export options\n",
    "print(f'{len(merge_living_df)} records')\n",
    "# merge_living_df.head()\n",
    "# merge_living_df.to_csv(\"Output/living_arrangements.csv\", index=False, header=True)"
   ]
  },
  {
   "cell_type": "code",
   "execution_count": null,
   "metadata": {},
   "outputs": [],
   "source": [
    "# Living Arrangements Bar Chart\n",
    "\n",
    "# Clean and organize\n",
    "other_ttl = merge_living_df['father_only'] + merge_living_df['other_relatives'] + merge_living_df['non_relatives']\n",
    "pct_mother_only = merge_living_df['mother_only'] / merge_living_df['under_18'] \n",
    "pct_two_parents = merge_living_df['two_parents'] / merge_living_df['under_18'] \n",
    "pct_other = merge_living_df['other'] / merge_living_df['under_18'] \n",
    "\n",
    "merge_living_df['other']= other_ttl\n",
    "merge_living_df['%_mother_only']= pct_mother_only.map(\"{:,.2%}\".format)\n",
    "merge_living_df['%_two_parents']= pct_two_parents.map(\"{:,.2%}\".format)\n",
    "merge_living_df['%_other']= pct_other.map(\"{:,.2%}\".format)\n",
    "\n",
    "# Create data frame w/specific chart data required\n",
    "chart_data_df = merge_living_df[['Year', 'fertility_rate', 'under_18', 'mother_only', 'two_parents', 'other', '%_mother_only', '%_two_parents', '%_other']].reset_index(drop=True)\n",
    "pct_mother_only = chart_data_df['mother_only'] / chart_data_df['under_18'] \n",
    "pct_two_parents = chart_data_df['two_parents'] / chart_data_df['under_18'] \n",
    "pct_other = chart_data_df['other'] / chart_data_df['under_18'] \n",
    "\n",
    "# Drop Outlier\n",
    "chart_data_df = chart_data_df[chart_data_df.Year != 1960]\n",
    "chart_data_df.head()\n",
    "\n",
    "# Print output\n",
    "chart_data_df.to_csv(\"Output/living_arrangements_chartdata.csv\", index=False, header=True)"
   ]
  },
  {
   "cell_type": "code",
   "execution_count": null,
   "metadata": {
    "scrolled": true
   },
   "outputs": [],
   "source": [
    "# Living Arrangements Line Chart\n",
    "\n",
    "x_axis_data = chart_data_df['Year']\n",
    "y_axis1 = chart_data_df['%_mother_only']\n",
    "y_axis2 = chart_data_df['%_other']\n",
    "y_axis3 = chart_data_df['%_two_parents']\n",
    "\n",
    "plt.plot(x_axis_data, y_axis1)\n",
    "plt.plot(x_axis_data, y_axis2)\n",
    "plt.plot(x_axis_data, y_axis3)\n"
   ]
  },
  {
   "cell_type": "code",
   "execution_count": null,
   "metadata": {},
   "outputs": [],
   "source": [
    "# Living Arrangements Scatter Chart\n",
    "\n",
    "fertility_rate = chart_data_df['fertility_rate']\n",
    "mother_only = chart_data_df['%_mother_only']\n",
    "\n",
    "plt.scatter(fertility_rate, mother_only, marker=\"o\", facecolors=\"red\", edgecolors=\"gray\")\n",
    "\n",
    "plt.xlabel('Fertility Rate')\n",
    "plt.ylabel('Mother Only')\n",
    "\n",
    "plt.show()\n"
   ]
  },
  {
   "cell_type": "markdown",
   "metadata": {},
   "source": [
    "## Fertility Rate vs Marital Status"
   ]
  },
  {
   "cell_type": "code",
   "execution_count": 5,
   "metadata": {},
   "outputs": [
    {
     "name": "stdout",
     "output_type": "stream",
     "text": [
      "61 records\n"
     ]
    },
    {
     "data": {
      "text/html": [
       "<div>\n",
       "<style scoped>\n",
       "    .dataframe tbody tr th:only-of-type {\n",
       "        vertical-align: middle;\n",
       "    }\n",
       "\n",
       "    .dataframe tbody tr th {\n",
       "        vertical-align: top;\n",
       "    }\n",
       "\n",
       "    .dataframe thead th {\n",
       "        text-align: right;\n",
       "    }\n",
       "</style>\n",
       "<table border=\"1\" class=\"dataframe\">\n",
       "  <thead>\n",
       "    <tr style=\"text-align: right;\">\n",
       "      <th></th>\n",
       "      <th>Year</th>\n",
       "      <th>fertility_rate</th>\n",
       "      <th>Men Total</th>\n",
       "      <th>Married Men</th>\n",
       "      <th>Unmarried Men Total</th>\n",
       "      <th>Never Married Men</th>\n",
       "      <th>Widowed Men</th>\n",
       "      <th>Divorced Men</th>\n",
       "      <th>Women Total</th>\n",
       "      <th>Married Women</th>\n",
       "      <th>Unmarried Women Total</th>\n",
       "      <th>Never Married Women</th>\n",
       "      <th>Widowed Women</th>\n",
       "      <th>Divorced Women</th>\n",
       "    </tr>\n",
       "  </thead>\n",
       "  <tbody>\n",
       "    <tr>\n",
       "      <th>0</th>\n",
       "      <td>1960</td>\n",
       "      <td>3.654</td>\n",
       "      <td>60,273</td>\n",
       "      <td>41,781</td>\n",
       "      <td>18,492</td>\n",
       "      <td>15,274</td>\n",
       "      <td>2,112</td>\n",
       "      <td>1,106</td>\n",
       "      <td>64,607</td>\n",
       "      <td>42,583</td>\n",
       "      <td>22,024</td>\n",
       "      <td>12,252</td>\n",
       "      <td>8,064</td>\n",
       "      <td>1,708</td>\n",
       "    </tr>\n",
       "    <tr>\n",
       "      <th>1</th>\n",
       "      <td>1961</td>\n",
       "      <td>3.620</td>\n",
       "      <td>NaN</td>\n",
       "      <td>NaN</td>\n",
       "      <td>NaN</td>\n",
       "      <td>NaN</td>\n",
       "      <td>NaN</td>\n",
       "      <td>NaN</td>\n",
       "      <td>NaN</td>\n",
       "      <td>NaN</td>\n",
       "      <td>NaN</td>\n",
       "      <td>NaN</td>\n",
       "      <td>NaN</td>\n",
       "      <td>NaN</td>\n",
       "    </tr>\n",
       "    <tr>\n",
       "      <th>2</th>\n",
       "      <td>1962</td>\n",
       "      <td>3.461</td>\n",
       "      <td>NaN</td>\n",
       "      <td>NaN</td>\n",
       "      <td>NaN</td>\n",
       "      <td>NaN</td>\n",
       "      <td>NaN</td>\n",
       "      <td>NaN</td>\n",
       "      <td>NaN</td>\n",
       "      <td>NaN</td>\n",
       "      <td>NaN</td>\n",
       "      <td>NaN</td>\n",
       "      <td>NaN</td>\n",
       "      <td>NaN</td>\n",
       "    </tr>\n",
       "    <tr>\n",
       "      <th>3</th>\n",
       "      <td>1963</td>\n",
       "      <td>3.319</td>\n",
       "      <td>NaN</td>\n",
       "      <td>NaN</td>\n",
       "      <td>NaN</td>\n",
       "      <td>NaN</td>\n",
       "      <td>NaN</td>\n",
       "      <td>NaN</td>\n",
       "      <td>NaN</td>\n",
       "      <td>NaN</td>\n",
       "      <td>NaN</td>\n",
       "      <td>NaN</td>\n",
       "      <td>NaN</td>\n",
       "      <td>NaN</td>\n",
       "    </tr>\n",
       "    <tr>\n",
       "      <th>4</th>\n",
       "      <td>1964</td>\n",
       "      <td>3.190</td>\n",
       "      <td>NaN</td>\n",
       "      <td>NaN</td>\n",
       "      <td>NaN</td>\n",
       "      <td>NaN</td>\n",
       "      <td>NaN</td>\n",
       "      <td>NaN</td>\n",
       "      <td>NaN</td>\n",
       "      <td>NaN</td>\n",
       "      <td>NaN</td>\n",
       "      <td>NaN</td>\n",
       "      <td>NaN</td>\n",
       "      <td>NaN</td>\n",
       "    </tr>\n",
       "  </tbody>\n",
       "</table>\n",
       "</div>"
      ],
      "text/plain": [
       "   Year  fertility_rate Men Total Married Men Unmarried Men Total  \\\n",
       "0  1960           3.654    60,273      41,781              18,492   \n",
       "1  1961           3.620       NaN         NaN                 NaN   \n",
       "2  1962           3.461       NaN         NaN                 NaN   \n",
       "3  1963           3.319       NaN         NaN                 NaN   \n",
       "4  1964           3.190       NaN         NaN                 NaN   \n",
       "\n",
       "  Never Married Men Widowed Men Divorced Men Women Total Married Women  \\\n",
       "0            15,274       2,112        1,106      64,607        42,583   \n",
       "1               NaN         NaN          NaN         NaN           NaN   \n",
       "2               NaN         NaN          NaN         NaN           NaN   \n",
       "3               NaN         NaN          NaN         NaN           NaN   \n",
       "4               NaN         NaN          NaN         NaN           NaN   \n",
       "\n",
       "  Unmarried Women Total  Never Married Women Widowed Women Divorced Women  \n",
       "0                 22,024              12,252         8,064          1,708  \n",
       "1                    NaN                 NaN           NaN            NaN  \n",
       "2                    NaN                 NaN           NaN            NaN  \n",
       "3                    NaN                 NaN           NaN            NaN  \n",
       "4                    NaN                 NaN           NaN            NaN  "
      ]
     },
     "execution_count": 5,
     "metadata": {},
     "output_type": "execute_result"
    }
   ],
   "source": [
    "# Raw DataFrame Prep: Marital Status\n",
    "import numpy as np\n",
    "# Read csv, drop na\n",
    "marital_status_df = pd.read_csv(marital_status_path).dropna()\n",
    "\n",
    "# Merge with fertility rates\n",
    "merge_marital_df = pd.merge(fertility_rate_df, marital_status_df, on=\"Year\", how=\"outer\")\n",
    "\n",
    "# Print and display\n",
    "print(f'{len(merge_marital_df)} records')\n",
    "merge_marital_df.head()\n",
    "\n",
    "# Print to csv - remove hashmark in front of below code to export to csv\n",
    "merge_marital_df.to_csv(\"Output/marital_status.csv\", index=False, header=True)\n",
    "merge_marital_df.head()"
   ]
  },
  {
   "cell_type": "code",
   "execution_count": 6,
   "metadata": {},
   "outputs": [
    {
     "data": {
      "text/plain": [
       "Index(['Year', 'fertility_rate', 'Men Total', 'Married Men',\n",
       "       'Unmarried Men Total', 'Never Married Men', 'Widowed Men',\n",
       "       'Divorced Men', 'Women Total', 'Married Women',\n",
       "       'Unmarried Women Total ', 'Never Married Women', 'Widowed Women',\n",
       "       'Divorced Women'],\n",
       "      dtype='object')"
      ]
     },
     "execution_count": 6,
     "metadata": {},
     "output_type": "execute_result"
    }
   ],
   "source": [
    "#drop Nan\n",
    "clean_marital_df=merge_marital_df.dropna(how=\"any\")\n",
    "clean_marital_df.columns"
   ]
  },
  {
   "cell_type": "code",
   "execution_count": 7,
   "metadata": {
    "scrolled": false
   },
   "outputs": [
    {
     "data": {
      "text/plain": [
       "Year                        int64\n",
       "fertility_rate            float64\n",
       "Men Total                 float64\n",
       "Married Men               float64\n",
       "Unmarried Men Total       float64\n",
       "Never Married Men         float64\n",
       "Widowed Men               float64\n",
       "Divorced Men              float64\n",
       "Women Total               float64\n",
       "Married Women             float64\n",
       "Unmarried Women Total     float64\n",
       "Never Married Women       float64\n",
       "Widowed Women             float64\n",
       "Divorced Women            float64\n",
       "dtype: object"
      ]
     },
     "execution_count": 7,
     "metadata": {},
     "output_type": "execute_result"
    }
   ],
   "source": [
    "#get rid of warning\n",
    "import warnings\n",
    "warnings.filterwarnings('ignore')\n",
    "\n",
    "#change column value\n",
    "clean_marital_df['Men Total'] = clean_marital_df['Men Total'].str.replace(',', '').astype(float)\n",
    "clean_marital_df['Married Men'] = clean_marital_df['Married Men'].str.replace(',', '').astype(float)\n",
    "clean_marital_df['Unmarried Men Total'] = clean_marital_df['Unmarried Men Total'].str.replace(',', '').astype(float)\n",
    "clean_marital_df['Never Married Men'] = clean_marital_df['Never Married Men'].str.replace(',', '').astype(float)\n",
    "clean_marital_df['Widowed Men'] = clean_marital_df['Widowed Men'].str.replace(',', '').astype(float)\n",
    "clean_marital_df['Divorced Men'] = clean_marital_df['Divorced Men'].str.replace(',', '').astype(float)\n",
    "clean_marital_df['Women Total'] = clean_marital_df['Women Total'].str.replace(',', '').astype(float)\n",
    "clean_marital_df['Married Women'] = clean_marital_df['Married Women'].str.replace(',', '').astype(float)\n",
    "clean_marital_df['Unmarried Women Total '] = clean_marital_df['Unmarried Women Total '].str.replace(',', '').astype(float)\n",
    "clean_marital_df['Never Married Women'] = clean_marital_df['Never Married Women'].str.replace(',', '').astype(float)\n",
    "clean_marital_df['Widowed Women'] = clean_marital_df['Widowed Women'].str.replace(',', '').astype(float)\n",
    "clean_marital_df['Divorced Women'] = clean_marital_df['Divorced Women'].str.replace(',', '').astype(float)\n",
    "clean_marital_df.dtypes"
   ]
  },
  {
   "cell_type": "code",
   "execution_count": 8,
   "metadata": {},
   "outputs": [
    {
     "data": {
      "text/html": [
       "<div>\n",
       "<style scoped>\n",
       "    .dataframe tbody tr th:only-of-type {\n",
       "        vertical-align: middle;\n",
       "    }\n",
       "\n",
       "    .dataframe tbody tr th {\n",
       "        vertical-align: top;\n",
       "    }\n",
       "\n",
       "    .dataframe thead th {\n",
       "        text-align: right;\n",
       "    }\n",
       "</style>\n",
       "<table border=\"1\" class=\"dataframe\">\n",
       "  <thead>\n",
       "    <tr style=\"text-align: right;\">\n",
       "      <th></th>\n",
       "      <th>Year</th>\n",
       "      <th>fertility_rate</th>\n",
       "      <th>Men Total</th>\n",
       "      <th>Married Men</th>\n",
       "      <th>Unmarried Men Total</th>\n",
       "      <th>Never Married Men</th>\n",
       "      <th>Widowed Men</th>\n",
       "      <th>Divorced Men</th>\n",
       "      <th>Women Total</th>\n",
       "      <th>Married Women</th>\n",
       "      <th>...</th>\n",
       "      <th>Divorced Women</th>\n",
       "      <th>Per of married men</th>\n",
       "      <th>Per of unmarried men</th>\n",
       "      <th>Per of Never married men</th>\n",
       "      <th>Per of married women</th>\n",
       "      <th>Per of unmarried women</th>\n",
       "      <th>Per of Never married women</th>\n",
       "      <th>Per of married peole</th>\n",
       "      <th>Per of unmarried peole</th>\n",
       "      <th>Per of Never married peole</th>\n",
       "    </tr>\n",
       "  </thead>\n",
       "  <tbody>\n",
       "    <tr>\n",
       "      <th>0</th>\n",
       "      <td>1960</td>\n",
       "      <td>3.6540</td>\n",
       "      <td>60273.0</td>\n",
       "      <td>41781.0</td>\n",
       "      <td>18492.0</td>\n",
       "      <td>15274.0</td>\n",
       "      <td>2112.0</td>\n",
       "      <td>1106.0</td>\n",
       "      <td>64607.0</td>\n",
       "      <td>42583.0</td>\n",
       "      <td>...</td>\n",
       "      <td>1708.0</td>\n",
       "      <td>0.693196</td>\n",
       "      <td>0.306804</td>\n",
       "      <td>0.253414</td>\n",
       "      <td>0.659108</td>\n",
       "      <td>0.340892</td>\n",
       "      <td>0.189639</td>\n",
       "      <td>0.675561</td>\n",
       "      <td>0.246188</td>\n",
       "      <td>0.220420</td>\n",
       "    </tr>\n",
       "    <tr>\n",
       "      <th>10</th>\n",
       "      <td>1970</td>\n",
       "      <td>2.4800</td>\n",
       "      <td>70559.0</td>\n",
       "      <td>47109.0</td>\n",
       "      <td>23450.0</td>\n",
       "      <td>19832.0</td>\n",
       "      <td>2051.0</td>\n",
       "      <td>1567.0</td>\n",
       "      <td>77766.0</td>\n",
       "      <td>48148.0</td>\n",
       "      <td>...</td>\n",
       "      <td>2717.0</td>\n",
       "      <td>0.667654</td>\n",
       "      <td>0.332346</td>\n",
       "      <td>0.281070</td>\n",
       "      <td>0.619139</td>\n",
       "      <td>0.380861</td>\n",
       "      <td>0.220752</td>\n",
       "      <td>0.642218</td>\n",
       "      <td>0.273838</td>\n",
       "      <td>0.249445</td>\n",
       "    </tr>\n",
       "    <tr>\n",
       "      <th>20</th>\n",
       "      <td>1980</td>\n",
       "      <td>1.8395</td>\n",
       "      <td>81947.0</td>\n",
       "      <td>51813.0</td>\n",
       "      <td>30134.0</td>\n",
       "      <td>24227.0</td>\n",
       "      <td>1977.0</td>\n",
       "      <td>3930.0</td>\n",
       "      <td>89914.0</td>\n",
       "      <td>52965.0</td>\n",
       "      <td>...</td>\n",
       "      <td>5966.0</td>\n",
       "      <td>0.632275</td>\n",
       "      <td>0.367725</td>\n",
       "      <td>0.295642</td>\n",
       "      <td>0.589063</td>\n",
       "      <td>0.410948</td>\n",
       "      <td>0.224948</td>\n",
       "      <td>0.609667</td>\n",
       "      <td>0.293028</td>\n",
       "      <td>0.258657</td>\n",
       "    </tr>\n",
       "    <tr>\n",
       "      <th>30</th>\n",
       "      <td>1990</td>\n",
       "      <td>2.0810</td>\n",
       "      <td>91955.0</td>\n",
       "      <td>55833.0</td>\n",
       "      <td>36121.0</td>\n",
       "      <td>27505.0</td>\n",
       "      <td>2333.0</td>\n",
       "      <td>6283.0</td>\n",
       "      <td>99838.0</td>\n",
       "      <td>56797.0</td>\n",
       "      <td>...</td>\n",
       "      <td>8845.0</td>\n",
       "      <td>0.607177</td>\n",
       "      <td>0.392812</td>\n",
       "      <td>0.299114</td>\n",
       "      <td>0.568892</td>\n",
       "      <td>0.431098</td>\n",
       "      <td>0.227549</td>\n",
       "      <td>0.587248</td>\n",
       "      <td>0.306784</td>\n",
       "      <td>0.261860</td>\n",
       "    </tr>\n",
       "    <tr>\n",
       "      <th>33</th>\n",
       "      <td>1993</td>\n",
       "      <td>2.0195</td>\n",
       "      <td>94854.0</td>\n",
       "      <td>56833.0</td>\n",
       "      <td>38021.0</td>\n",
       "      <td>28775.0</td>\n",
       "      <td>2468.0</td>\n",
       "      <td>6778.0</td>\n",
       "      <td>102400.0</td>\n",
       "      <td>57768.0</td>\n",
       "      <td>...</td>\n",
       "      <td>9883.0</td>\n",
       "      <td>0.599163</td>\n",
       "      <td>0.400837</td>\n",
       "      <td>0.303361</td>\n",
       "      <td>0.564141</td>\n",
       "      <td>0.435850</td>\n",
       "      <td>0.229824</td>\n",
       "      <td>0.580982</td>\n",
       "      <td>0.312060</td>\n",
       "      <td>0.265186</td>\n",
       "    </tr>\n",
       "  </tbody>\n",
       "</table>\n",
       "<p>5 rows × 23 columns</p>\n",
       "</div>"
      ],
      "text/plain": [
       "    Year  fertility_rate  Men Total  Married Men  Unmarried Men Total  \\\n",
       "0   1960          3.6540    60273.0      41781.0              18492.0   \n",
       "10  1970          2.4800    70559.0      47109.0              23450.0   \n",
       "20  1980          1.8395    81947.0      51813.0              30134.0   \n",
       "30  1990          2.0810    91955.0      55833.0              36121.0   \n",
       "33  1993          2.0195    94854.0      56833.0              38021.0   \n",
       "\n",
       "    Never Married Men  Widowed Men  Divorced Men  Women Total  Married Women  \\\n",
       "0             15274.0       2112.0        1106.0      64607.0        42583.0   \n",
       "10            19832.0       2051.0        1567.0      77766.0        48148.0   \n",
       "20            24227.0       1977.0        3930.0      89914.0        52965.0   \n",
       "30            27505.0       2333.0        6283.0      99838.0        56797.0   \n",
       "33            28775.0       2468.0        6778.0     102400.0        57768.0   \n",
       "\n",
       "    ...  Divorced Women  Per of married men  Per of unmarried men  \\\n",
       "0   ...          1708.0            0.693196              0.306804   \n",
       "10  ...          2717.0            0.667654              0.332346   \n",
       "20  ...          5966.0            0.632275              0.367725   \n",
       "30  ...          8845.0            0.607177              0.392812   \n",
       "33  ...          9883.0            0.599163              0.400837   \n",
       "\n",
       "    Per of Never married men  Per of married women  Per of unmarried women  \\\n",
       "0                   0.253414              0.659108                0.340892   \n",
       "10                  0.281070              0.619139                0.380861   \n",
       "20                  0.295642              0.589063                0.410948   \n",
       "30                  0.299114              0.568892                0.431098   \n",
       "33                  0.303361              0.564141                0.435850   \n",
       "\n",
       "    Per of Never married women  Per of married peole  Per of unmarried peole  \\\n",
       "0                     0.189639              0.675561                0.246188   \n",
       "10                    0.220752              0.642218                0.273838   \n",
       "20                    0.224948              0.609667                0.293028   \n",
       "30                    0.227549              0.587248                0.306784   \n",
       "33                    0.229824              0.580982                0.312060   \n",
       "\n",
       "    Per of Never married peole  \n",
       "0                     0.220420  \n",
       "10                    0.249445  \n",
       "20                    0.258657  \n",
       "30                    0.261860  \n",
       "33                    0.265186  \n",
       "\n",
       "[5 rows x 23 columns]"
      ]
     },
     "execution_count": 8,
     "metadata": {},
     "output_type": "execute_result"
    }
   ],
   "source": [
    "#caculate percentage\n",
    "#men\n",
    "married_men_per=clean_marital_df['Married Men']/clean_marital_df['Men Total']\n",
    "unm_men_per=clean_marital_df['Unmarried Men Total']/clean_marital_df['Men Total']\n",
    "never_mar_mp=clean_marital_df['Never Married Men']/clean_marital_df['Men Total']\n",
    "#women\n",
    "married_wm_per=clean_marital_df['Married Women']/clean_marital_df['Women Total']\n",
    "unm_wm_per=clean_marital_df['Unmarried Women Total ']/clean_marital_df['Women Total']\n",
    "never_mar_wp=clean_marital_df['Never Married Women']/clean_marital_df['Women Total']\n",
    "#total\n",
    "total_p=clean_marital_df['Men Total']+clean_marital_df['Women Total']\n",
    "total_married=clean_marital_df['Married Men']+clean_marital_df['Married Women']\n",
    "total_unm=clean_marital_df['Unmarried Men Total']+clean_marital_df['Never Married Women']\n",
    "total_never=clean_marital_df['Never Married Men']+clean_marital_df['Never Married Women']\n",
    "married_per=total_married/total_p\n",
    "unmarried_per=total_unm/total_p\n",
    "never_per=total_never/total_p\n",
    "#add column to df\n",
    "clean_marital_df[\"Per of married men\"]=married_men_per\n",
    "clean_marital_df[\"Per of unmarried men\"]=unm_men_per\n",
    "clean_marital_df[\"Per of Never married men\"]=never_mar_mp\n",
    "clean_marital_df[\"Per of married women\"]=married_wm_per\n",
    "clean_marital_df[\"Per of unmarried women\"]=unm_wm_per\n",
    "clean_marital_df[\"Per of Never married women\"]=never_mar_wp\n",
    "clean_marital_df[\"Per of married peole\"]=married_per\n",
    "clean_marital_df[\"Per of unmarried peole\"]=unmarried_per\n",
    "clean_marital_df[\"Per of Never married peole\"]=never_per\n",
    "clean_marital_df.head()"
   ]
  },
  {
   "cell_type": "code",
   "execution_count": 18,
   "metadata": {},
   "outputs": [
    {
     "name": "stdout",
     "output_type": "stream",
     "text": [
      "The correlation between both factors is -0.96\n"
     ]
    }
   ],
   "source": [
    "#correlation between married and never married\n",
    "correlation = st.pearsonr(married_per,never_per)\n",
    "print(f\"The correlation between both factors is {round(correlation[0],2)}\")"
   ]
  },
  {
   "cell_type": "code",
   "execution_count": 20,
   "metadata": {},
   "outputs": [
    {
     "name": "stdout",
     "output_type": "stream",
     "text": [
      "The correlation between both factors is -0.99\n"
     ]
    }
   ],
   "source": [
    "#correlation between married and unmarried\n",
    "correlation = st.pearsonr(married_per,unmarried_per)\n",
    "print(f\"The correlation between both factors is {round(correlation[0],2)}\")"
   ]
  },
  {
   "cell_type": "markdown",
   "metadata": {},
   "source": [
    "The variables “Married” and \"unmarried\" are not independent variables. They indicate the same thing."
   ]
  },
  {
   "cell_type": "code",
   "execution_count": 26,
   "metadata": {},
   "outputs": [
    {
     "data": {
      "text/plain": [
       "Ttest_indResult(statistic=24.06107693828698, pvalue=5.3124305780152914e-21)"
      ]
     },
     "execution_count": 26,
     "metadata": {},
     "output_type": "execute_result"
    }
   ],
   "source": [
    "#t test between fertility rate and married\n",
    "feritility_rate=clean_marital_df['fertility_rate']\n",
    "st.ttest_ind(feritility_rate,married_per,equal_var=False)"
   ]
  },
  {
   "cell_type": "code",
   "execution_count": 28,
   "metadata": {},
   "outputs": [
    {
     "data": {
      "text/plain": [
       "Ttest_indResult(statistic=25.80385764417617, pvalue=3.342697085528269e-33)"
      ]
     },
     "execution_count": 28,
     "metadata": {},
     "output_type": "execute_result"
    }
   ],
   "source": [
    "#t test between fertility rate and unmarried\n",
    "st.ttest_ind(feritility_rate,unmarried_per,equal_var=False)"
   ]
  },
  {
   "cell_type": "markdown",
   "metadata": {},
   "source": [
    "T test indicated that there is no signficate difference between fertility rate and marital stauts. In another word, Fertility rate is not significantly relevant with marital status."
   ]
  },
  {
   "cell_type": "code",
   "execution_count": 9,
   "metadata": {},
   "outputs": [
    {
     "data": {
      "image/png": "[encoded data removed]",
      "text/plain": [
       "<Figure size 432x288 with 1 Axes>"
      ]
     },
     "metadata": {
      "needs_background": "light"
     },
     "output_type": "display_data"
    }
   ],
   "source": [
    "#line chart compared married percentage vs fertility rate\n",
    "x_axis_data = clean_marital_df['Year']\n",
    "y_axis1 = fertility_rate\n",
    "y_axis2 = clean_marital_df['Per of married men']\n",
    "y_axis3 = clean_marital_df['Per of married women']\n",
    "y_axis4=clean_marital_df[\"Per of married peole\"]\n",
    "\n",
    "plt.plot(x_axis_data, y_axis1,label=\"Fertility Rate\")\n",
    "plt.plot(x_axis_data, y_axis2,label=\"Married men\")\n",
    "plt.plot(x_axis_data, y_axis3,label=\"Married Women\")\n",
    "plt.plot(x_axis_data,y_axis4,label=\"Married People\")\n",
    "plt.legend(loc=\"best\")\n",
    "plt.xlabel('Year')\n",
    "plt.ylabel('Fertility Rate/Married Per')\n",
    "plt.title('Fertility Rate vs Married Percentage')\n",
    "#save fig\n",
    "plt.savefig(\"Output/fertility_married_line.png\")"
   ]
  },
  {
   "cell_type": "code",
   "execution_count": 10,
   "metadata": {},
   "outputs": [
    {
     "data": {
      "image/png": "[encoded data removed]",
      "text/plain": [
       "<Figure size 432x288 with 1 Axes>"
      ]
     },
     "metadata": {
      "needs_background": "light"
     },
     "output_type": "display_data"
    },
    {
     "name": "stdout",
     "output_type": "stream",
     "text": [
      "The correlation between both factors is 0.8\n"
     ]
    },
    {
     "data": {
      "text/plain": [
       "<Figure size 432x288 with 0 Axes>"
      ]
     },
     "metadata": {},
     "output_type": "display_data"
    }
   ],
   "source": [
    "#scatter plot fertility rate vs married people\n",
    "plt.scatter(fertility_rate, married_per, marker=\"o\", facecolors=\"blue\", edgecolors=\"black\")\n",
    "plt.xlabel('Fertility Rate')\n",
    "plt.ylabel('Married Percentage')\n",
    "\n",
    "#regression\n",
    "model = st.linregress(fertility_rate, married_per)\n",
    "y_value=fertility_rate*model[0]+model[1]\n",
    "plt.plot(fertility_rate,y_value,color=\"red\")\n",
    "plt.show()\n",
    "\n",
    "#correlation\n",
    "correlation = st.pearsonr(fertility_rate,married_per)\n",
    "print(f\"The correlation between both factors is {round(correlation[0],2)}\")\n",
    "\n",
    "#save fig\n",
    "plt.savefig(\"Output/fertility_married_scatter.png\")"
   ]
  },
  {
   "cell_type": "markdown",
   "metadata": {},
   "source": [
    "Based on correlation and linear regression. The trend will be the less people get married, the less fertility rate tends to be."
   ]
  },
  {
   "cell_type": "code",
   "execution_count": 11,
   "metadata": {},
   "outputs": [
    {
     "data": {
      "image/png": "[encoded data removed]",
      "text/plain": [
       "<Figure size 432x288 with 1 Axes>"
      ]
     },
     "metadata": {
      "needs_background": "light"
     },
     "output_type": "display_data"
    }
   ],
   "source": [
    "##line chart compared unmarried percentage vs fertility rate\n",
    "y_axis4 = fertility_rate\n",
    "y_axis5 = clean_marital_df['Per of unmarried men']\n",
    "y_axis6 = clean_marital_df['Per of unmarried women']\n",
    "y_axis7=clean_marital_df[\"Per of unmarried peole\"]\n",
    "\n",
    "plt.plot(x_axis_data, y_axis4,label=\"Fertility Rate\")\n",
    "plt.plot(x_axis_data, y_axis5,label=\"Unmarried men\")\n",
    "plt.plot(x_axis_data, y_axis6,label=\"Unmarried Women\")\n",
    "plt.plot(x_axis_data,y_axis7,label=\"Unmarried People\")\n",
    "plt.legend(loc=\"best\")\n",
    "plt.xlabel('Year')\n",
    "plt.ylabel('Fertility Rate/Unmarried Per')\n",
    "plt.title('Fertility Rate vs Unmarried Percentage')\n",
    "#save fig\n",
    "plt.savefig(\"Output/fertility_unmarried_line.png\")"
   ]
  },
  {
   "cell_type": "code",
   "execution_count": 12,
   "metadata": {},
   "outputs": [
    {
     "data": {
      "image/png": "[encoded data removed]",
      "text/plain": [
       "<Figure size 432x288 with 1 Axes>"
      ]
     },
     "metadata": {
      "needs_background": "light"
     },
     "output_type": "display_data"
    },
    {
     "name": "stdout",
     "output_type": "stream",
     "text": [
      "The correlation between both factors is -0.74\n"
     ]
    },
    {
     "data": {
      "text/plain": [
       "<Figure size 432x288 with 0 Axes>"
      ]
     },
     "metadata": {},
     "output_type": "display_data"
    }
   ],
   "source": [
    "#scatter plot fertility rate vs unmarried people\n",
    "plt.scatter(fertility_rate, unmarried_per, marker=\"o\", facecolors=\"green\", edgecolors=\"black\")\n",
    "plt.xlabel('Fertility Rate')\n",
    "plt.ylabel('Unmarried Percentage')\n",
    "\n",
    "#regression\n",
    "model = st.linregress(fertility_rate, unmarried_per)\n",
    "y_value1=fertility_rate*model[0]+model[1]\n",
    "plt.plot(fertility_rate,y_value1,color=\"red\")\n",
    "plt.show()\n",
    "\n",
    "#correlation\n",
    "correlation = st.pearsonr(fertility_rate,unmarried_per)\n",
    "print(f\"The correlation between both factors is {round(correlation[0],2)}\")\n",
    "\n",
    "#save fig\n",
    "plt.savefig(\"Output/fertility_unmarried_scatter.png\")"
   ]
  },
  {
   "cell_type": "code",
   "execution_count": 19,
   "metadata": {},
   "outputs": [
    {
     "data": {
      "image/png": "[encoded data removed]",
      "text/plain": [
       "<Figure size 432x288 with 1 Axes>"
      ]
     },
     "metadata": {
      "needs_background": "light"
     },
     "output_type": "display_data"
    }
   ],
   "source": [
    "##line chart compared never married percentage vs fertility rate\n",
    "y_axis8 = fertility_rate\n",
    "y_axis9 = clean_marital_df['Per of Never married men']\n",
    "y_axis10 = clean_marital_df['Per of Never married women']\n",
    "y_axis11=clean_marital_df[\"Per of Never married peole\"]\n",
    "\n",
    "plt.plot(x_axis_data, y_axis8,label=\"Fertility Rate\")\n",
    "plt.plot(x_axis_data, y_axis9,label=\"Unmarried men\")\n",
    "plt.plot(x_axis_data, y_axis10,label=\"Unmarried Women\")\n",
    "plt.plot(x_axis_data,y_axis11,label=\"Unmarried People\")\n",
    "plt.legend(loc=\"best\")\n",
    "plt.xlabel('Year')\n",
    "plt.ylabel('Fertility Rate/Unmarried Per')\n",
    "plt.title('Fertility Rate vs Never married Percentage')\n",
    "#save fig\n",
    "plt.savefig(\"Output/fertility_nevermarried_line.png\")"
   ]
  },
  {
   "cell_type": "code",
   "execution_count": 14,
   "metadata": {},
   "outputs": [
    {
     "data": {
      "image/png": "[encoded data removed]",
      "text/plain": [
       "<Figure size 432x288 with 1 Axes>"
      ]
     },
     "metadata": {
      "needs_background": "light"
     },
     "output_type": "display_data"
    },
    {
     "name": "stdout",
     "output_type": "stream",
     "text": [
      "The correlation between both factors is -0.72\n"
     ]
    },
    {
     "data": {
      "text/plain": [
       "<Figure size 432x288 with 0 Axes>"
      ]
     },
     "metadata": {},
     "output_type": "display_data"
    }
   ],
   "source": [
    "##scatter plot fertility rate vs never married people\n",
    "plt.scatter(fertility_rate, unmarried_per, marker=\"o\", facecolors=\"green\", edgecolors=\"black\")\n",
    "plt.xlabel('Fertility Rate')\n",
    "plt.ylabel('Never married Percentage')\n",
    "\n",
    "#regression\n",
    "model = st.linregress(fertility_rate, never_per)\n",
    "y_value1=fertility_rate*model[0]+model[1]\n",
    "plt.plot(fertility_rate,y_value1,color=\"red\")\n",
    "plt.show()\n",
    "\n",
    "#correlation\n",
    "correlation = st.pearsonr(fertility_rate,never_per)\n",
    "print(f\"The correlation between both factors is {round(correlation[0],2)}\")\n",
    "\n",
    "#save fig\n",
    "plt.savefig(\"Output/fertility_nevermarried_scatter.png\")"
   ]
  },
  {
   "cell_type": "markdown",
   "metadata": {},
   "source": [
    "The tend is same as fertility vs married people. It proves again variable \"married\" and \"unmarried\",\"married\" and \"never married\" are the same factors. "
   ]
  },
  {
   "cell_type": "markdown",
   "metadata": {},
   "source": [
    "## Fertility Rate vs Age"
   ]
  },
  {
   "cell_type": "code",
   "execution_count": null,
   "metadata": {},
   "outputs": [],
   "source": [
    "# Raw DataFrame Prep: Fertility by Age\n",
    "\n",
    "# Read csv\n",
    "age_fertility_df = pd.read_csv(age_fertility_path)\n",
    "\n",
    "# Clean\n",
    "age_fertility_df = age_fertility_df[['Year', 'Age 10-14 Years', 'Age 15-19 Years', 'Age 20-24 Years',\n",
    "                           'Age 25-29 Years', 'Age 30-34 Years', 'Age 35-39 Years', 'Age 40-44 Years', 'Age 45-49 Years']]\n",
    "\n",
    "# Merge with fertility rates\n",
    "merge_age_df = pd.merge(fertility_rate_df, age_fertility_df, on=\"Year\", how=\"outer\")\n",
    "\n",
    "# Print and display\n",
    "print(f'{len(merge_age_df)} records')\n",
    "merge_age_df.head()\n",
    "\n",
    "# Print to csv - remove hashmark in front of below code to export to csv\n",
    "# merge_age_df.to_csv(\"Output/fertility_age.csv\", index=False, header=True)"
   ]
  },
  {
   "cell_type": "markdown",
   "metadata": {},
   "source": [
    "## Fertility Rate vs Education"
   ]
  },
  {
   "cell_type": "code",
   "execution_count": null,
   "metadata": {},
   "outputs": [],
   "source": [
    "# Raw DataFrame Prep: Female Education Attainment Level\n",
    "\n",
    "# Read csv and drop na\n",
    "education_df = pd.read_csv(education_path).dropna()\n",
    "\n",
    "# Clean\n",
    "education_df.rename(columns = {'Years':'Year'}, inplace=True)\n",
    "\n",
    "# Merge with fertility rates\n",
    "merge_education_df = pd.merge(fertility_rate_df, education_df, on=\"Year\", how=\"outer\")\n",
    "\n",
    "# Print and display\n",
    "print(f'{len(merge_education_df)} records')\n",
    "merge_education_df.head()\n",
    "\n",
    "# Print to csv - remove hashmark in front of below code to export to csv\n",
    "# merge_education_df.to_csv(\"Output/education.csv\", index=False, header=True)"
   ]
  },
  {
   "cell_type": "code",
   "execution_count": null,
   "metadata": {},
   "outputs": [],
   "source": []
  }
 ],
 "metadata": {
  "kernelspec": {
   "display_name": "Python 3",
   "language": "python",
   "name": "python3"
  },
  "language_info": {
   "codemirror_mode": {
    "name": "ipython",
    "version": 3
   },
   "file_extension": ".py",
   "mimetype": "text/x-python",
   "name": "python",
   "nbconvert_exporter": "python",
   "pygments_lexer": "ipython3",
   "version": "3.8.3"
  }
 },
 "nbformat": 4,
 "nbformat_minor": 4
}
