{
 "cells": [
  {
   "cell_type": "code",
<<<<<<< HEAD
   "execution_count": 32,
=======
   "execution_count": 63,
>>>>>>> 602ae221ee55d31ac4e61870c240839e1261d265
   "metadata": {},
   "outputs": [],
   "source": [
    "#Dependencies\n",
    "import pandas as pd\n",
    "import numpy as np\n",
    "import matplotlib.pyplot as plt\n",
    "import scipy.stats as st"
   ]
  },
  {
   "cell_type": "code",
<<<<<<< HEAD
   "execution_count": 33,
=======
   "execution_count": 29,
>>>>>>> 602ae221ee55d31ac4e61870c240839e1261d265
   "metadata": {},
   "outputs": [],
   "source": [
    "# csv_file pathing\n",
    "fertility_rate_path = \"Resource/fred_fertility_rates.csv\"\n",
    "living_arrangements_path = \"Resource/census_living_arrangements.csv\"\n",
    "marital_status_path = \"Resource/marital status overtime.csv\"\n",
    "age_fertility_path = \"Resource/Age_Fertility.csv\"\n",
    "education_path = \"Resource/Female Education Attainment Level.csv\"\n"
   ]
  },
  {
   "cell_type": "code",
<<<<<<< HEAD
   "execution_count": 34,
=======
   "execution_count": 5,
>>>>>>> 602ae221ee55d31ac4e61870c240839e1261d265
   "metadata": {},
   "outputs": [
    {
     "name": "stdout",
     "output_type": "stream",
     "text": [
      "59 records\n"
     ]
<<<<<<< HEAD
    },
    {
     "data": {
      "text/html": [
       "<div>\n",
       "<style scoped>\n",
       "    .dataframe tbody tr th:only-of-type {\n",
       "        vertical-align: middle;\n",
       "    }\n",
       "\n",
       "    .dataframe tbody tr th {\n",
       "        vertical-align: top;\n",
       "    }\n",
       "\n",
       "    .dataframe thead th {\n",
       "        text-align: right;\n",
       "    }\n",
       "</style>\n",
       "<table border=\"1\" class=\"dataframe\">\n",
       "  <thead>\n",
       "    <tr style=\"text-align: right;\">\n",
       "      <th></th>\n",
       "      <th>Year</th>\n",
       "      <th>fertility_rate</th>\n",
       "    </tr>\n",
       "  </thead>\n",
       "  <tbody>\n",
       "    <tr>\n",
       "      <th>0</th>\n",
       "      <td>1960</td>\n",
       "      <td>3.654</td>\n",
       "    </tr>\n",
       "    <tr>\n",
       "      <th>1</th>\n",
       "      <td>1961</td>\n",
       "      <td>3.620</td>\n",
       "    </tr>\n",
       "    <tr>\n",
       "      <th>2</th>\n",
       "      <td>1962</td>\n",
       "      <td>3.461</td>\n",
       "    </tr>\n",
       "    <tr>\n",
       "      <th>3</th>\n",
       "      <td>1963</td>\n",
       "      <td>3.319</td>\n",
       "    </tr>\n",
       "    <tr>\n",
       "      <th>4</th>\n",
       "      <td>1964</td>\n",
       "      <td>3.190</td>\n",
       "    </tr>\n",
       "  </tbody>\n",
       "</table>\n",
       "</div>"
      ],
      "text/plain": [
       "   Year  fertility_rate\n",
       "0  1960           3.654\n",
       "1  1961           3.620\n",
       "2  1962           3.461\n",
       "3  1963           3.319\n",
       "4  1964           3.190"
      ]
     },
     "execution_count": 34,
     "metadata": {},
     "output_type": "execute_result"
    }
   ],
   "source": [
    "# Raw DataFrame Prep: Fertility Rates\n",
    "\n",
    "fertility_rate_df = pd.read_csv(fertility_rate_path).dropna()\n",
    "fertility_rate_df['DATE'] = pd.to_datetime(fertility_rate_df['DATE'].str.strip(), format='%d/%m/%Y').dt.year\n",
    "fertility_rate_df.rename(columns = {'SPDYNTFRTINUSA':'fertility_rate','DATE':'Year'}, inplace = True) \n",
    "\n",
    "print(f'{len(fertility_rate_df)} records')\n",
    "fertility_rate_df.head()\n",
    "\n",
    "# Print to csv - remove hashmark in front of below code to export to csv\n",
    "# fertility_rate_df.to_csv(\"Output/fertility_rate.csv\", index=False, header=True)\n"
   ]
  },
  {
   "cell_type": "code",
   "execution_count": 35,
   "metadata": {},
   "outputs": [
    {
     "name": "stdout",
     "output_type": "stream",
     "text": [
      "60 records\n"
     ]
=======
>>>>>>> 602ae221ee55d31ac4e61870c240839e1261d265
    },
    {
     "data": {
      "text/html": [
       "<div>\n",
       "<style scoped>\n",
       "    .dataframe tbody tr th:only-of-type {\n",
       "        vertical-align: middle;\n",
       "    }\n",
       "\n",
       "    .dataframe tbody tr th {\n",
       "        vertical-align: top;\n",
       "    }\n",
       "\n",
       "    .dataframe thead th {\n",
       "        text-align: right;\n",
       "    }\n",
       "</style>\n",
       "<table border=\"1\" class=\"dataframe\">\n",
       "  <thead>\n",
       "    <tr style=\"text-align: right;\">\n",
       "      <th></th>\n",
       "      <th>Year</th>\n",
       "      <th>fertility_rate</th>\n",
       "    </tr>\n",
       "  </thead>\n",
       "  <tbody>\n",
       "    <tr>\n",
       "      <th>0</th>\n",
       "      <td>1960</td>\n",
       "      <td>3.654</td>\n",
       "    </tr>\n",
       "    <tr>\n",
       "      <th>1</th>\n",
       "      <td>1961</td>\n",
       "      <td>3.620</td>\n",
       "    </tr>\n",
       "    <tr>\n",
       "      <th>2</th>\n",
       "      <td>1962</td>\n",
       "      <td>3.461</td>\n",
       "    </tr>\n",
       "    <tr>\n",
       "      <th>3</th>\n",
       "      <td>1963</td>\n",
       "      <td>3.319</td>\n",
       "    </tr>\n",
       "    <tr>\n",
       "      <th>4</th>\n",
       "      <td>1964</td>\n",
       "      <td>3.190</td>\n",
       "    </tr>\n",
       "  </tbody>\n",
       "</table>\n",
       "</div>"
      ],
      "text/plain": [
       "   Year  fertility_rate\n",
       "0  1960           3.654\n",
       "1  1961           3.620\n",
       "2  1962           3.461\n",
       "3  1963           3.319\n",
       "4  1964           3.190"
      ]
     },
<<<<<<< HEAD
     "execution_count": 35,
=======
     "execution_count": 5,
>>>>>>> 602ae221ee55d31ac4e61870c240839e1261d265
     "metadata": {},
     "output_type": "execute_result"
    }
   ],
   "source": [
    "# Raw DataFrame Prep: Fertility Rates\n",
    "\n",
    "# Read csv, drop na\n",
    "fertility_rate_df = pd.read_csv(fertility_rate_path).dropna()\n",
    "\n",
    "# Clean data\n",
    "fertility_rate_df['DATE'] = pd.to_datetime(fertility_rate_df['DATE'].str.strip(), format='%d/%m/%Y').dt.year\n",
    "fertility_rate_df.rename(columns = {'SPDYNTFRTINUSA':'fertility_rate','DATE':'Year'}, inplace = True) \n",
    "\n",
    "# Print and display\n",
    "print(f'{len(fertility_rate_df)} records')\n",
    "fertility_rate_df.head()\n",
    "\n",
    "# Print to csv - remove hashmark in front of below code to export to csv\n",
    "# fertility_rate_df.to_csv(\"Output/fertility_rate.csv\", index=False, header=True)\n"
   ]
  },
  {
   "cell_type": "markdown",
   "metadata": {},
   "source": [
    "## Fertility Rate vs Living Arrangements"
   ]
  },
  {
   "cell_type": "code",
<<<<<<< HEAD
   "execution_count": 36,
=======
   "execution_count": 32,
>>>>>>> 602ae221ee55d31ac4e61870c240839e1261d265
   "metadata": {},
   "outputs": [
    {
     "name": "stdout",
     "output_type": "stream",
     "text": [
      "52 records\n"
     ]
    }
   ],
   "source": [
    "# Raw DataFrame Prep: Living Arrangements\n",
    "\n",
    "# Read csv, drop na\n",
    "living_arrangements_df = pd.read_csv(living_arrangements_path).dropna()\n",
    "\n",
    "# Merge with fertility rates\n",
    "merge_living_df = pd.merge(fertility_rate_df, living_arrangements_df, on = \"Year\", how = \"outer\").dropna()\n",
    "\n",
    "# Print, display, export options\n",
    "print(f'{len(merge_living_df)} records')\n",
    "# merge_living_df.head()\n",
    "# merge_living_df.to_csv(\"Output/living_arrangements.csv\", index=False, header=True)"
   ]
  },
  {
   "cell_type": "code",
   "execution_count": 71,
   "metadata": {},
   "outputs": [],
   "source": [
    "# Living Arrangements Bar Chart\n",
    "\n",
    "# Clean and organize\n",
    "other_ttl = merge_living_df['father_only'] + merge_living_df['other_relatives'] + merge_living_df['non_relatives']\n",
    "pct_mother_only = merge_living_df['mother_only'] / merge_living_df['under_18'] \n",
    "pct_two_parents = merge_living_df['two_parents'] / merge_living_df['under_18'] \n",
    "pct_other = merge_living_df['other'] / merge_living_df['under_18'] \n",
    "\n",
    "merge_living_df['other']= other_ttl\n",
    "merge_living_df['%_mother_only']= pct_mother_only.map(\"{:,.2%}\".format)\n",
    "merge_living_df['%_two_parents']= pct_two_parents.map(\"{:,.2%}\".format)\n",
    "merge_living_df['%_other']= pct_other.map(\"{:,.2%}\".format)\n",
    "\n",
    "# Create data frame w/specific chart data required\n",
    "chart_data_df = merge_living_df[['Year', 'fertility_rate', 'under_18', 'mother_only', 'two_parents', 'other', '%_mother_only', '%_two_parents', '%_other']].reset_index(drop=True)\n",
    "pct_mother_only = chart_data_df['mother_only'] / chart_data_df['under_18'] \n",
    "pct_two_parents = chart_data_df['two_parents'] / chart_data_df['under_18'] \n",
    "pct_other = chart_data_df['other'] / chart_data_df['under_18'] \n",
    "\n",
    "# Drop Outlier\n",
    "chart_data_df = chart_data_df[chart_data_df.Year != 1960]\n",
    "chart_data_df.head()\n",
    "\n",
    "# Print output\n",
    "chart_data_df.to_csv(\"Output/living_arrangements_chartdata.csv\", index=False, header=True)"
   ]
  },
  {
   "cell_type": "code",
   "execution_count": 58,
   "metadata": {
    "scrolled": true
   },
   "outputs": [
    {
     "data": {
      "text/plain": [
       "[<matplotlib.lines.Line2D at 0x1de9a8d8278>]"
      ]
     },
<<<<<<< HEAD
     "execution_count": 36,
=======
     "execution_count": 58,
>>>>>>> 602ae221ee55d31ac4e61870c240839e1261d265
     "metadata": {},
     "output_type": "execute_result"
    },
    {
     "data": {
      "image/png": "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\n",
      "text/plain": [
       "<Figure size 432x288 with 1 Axes>"
      ]
     },
     "metadata": {
      "needs_background": "light"
     },
     "output_type": "display_data"
    }
   ],
   "source": [
    "# Living Arrangements Line Chart\n",
    "\n",
    "x_axis_data = chart_data_df['Year']\n",
    "y_axis1 = chart_data_df['%_mother_only']\n",
    "y_axis2 = chart_data_df['%_other']\n",
    "y_axis3 = chart_data_df['%_two_parents']\n",
    "\n",
    "plt.plot(x_axis_data, y_axis1)\n",
    "plt.plot(x_axis_data, y_axis2)\n",
    "plt.plot(x_axis_data, y_axis3)\n"
   ]
  },
  {
   "cell_type": "code",
   "execution_count": 69,
   "metadata": {},
   "outputs": [
    {
     "data": {
      "image/png": "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\n",
      "text/plain": [
       "<Figure size 432x288 with 1 Axes>"
      ]
     },
     "metadata": {
      "needs_background": "light"
     },
     "output_type": "display_data"
    }
   ],
   "source": [
    "# Living Arrangements Scatter Chart\n",
    "\n",
    "fertility_rate = chart_data_df['fertility_rate']\n",
    "mother_only = chart_data_df['%_mother_only']\n",
    "\n",
    "plt.scatter(fertility_rate, mother_only, marker=\"o\", facecolors=\"red\", edgecolors=\"gray\")\n",
    "\n",
    "plt.xlabel('Fertility Rate')\n",
    "plt.ylabel('Mother Only')\n",
    "\n",
    "plt.show()\n"
   ]
  },
  {
   "cell_type": "markdown",
   "metadata": {},
   "source": [
    "## Fertility Rate vs Marital Status"
   ]
  },
  {
   "cell_type": "code",
   "execution_count": 7,
   "metadata": {},
   "outputs": [
    {
     "name": "stdout",
     "output_type": "stream",
     "text": [
      "61 records\n"
     ]
    }
   ],
   "source": [
    "# Raw DataFrame Prep: Marital Status\n",
    "\n",
    "# Read csv, drop na\n",
    "marital_status_df = pd.read_csv(marital_status_path).dropna()\n",
    "\n",
    "# Merge with fertility rates\n",
    "merge_marital_df = pd.merge(fertility_rate_df, marital_status_df, on=\"Year\", how=\"outer\")\n",
    "\n",
    "# Print and display\n",
    "print(f'{len(merge_marital_df)} records')\n",
    "merge_marital_df.head()\n",
    "\n",
    "# Print to csv - remove hashmark in front of below code to export to csv\n",
    "merge_marital_df.to_csv(\"Output/marital_status.csv\", index=False, header=True)"
   ]
  },
  {
   "cell_type": "markdown",
   "metadata": {},
   "source": [
    "## Fertility Rate vs Age"
   ]
  },
  {
   "cell_type": "code",
<<<<<<< HEAD
   "execution_count": 37,
=======
   "execution_count": 27,
>>>>>>> 602ae221ee55d31ac4e61870c240839e1261d265
   "metadata": {},
   "outputs": [
    {
     "name": "stdout",
     "output_type": "stream",
     "text": [
      "73 records\n"
     ]
    },
    {
     "data": {
      "text/html": [
       "<div>\n",
       "<style scoped>\n",
       "    .dataframe tbody tr th:only-of-type {\n",
       "        vertical-align: middle;\n",
       "    }\n",
       "\n",
       "    .dataframe tbody tr th {\n",
       "        vertical-align: top;\n",
       "    }\n",
       "\n",
       "    .dataframe thead th {\n",
       "        text-align: right;\n",
       "    }\n",
       "</style>\n",
       "<table border=\"1\" class=\"dataframe\">\n",
       "  <thead>\n",
       "    <tr style=\"text-align: right;\">\n",
       "      <th></th>\n",
       "      <th>Year</th>\n",
       "      <th>fertility_rate</th>\n",
       "      <th>Age 10-14 Years</th>\n",
       "      <th>Age 15-19 Years</th>\n",
       "      <th>Age 20-24 Years</th>\n",
       "      <th>Age 25-29 Years</th>\n",
       "      <th>Age 30-34 Years</th>\n",
       "      <th>Age 35-39 Years</th>\n",
       "      <th>Age 40-44 Years</th>\n",
       "      <th>Age 45-49 Years</th>\n",
       "      <th>35+</th>\n",
       "    </tr>\n",
       "  </thead>\n",
       "  <tbody>\n",
       "    <tr>\n",
       "      <th>0</th>\n",
       "      <td>1960</td>\n",
       "      <td>3.654</td>\n",
       "      <td>0.8</td>\n",
       "      <td>89.1</td>\n",
       "      <td>258.1</td>\n",
       "      <td>197.4</td>\n",
       "      <td>112.7</td>\n",
       "      <td>56.2</td>\n",
       "      <td>15.5</td>\n",
       "      <td>0.9</td>\n",
       "      <td>72.6</td>\n",
       "    </tr>\n",
       "    <tr>\n",
       "      <th>1</th>\n",
       "      <td>1961</td>\n",
       "      <td>3.620</td>\n",
       "      <td>0.9</td>\n",
       "      <td>88.6</td>\n",
       "      <td>251.9</td>\n",
       "      <td>197.5</td>\n",
       "      <td>113.2</td>\n",
       "      <td>55.6</td>\n",
       "      <td>15.6</td>\n",
       "      <td>0.9</td>\n",
       "      <td>72.1</td>\n",
       "    </tr>\n",
       "    <tr>\n",
       "      <th>2</th>\n",
       "      <td>1962</td>\n",
       "      <td>3.461</td>\n",
       "      <td>0.8</td>\n",
       "      <td>81.4</td>\n",
       "      <td>241.9</td>\n",
       "      <td>191.1</td>\n",
       "      <td>108.6</td>\n",
       "      <td>52.6</td>\n",
       "      <td>14.9</td>\n",
       "      <td>0.9</td>\n",
       "      <td>68.4</td>\n",
       "    </tr>\n",
       "    <tr>\n",
       "      <th>3</th>\n",
       "      <td>1963</td>\n",
       "      <td>3.319</td>\n",
       "      <td>0.9</td>\n",
       "      <td>76.7</td>\n",
       "      <td>229.1</td>\n",
       "      <td>185.1</td>\n",
       "      <td>105.8</td>\n",
       "      <td>51.2</td>\n",
       "      <td>14.2</td>\n",
       "      <td>0.9</td>\n",
       "      <td>66.3</td>\n",
       "    </tr>\n",
       "    <tr>\n",
       "      <th>4</th>\n",
       "      <td>1964</td>\n",
       "      <td>3.190</td>\n",
       "      <td>0.9</td>\n",
       "      <td>73.1</td>\n",
       "      <td>217.5</td>\n",
       "      <td>178.7</td>\n",
       "      <td>103.4</td>\n",
       "      <td>49.9</td>\n",
       "      <td>13.8</td>\n",
       "      <td>0.8</td>\n",
       "      <td>64.5</td>\n",
       "    </tr>\n",
       "  </tbody>\n",
       "</table>\n",
       "</div>"
      ],
      "text/plain": [
       "   Year  fertility_rate  Age 10-14 Years  Age 15-19 Years  Age 20-24 Years  \\\n",
       "0  1960           3.654              0.8             89.1            258.1   \n",
       "1  1961           3.620              0.9             88.6            251.9   \n",
       "2  1962           3.461              0.8             81.4            241.9   \n",
       "3  1963           3.319              0.9             76.7            229.1   \n",
       "4  1964           3.190              0.9             73.1            217.5   \n",
       "\n",
       "   Age 25-29 Years  Age 30-34 Years  Age 35-39 Years  Age 40-44 Years  \\\n",
       "0            197.4            112.7             56.2             15.5   \n",
       "1            197.5            113.2             55.6             15.6   \n",
       "2            191.1            108.6             52.6             14.9   \n",
       "3            185.1            105.8             51.2             14.2   \n",
       "4            178.7            103.4             49.9             13.8   \n",
       "\n",
       "   Age 45-49 Years   35+  \n",
       "0              0.9  72.6  \n",
       "1              0.9  72.1  \n",
       "2              0.9  68.4  \n",
       "3              0.9  66.3  \n",
       "4              0.8  64.5  "
      ]
     },
<<<<<<< HEAD
     "execution_count": 37,
=======
     "execution_count": 27,
>>>>>>> 602ae221ee55d31ac4e61870c240839e1261d265
     "metadata": {},
     "output_type": "execute_result"
    }
   ],
   "source": [
    "# Raw DataFrame Prep: Fertility by Age\n",
    "\n",
    "# Read csv\n",
    "age_fertility_df = pd.read_csv(age_fertility_path)\n",
    "\n",
    "# Clean\n",
    "age_fertility_df = age_fertility_df[['Year', 'Age 10-14 Years', 'Age 15-19 Years', 'Age 20-24 Years',\n",
    "                           'Age 25-29 Years', 'Age 30-34 Years', 'Age 35-39 Years', 'Age 40-44 Years', 'Age 45-49 Years']]\n",
    "\n",
    "# Merge with fertility rates\n",
    "merge_age_df = pd.merge(fertility_rate_df, age_fertility_df, on=\"Year\", how=\"outer\")\n",
    "\n",
    "# Print and display\n",
    "print(f'{len(merge_age_df)} records')\n",
    "merge_age_df.head()\n",
    "\n",
    "# Print to csv - remove hashmark in front of below code to export to csv\n",
    "# merge_age_df.to_csv(\"Output/fertility_age.csv\", index=False, header=True)"
   ]
  },
  {
   "cell_type": "markdown",
   "metadata": {},
   "source": [
    "## Fertility Rate vs Education"
   ]
  },
  {
   "cell_type": "code",
<<<<<<< HEAD
   "execution_count": 38,
=======
   "execution_count": 30,
>>>>>>> 602ae221ee55d31ac4e61870c240839e1261d265
   "metadata": {},
   "outputs": [
    {
     "name": "stdout",
     "output_type": "stream",
     "text": [
      "64 records\n"
     ]
    },
    {
     "data": {
      "text/html": [
       "<div>\n",
       "<style scoped>\n",
       "    .dataframe tbody tr th:only-of-type {\n",
       "        vertical-align: middle;\n",
       "    }\n",
       "\n",
       "    .dataframe tbody tr th {\n",
       "        vertical-align: top;\n",
       "    }\n",
       "\n",
       "    .dataframe thead th {\n",
       "        text-align: right;\n",
       "    }\n",
       "</style>\n",
       "<table border=\"1\" class=\"dataframe\">\n",
       "  <thead>\n",
       "    <tr style=\"text-align: right;\">\n",
       "      <th></th>\n",
       "      <th>Year</th>\n",
       "      <th>fertility_rate</th>\n",
       "      <th>Total # in thousands</th>\n",
       "      <th>Elementary 0-4</th>\n",
       "      <th>Middle School 5-8</th>\n",
       "      <th>High School 1-3</th>\n",
       "      <th>High School 4</th>\n",
       "      <th>College 1-3</th>\n",
       "      <th>College 4</th>\n",
       "    </tr>\n",
       "  </thead>\n",
       "  <tbody>\n",
       "    <tr>\n",
       "      <th>0</th>\n",
       "      <td>1960</td>\n",
       "      <td>3.654</td>\n",
       "      <td>51468</td>\n",
       "      <td>3781</td>\n",
       "      <td>15656</td>\n",
       "      <td>10151</td>\n",
       "      <td>14267</td>\n",
       "      <td>4620</td>\n",
       "      <td>2991</td>\n",
       "    </tr>\n",
       "    <tr>\n",
       "      <th>1</th>\n",
       "      <td>1961</td>\n",
       "      <td>3.620</td>\n",
       "      <td>NaN</td>\n",
       "      <td>NaN</td>\n",
       "      <td>NaN</td>\n",
       "      <td>NaN</td>\n",
       "      <td>NaN</td>\n",
       "      <td>NaN</td>\n",
       "      <td>NaN</td>\n",
       "    </tr>\n",
       "    <tr>\n",
       "      <th>2</th>\n",
       "      <td>1962</td>\n",
       "      <td>3.461</td>\n",
       "      <td>52381</td>\n",
       "      <td>3613</td>\n",
       "      <td>14511</td>\n",
       "      <td>9352</td>\n",
       "      <td>16545</td>\n",
       "      <td>4855</td>\n",
       "      <td>3505</td>\n",
       "    </tr>\n",
       "    <tr>\n",
       "      <th>3</th>\n",
       "      <td>1963</td>\n",
       "      <td>3.319</td>\n",
       "      <td>NaN</td>\n",
       "      <td>NaN</td>\n",
       "      <td>NaN</td>\n",
       "      <td>NaN</td>\n",
       "      <td>NaN</td>\n",
       "      <td>NaN</td>\n",
       "      <td>NaN</td>\n",
       "    </tr>\n",
       "    <tr>\n",
       "      <th>4</th>\n",
       "      <td>1964</td>\n",
       "      <td>3.190</td>\n",
       "      <td>53,447</td>\n",
       "      <td>3,333</td>\n",
       "      <td>14,086</td>\n",
       "      <td>9,881</td>\n",
       "      <td>17,825</td>\n",
       "      <td>4,686</td>\n",
       "      <td>3,629</td>\n",
       "    </tr>\n",
       "  </tbody>\n",
       "</table>\n",
       "</div>"
      ],
      "text/plain": [
       "   Year  fertility_rate  Total # in thousands  Elementary 0-4  \\\n",
       "0  1960           3.654                  51468           3781   \n",
       "1  1961           3.620                    NaN            NaN   \n",
       "2  1962           3.461                  52381           3613   \n",
       "3  1963           3.319                    NaN            NaN   \n",
       "4  1964           3.190                 53,447          3,333   \n",
       "\n",
       "  Middle School 5-8 High School 1-3 High School 4 College 1-3 College 4  \n",
       "0             15656           10151         14267        4620      2991  \n",
       "1               NaN             NaN           NaN         NaN       NaN  \n",
       "2             14511            9352         16545        4855      3505  \n",
       "3               NaN             NaN           NaN         NaN       NaN  \n",
       "4            14,086           9,881        17,825       4,686     3,629  "
      ]
     },
<<<<<<< HEAD
     "execution_count": 38,
=======
     "execution_count": 30,
>>>>>>> 602ae221ee55d31ac4e61870c240839e1261d265
     "metadata": {},
     "output_type": "execute_result"
    }
   ],
   "source": [
    "# Raw DataFrame Prep: Female Education Attainment Level\n",
    "\n",
    "# Read csv and drop na\n",
    "education_df = pd.read_csv(education_path).dropna()\n",
    "\n",
    "# Clean\n",
    "#education_df.rename(columns = {'Years':'Year'}, inplace=True)\n",
    "\n",
    "# Merge with fertility rates\n",
    "merge_education_df = pd.merge(fertility_rate_df, education_df, on=\"Year\", how=\"outer\")\n",
    "\n",
    "# Print and display\n",
    "print(f'{len(merge_education_df)} records')\n",
    "merge_education_df.head()\n",
    "\n",
    "# Print to csv - remove hashmark in front of below code to export to csv\n",
    "# merge_education_df.to_csv(\"Output/education.csv\", index=False, header=True)"
   ]
  },
  {
   "cell_type": "code",
   "execution_count": 41,
   "metadata": {},
   "outputs": [
    {
     "ename": "KeyError",
     "evalue": "('Elementary 0-4', 'Middle School 5-8', 'High School 1-3', 'High School 4', 'College 1-3', 'College 4')",
     "output_type": "error",
     "traceback": [
      "\u001b[0;31m---------------------------------------------------------------------------\u001b[0m",
      "\u001b[0;31mKeyError\u001b[0m                                  Traceback (most recent call last)",
      "\u001b[0;32m~/opt/anaconda3/lib/python3.8/site-packages/pandas/core/indexes/base.py\u001b[0m in \u001b[0;36mget_loc\u001b[0;34m(self, key, method, tolerance)\u001b[0m\n\u001b[1;32m   2645\u001b[0m             \u001b[0;32mtry\u001b[0m\u001b[0;34m:\u001b[0m\u001b[0;34m\u001b[0m\u001b[0;34m\u001b[0m\u001b[0m\n\u001b[0;32m-> 2646\u001b[0;31m                 \u001b[0;32mreturn\u001b[0m \u001b[0mself\u001b[0m\u001b[0;34m.\u001b[0m\u001b[0m_engine\u001b[0m\u001b[0;34m.\u001b[0m\u001b[0mget_loc\u001b[0m\u001b[0;34m(\u001b[0m\u001b[0mkey\u001b[0m\u001b[0;34m)\u001b[0m\u001b[0;34m\u001b[0m\u001b[0;34m\u001b[0m\u001b[0m\n\u001b[0m\u001b[1;32m   2647\u001b[0m             \u001b[0;32mexcept\u001b[0m \u001b[0mKeyError\u001b[0m\u001b[0;34m:\u001b[0m\u001b[0;34m\u001b[0m\u001b[0;34m\u001b[0m\u001b[0m\n",
      "\u001b[0;32mpandas/_libs/index.pyx\u001b[0m in \u001b[0;36mpandas._libs.index.IndexEngine.get_loc\u001b[0;34m()\u001b[0m\n",
      "\u001b[0;32mpandas/_libs/index.pyx\u001b[0m in \u001b[0;36mpandas._libs.index.IndexEngine.get_loc\u001b[0;34m()\u001b[0m\n",
      "\u001b[0;32mpandas/_libs/hashtable_class_helper.pxi\u001b[0m in \u001b[0;36mpandas._libs.hashtable.PyObjectHashTable.get_item\u001b[0;34m()\u001b[0m\n",
      "\u001b[0;32mpandas/_libs/hashtable_class_helper.pxi\u001b[0m in \u001b[0;36mpandas._libs.hashtable.PyObjectHashTable.get_item\u001b[0;34m()\u001b[0m\n",
      "\u001b[0;31mKeyError\u001b[0m: ('Elementary 0-4', 'Middle School 5-8', 'High School 1-3', 'High School 4', 'College 1-3', 'College 4')",
      "\nDuring handling of the above exception, another exception occurred:\n",
      "\u001b[0;31mKeyError\u001b[0m                                  Traceback (most recent call last)",
      "\u001b[0;32m<ipython-input-41-e918b33d71ea>\u001b[0m in \u001b[0;36m<module>\u001b[0;34m\u001b[0m\n\u001b[1;32m      4\u001b[0m \u001b[0;34m\u001b[0m\u001b[0m\n\u001b[1;32m      5\u001b[0m \u001b[0mplt\u001b[0m\u001b[0;34m.\u001b[0m\u001b[0mfigure\u001b[0m\u001b[0;34m(\u001b[0m\u001b[0mfigsize\u001b[0m\u001b[0;34m=\u001b[0m\u001b[0;34m(\u001b[0m\u001b[0;36m10\u001b[0m\u001b[0;34m,\u001b[0m \u001b[0;36m10\u001b[0m\u001b[0;34m)\u001b[0m\u001b[0;34m)\u001b[0m\u001b[0;34m\u001b[0m\u001b[0;34m\u001b[0m\u001b[0m\n\u001b[0;32m----> 6\u001b[0;31m \u001b[0mplt\u001b[0m\u001b[0;34m.\u001b[0m\u001b[0mbar\u001b[0m\u001b[0;34m(\u001b[0m\u001b[0mx_axis\u001b[0m\u001b[0;34m,\u001b[0m \u001b[0mmerge_education_df\u001b[0m\u001b[0;34m[\u001b[0m\u001b[0;34m\"Elementary 0-4\"\u001b[0m\u001b[0;34m,\u001b[0m \u001b[0;34m\"Middle School 5-8\"\u001b[0m\u001b[0;34m,\u001b[0m \u001b[0;34m\"High School 1-3\"\u001b[0m\u001b[0;34m,\u001b[0m \u001b[0;34m\"High School 4\"\u001b[0m\u001b[0;34m,\u001b[0m \u001b[0;34m\"College 1-3\"\u001b[0m\u001b[0;34m,\u001b[0m \u001b[0;34m\"College 4\"\u001b[0m\u001b[0;34m]\u001b[0m\u001b[0;34m,\u001b[0m \u001b[0mcolor\u001b[0m\u001b[0;34m=\u001b[0m\u001b[0;34m'r'\u001b[0m\u001b[0;34m,\u001b[0m \u001b[0malpha\u001b[0m\u001b[0;34m=\u001b[0m\u001b[0;36m0.5\u001b[0m\u001b[0;34m,\u001b[0m \u001b[0malign\u001b[0m\u001b[0;34m=\u001b[0m\u001b[0;34m\"edge\"\u001b[0m\u001b[0;34m)\u001b[0m\u001b[0;34m\u001b[0m\u001b[0;34m\u001b[0m\u001b[0m\n\u001b[0m\u001b[1;32m      7\u001b[0m \u001b[0mplt\u001b[0m\u001b[0;34m.\u001b[0m\u001b[0mxticks\u001b[0m\u001b[0;34m(\u001b[0m\u001b[0mtick_locations\u001b[0m\u001b[0;34m,\u001b[0m \u001b[0mmerge_education_df\u001b[0m\u001b[0;34m[\u001b[0m\u001b[0;34m\"Year\"\u001b[0m\u001b[0;34m]\u001b[0m\u001b[0;34m,\u001b[0m \u001b[0mrotation\u001b[0m\u001b[0;34m=\u001b[0m\u001b[0;34m\"vertical\"\u001b[0m\u001b[0;34m)\u001b[0m\u001b[0;34m\u001b[0m\u001b[0;34m\u001b[0m\u001b[0m\n\u001b[1;32m      8\u001b[0m \u001b[0;34m\u001b[0m\u001b[0m\n",
      "\u001b[0;32m~/opt/anaconda3/lib/python3.8/site-packages/pandas/core/frame.py\u001b[0m in \u001b[0;36m__getitem__\u001b[0;34m(self, key)\u001b[0m\n\u001b[1;32m   2798\u001b[0m             \u001b[0;32mif\u001b[0m \u001b[0mself\u001b[0m\u001b[0;34m.\u001b[0m\u001b[0mcolumns\u001b[0m\u001b[0;34m.\u001b[0m\u001b[0mnlevels\u001b[0m \u001b[0;34m>\u001b[0m \u001b[0;36m1\u001b[0m\u001b[0;34m:\u001b[0m\u001b[0;34m\u001b[0m\u001b[0;34m\u001b[0m\u001b[0m\n\u001b[1;32m   2799\u001b[0m                 \u001b[0;32mreturn\u001b[0m \u001b[0mself\u001b[0m\u001b[0;34m.\u001b[0m\u001b[0m_getitem_multilevel\u001b[0m\u001b[0;34m(\u001b[0m\u001b[0mkey\u001b[0m\u001b[0;34m)\u001b[0m\u001b[0;34m\u001b[0m\u001b[0;34m\u001b[0m\u001b[0m\n\u001b[0;32m-> 2800\u001b[0;31m             \u001b[0mindexer\u001b[0m \u001b[0;34m=\u001b[0m \u001b[0mself\u001b[0m\u001b[0;34m.\u001b[0m\u001b[0mcolumns\u001b[0m\u001b[0;34m.\u001b[0m\u001b[0mget_loc\u001b[0m\u001b[0;34m(\u001b[0m\u001b[0mkey\u001b[0m\u001b[0;34m)\u001b[0m\u001b[0;34m\u001b[0m\u001b[0;34m\u001b[0m\u001b[0m\n\u001b[0m\u001b[1;32m   2801\u001b[0m             \u001b[0;32mif\u001b[0m \u001b[0mis_integer\u001b[0m\u001b[0;34m(\u001b[0m\u001b[0mindexer\u001b[0m\u001b[0;34m)\u001b[0m\u001b[0;34m:\u001b[0m\u001b[0;34m\u001b[0m\u001b[0;34m\u001b[0m\u001b[0m\n\u001b[1;32m   2802\u001b[0m                 \u001b[0mindexer\u001b[0m \u001b[0;34m=\u001b[0m \u001b[0;34m[\u001b[0m\u001b[0mindexer\u001b[0m\u001b[0;34m]\u001b[0m\u001b[0;34m\u001b[0m\u001b[0;34m\u001b[0m\u001b[0m\n",
      "\u001b[0;32m~/opt/anaconda3/lib/python3.8/site-packages/pandas/core/indexes/base.py\u001b[0m in \u001b[0;36mget_loc\u001b[0;34m(self, key, method, tolerance)\u001b[0m\n\u001b[1;32m   2646\u001b[0m                 \u001b[0;32mreturn\u001b[0m \u001b[0mself\u001b[0m\u001b[0;34m.\u001b[0m\u001b[0m_engine\u001b[0m\u001b[0;34m.\u001b[0m\u001b[0mget_loc\u001b[0m\u001b[0;34m(\u001b[0m\u001b[0mkey\u001b[0m\u001b[0;34m)\u001b[0m\u001b[0;34m\u001b[0m\u001b[0;34m\u001b[0m\u001b[0m\n\u001b[1;32m   2647\u001b[0m             \u001b[0;32mexcept\u001b[0m \u001b[0mKeyError\u001b[0m\u001b[0;34m:\u001b[0m\u001b[0;34m\u001b[0m\u001b[0;34m\u001b[0m\u001b[0m\n\u001b[0;32m-> 2648\u001b[0;31m                 \u001b[0;32mreturn\u001b[0m \u001b[0mself\u001b[0m\u001b[0;34m.\u001b[0m\u001b[0m_engine\u001b[0m\u001b[0;34m.\u001b[0m\u001b[0mget_loc\u001b[0m\u001b[0;34m(\u001b[0m\u001b[0mself\u001b[0m\u001b[0;34m.\u001b[0m\u001b[0m_maybe_cast_indexer\u001b[0m\u001b[0;34m(\u001b[0m\u001b[0mkey\u001b[0m\u001b[0;34m)\u001b[0m\u001b[0;34m)\u001b[0m\u001b[0;34m\u001b[0m\u001b[0;34m\u001b[0m\u001b[0m\n\u001b[0m\u001b[1;32m   2649\u001b[0m         \u001b[0mindexer\u001b[0m \u001b[0;34m=\u001b[0m \u001b[0mself\u001b[0m\u001b[0;34m.\u001b[0m\u001b[0mget_indexer\u001b[0m\u001b[0;34m(\u001b[0m\u001b[0;34m[\u001b[0m\u001b[0mkey\u001b[0m\u001b[0;34m]\u001b[0m\u001b[0;34m,\u001b[0m \u001b[0mmethod\u001b[0m\u001b[0;34m=\u001b[0m\u001b[0mmethod\u001b[0m\u001b[0;34m,\u001b[0m \u001b[0mtolerance\u001b[0m\u001b[0;34m=\u001b[0m\u001b[0mtolerance\u001b[0m\u001b[0;34m)\u001b[0m\u001b[0;34m\u001b[0m\u001b[0;34m\u001b[0m\u001b[0m\n\u001b[1;32m   2650\u001b[0m         \u001b[0;32mif\u001b[0m \u001b[0mindexer\u001b[0m\u001b[0;34m.\u001b[0m\u001b[0mndim\u001b[0m \u001b[0;34m>\u001b[0m \u001b[0;36m1\u001b[0m \u001b[0;32mor\u001b[0m \u001b[0mindexer\u001b[0m\u001b[0;34m.\u001b[0m\u001b[0msize\u001b[0m \u001b[0;34m>\u001b[0m \u001b[0;36m1\u001b[0m\u001b[0;34m:\u001b[0m\u001b[0;34m\u001b[0m\u001b[0;34m\u001b[0m\u001b[0m\n",
      "\u001b[0;32mpandas/_libs/index.pyx\u001b[0m in \u001b[0;36mpandas._libs.index.IndexEngine.get_loc\u001b[0;34m()\u001b[0m\n",
      "\u001b[0;32mpandas/_libs/index.pyx\u001b[0m in \u001b[0;36mpandas._libs.index.IndexEngine.get_loc\u001b[0;34m()\u001b[0m\n",
      "\u001b[0;32mpandas/_libs/hashtable_class_helper.pxi\u001b[0m in \u001b[0;36mpandas._libs.hashtable.PyObjectHashTable.get_item\u001b[0;34m()\u001b[0m\n",
      "\u001b[0;32mpandas/_libs/hashtable_class_helper.pxi\u001b[0m in \u001b[0;36mpandas._libs.hashtable.PyObjectHashTable.get_item\u001b[0;34m()\u001b[0m\n",
      "\u001b[0;31mKeyError\u001b[0m: ('Elementary 0-4', 'Middle School 5-8', 'High School 1-3', 'High School 4', 'College 1-3', 'College 4')"
     ]
    },
    {
     "data": {
      "text/plain": [
       "<Figure size 720x720 with 0 Axes>"
      ]
     },
     "metadata": {},
     "output_type": "display_data"
    }
   ],
   "source": [
    "school_grade = [\"Elementary 0-4\", \"Middle School 5-8\", \"High School 1-3\", \"High School 4\", \"College 1-3\", \"College 4\"]\n",
    "x_axis = np.arange(len(merge_education_df))\n",
    "tick_locations = [value for value in x_axis]\n",
    "\n",
    "plt.figure(figsize=(10, 10))\n",
    "plt.bar(x_axis, merge_education_df[\"Elementary 0-4\", \"Middle School 5-8\", \"High School 1-3\", \"High School 4\", \"College 1-3\", \"College 4\"], color='r', alpha=0.5, align=\"edge\")\n",
    "plt.xticks(tick_locations, merge_education_df[\"Year\"], rotation=\"vertical\")\n",
    "\n",
    "plt.title(\"Educational Attainment\")\n",
    "plt.xlabel(\"Grade\")\n",
    "plt.ylabel(\"Year\")\n",
    "\n",
    "plt.tight_layout()\n",
    "plt.show()"
   ]
  },
  {
   "cell_type": "code",
   "execution_count": null,
   "metadata": {},
   "outputs": [],
   "source": []
  },
  {
   "cell_type": "code",
   "execution_count": null,
   "metadata": {},
   "outputs": [],
   "source": []
  }
 ],
 "metadata": {
  "kernelspec": {
   "display_name": "Python 3",
   "language": "python",
   "name": "python3"
  },
  "language_info": {
   "codemirror_mode": {
    "name": "ipython",
    "version": 3
   },
   "file_extension": ".py",
   "mimetype": "text/x-python",
   "name": "python",
   "nbconvert_exporter": "python",
   "pygments_lexer": "ipython3",
   "version": "3.8.3"
  }
 },
 "nbformat": 4,
 "nbformat_minor": 4
}
