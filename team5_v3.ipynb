{
 "cells": [
  {
   "cell_type": "code",
   "execution_count": 64,
   "metadata": {},
   "outputs": [],
   "source": [
    "import warnings\n",
    "warnings.filterwarnings('ignore')"
   ]
  },
  {
   "cell_type": "code",
   "execution_count": 65,
   "metadata": {},
   "outputs": [],
   "source": [
    "#Dependencies\n",
    "import pandas as pd\n",
    "import numpy as np\n",
    "import matplotlib.pyplot as plt\n",
    "import scipy.stats as stats\n",
    "from scipy.stats import linregress"
   ]
  },
  {
   "cell_type": "code",
   "execution_count": 66,
   "metadata": {},
   "outputs": [],
   "source": [
    "# csv_file pathing\n",
    "fertility_rate_path = \"Resource/fred_fertility_rates.csv\"\n",
    "living_arrangements_path = \"Resource/census_living_arrangements.csv\"\n",
    "living_arrangements_decade_path = \"Resource/census_living_arrangements_by_decade.csv\"\n",
    "marital_status_path = \"Resource/marital status overtime.csv\"\n",
    "age_fertility_path = \"Resource/Age_Fertility.csv\"\n",
    "education_path = \"Resource/Female Education Attainment Level.csv\""
   ]
  },
  {
   "cell_type": "code",
   "execution_count": 67,
   "metadata": {},
   "outputs": [
    {
     "name": "stdout",
     "output_type": "stream",
     "text": [
      "59 records\n"
     ]
    },
    {
     "data": {
      "text/html": [
       "<div>\n",
       "<style scoped>\n",
       "    .dataframe tbody tr th:only-of-type {\n",
       "        vertical-align: middle;\n",
       "    }\n",
       "\n",
       "    .dataframe tbody tr th {\n",
       "        vertical-align: top;\n",
       "    }\n",
       "\n",
       "    .dataframe thead th {\n",
       "        text-align: right;\n",
       "    }\n",
       "</style>\n",
       "<table border=\"1\" class=\"dataframe\">\n",
       "  <thead>\n",
       "    <tr style=\"text-align: right;\">\n",
       "      <th></th>\n",
       "      <th>Year</th>\n",
       "      <th>fertility_rate</th>\n",
       "    </tr>\n",
       "  </thead>\n",
       "  <tbody>\n",
       "    <tr>\n",
       "      <th>0</th>\n",
       "      <td>1960</td>\n",
       "      <td>3.654</td>\n",
       "    </tr>\n",
       "    <tr>\n",
       "      <th>1</th>\n",
       "      <td>1961</td>\n",
       "      <td>3.620</td>\n",
       "    </tr>\n",
       "    <tr>\n",
       "      <th>2</th>\n",
       "      <td>1962</td>\n",
       "      <td>3.461</td>\n",
       "    </tr>\n",
       "    <tr>\n",
       "      <th>3</th>\n",
       "      <td>1963</td>\n",
       "      <td>3.319</td>\n",
       "    </tr>\n",
       "    <tr>\n",
       "      <th>4</th>\n",
       "      <td>1964</td>\n",
       "      <td>3.190</td>\n",
       "    </tr>\n",
       "  </tbody>\n",
       "</table>\n",
       "</div>"
      ],
      "text/plain": [
       "   Year  fertility_rate\n",
       "0  1960           3.654\n",
       "1  1961           3.620\n",
       "2  1962           3.461\n",
       "3  1963           3.319\n",
       "4  1964           3.190"
      ]
     },
     "execution_count": 67,
     "metadata": {},
     "output_type": "execute_result"
    }
   ],
   "source": [
    "# Raw DataFrame Prep: Fertility Rates\n",
    "\n",
    "# Read csv, drop na\n",
    "fertility_rate_df = pd.read_csv(fertility_rate_path).dropna()\n",
    "\n",
    "# Clean data\n",
    "fertility_rate_df['DATE'] = pd.to_datetime(fertility_rate_df['DATE'].str.strip(), format='%d/%m/%Y').dt.year\n",
    "fertility_rate_df.rename(columns = {'SPDYNTFRTINUSA':'fertility_rate','DATE':'Year'}, inplace = True) \n",
    "\n",
    "# Print and display\n",
    "print(f'{len(fertility_rate_df)} records')\n",
    "fertility_rate_df.head()\n",
    "\n",
    "# Print to csv - remove hashmark in front of below code to export to csv\n",
    "# fertility_rate_df.to_csv(\"Output/fertility_rate.csv\", index=False, header=True)"
   ]
  },
  {
   "cell_type": "code",
   "execution_count": 68,
   "metadata": {},
   "outputs": [
    {
     "data": {
      "image/png": "[encoded data removed]",
      "text/plain": [
       "<Figure size 432x288 with 1 Axes>"
      ]
     },
     "metadata": {
      "needs_background": "light"
     },
     "output_type": "display_data"
    }
   ],
   "source": [
    "# Fertility Rate Trend over Time\n",
    "\n",
    "# Variables to Compare\n",
    "x_values = fertility_rate_df['Year']\n",
    "y_values = fertility_rate_df['fertility_rate']\n",
    "\n",
    "plt.plot(x_values, y_values, marker ='.', color = \"black\", label = 'Fertility Rate')\n",
    "plt.title(\"U.S. Fertility Rate Trend (1960 thru 2019)\")\n",
    "plt.savefig('Output\\FertilityRateTrendChart.png')\n"
   ]
  },
  {
   "cell_type": "markdown",
   "metadata": {},
   "source": [
    "## Fertility Rate vs Living Arrangements"
   ]
  },
  {
   "cell_type": "code",
   "execution_count": 69,
   "metadata": {},
   "outputs": [
    {
     "data": {
      "text/html": [
       "<div>\n",
       "<style scoped>\n",
       "    .dataframe tbody tr th:only-of-type {\n",
       "        vertical-align: middle;\n",
       "    }\n",
       "\n",
       "    .dataframe tbody tr th {\n",
       "        vertical-align: top;\n",
       "    }\n",
       "\n",
       "    .dataframe thead th {\n",
       "        text-align: right;\n",
       "    }\n",
       "</style>\n",
       "<table border=\"1\" class=\"dataframe\">\n",
       "  <thead>\n",
       "    <tr style=\"text-align: right;\">\n",
       "      <th></th>\n",
       "      <th>Year</th>\n",
       "      <th>fertility_rate</th>\n",
       "      <th>under_18</th>\n",
       "      <th>two_parents</th>\n",
       "      <th>mother_only</th>\n",
       "      <th>father_only</th>\n",
       "      <th>other_relatives</th>\n",
       "      <th>non_relatives</th>\n",
       "      <th>other</th>\n",
       "      <th>pct_mother_only</th>\n",
       "      <th>pct_two_parents</th>\n",
       "      <th>pct_other</th>\n",
       "    </tr>\n",
       "  </thead>\n",
       "  <tbody>\n",
       "    <tr>\n",
       "      <th>0</th>\n",
       "      <td>1960</td>\n",
       "      <td>3.654</td>\n",
       "      <td>63727.0</td>\n",
       "      <td>55877.0</td>\n",
       "      <td>5105.0</td>\n",
       "      <td>724.0</td>\n",
       "      <td>1601.0</td>\n",
       "      <td>420.0</td>\n",
       "      <td>2745.0</td>\n",
       "      <td>0.080107</td>\n",
       "      <td>0.876818</td>\n",
       "      <td>0.043074</td>\n",
       "    </tr>\n",
       "    <tr>\n",
       "      <th>8</th>\n",
       "      <td>1968</td>\n",
       "      <td>2.464</td>\n",
       "      <td>70326.0</td>\n",
       "      <td>60030.0</td>\n",
       "      <td>7556.0</td>\n",
       "      <td>776.0</td>\n",
       "      <td>1660.0</td>\n",
       "      <td>304.0</td>\n",
       "      <td>2740.0</td>\n",
       "      <td>0.107442</td>\n",
       "      <td>0.853596</td>\n",
       "      <td>0.038961</td>\n",
       "    </tr>\n",
       "    <tr>\n",
       "      <th>9</th>\n",
       "      <td>1969</td>\n",
       "      <td>2.456</td>\n",
       "      <td>70317.0</td>\n",
       "      <td>59857.0</td>\n",
       "      <td>7744.0</td>\n",
       "      <td>765.0</td>\n",
       "      <td>1602.0</td>\n",
       "      <td>349.0</td>\n",
       "      <td>2716.0</td>\n",
       "      <td>0.110130</td>\n",
       "      <td>0.851245</td>\n",
       "      <td>0.038625</td>\n",
       "    </tr>\n",
       "    <tr>\n",
       "      <th>10</th>\n",
       "      <td>1970</td>\n",
       "      <td>2.480</td>\n",
       "      <td>69162.0</td>\n",
       "      <td>58939.0</td>\n",
       "      <td>7452.0</td>\n",
       "      <td>748.0</td>\n",
       "      <td>1546.0</td>\n",
       "      <td>477.0</td>\n",
       "      <td>2771.0</td>\n",
       "      <td>0.107747</td>\n",
       "      <td>0.852188</td>\n",
       "      <td>0.040065</td>\n",
       "    </tr>\n",
       "    <tr>\n",
       "      <th>11</th>\n",
       "      <td>1971</td>\n",
       "      <td>2.266</td>\n",
       "      <td>70255.0</td>\n",
       "      <td>58606.0</td>\n",
       "      <td>8714.0</td>\n",
       "      <td>764.0</td>\n",
       "      <td>1707.0</td>\n",
       "      <td>464.0</td>\n",
       "      <td>2935.0</td>\n",
       "      <td>0.124034</td>\n",
       "      <td>0.834190</td>\n",
       "      <td>0.041776</td>\n",
       "    </tr>\n",
       "  </tbody>\n",
       "</table>\n",
       "</div>"
      ],
      "text/plain": [
       "    Year  fertility_rate  under_18  two_parents  mother_only  father_only  \\\n",
       "0   1960           3.654   63727.0      55877.0       5105.0        724.0   \n",
       "8   1968           2.464   70326.0      60030.0       7556.0        776.0   \n",
       "9   1969           2.456   70317.0      59857.0       7744.0        765.0   \n",
       "10  1970           2.480   69162.0      58939.0       7452.0        748.0   \n",
       "11  1971           2.266   70255.0      58606.0       8714.0        764.0   \n",
       "\n",
       "    other_relatives  non_relatives   other  pct_mother_only  pct_two_parents  \\\n",
       "0            1601.0          420.0  2745.0         0.080107         0.876818   \n",
       "8            1660.0          304.0  2740.0         0.107442         0.853596   \n",
       "9            1602.0          349.0  2716.0         0.110130         0.851245   \n",
       "10           1546.0          477.0  2771.0         0.107747         0.852188   \n",
       "11           1707.0          464.0  2935.0         0.124034         0.834190   \n",
       "\n",
       "    pct_other  \n",
       "0    0.043074  \n",
       "8    0.038961  \n",
       "9    0.038625  \n",
       "10   0.040065  \n",
       "11   0.041776  "
      ]
     },
     "execution_count": 69,
     "metadata": {},
     "output_type": "execute_result"
    }
   ],
   "source": [
    "# Raw DataFrame Prep: Living Arrangements\n",
    "\n",
    "# Read csv, drop na\n",
    "living_arrangements_df = pd.read_csv(living_arrangements_path).dropna()\n",
    "\n",
    "# Merge with fertility rates\n",
    "merge_living_df = pd.merge(fertility_rate_df, living_arrangements_df, on = \"Year\", how = \"outer\").dropna()\n",
    "\n",
    "# Add additional columns, format... \n",
    "other_ttl = merge_living_df['father_only'] + merge_living_df['other_relatives'] + merge_living_df['non_relatives']\n",
    "merge_living_df['other']= other_ttl\n",
    "\n",
    "pct_mother_only = (merge_living_df['mother_only'] / merge_living_df['under_18']).astype(float)\n",
    "pct_two_parents = (merge_living_df['two_parents'] / merge_living_df['under_18']).astype(float)\n",
    "pct_other = (merge_living_df['other'] / merge_living_df['under_18']).astype(float)\n",
    "\n",
    "merge_living_df['pct_mother_only']= pct_mother_only.astype(float)\n",
    "merge_living_df['pct_two_parents']= pct_two_parents.astype(float)\n",
    "merge_living_df['pct_other']= pct_other.astype(float)\n",
    "                                         \n",
    "merge_living_df.head()"
   ]
  },
  {
   "cell_type": "code",
   "execution_count": 70,
   "metadata": {},
   "outputs": [
    {
     "data": {
      "image/png": "[encoded data removed]",
      "text/plain": [
       "<Figure size 432x288 with 1 Axes>"
      ]
     },
     "metadata": {
      "needs_background": "light"
     },
     "output_type": "display_data"
    },
    {
     "data": {
      "text/plain": [
       "<Figure size 432x288 with 0 Axes>"
      ]
     },
     "metadata": {},
     "output_type": "display_data"
    }
   ],
   "source": [
    "# Living Arrangements Box Plot\n",
    "\n",
    "fertility_rate = merge_living_df['fertility_rate']\n",
    "fig1, ax1 = plt.subplots()\n",
    "ax1.set_title('Fertility Rate (1960 - 2019)')\n",
    "ax1.set_ylabel('Fertility Rate')\n",
    "ax1.boxplot(fertility_rate)\n",
    "plt.show()\n",
    "\n",
    "plt.savefig('Output\\Living_Arrangement_BoxPlot.png')"
   ]
  },
  {
   "cell_type": "code",
   "execution_count": 71,
   "metadata": {},
   "outputs": [
    {
     "data": {
      "image/png": "[encoded data removed]",
      "text/plain": [
       "<Figure size 432x288 with 1 Axes>"
      ]
     },
     "metadata": {
      "needs_background": "light"
     },
     "output_type": "display_data"
    },
    {
     "name": "stdout",
     "output_type": "stream",
     "text": [
      "What is the correlation between fertility rate and % of Children under 18 living with their mother only?\n",
      "Their is a barely a correlation between fertility rate and children under 18 living with only their moms of -0.17.\n"
     ]
    },
    {
     "data": {
      "text/plain": [
       "<Figure size 432x288 with 0 Axes>"
      ]
     },
     "metadata": {},
     "output_type": "display_data"
    }
   ],
   "source": [
    "# Living Arrangements Scatter Chart (Population Set)\n",
    "\n",
    "# Variables to Compare\n",
    "x_values = merge_living_df['fertility_rate']\n",
    "y_values = merge_living_df['pct_mother_only']\n",
    "\n",
    "# Scatter Chart\n",
    "plt.scatter(x_values, y_values, marker=\"o\", facecolors=\"black\", edgecolors=\"gray\")\n",
    "\n",
    "# Linear Regression Line\n",
    "(slope, intercept, rvalue, pvalue, stderr) = linregress(x_values, y_values)\n",
    "regress_values = x_values * slope + intercept\n",
    "line_eq = \"y = \" + str(round(slope,2)) + \"x + \" + str(round(intercept,2))\n",
    "plt.plot(x_values,regress_values,\"r-\", color = \"gray\")\n",
    "plt.annotate(line_eq,(1.75,.09),fontsize=10,color=\"black\")\n",
    "\n",
    "# Sample Population\n",
    "sample_df = merge_living_df[-20:]\n",
    "\n",
    "# Variables to Compare\n",
    "x_values = sample_df['fertility_rate']\n",
    "y_values = sample_df['pct_mother_only']\n",
    "\n",
    "# Scatter Chart\n",
    "plt.scatter(x_values, y_values, marker=\"o\", facecolors=\"blue\", edgecolors=\"gray\")\n",
    "\n",
    "# Labels and Display\n",
    "plt.xlabel('Fertility Rate')\n",
    "plt.ylabel('% Children Living with Mother only')\n",
    "plt.show()\n",
    "\n",
    "plt.savefig('Output\\ScatterPlot_MotherOnlyLiving3.png')\n",
    "\n",
    "# Correlation Coefficient\n",
    "correlation = stats.pearsonr(x_values, y_values)\n",
    "print(f\"What is the correlation between fertility rate and % of Children under 18 living with their mother only?\")\n",
    "print(f\"Their is a barely a correlation between fertility rate and children under 18 living with only their moms of {round(correlation[0],2)}.\")\n",
    "#print(f\"This data is collected from 1960 thru 2019 however we only have 1 data point in the 1960's decade.\")\n",
    "#print(f\"Data Source: US Census Bureau\")"
   ]
  },
  {
   "cell_type": "code",
   "execution_count": 72,
   "metadata": {},
   "outputs": [
    {
     "data": {
      "text/plain": [
       "Ttest_1sampResult(statistic=24.26411898862151, pvalue=9.244269763354844e-16)"
      ]
     },
     "execution_count": 72,
     "metadata": {},
     "output_type": "execute_result"
    }
   ],
   "source": [
    "# Calculate the population mean for Living Arrangements = Mother Only (entire population)\n",
    "population = merge_living_df['pct_mother_only']\n",
    "population_mean = population.mean()\n",
    "\n",
    "# Calculate the population mean for Living Arrangements = Mother Only over last 20 years\n",
    "sample_df = merge_living_df[-20:]\n",
    "sample = sample_df['pct_mother_only']\n",
    "sample_mean = sample.mean()\n",
    "\n",
    "stats.ttest_1samp(sample, population_mean)"
   ]
  },
  {
   "cell_type": "code",
   "execution_count": 73,
   "metadata": {},
   "outputs": [
    {
     "data": {
      "image/png": "[encoded data removed]",
      "text/plain": [
       "<Figure size 432x288 with 1 Axes>"
      ]
     },
     "metadata": {
      "needs_background": "light"
     },
     "output_type": "display_data"
    }
   ],
   "source": [
    "# Living Arrangements Bar Chart\n",
    "x_values = merge_living_df['Year']\n",
    "y_values = merge_living_df['pct_mother_only']\n",
    "\n",
    "plt.bar(x_values, y_values, color='gray', alpha=0.5, align=\"center\")\n",
    "plt.plot(x_values, y_values, color = 'black')\n",
    "\n",
    "plt.savefig('Output\\MotherOnlyLiving_barchart.png')"
   ]
  },
  {
   "cell_type": "code",
   "execution_count": 74,
   "metadata": {},
   "outputs": [
    {
     "data": {
      "text/html": [
       "<div>\n",
       "<style scoped>\n",
       "    .dataframe tbody tr th:only-of-type {\n",
       "        vertical-align: middle;\n",
       "    }\n",
       "\n",
       "    .dataframe tbody tr th {\n",
       "        vertical-align: top;\n",
       "    }\n",
       "\n",
       "    .dataframe thead th {\n",
       "        text-align: right;\n",
       "    }\n",
       "</style>\n",
       "<table border=\"1\" class=\"dataframe\">\n",
       "  <thead>\n",
       "    <tr style=\"text-align: right;\">\n",
       "      <th></th>\n",
       "      <th>Year</th>\n",
       "      <th>Total # in thousands</th>\n",
       "      <th>Elementary 0-4</th>\n",
       "      <th>Middle School 5-8</th>\n",
       "      <th>High School 1-3</th>\n",
       "      <th>High School 4</th>\n",
       "      <th>College 1-3</th>\n",
       "      <th>College 4</th>\n",
       "    </tr>\n",
       "  </thead>\n",
       "  <tbody>\n",
       "    <tr>\n",
       "      <th>0</th>\n",
       "      <td>1950</td>\n",
       "      <td>44857</td>\n",
       "      <td>4417</td>\n",
       "      <td>15824</td>\n",
       "      <td>7843</td>\n",
       "      <td>10114</td>\n",
       "      <td>3358</td>\n",
       "      <td>2264</td>\n",
       "    </tr>\n",
       "    <tr>\n",
       "      <th>1</th>\n",
       "      <td>1952</td>\n",
       "      <td>45990</td>\n",
       "      <td>3608</td>\n",
       "      <td>15398</td>\n",
       "      <td>8180</td>\n",
       "      <td>12314</td>\n",
       "      <td>3550</td>\n",
       "      <td>2638</td>\n",
       "    </tr>\n",
       "    <tr>\n",
       "      <th>2</th>\n",
       "      <td>1957</td>\n",
       "      <td>49422</td>\n",
       "      <td>3951</td>\n",
       "      <td>14682</td>\n",
       "      <td>8948</td>\n",
       "      <td>14602</td>\n",
       "      <td>3638</td>\n",
       "      <td>2813</td>\n",
       "    </tr>\n",
       "    <tr>\n",
       "      <th>3</th>\n",
       "      <td>1959</td>\n",
       "      <td>50437</td>\n",
       "      <td>3559</td>\n",
       "      <td>14451</td>\n",
       "      <td>9194</td>\n",
       "      <td>15349</td>\n",
       "      <td>4087</td>\n",
       "      <td>2969</td>\n",
       "    </tr>\n",
       "    <tr>\n",
       "      <th>4</th>\n",
       "      <td>1960</td>\n",
       "      <td>51468</td>\n",
       "      <td>3781</td>\n",
       "      <td>15656</td>\n",
       "      <td>10151</td>\n",
       "      <td>14267</td>\n",
       "      <td>4620</td>\n",
       "      <td>2991</td>\n",
       "    </tr>\n",
       "    <tr>\n",
       "      <th>...</th>\n",
       "      <td>...</td>\n",
       "      <td>...</td>\n",
       "      <td>...</td>\n",
       "      <td>...</td>\n",
       "      <td>...</td>\n",
       "      <td>...</td>\n",
       "      <td>...</td>\n",
       "      <td>...</td>\n",
       "    </tr>\n",
       "    <tr>\n",
       "      <th>57</th>\n",
       "      <td>2015</td>\n",
       "      <td>110,245</td>\n",
       "      <td>1,358</td>\n",
       "      <td>3,626</td>\n",
       "      <td>7,408</td>\n",
       "      <td>31,578</td>\n",
       "      <td>30,253</td>\n",
       "      <td>36,021</td>\n",
       "    </tr>\n",
       "    <tr>\n",
       "      <th>58</th>\n",
       "      <td>2016</td>\n",
       "      <td>111,643</td>\n",
       "      <td>1,231</td>\n",
       "      <td>3,565</td>\n",
       "      <td>6,817</td>\n",
       "      <td>31,221</td>\n",
       "      <td>31,192</td>\n",
       "      <td>37,617</td>\n",
       "    </tr>\n",
       "    <tr>\n",
       "      <th>59</th>\n",
       "      <td>2017</td>\n",
       "      <td>112,597</td>\n",
       "      <td>1,117</td>\n",
       "      <td>3,288</td>\n",
       "      <td>6,799</td>\n",
       "      <td>31,216</td>\n",
       "      <td>31,185</td>\n",
       "      <td>38,991</td>\n",
       "    </tr>\n",
       "    <tr>\n",
       "      <th>60</th>\n",
       "      <td>2018</td>\n",
       "      <td>113,969</td>\n",
       "      <td>1,156</td>\n",
       "      <td>3,316</td>\n",
       "      <td>6,743</td>\n",
       "      <td>31,360</td>\n",
       "      <td>31,142</td>\n",
       "      <td>40,251</td>\n",
       "    </tr>\n",
       "    <tr>\n",
       "      <th>61</th>\n",
       "      <td>2019</td>\n",
       "      <td>114,783</td>\n",
       "      <td>1,098</td>\n",
       "      <td>3,192</td>\n",
       "      <td>6,580</td>\n",
       "      <td>31,002</td>\n",
       "      <td>30,902</td>\n",
       "      <td>42,009</td>\n",
       "    </tr>\n",
       "  </tbody>\n",
       "</table>\n",
       "<p>62 rows × 8 columns</p>\n",
       "</div>"
      ],
      "text/plain": [
       "    Year  Total # in thousands  Elementary 0-4 Middle School 5-8  \\\n",
       "0   1950                  44857           4417             15824   \n",
       "1   1952                  45990           3608             15398   \n",
       "2   1957                  49422           3951             14682   \n",
       "3   1959                  50437           3559             14451   \n",
       "4   1960                  51468           3781             15656   \n",
       "..   ...                    ...            ...               ...   \n",
       "57  2015                110,245          1,358             3,626   \n",
       "58  2016                111,643          1,231             3,565   \n",
       "59  2017                112,597          1,117             3,288   \n",
       "60  2018                113,969          1,156             3,316   \n",
       "61  2019                114,783          1,098             3,192   \n",
       "\n",
       "   High School 1-3 High School 4 College 1-3 College 4  \n",
       "0             7843         10114        3358      2264  \n",
       "1             8180         12314        3550      2638  \n",
       "2             8948         14602        3638      2813  \n",
       "3             9194         15349        4087      2969  \n",
       "4            10151         14267        4620      2991  \n",
       "..             ...           ...         ...       ...  \n",
       "57           7,408        31,578      30,253    36,021  \n",
       "58           6,817        31,221      31,192    37,617  \n",
       "59           6,799        31,216      31,185    38,991  \n",
       "60           6,743        31,360      31,142    40,251  \n",
       "61           6,580        31,002      30,902    42,009  \n",
       "\n",
       "[62 rows x 8 columns]"
      ]
     },
     "execution_count": 74,
     "metadata": {},
     "output_type": "execute_result"
    }
   ],
   "source": [
    "# Raw DataFrame Prep: Female Education Attainment Level\n",
    "\n",
    "# Read csv and drop na\n",
    "education_df = pd.read_csv(education_path).dropna()\n",
    "\n",
    "education_df"
   ]
  },
  {
   "cell_type": "code",
   "execution_count": 75,
   "metadata": {},
   "outputs": [
    {
     "data": {
      "image/png": "[encoded data removed]",
      "text/plain": [
       "<Figure size 432x288 with 1 Axes>"
      ]
     },
     "metadata": {
      "needs_background": "light"
     },
     "output_type": "display_data"
    }
   ],
   "source": [
    "fertility_x = merge_living_df[\"Year\"]\n",
    "fertility_y = merge_living_df[\"fertility_rate\"]\n",
    "\n",
    "plt.xlabel(\"Years\")\n",
    "plt.ylabel(\"Fertility Rate\")\n",
    "plt.title(\"Fertility Rate Throughout the Years\")\n",
    "plt.plot(fertility_x, fertility_y)\n",
    "plt.show()"
   ]
  },
  {
   "cell_type": "code",
   "execution_count": 76,
   "metadata": {},
   "outputs": [
    {
     "data": {
      "image/png": "[encoded data removed]",
      "text/plain": [
       "<Figure size 432x288 with 1 Axes>"
      ]
     },
     "metadata": {
      "needs_background": "light"
     },
     "output_type": "display_data"
    }
   ],
   "source": [
    "elementary_y = education_df[\"Elementary 0-4\"]\n",
    "elementary_x = education_df[\"Year\"]\n",
    "\n",
    "middle_school_y = education_df[\"Middle School 5-8\"]\n",
    "middle_school_x = education_df[\"Year\"]\n",
    "\n",
    "high_school_y = education_df[\"High School 1-3\"]\n",
    "high_school_x = education_df[\"Year\"]\n",
    "\n",
    "high_school_endy = education_df[\"High School 4\"]\n",
    "high_school_endx = education_df[\"Year\"]\n",
    "\n",
    "college_y = education_df[\"College 1-3\"]\n",
    "college_x = education_df[\"Year\"]\n",
    "\n",
    "college_endy = education_df[\"College 4\"]\n",
    "college_endx = education_df[\"Year\"]\n",
    "\n",
    "plt.plot(elementary_x, elementary_y, label=\"Elementary\")\n",
    "plt.plot(middle_school_x, middle_school_y, label=\"Middle School\")\n",
    "plt.plot(high_school_x, high_school_y, label=\"Beg High School\")\n",
    "plt.plot(high_school_endx, high_school_endy, label=\"End High School\")\n",
    "plt.plot(college_x, college_y, label=\"Beg College\")\n",
    "plt.plot(college_endx, college_endy, label=\"End College\")\n",
    "plt.yticks(np.arange(0, 5000, 10000))\n",
    "\n",
    "plt.title(\"Educational Attainment for Women\")\n",
    "plt.xlabel(\"Years\")\n",
    "plt.ylabel(\"# of Women Completed Grade\")\n",
    "plt.legend(loc=\"upper left\")\n",
    "plt.show()\n",
    "\n"
   ]
  },
  {
   "cell_type": "code",
   "execution_count": 77,
   "metadata": {},
   "outputs": [],
   "source": [
    "education_df[\" Total # in thousands \"] = education_df[\" Total # in thousands \"].astype(str).str.replace(',', '').astype(float)\n",
    "education_df[\"Elementary 0-4\"] = education_df[\"Elementary 0-4\"].astype(str).str.replace(',', '').astype(float)\n",
    "education_df[\"Middle School 5-8\"] = education_df[\"Middle School 5-8\"].astype(str).str.replace(',', '').astype(float)\n",
    "education_df[\"High School 1-3\"] = education_df[\"High School 1-3\"].astype(str).str.replace(',', '').astype(float)\n",
    "education_df[\"College 1-3\"] = education_df[\"College 1-3\"].astype(str).str.replace(',', '').astype(float)\n",
    "education_df[\"College 4\"] = education_df[\"College 4\"].astype(str).str.replace(',', '').astype(float)\n"
   ]
  },
  {
   "cell_type": "code",
   "execution_count": 82,
   "metadata": {},
   "outputs": [],
   "source": [
    "education_df[\" Total # in thousands \"] = pd.to_numeric(education_df[\" Total # in thousands \"], downcast=\"float\")\n",
    "education_df[\"Elementary 0-4\"] = pd.to_numeric(education_df[\"Elementary 0-4\"], downcast=\"float\")\n",
    "education_df[\"Middle School 5-8\"] = pd.to_numeric(education_df[\"Middle School 5-8\"], downcast=\"float\")\n",
    "education_df[\"High School 1-3\"] = pd.to_numeric(education_df[\"High School 1-3\"], downcast=\"float\")\n",
    "#education_df[\"High School 4\"] = pd.to_numeric(education_df[\"High School 4\"], downcast=\"float\")\n",
    "education_df[\"College 1-3\"] = pd.to_numeric(education_df[\"College 1-3\"], downcast=\"float\")\n",
    "education_df[\"College 4\"] = pd.to_numeric(education_df[\"College 4\"], downcast=\"float\")\n",
    "\n"
   ]
  },
  {
   "cell_type": "code",
   "execution_count": 83,
   "metadata": {},
   "outputs": [],
   "source": [
    "#Calculate Percentage of Education\n",
    "\n",
    "\n",
    "#elementary_per = education_df[\"Elementary 0-4\"]/education_df[\" Total # in thousands \"]\n",
    "#middle_school_per = education_df[\"Middle School 5-8\"]/education_df[\" Total # in thousands \"]\n",
    "#highschool_beg_per = education_df[\"High School 1-3\"]/education_df[\" Total # in thousands \"]\n",
    "#highschool_end_per = education_df[\"High School 4\"]/education_df[\" Total # in thousands \"]\n",
    "#college_beg_per = education_df[\"College 1-3\"]/education_df[\" Total # in thousands \"]\n",
    "#college_end_per = education_df[\"College 4\"]/education_df[\" Total # in thousands \"]\n",
    "\n",
    "#Add Columns to DataFrame\n",
    "#education_df[\"Percentage of Elementary Education\"]=(elementary_per)\n",
    "#education_df[\"Percentage of Middle Education\"] =middle_school_per\n",
    "#education_df[\"Percentage of  Beginning High School Education\"]=high_school_beg_per\n",
    "#education_df[\"Percentage of End High School Education\"]=high_school_end_per\n",
    "#education_df[\"Percentage of Beginning College Education\"]=college_beg_per\n",
    "#education_df[\"Percentage of End College Education\"]=college_end_per\n"
   ]
  },
  {
   "cell_type": "code",
   "execution_count": 86,
   "metadata": {},
   "outputs": [],
   "source": [
    "#Correlation of education\n",
    "#correlation = stats.pearsonr(education_df[\"Elementary 0-4\"], merge_living_df[\"fertility_rate\"])"
   ]
  },
  {
   "cell_type": "code",
   "execution_count": 80,
   "metadata": {},
   "outputs": [
    {
     "name": "stdout",
     "output_type": "stream",
     "text": [
      "61 records\n"
     ]
    },
    {
     "data": {
      "text/html": [
       "<div>\n",
       "<style scoped>\n",
       "    .dataframe tbody tr th:only-of-type {\n",
       "        vertical-align: middle;\n",
       "    }\n",
       "\n",
       "    .dataframe tbody tr th {\n",
       "        vertical-align: top;\n",
       "    }\n",
       "\n",
       "    .dataframe thead th {\n",
       "        text-align: right;\n",
       "    }\n",
       "</style>\n",
       "<table border=\"1\" class=\"dataframe\">\n",
       "  <thead>\n",
       "    <tr style=\"text-align: right;\">\n",
       "      <th></th>\n",
       "      <th>Year</th>\n",
       "      <th>fertility_rate</th>\n",
       "      <th>Men Total</th>\n",
       "      <th>Married Men</th>\n",
       "      <th>Unmarried Men Total</th>\n",
       "      <th>Never Married Men</th>\n",
       "      <th>Widowed Men</th>\n",
       "      <th>Divorced Men</th>\n",
       "      <th>Women Total</th>\n",
       "      <th>Married Women</th>\n",
       "      <th>Unmarried Women Total</th>\n",
       "      <th>Never Married Women</th>\n",
       "      <th>Widowed Women</th>\n",
       "      <th>Divorced Women</th>\n",
       "    </tr>\n",
       "  </thead>\n",
       "  <tbody>\n",
       "    <tr>\n",
       "      <th>0</th>\n",
       "      <td>1960</td>\n",
       "      <td>3.654</td>\n",
       "      <td>60,273</td>\n",
       "      <td>41,781</td>\n",
       "      <td>18,492</td>\n",
       "      <td>15,274</td>\n",
       "      <td>2,112</td>\n",
       "      <td>1,106</td>\n",
       "      <td>64,607</td>\n",
       "      <td>42,583</td>\n",
       "      <td>22,024</td>\n",
       "      <td>12,252</td>\n",
       "      <td>8,064</td>\n",
       "      <td>1,708</td>\n",
       "    </tr>\n",
       "    <tr>\n",
       "      <th>1</th>\n",
       "      <td>1961</td>\n",
       "      <td>3.620</td>\n",
       "      <td>NaN</td>\n",
       "      <td>NaN</td>\n",
       "      <td>NaN</td>\n",
       "      <td>NaN</td>\n",
       "      <td>NaN</td>\n",
       "      <td>NaN</td>\n",
       "      <td>NaN</td>\n",
       "      <td>NaN</td>\n",
       "      <td>NaN</td>\n",
       "      <td>NaN</td>\n",
       "      <td>NaN</td>\n",
       "      <td>NaN</td>\n",
       "    </tr>\n",
       "    <tr>\n",
       "      <th>2</th>\n",
       "      <td>1962</td>\n",
       "      <td>3.461</td>\n",
       "      <td>NaN</td>\n",
       "      <td>NaN</td>\n",
       "      <td>NaN</td>\n",
       "      <td>NaN</td>\n",
       "      <td>NaN</td>\n",
       "      <td>NaN</td>\n",
       "      <td>NaN</td>\n",
       "      <td>NaN</td>\n",
       "      <td>NaN</td>\n",
       "      <td>NaN</td>\n",
       "      <td>NaN</td>\n",
       "      <td>NaN</td>\n",
       "    </tr>\n",
       "    <tr>\n",
       "      <th>3</th>\n",
       "      <td>1963</td>\n",
       "      <td>3.319</td>\n",
       "      <td>NaN</td>\n",
       "      <td>NaN</td>\n",
       "      <td>NaN</td>\n",
       "      <td>NaN</td>\n",
       "      <td>NaN</td>\n",
       "      <td>NaN</td>\n",
       "      <td>NaN</td>\n",
       "      <td>NaN</td>\n",
       "      <td>NaN</td>\n",
       "      <td>NaN</td>\n",
       "      <td>NaN</td>\n",
       "      <td>NaN</td>\n",
       "    </tr>\n",
       "    <tr>\n",
       "      <th>4</th>\n",
       "      <td>1964</td>\n",
       "      <td>3.190</td>\n",
       "      <td>NaN</td>\n",
       "      <td>NaN</td>\n",
       "      <td>NaN</td>\n",
       "      <td>NaN</td>\n",
       "      <td>NaN</td>\n",
       "      <td>NaN</td>\n",
       "      <td>NaN</td>\n",
       "      <td>NaN</td>\n",
       "      <td>NaN</td>\n",
       "      <td>NaN</td>\n",
       "      <td>NaN</td>\n",
       "      <td>NaN</td>\n",
       "    </tr>\n",
       "  </tbody>\n",
       "</table>\n",
       "</div>"
      ],
      "text/plain": [
       "   Year  fertility_rate Men Total Married Men Unmarried Men Total  \\\n",
       "0  1960           3.654    60,273      41,781              18,492   \n",
       "1  1961           3.620       NaN         NaN                 NaN   \n",
       "2  1962           3.461       NaN         NaN                 NaN   \n",
       "3  1963           3.319       NaN         NaN                 NaN   \n",
       "4  1964           3.190       NaN         NaN                 NaN   \n",
       "\n",
       "  Never Married Men Widowed Men Divorced Men Women Total Married Women  \\\n",
       "0            15,274       2,112        1,106      64,607        42,583   \n",
       "1               NaN         NaN          NaN         NaN           NaN   \n",
       "2               NaN         NaN          NaN         NaN           NaN   \n",
       "3               NaN         NaN          NaN         NaN           NaN   \n",
       "4               NaN         NaN          NaN         NaN           NaN   \n",
       "\n",
       "  Unmarried Women Total  Never Married Women Widowed Women Divorced Women  \n",
       "0                 22,024              12,252         8,064          1,708  \n",
       "1                    NaN                 NaN           NaN            NaN  \n",
       "2                    NaN                 NaN           NaN            NaN  \n",
       "3                    NaN                 NaN           NaN            NaN  \n",
       "4                    NaN                 NaN           NaN            NaN  "
      ]
     },
     "execution_count": 80,
     "metadata": {},
     "output_type": "execute_result"
    }
   ],
   "source": [
    "# Raw DataFrame Prep: Marital Status\n",
    "# Read csv, drop na\n",
    "marital_status_df = pd.read_csv(marital_status_path).dropna()\n",
    "\n",
    "# Merge with fertility rates\n",
    "merge_marital_df = pd.merge(fertility_rate_df, marital_status_df, on=\"Year\", how=\"outer\")\n",
    "\n",
    "# Print and display\n",
    "print(f'{len(merge_marital_df)} records')\n",
    "merge_marital_df.head()\n",
    "\n",
    "# Print to csv - remove hashmark in front of below code to export to csv\n",
    "merge_marital_df.to_csv(\"Output/marital_status.csv\", index=False, header=True)\n",
    "merge_marital_df.head()\n"
   ]
  },
  {
   "cell_type": "code",
   "execution_count": 62,
   "metadata": {},
   "outputs": [
    {
     "data": {
      "text/plain": [
       "Index(['Year', 'fertility_rate', 'Men Total', 'Married Men',\n",
       "       'Unmarried Men Total', 'Never Married Men', 'Widowed Men',\n",
       "       'Divorced Men', 'Women Total', 'Married Women',\n",
       "       'Unmarried Women Total ', 'Never Married Women', 'Widowed Women',\n",
       "       'Divorced Women'],\n",
       "      dtype='object')"
      ]
     },
     "execution_count": 62,
     "metadata": {},
     "output_type": "execute_result"
    }
   ],
   "source": [
    "#drop Nan\n",
    "clean_marital_df=merge_marital_df.dropna(how=\"any\")\n",
    "clean_marital_df.columns\n"
   ]
  },
  {
   "cell_type": "code",
   "execution_count": 63,
   "metadata": {},
   "outputs": [
    {
     "data": {
      "text/plain": [
       "Year                        int64\n",
       "fertility_rate            float64\n",
       "Men Total                 float64\n",
       "Married Men               float64\n",
       "Unmarried Men Total       float64\n",
       "Never Married Men         float64\n",
       "Widowed Men               float64\n",
       "Divorced Men              float64\n",
       "Women Total               float64\n",
       "Married Women             float64\n",
       "Unmarried Women Total     float64\n",
       "Never Married Women       float64\n",
       "Widowed Women             float64\n",
       "Divorced Women            float64\n",
       "dtype: object"
      ]
     },
     "execution_count": 63,
     "metadata": {},
     "output_type": "execute_result"
    }
   ],
   "source": [
    "#get rid of warning\n",
    "import warnings\n",
    "warnings.filterwarnings('ignore')\n",
    "\n",
    "#change column value\n",
    "clean_marital_df['Men Total'] = clean_marital_df['Men Total'].str.replace(',', '').astype(float)\n",
    "clean_marital_df['Married Men'] = clean_marital_df['Married Men'].str.replace(',', '').astype(float)\n",
    "clean_marital_df['Unmarried Men Total'] = clean_marital_df['Unmarried Men Total'].str.replace(',', '').astype(float)\n",
    "clean_marital_df['Never Married Men'] = clean_marital_df['Never Married Men'].str.replace(',', '').astype(float)\n",
    "clean_marital_df['Widowed Men'] = clean_marital_df['Widowed Men'].str.replace(',', '').astype(float)\n",
    "clean_marital_df['Divorced Men'] = clean_marital_df['Divorced Men'].str.replace(',', '').astype(float)\n",
    "clean_marital_df['Women Total'] = clean_marital_df['Women Total'].str.replace(',', '').astype(float)\n",
    "clean_marital_df['Married Women'] = clean_marital_df['Married Women'].str.replace(',', '').astype(float)\n",
    "clean_marital_df['Unmarried Women Total '] = clean_marital_df['Unmarried Women Total '].str.replace(',', '').astype(float)\n",
    "clean_marital_df['Never Married Women'] = clean_marital_df['Never Married Women'].str.replace(',', '').astype(float)\n",
    "clean_marital_df['Widowed Women'] = clean_marital_df['Widowed Women'].str.replace(',', '').astype(float)\n",
    "clean_marital_df['Divorced Women'] = clean_marital_df['Divorced Women'].str.replace(',', '').astype(float)\n",
    "clean_marital_df.dtypes\n"
   ]
  },
  {
   "cell_type": "code",
   "execution_count": 19,
   "metadata": {},
   "outputs": [
    {
     "data": {
      "text/html": [
       "<div>\n",
       "<style scoped>\n",
       "    .dataframe tbody tr th:only-of-type {\n",
       "        vertical-align: middle;\n",
       "    }\n",
       "\n",
       "    .dataframe tbody tr th {\n",
       "        vertical-align: top;\n",
       "    }\n",
       "\n",
       "    .dataframe thead th {\n",
       "        text-align: right;\n",
       "    }\n",
       "</style>\n",
       "<table border=\"1\" class=\"dataframe\">\n",
       "  <thead>\n",
       "    <tr style=\"text-align: right;\">\n",
       "      <th></th>\n",
       "      <th>Year</th>\n",
       "      <th>fertility_rate</th>\n",
       "      <th>Men Total</th>\n",
       "      <th>Married Men</th>\n",
       "      <th>Unmarried Men Total</th>\n",
       "      <th>Never Married Men</th>\n",
       "      <th>Widowed Men</th>\n",
       "      <th>Divorced Men</th>\n",
       "      <th>Women Total</th>\n",
       "      <th>Married Women</th>\n",
       "      <th>...</th>\n",
       "      <th>Divorced Women</th>\n",
       "      <th>Per of married men</th>\n",
       "      <th>Per of unmarried men</th>\n",
       "      <th>Per of Never married men</th>\n",
       "      <th>Per of married women</th>\n",
       "      <th>Per of unmarried women</th>\n",
       "      <th>Per of Never married women</th>\n",
       "      <th>Per of married peole</th>\n",
       "      <th>Per of unmarried peole</th>\n",
       "      <th>Per of Never married peole</th>\n",
       "    </tr>\n",
       "  </thead>\n",
       "  <tbody>\n",
       "    <tr>\n",
       "      <th>0</th>\n",
       "      <td>1960</td>\n",
       "      <td>3.6540</td>\n",
       "      <td>60273.0</td>\n",
       "      <td>41781.0</td>\n",
       "      <td>18492.0</td>\n",
       "      <td>15274.0</td>\n",
       "      <td>2112.0</td>\n",
       "      <td>1106.0</td>\n",
       "      <td>64607.0</td>\n",
       "      <td>42583.0</td>\n",
       "      <td>...</td>\n",
       "      <td>1708.0</td>\n",
       "      <td>0.693196</td>\n",
       "      <td>0.306804</td>\n",
       "      <td>0.253414</td>\n",
       "      <td>0.659108</td>\n",
       "      <td>0.340892</td>\n",
       "      <td>0.189639</td>\n",
       "      <td>0.675561</td>\n",
       "      <td>0.246188</td>\n",
       "      <td>0.220420</td>\n",
       "    </tr>\n",
       "    <tr>\n",
       "      <th>10</th>\n",
       "      <td>1970</td>\n",
       "      <td>2.4800</td>\n",
       "      <td>70559.0</td>\n",
       "      <td>47109.0</td>\n",
       "      <td>23450.0</td>\n",
       "      <td>19832.0</td>\n",
       "      <td>2051.0</td>\n",
       "      <td>1567.0</td>\n",
       "      <td>77766.0</td>\n",
       "      <td>48148.0</td>\n",
       "      <td>...</td>\n",
       "      <td>2717.0</td>\n",
       "      <td>0.667654</td>\n",
       "      <td>0.332346</td>\n",
       "      <td>0.281070</td>\n",
       "      <td>0.619139</td>\n",
       "      <td>0.380861</td>\n",
       "      <td>0.220752</td>\n",
       "      <td>0.642218</td>\n",
       "      <td>0.273838</td>\n",
       "      <td>0.249445</td>\n",
       "    </tr>\n",
       "    <tr>\n",
       "      <th>20</th>\n",
       "      <td>1980</td>\n",
       "      <td>1.8395</td>\n",
       "      <td>81947.0</td>\n",
       "      <td>51813.0</td>\n",
       "      <td>30134.0</td>\n",
       "      <td>24227.0</td>\n",
       "      <td>1977.0</td>\n",
       "      <td>3930.0</td>\n",
       "      <td>89914.0</td>\n",
       "      <td>52965.0</td>\n",
       "      <td>...</td>\n",
       "      <td>5966.0</td>\n",
       "      <td>0.632275</td>\n",
       "      <td>0.367725</td>\n",
       "      <td>0.295642</td>\n",
       "      <td>0.589063</td>\n",
       "      <td>0.410948</td>\n",
       "      <td>0.224948</td>\n",
       "      <td>0.609667</td>\n",
       "      <td>0.293028</td>\n",
       "      <td>0.258657</td>\n",
       "    </tr>\n",
       "    <tr>\n",
       "      <th>30</th>\n",
       "      <td>1990</td>\n",
       "      <td>2.0810</td>\n",
       "      <td>91955.0</td>\n",
       "      <td>55833.0</td>\n",
       "      <td>36121.0</td>\n",
       "      <td>27505.0</td>\n",
       "      <td>2333.0</td>\n",
       "      <td>6283.0</td>\n",
       "      <td>99838.0</td>\n",
       "      <td>56797.0</td>\n",
       "      <td>...</td>\n",
       "      <td>8845.0</td>\n",
       "      <td>0.607177</td>\n",
       "      <td>0.392812</td>\n",
       "      <td>0.299114</td>\n",
       "      <td>0.568892</td>\n",
       "      <td>0.431098</td>\n",
       "      <td>0.227549</td>\n",
       "      <td>0.587248</td>\n",
       "      <td>0.306784</td>\n",
       "      <td>0.261860</td>\n",
       "    </tr>\n",
       "    <tr>\n",
       "      <th>33</th>\n",
       "      <td>1993</td>\n",
       "      <td>2.0195</td>\n",
       "      <td>94854.0</td>\n",
       "      <td>56833.0</td>\n",
       "      <td>38021.0</td>\n",
       "      <td>28775.0</td>\n",
       "      <td>2468.0</td>\n",
       "      <td>6778.0</td>\n",
       "      <td>102400.0</td>\n",
       "      <td>57768.0</td>\n",
       "      <td>...</td>\n",
       "      <td>9883.0</td>\n",
       "      <td>0.599163</td>\n",
       "      <td>0.400837</td>\n",
       "      <td>0.303361</td>\n",
       "      <td>0.564141</td>\n",
       "      <td>0.435850</td>\n",
       "      <td>0.229824</td>\n",
       "      <td>0.580982</td>\n",
       "      <td>0.312060</td>\n",
       "      <td>0.265186</td>\n",
       "    </tr>\n",
       "  </tbody>\n",
       "</table>\n",
       "<p>5 rows × 23 columns</p>\n",
       "</div>"
      ],
      "text/plain": [
       "    Year  fertility_rate  Men Total  Married Men  Unmarried Men Total  \\\n",
       "0   1960          3.6540    60273.0      41781.0              18492.0   \n",
       "10  1970          2.4800    70559.0      47109.0              23450.0   \n",
       "20  1980          1.8395    81947.0      51813.0              30134.0   \n",
       "30  1990          2.0810    91955.0      55833.0              36121.0   \n",
       "33  1993          2.0195    94854.0      56833.0              38021.0   \n",
       "\n",
       "    Never Married Men  Widowed Men  Divorced Men  Women Total  Married Women  \\\n",
       "0             15274.0       2112.0        1106.0      64607.0        42583.0   \n",
       "10            19832.0       2051.0        1567.0      77766.0        48148.0   \n",
       "20            24227.0       1977.0        3930.0      89914.0        52965.0   \n",
       "30            27505.0       2333.0        6283.0      99838.0        56797.0   \n",
       "33            28775.0       2468.0        6778.0     102400.0        57768.0   \n",
       "\n",
       "    ...  Divorced Women  Per of married men  Per of unmarried men  \\\n",
       "0   ...          1708.0            0.693196              0.306804   \n",
       "10  ...          2717.0            0.667654              0.332346   \n",
       "20  ...          5966.0            0.632275              0.367725   \n",
       "30  ...          8845.0            0.607177              0.392812   \n",
       "33  ...          9883.0            0.599163              0.400837   \n",
       "\n",
       "    Per of Never married men  Per of married women  Per of unmarried women  \\\n",
       "0                   0.253414              0.659108                0.340892   \n",
       "10                  0.281070              0.619139                0.380861   \n",
       "20                  0.295642              0.589063                0.410948   \n",
       "30                  0.299114              0.568892                0.431098   \n",
       "33                  0.303361              0.564141                0.435850   \n",
       "\n",
       "    Per of Never married women  Per of married peole  Per of unmarried peole  \\\n",
       "0                     0.189639              0.675561                0.246188   \n",
       "10                    0.220752              0.642218                0.273838   \n",
       "20                    0.224948              0.609667                0.293028   \n",
       "30                    0.227549              0.587248                0.306784   \n",
       "33                    0.229824              0.580982                0.312060   \n",
       "\n",
       "    Per of Never married peole  \n",
       "0                     0.220420  \n",
       "10                    0.249445  \n",
       "20                    0.258657  \n",
       "30                    0.261860  \n",
       "33                    0.265186  \n",
       "\n",
       "[5 rows x 23 columns]"
      ]
     },
     "execution_count": 19,
     "metadata": {},
     "output_type": "execute_result"
    }
   ],
   "source": [
    "#caculate percentage\n",
    "#men\n",
    "married_men_per=clean_marital_df['Married Men']/clean_marital_df['Men Total']\n",
    "unm_men_per=clean_marital_df['Unmarried Men Total']/clean_marital_df['Men Total']\n",
    "never_mar_mp=clean_marital_df['Never Married Men']/clean_marital_df['Men Total']\n",
    "#women\n",
    "married_wm_per=clean_marital_df['Married Women']/clean_marital_df['Women Total']\n",
    "unm_wm_per=clean_marital_df['Unmarried Women Total ']/clean_marital_df['Women Total']\n",
    "never_mar_wp=clean_marital_df['Never Married Women']/clean_marital_df['Women Total']\n",
    "#total\n",
    "total_p=clean_marital_df['Men Total']+clean_marital_df['Women Total']\n",
    "total_married=clean_marital_df['Married Men']+clean_marital_df['Married Women']\n",
    "total_unm=clean_marital_df['Unmarried Men Total']+clean_marital_df['Never Married Women']\n",
    "total_never=clean_marital_df['Never Married Men']+clean_marital_df['Never Married Women']\n",
    "married_per=total_married/total_p\n",
    "unmarried_per=total_unm/total_p\n",
    "never_per=total_never/total_p\n",
    "#add column to df\n",
    "clean_marital_df[\"Per of married men\"]=married_men_per\n",
    "clean_marital_df[\"Per of unmarried men\"]=unm_men_per\n",
    "clean_marital_df[\"Per of Never married men\"]=never_mar_mp\n",
    "clean_marital_df[\"Per of married women\"]=married_wm_per\n",
    "clean_marital_df[\"Per of unmarried women\"]=unm_wm_per\n",
    "clean_marital_df[\"Per of Never married women\"]=never_mar_wp\n",
    "clean_marital_df[\"Per of married peole\"]=married_per\n",
    "clean_marital_df[\"Per of unmarried peole\"]=unmarried_per\n",
    "clean_marital_df[\"Per of Never married peole\"]=never_per\n",
    "clean_marital_df.head()\n"
   ]
  },
  {
   "cell_type": "code",
   "execution_count": 20,
   "metadata": {},
   "outputs": [
    {
     "name": "stdout",
     "output_type": "stream",
     "text": [
      "The correlation between both factors is -0.96\n"
     ]
    }
   ],
   "source": [
    "#correlation between married and never married\n",
    "correlation = stats.pearsonr(married_per,never_per)\n",
    "print(f\"The correlation between both factors is {round(correlation[0],2)}\")\n"
   ]
  },
  {
   "cell_type": "code",
   "execution_count": 21,
   "metadata": {},
   "outputs": [
    {
     "name": "stdout",
     "output_type": "stream",
     "text": [
      "The correlation between both factors is -0.99\n"
     ]
    }
   ],
   "source": [
    "#correlation between married and unmarried\n",
    "correlation = stats.pearsonr(married_per,unmarried_per)\n",
    "print(f\"The correlation between both factors is {round(correlation[0],2)}\")\n"
   ]
  },
  {
   "cell_type": "code",
   "execution_count": 22,
   "metadata": {},
   "outputs": [
    {
     "name": "stdout",
     "output_type": "stream",
     "text": [
      "The correlation between both factors is -0.99\n"
     ]
    }
   ],
   "source": [
    "#correlation between married and unmarried\n",
    "correlation = stats.pearsonr(married_per,unmarried_per)\n",
    "print(f\"The correlation between both factors is {round(correlation[0],2)}\")\n"
   ]
  },
  {
   "cell_type": "markdown",
   "metadata": {},
   "source": [
    "The variables “Married” and \"unmarried\" are not independent variables. They indicate the same thing."
   ]
  },
  {
   "cell_type": "code",
   "execution_count": 23,
   "metadata": {},
   "outputs": [
    {
     "data": {
      "image/png": "[encoded data removed]",
      "text/plain": [
       "<Figure size 432x288 with 1 Axes>"
      ]
     },
     "metadata": {
      "needs_background": "light"
     },
     "output_type": "display_data"
    },
    {
     "name": "stdout",
     "output_type": "stream",
     "text": [
      "The correlation between both factors is 0.8\n"
     ]
    },
    {
     "data": {
      "text/plain": [
       "<Figure size 432x288 with 0 Axes>"
      ]
     },
     "metadata": {},
     "output_type": "display_data"
    }
   ],
   "source": [
    "#line chart compared married percentage vs fertility rate\n",
    "x_axis_data = clean_marital_df['Year']\n",
    "fertility_rate = clean_marital_df[\"fertility_rate\"]\n",
    "y_axis1 = fertility_rate\n",
    "y_axis2 = clean_marital_df['Per of married men']\n",
    "y_axis3 = clean_marital_df['Per of married women']\n",
    "y_axis4=clean_marital_df[\"Per of married peole\"]\n",
    "\n",
    "plt.plot(x_axis_data, y_axis1,label=\"Fertility Rate\")\n",
    "plt.plot(x_axis_data, y_axis2,label=\"Married men\")\n",
    "plt.plot(x_axis_data, y_axis3,label=\"Married Women\")\n",
    "plt.plot(x_axis_data,y_axis4,label=\"Married People\")\n",
    "plt.legend(loc=\"best\")\n",
    "plt.xlabel('Year')\n",
    "plt.ylabel('Fertility Rate/Married Per')\n",
    "plt.title('Fertility Rate vs Married Percentage')\n",
    "#save fig\n",
    "plt.savefig(\"Output/fertility_married_line.png\")\n",
    "\n",
    "\n",
    "#scatter plot fertility rate vs married people\n",
    "plt.scatter(fertility_rate, married_per, marker=\"o\", facecolors=\"blue\", edgecolors=\"black\")\n",
    "plt.xlabel('Fertility Rate')\n",
    "plt.ylabel('Married Percentage')\n",
    "\n",
    "#regression\n",
    "model = stats.linregress(fertility_rate, married_per)\n",
    "y_value=fertility_rate*model[0]+model[1]\n",
    "plt.plot(fertility_rate,y_value,color=\"red\")\n",
    "plt.show()\n",
    "\n",
    "#correlation\n",
    "correlation = stats.pearsonr(fertility_rate,married_per)\n",
    "print(f\"The correlation between both factors is {round(correlation[0],2)}\")\n",
    "\n",
    "#save fig\n",
    "plt.savefig(\"Output/fertility_married_scatter.png\")\n"
   ]
  },
  {
   "cell_type": "markdown",
   "metadata": {},
   "source": [
    "Based on correlation and linear regression. The trend will be the less people get married, the less fertility rate tends to be"
   ]
  },
  {
   "cell_type": "code",
   "execution_count": 24,
   "metadata": {},
   "outputs": [
    {
     "data": {
      "text/plain": [
       "Ttest_indResult(statistic=24.06107693828698, pvalue=5.3124305780152914e-21)"
      ]
     },
     "execution_count": 24,
     "metadata": {},
     "output_type": "execute_result"
    }
   ],
   "source": [
    "#t test between fertility rate and married\n",
    "feritility_rate=clean_marital_df['fertility_rate']\n",
    "stats.ttest_ind(feritility_rate,married_per,equal_var=False)\n"
   ]
  },
  {
   "cell_type": "code",
   "execution_count": 25,
   "metadata": {},
   "outputs": [],
   "source": [
    "#married_per_mean\n",
    "married_mean=clean_marital_df[\"Per of married peole\"].mean()\n",
    "married_mean\n",
    "sample1=clean_marital_df[clean_marital_df[\"Per of married peole\"]<married_mean]\n",
    "sample2=clean_marital_df[clean_marital_df[\"Per of married peole\"]>married_mean]\n"
   ]
  },
  {
   "cell_type": "code",
   "execution_count": 26,
   "metadata": {},
   "outputs": [
    {
     "data": {
      "text/plain": [
       "Ttest_indResult(statistic=-1.611260716424141, pvalue=0.13066609612768532)"
      ]
     },
     "execution_count": 26,
     "metadata": {},
     "output_type": "execute_result"
    }
   ],
   "source": [
    "#t test married sample\n",
    "stats.ttest_ind(sample1['fertility_rate'],sample2['fertility_rate'],equal_var=False)\n"
   ]
  },
  {
   "cell_type": "code",
   "execution_count": 27,
   "metadata": {},
   "outputs": [],
   "source": [
    "#never_married_per_mean\n",
    "never_married_per_mean=clean_marital_df[\"Per of Never married peole\"].mean()\n",
    "never_married_per_mean\n",
    "sample3=clean_marital_df[clean_marital_df[\"Per of Never married peole\"]<never_married_per_mean]\n",
    "sample4=clean_marital_df[clean_marital_df[\"Per of Never married peole\"]>never_married_per_mean]\n"
   ]
  },
  {
   "cell_type": "code",
   "execution_count": 28,
   "metadata": {},
   "outputs": [
    {
     "data": {
      "text/plain": [
       "Ttest_indResult(statistic=1.7898790391981323, pvalue=0.09205293731924707)"
      ]
     },
     "execution_count": 28,
     "metadata": {},
     "output_type": "execute_result"
    }
   ],
   "source": [
    "#t test never married sample\n",
    "stats.ttest_ind(sample3['fertility_rate'],sample4['fertility_rate'],equal_var=False)\n"
   ]
  },
  {
   "cell_type": "code",
   "execution_count": 29,
   "metadata": {},
   "outputs": [],
   "source": [
    "#unmarried_per_mean\n",
    "unmarried_mean=clean_marital_df[\"Per of unmarried peole\"].mean()\n",
    "unmarried_mean\n",
    "sample5=clean_marital_df[clean_marital_df[\"Per of unmarried peole\"]<unmarried_mean]\n",
    "sample6=clean_marital_df[clean_marital_df[\"Per of unmarried peole\"]>unmarried_mean]\n"
   ]
  },
  {
   "cell_type": "code",
   "execution_count": 30,
   "metadata": {},
   "outputs": [
    {
     "data": {
      "text/plain": [
       "Ttest_indResult(statistic=1.7898790391981323, pvalue=0.09205293731924707)"
      ]
     },
     "execution_count": 30,
     "metadata": {},
     "output_type": "execute_result"
    }
   ],
   "source": [
    "#t test unmarried sample\n",
    "stats.ttest_ind(sample5['fertility_rate'],sample6['fertility_rate'],equal_var=False)\n"
   ]
  },
  {
   "cell_type": "markdown",
   "metadata": {},
   "source": [
    "It does not make sense that data has high correlation and high p value at same time"
   ]
  },
  {
   "cell_type": "code",
   "execution_count": 29,
   "metadata": {},
   "outputs": [
    {
     "data": {
      "text/html": [
       "<div>\n",
       "<style scoped>\n",
       "    .dataframe tbody tr th:only-of-type {\n",
       "        vertical-align: middle;\n",
       "    }\n",
       "\n",
       "    .dataframe tbody tr th {\n",
       "        vertical-align: top;\n",
       "    }\n",
       "\n",
       "    .dataframe thead th {\n",
       "        text-align: right;\n",
       "    }\n",
       "</style>\n",
       "<table border=\"1\" class=\"dataframe\">\n",
       "  <thead>\n",
       "    <tr style=\"text-align: right;\">\n",
       "      <th></th>\n",
       "      <th>Year</th>\n",
       "      <th>fertility_rate</th>\n",
       "      <th>Men Total</th>\n",
       "      <th>Married Men</th>\n",
       "      <th>Unmarried Men Total</th>\n",
       "      <th>Never Married Men</th>\n",
       "      <th>Widowed Men</th>\n",
       "      <th>Divorced Men</th>\n",
       "      <th>Women Total</th>\n",
       "      <th>Married Women</th>\n",
       "      <th>...</th>\n",
       "      <th>Divorced Women</th>\n",
       "      <th>Per of married men</th>\n",
       "      <th>Per of unmarried men</th>\n",
       "      <th>Per of Never married men</th>\n",
       "      <th>Per of married women</th>\n",
       "      <th>Per of unmarried women</th>\n",
       "      <th>Per of Never married women</th>\n",
       "      <th>Per of married peole</th>\n",
       "      <th>Per of unmarried peole</th>\n",
       "      <th>Per of Never married peole</th>\n",
       "    </tr>\n",
       "  </thead>\n",
       "  <tbody>\n",
       "    <tr>\n",
       "      <th>30</th>\n",
       "      <td>1990</td>\n",
       "      <td>2.0810</td>\n",
       "      <td>91955.0</td>\n",
       "      <td>55833.0</td>\n",
       "      <td>36121.0</td>\n",
       "      <td>27505.0</td>\n",
       "      <td>2333.0</td>\n",
       "      <td>6283.0</td>\n",
       "      <td>99838.0</td>\n",
       "      <td>56797.0</td>\n",
       "      <td>...</td>\n",
       "      <td>8845.0</td>\n",
       "      <td>0.607177</td>\n",
       "      <td>0.392812</td>\n",
       "      <td>0.299114</td>\n",
       "      <td>0.568892</td>\n",
       "      <td>0.431098</td>\n",
       "      <td>0.227549</td>\n",
       "      <td>0.587248</td>\n",
       "      <td>0.306784</td>\n",
       "      <td>0.261860</td>\n",
       "    </tr>\n",
       "    <tr>\n",
       "      <th>33</th>\n",
       "      <td>1993</td>\n",
       "      <td>2.0195</td>\n",
       "      <td>94854.0</td>\n",
       "      <td>56833.0</td>\n",
       "      <td>38021.0</td>\n",
       "      <td>28775.0</td>\n",
       "      <td>2468.0</td>\n",
       "      <td>6778.0</td>\n",
       "      <td>102400.0</td>\n",
       "      <td>57768.0</td>\n",
       "      <td>...</td>\n",
       "      <td>9883.0</td>\n",
       "      <td>0.599163</td>\n",
       "      <td>0.400837</td>\n",
       "      <td>0.303361</td>\n",
       "      <td>0.564141</td>\n",
       "      <td>0.435850</td>\n",
       "      <td>0.229824</td>\n",
       "      <td>0.580982</td>\n",
       "      <td>0.312060</td>\n",
       "      <td>0.265186</td>\n",
       "    </tr>\n",
       "    <tr>\n",
       "      <th>34</th>\n",
       "      <td>1994</td>\n",
       "      <td>2.0015</td>\n",
       "      <td>96768.0</td>\n",
       "      <td>57068.0</td>\n",
       "      <td>39700.0</td>\n",
       "      <td>30228.0</td>\n",
       "      <td>2222.0</td>\n",
       "      <td>7250.0</td>\n",
       "      <td>104032.0</td>\n",
       "      <td>58185.0</td>\n",
       "      <td>...</td>\n",
       "      <td>10129.0</td>\n",
       "      <td>0.589740</td>\n",
       "      <td>0.410260</td>\n",
       "      <td>0.312376</td>\n",
       "      <td>0.559299</td>\n",
       "      <td>0.440701</td>\n",
       "      <td>0.236898</td>\n",
       "      <td>0.573969</td>\n",
       "      <td>0.320443</td>\n",
       "      <td>0.273272</td>\n",
       "    </tr>\n",
       "    <tr>\n",
       "      <th>35</th>\n",
       "      <td>1995</td>\n",
       "      <td>1.9780</td>\n",
       "      <td>97704.0</td>\n",
       "      <td>57570.0</td>\n",
       "      <td>39953.0</td>\n",
       "      <td>30286.0</td>\n",
       "      <td>2284.0</td>\n",
       "      <td>7383.0</td>\n",
       "      <td>105028.0</td>\n",
       "      <td>58984.0</td>\n",
       "      <td>...</td>\n",
       "      <td>10270.0</td>\n",
       "      <td>0.589229</td>\n",
       "      <td>0.408919</td>\n",
       "      <td>0.309977</td>\n",
       "      <td>0.561603</td>\n",
       "      <td>0.438407</td>\n",
       "      <td>0.235109</td>\n",
       "      <td>0.574917</td>\n",
       "      <td>0.318874</td>\n",
       "      <td>0.271191</td>\n",
       "    </tr>\n",
       "    <tr>\n",
       "      <th>36</th>\n",
       "      <td>1996</td>\n",
       "      <td>1.9760</td>\n",
       "      <td>98593.0</td>\n",
       "      <td>57656.0</td>\n",
       "      <td>40937.0</td>\n",
       "      <td>30691.0</td>\n",
       "      <td>2478.0</td>\n",
       "      <td>7768.0</td>\n",
       "      <td>106031.0</td>\n",
       "      <td>58905.0</td>\n",
       "      <td>...</td>\n",
       "      <td>10521.0</td>\n",
       "      <td>0.584788</td>\n",
       "      <td>0.415212</td>\n",
       "      <td>0.311290</td>\n",
       "      <td>0.555545</td>\n",
       "      <td>0.444464</td>\n",
       "      <td>0.240760</td>\n",
       "      <td>0.569635</td>\n",
       "      <td>0.324815</td>\n",
       "      <td>0.274743</td>\n",
       "    </tr>\n",
       "  </tbody>\n",
       "</table>\n",
       "<p>5 rows × 23 columns</p>\n",
       "</div>"
      ],
      "text/plain": [
       "    Year  fertility_rate  Men Total  Married Men  Unmarried Men Total  \\\n",
       "30  1990          2.0810    91955.0      55833.0              36121.0   \n",
       "33  1993          2.0195    94854.0      56833.0              38021.0   \n",
       "34  1994          2.0015    96768.0      57068.0              39700.0   \n",
       "35  1995          1.9780    97704.0      57570.0              39953.0   \n",
       "36  1996          1.9760    98593.0      57656.0              40937.0   \n",
       "\n",
       "    Never Married Men  Widowed Men  Divorced Men  Women Total  Married Women  \\\n",
       "30            27505.0       2333.0        6283.0      99838.0        56797.0   \n",
       "33            28775.0       2468.0        6778.0     102400.0        57768.0   \n",
       "34            30228.0       2222.0        7250.0     104032.0        58185.0   \n",
       "35            30286.0       2284.0        7383.0     105028.0        58984.0   \n",
       "36            30691.0       2478.0        7768.0     106031.0        58905.0   \n",
       "\n",
       "    ...  Divorced Women  Per of married men  Per of unmarried men  \\\n",
       "30  ...          8845.0            0.607177              0.392812   \n",
       "33  ...          9883.0            0.599163              0.400837   \n",
       "34  ...         10129.0            0.589740              0.410260   \n",
       "35  ...         10270.0            0.589229              0.408919   \n",
       "36  ...         10521.0            0.584788              0.415212   \n",
       "\n",
       "    Per of Never married men  Per of married women  Per of unmarried women  \\\n",
       "30                  0.299114              0.568892                0.431098   \n",
       "33                  0.303361              0.564141                0.435850   \n",
       "34                  0.312376              0.559299                0.440701   \n",
       "35                  0.309977              0.561603                0.438407   \n",
       "36                  0.311290              0.555545                0.444464   \n",
       "\n",
       "    Per of Never married women  Per of married peole  Per of unmarried peole  \\\n",
       "30                    0.227549              0.587248                0.306784   \n",
       "33                    0.229824              0.580982                0.312060   \n",
       "34                    0.236898              0.573969                0.320443   \n",
       "35                    0.235109              0.574917                0.318874   \n",
       "36                    0.240760              0.569635                0.324815   \n",
       "\n",
       "    Per of Never married peole  \n",
       "30                    0.261860  \n",
       "33                    0.265186  \n",
       "34                    0.273272  \n",
       "35                    0.271191  \n",
       "36                    0.274743  \n",
       "\n",
       "[5 rows x 23 columns]"
      ]
     },
     "execution_count": 29,
     "metadata": {},
     "output_type": "execute_result"
    }
   ],
   "source": [
    "#the data is not continous, drop 1960，1970，1980\n",
    "twod_df=clean_marital_df[((clean_marital_df[\"Year\"] != 1960) &( clean_marital_df[\"Year\"] != 1970) & (clean_marital_df[\"Year\"] != 1980))]\n",
    "twod_df.head()\n"
   ]
  },
  {
   "cell_type": "code",
   "execution_count": 30,
   "metadata": {},
   "outputs": [
    {
     "data": {
      "image/png": "[encoded data removed]",
      "text/plain": [
       "<Figure size 432x288 with 1 Axes>"
      ]
     },
     "metadata": {
      "needs_background": "light"
     },
     "output_type": "display_data"
    },
    {
     "name": "stdout",
     "output_type": "stream",
     "text": [
      "The correlation between both factors is 0.72\n"
     ]
    },
    {
     "data": {
      "text/plain": [
       "<Figure size 432x288 with 0 Axes>"
      ]
     },
     "metadata": {},
     "output_type": "display_data"
    }
   ],
   "source": [
    "#find out correlation based on continuous dataset\n",
    "#scatter plot fertility rate vs married people\n",
    "fertility_rate1=twod_df[\"fertility_rate\"]\n",
    "married_per1=twod_df[\"Per of married peole\"]\n",
    "plt.scatter(fertility_rate1, married_per1, marker=\"o\", facecolors=\"blue\", edgecolors=\"black\")\n",
    "plt.xlabel('Fertility Rate')\n",
    "plt.ylabel('Married Percentage')\n",
    "\n",
    "#regression\n",
    "model = stats.linregress(fertility_rate1, married_per1)\n",
    "y_value=fertility_rate1*model[0]+model[1]\n",
    "plt.plot(fertility_rate1,y_value,color=\"red\")\n",
    "plt.show()\n",
    "\n",
    "#correlation\n",
    "correlation = stats.pearsonr(fertility_rate1, married_per1)\n",
    "print(f\"The correlation between both factors is {round(correlation[0],2)}\")\n",
    "\n",
    "#save fig\n",
    "plt.savefig(\"Output/fertility_married_scatter.png\")\n"
   ]
  },
  {
   "cell_type": "code",
   "execution_count": 31,
   "metadata": {},
   "outputs": [
    {
     "data": {
      "text/plain": [
       "Ttest_indResult(statistic=-3.751815439620867, pvalue=0.002319278215920306)"
      ]
     },
     "execution_count": 31,
     "metadata": {},
     "output_type": "execute_result"
    }
   ],
   "source": [
    "#t test\n",
    "td_married_mean=twod_df[\"Per of married peole\"].mean()\n",
    "sample7=twod_df[twod_df[\"Per of married peole\"]<td_married_mean]\n",
    "sample8=twod_df[twod_df[\"Per of married peole\"]>td_married_mean]\n",
    "stats.ttest_ind(sample7['fertility_rate'],sample8['fertility_rate'],equal_var=False)\n"
   ]
  },
  {
   "cell_type": "code",
   "execution_count": 32,
   "metadata": {},
   "outputs": [
    {
     "name": "stdout",
     "output_type": "stream",
     "text": [
      "73 records\n"
     ]
    },
    {
     "data": {
      "image/png": "[encoded data removed]",
      "text/plain": [
       "<Figure size 1440x216 with 1 Axes>"
      ]
     },
     "metadata": {
      "needs_background": "light"
     },
     "output_type": "display_data"
    }
   ],
   "source": [
    "# Raw DataFrame Prep: Fertility by Age\n",
    "# Read csv\n",
    "age_fertility_df = pd.read_csv(age_fertility_path)\n",
    "# Clean\n",
    "age_fertility_df = age_fertility_df[['Year', 'Age 10-14 Years', 'Age 15-19 Years', 'Age 20-24 Years',\n",
    "                           'Age 25-29 Years', 'Age 30-34 Years', 'Age 35-39 Years', 'Age 40-44 Years', 'Age 45-49 Years']]\n",
    "# Merge with fertility rates\n",
    "merge_age_df = pd.merge(fertility_rate_df, age_fertility_df, on=\"Year\", how=\"outer\")\n",
    "# Print and display\n",
    "print(f'{len(merge_age_df)} records')\n",
    "#Summing up age groups and storing into variable\n",
    "ages_15_30 = merge_age_df[\"Age 15-19 Years\"] + merge_age_df[\"Age 20-24 Years\"] + merge_age_df[\"Age 25-29 Years\"] + merge_age_df[\"Age 30-34 Years\"]\n",
    "ages_35_49 = merge_age_df['Age 35-39 Years'] + merge_age_df[\"Age 40-44 Years\"] + merge_age_df[\"Age 45-49 Years\"]\n",
    "new_merge = merge_age_df.dropna()\n",
    "new_merge['35 +'] = ages_35_49\n",
    "new_merge['34 and below'] = ages_15_30\n",
    "below_34 = new_merge['34 and below']\n",
    "new_table = new_merge[['Year','fertility_rate', '35 +', '34 and below']]\n",
    "new_table\n",
    "x_axis = np.arange(len(new_table))\n",
    "tick_locations = [value+0.6 for value in x_axis]\n",
    "plt.figure(figsize=(20, 3))\n",
    "plt.bar(x_axis, new_table['35 +'], color='r', alpha=0.5, align='edge')\n",
    "plt.xticks(tick_locations, round(new_table['Year']), rotation='vertical')\n",
    "plt.title(\"Fertility rate from 1960-2018, 35 and older\")\n",
    "plt.xlabel('Year')\n",
    "plt.ylabel('Sum of 35 and olde fertility rate for that year')\n",
    "plt.savefig\n",
    "plt.show()"
   ]
  },
  {
   "cell_type": "code",
   "execution_count": null,
   "metadata": {},
   "outputs": [],
   "source": []
  }
 ],
 "metadata": {
  "kernelspec": {
   "display_name": "Python 3",
   "language": "python",
   "name": "python3"
  },
  "language_info": {
   "codemirror_mode": {
    "name": "ipython",
    "version": 3
   },
   "file_extension": ".py",
   "mimetype": "text/x-python",
   "name": "python",
   "nbconvert_exporter": "python",
   "pygments_lexer": "ipython3",
   "version": "3.8.3"
  }
 },
 "nbformat": 4,
 "nbformat_minor": 4
}
